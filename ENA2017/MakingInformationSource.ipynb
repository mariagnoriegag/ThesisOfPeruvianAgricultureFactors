{
  "cells": [
    {
      "cell_type": "code",
      "source": [
        "import matplotlib.pyplot as plt\n",
        "import numpy as np\n",
        "import pandas as pd\n",
        "import math\n",
        "# from datalore.plot import *"
      ],
      "execution_count": 2,
      "outputs": [],
      "metadata": {}
    },
    {
      "cell_type": "markdown",
      "source": [
        "# Information source of 2017 National Survey of Peru\n",
        "Only for white potato this time."
      ],
      "metadata": {}
    },
    {
      "cell_type": "code",
      "source": [
        "crops = pd.read_csv('datos_encuesta_2017/02_Cap200ab.csv')"
      ],
      "execution_count": 3,
      "outputs": [],
      "metadata": {}
    },
    {
      "cell_type": "code",
      "source": [
        "white_potato = crops[crops[\"P220_1_VAL\"] > 0][crops[\"P204_NOM\"].str.contains(\"PAPA BLANCA\")].reset_index(drop=True)"
      ],
      "execution_count": 4,
      "outputs": [],
      "metadata": {}
    },
    {
      "cell_type": "code",
      "source": [
        "base_column = ['ANIO', 'CCDD', 'NOMBREDD', 'CCPP', 'NOMBREPV', 'CCDI',\n",
        "       'NOMBREDI', 'CONGLOMERADO', 'NSELUA', 'UA', 'ESTRATO', 'RESFIN',\n",
        "       'REGION', 'DOMINIO', 'FACTOR', 'CODIGO']"
      ],
      "execution_count": 5,
      "outputs": [],
      "metadata": {}
    },
    {
      "cell_type": "code",
      "source": [
        "white_potato = white_potato[np.append(base_column,['P220_1_VAL', 'P204_NOM'])]"
      ],
      "execution_count": 6,
      "outputs": [],
      "metadata": {}
    },
    {
      "cell_type": "code",
      "source": [
        "# white_potato"
      ],
      "execution_count": 7,
      "outputs": [],
      "metadata": {}
    },
    {
      "cell_type": "code",
      "source": [
        "information = pd.read_csv(\"datos_encuesta_2017/14_Cap700.csv\")"
      ],
      "execution_count": 8,
      "outputs": [],
      "metadata": {}
    },
    {
      "cell_type": "code",
      "source": [
        "merge_multi_index=['CCDD', 'CCPP', 'CCDI', 'CONGLOMERADO', 'NSELUA', 'UA']"
      ],
      "execution_count": 9,
      "outputs": [],
      "metadata": {}
    },
    {
      "cell_type": "code",
      "source": [
        "white_potato_information = pd.merge(white_potato, information, how='left', on=merge_multi_index, suffixes=('', '_y'))"
      ],
      "execution_count": 10,
      "outputs": [],
      "metadata": {}
    },
    {
      "cell_type": "code",
      "source": [
        "index_inf_type = [i for i in range(len(white_potato_information.columns)) if \"707\" in white_potato_information.columns[i]]\n",
        "index_infsource_who = [i for i in range(len(white_potato_information.columns)) if \"708\" in white_potato_information.columns[i]]\n",
        "index_infsource_who_2 = [i for i in range(len(white_potato_information.columns)) if \"712\" in white_potato_information.columns[i]]\n",
        "index_infsource_media = [i for i in range(len(white_potato_information.columns)) if \"709\" in white_potato_information.columns[i]]\n",
        "index_infsource_needs = [i for i in range(len(white_potato_information.columns)) if \"710\" in white_potato_information.columns[i]]"
      ],
      "execution_count": 11,
      "outputs": [],
      "metadata": {}
    },
    {
      "cell_type": "code",
      "source": [
        "inf_type = white_potato_information.columns[index_inf_type]\n",
        "infsource_who = white_potato_information.columns[index_infsource_who]\n",
        "infsource_who_2 = white_potato_information.columns[index_infsource_who_2]\n",
        "infsource_media = white_potato_information.columns[index_infsource_media]\n",
        "infsource_needs = white_potato_information.columns[index_infsource_needs]"
      ],
      "execution_count": 12,
      "outputs": [],
      "metadata": {}
    },
    {
      "cell_type": "code",
      "source": [
        "selected_columns = np.concatenate((base_column, inf_type, infsource_who, infsource_who_2, infsource_media, infsource_needs), axis=0)"
      ],
      "execution_count": 13,
      "outputs": [],
      "metadata": {}
    },
    {
      "cell_type": "code",
      "source": [
        "white_potato_information = white_potato_information[selected_columns]"
      ],
      "execution_count": 14,
      "outputs": [],
      "metadata": {}
    },
    {
      "cell_type": "markdown",
      "source": [
        "## Identify variables from raw values of columns in the merged database"
      ],
      "metadata": {}
    },
    {
      "cell_type": "markdown",
      "source": [
        "### Number of variables included"
      ],
      "metadata": {}
    },
    {
      "cell_type": "code",
      "source": [
        "len(white_potato_information.columns)"
      ],
      "execution_count": 15,
      "outputs": [
        {
          "output_type": "execute_result",
          "data": {
            "text/plain": "179"
          },
          "metadata": {},
          "execution_count": 15
        }
      ],
      "metadata": {}
    },
    {
      "cell_type": "markdown",
      "source": [
        "### Variables"
      ],
      "metadata": {}
    },
    {
      "cell_type": "markdown",
      "source": [
        "### P707_n, n=[1:8]\n",
        "#### ¿Usted utilizó información agropecuaria como n? Si | No\n",
        "1. Precio de Venta | 2. Cantidad Producida | 3. Demanda de productos agropecuarios | 4. Cantidad comercializada | 5. Información agroclimática | 6. Precio de insumos agropecuarios | 7. Técnica de manejo de cultivos y crianza | 8. Otro"
      ],
      "metadata": {}
    },
    {
      "cell_type": "code",
      "source": [
        "# inf_type\n"
      ],
      "execution_count": 28,
      "outputs": [],
      "metadata": {}
    },
    {
      "cell_type": "code",
      "source": [
        "# white_potato_information[\"P707_8\"].value_counts()"
      ],
      "execution_count": 0,
      "outputs": [],
      "metadata": {}
    },
    {
      "cell_type": "markdown",
      "source": [
        "### P708_k_n, n=[1:8], k=[1:8]\n",
        "#### ¿Quién le brindó la información?\n",
        "k.1. Ministerio de Agricultura y Riego | k.2. Gobierno Regional | k.3. Gobierno Local | k.4. Organismo No Gubernamental (ONG) | k.5. Empresa Privada | k.6. Asociación de productores/as | k.7. Comerciante, productor/a, amigo/a | k.8. Otro"
      ],
      "metadata": {}
    },
    {
      "cell_type": "code",
      "source": [
        "# infsource_who"
      ],
      "execution_count": 0,
      "outputs": [],
      "metadata": {}
    },
    {
      "cell_type": "code",
      "source": [
        "# white_potato_information[\"P708_5_8\"].value_counts()"
      ],
      "execution_count": 0,
      "outputs": [],
      "metadata": {}
    },
    {
      "cell_type": "markdown",
      "source": [
        "### P712_n, n=[1:9]\n",
        "#### ¿Qué institución o persona le brindó la información?\n",
        "1. Ministerio de Agricultura y Riego | 2. Agencia Agraria | 3. Instituto Nacional de Innovación Agraria (INIA) | 4. Servicio Nacional de Sanidad Agraria (SENASA) | 5. Organismo No Gubernamental (ONG) | 6. Instituto Nacional de Defensa Civil (INDECI) | 7. Empresa Privada (Especifique) | 8. Servicio Nacional de Meteorología e Higrología (SENAMHI) | 9. Otro"
      ],
      "metadata": {}
    },
    {
      "cell_type": "code",
      "source": [
        "# infsource_who_2"
      ],
      "execution_count": 0,
      "outputs": [],
      "metadata": {}
    },
    {
      "cell_type": "code",
      "source": [
        "# white_potato_information[\"P712_9\"].value_counts()"
      ],
      "execution_count": 0,
      "outputs": [],
      "metadata": {}
    },
    {
      "cell_type": "markdown",
      "metadata": {},
      "source": [
        "### P709_k_n, n=[1:9], k=[1:8]\n",
        "#### ¿A través de qué medio de comunicación tuvo acceso a la información?\n",
        "k.1. Radio | k.2. Televisión | k.3. Teléfono | k.4. Diarios | k.5. Folletos | k.6. Internet | k.7. Talleres | k.8. Comunicación verbal | k.9. Otro"
      ]
    },
    {
      "cell_type": "code",
      "source": [
        "# infsource_media"
      ],
      "execution_count": 26,
      "outputs": [],
      "metadata": {}
    },
    {
      "cell_type": "code",
      "source": [
        "# white_potato_information[\"P709_8_8\"].value_counts()"
      ],
      "execution_count": 19,
      "outputs": [],
      "metadata": {}
    },
    {
      "cell_type": "markdown",
      "source": [
        "### P710_n, n=[1:9]\n",
        "#### ¿Qué información agropecuaria necesita para desarrollar su actividad?\n",
        "1. Información agroclimática | 2. Manejo de enfermedades y plagas | 3. Precio de insumos agropecuarios | 4. Precio de venta (chacra, mayorista, minorista) | 5. Técnica de manejo de cultivos y crianza | 6. Técnica de manejo de semilla | 7. Uso de abonos y fertilizantes | 8. Técnicas y sistema de riego | 9. Análisis de suelo | 10. Otro"
      ],
      "metadata": {}
    },
    {
      "cell_type": "code",
      "source": [
        "# infsource_needs"
      ],
      "execution_count": 24,
      "outputs": [],
      "metadata": {}
    },
    {
      "cell_type": "code",
      "source": [
        "# white_potato_information[\"P710_10\"].value_counts()"
      ],
      "execution_count": 25,
      "outputs": [],
      "metadata": {}
    },
    {
      "cell_type": "code",
      "source": [
        "# N = 100\n",
        "# random_x = np.random.random(N)\n",
        "# random_y = np.random.normal(0, 1, N)\n",
        "# p = ggplot(dict(X=random_x, Y=random_y), aes('X', 'Y')) + geom_point() + geom_smooth(level=0.5)\n",
        "# p"
      ],
      "execution_count": 0,
      "outputs": [],
      "metadata": {}
    },
    {
      "cell_type": "code",
      "source": [
        "# white_potato_information.columns[25:]"
      ],
      "execution_count": 0,
      "outputs": [],
      "metadata": {}
    },
    {
      "cell_type": "markdown",
      "source": [
        "## Create a new Database based on information variables"
      ],
      "metadata": {}
    },
    {
      "cell_type": "code",
      "source": [
        "# ¿Qué información agropecuaria usted utilizó?\n",
        "# P707_n, n=[1:8]\n",
        "# 1. Precio de Venta | 2. Cantidad Producida | 3. Demanda de productos agropecuarios | 4. Cantidad comercializada | 5. Información agroclimática | 6. Precio de insumos agropecuarios | 7. Técnica de manejo de cultivos y crianza | 8. Otro\n",
        "\n",
        "# white_potato_information[P707_1]"
      ],
      "execution_count": 0,
      "outputs": [],
      "metadata": {}
    },
    {
      "cell_type": "code",
      "source": [
        "# n = 8\n",
        "# for name in [\"P707\"]:\n",
        "#     for i in range(1, n + 1):\n",
        "#         print(name + \"_%s\" % i)\n",
        "#         vars()[name + \"_%s\" % i] = i"
      ],
      "execution_count": 0,
      "outputs": [],
      "metadata": {}
    },
    {
      "cell_type": "code",
      "source": [
        "variables = [{\"newVariable\": {\"name\": \"P707\", \"n\": 8, \"k\": 1}, \"oldVariables\": [{\"name\": \"P707\", \"n\": 8, \"k\": 1}]}, {\"newVariable\": {\"name\": \"P708and712\", \"n\": 13, \"k\": 1}, \"oldVariables\": [{\"name\": \"P708\", \"n\": 8, \"k\": 8}, {\"name\": \"P712\", \"n\": 9, \"k\": 1}]}, {\"newVariable\": {\"name\": \"P709\", \"n\": 9, \"k\": 1}, \"oldVariables\": [{\"name\": \"P709\", \"n\": 9, \"k\": 8}]}, {\"newVariable\": {\"name\": \"P710\", \"n\": 10, \"k\": 1}, \"oldVariables\": [{\"name\": \"P710\", \"n\": 10, \"k\": 1}]}]"
      ],
      "execution_count": 16,
      "outputs": [],
      "metadata": {}
    },
    {
      "cell_type": "code",
      "source": [
        "variables"
      ],
      "execution_count": 17,
      "outputs": [
        {
          "output_type": "execute_result",
          "data": {
            "text/plain": "[{'newVariable': {'name': 'P707', 'n': 8, 'k': 1},\n  'oldVariables': [{'name': 'P707', 'n': 8, 'k': 1}]},\n {'newVariable': {'name': 'P708and712', 'n': 13, 'k': 1},\n  'oldVariables': [{'name': 'P708', 'n': 8, 'k': 8},\n   {'name': 'P712', 'n': 9, 'k': 1}]},\n {'newVariable': {'name': 'P709', 'n': 9, 'k': 1},\n  'oldVariables': [{'name': 'P709', 'n': 9, 'k': 8}]},\n {'newVariable': {'name': 'P710', 'n': 10, 'k': 1},\n  'oldVariables': [{'name': 'P710', 'n': 10, 'k': 1}]}]"
          },
          "metadata": {},
          "execution_count": 17
        }
      ],
      "metadata": {}
    },
    {
      "cell_type": "code",
      "source": [
        "options = {\"P707\": [{\"value\": \"Si\", \"includes\": []}], \"P708and712\": [{\"n\": 1, \"value\": \"Ministerio de Agricultura y Riego\", \"includes\": [\"P708_1\", \"P712_1\"]}, {\"n\": 2, \"value\": \"Agencia Agraria\", \"includes\": [\"P712_2\"]}, {\"n\": 3, \"value\": \"Instituto Nacional de Innovación Agraria (INIA)\", \"includes\": [\"P712_3\"]}, {\"n\": 4, \"value\": \"Servicio Nacional de Sanidad Agraria (SENASA)\", \"includes\": [\"P712_4\"]}, {\"n\": 5, \"value\": \"Instituto Nacional de Defensa Civil (INDECI)\", \"includes\": [\"P712_6\"]}, {\"n\": 6, \"value\": \"Servicio Nacional de Meteorología e Higrología (SENAMHI)\", \"includes\": [\"P712_8\"]}, {\"n\": 7, \"value\": \"Gobierno Regional\", \"includes\": [\"P708_2\"]}, {\"n\": 8, \"value\": \"Gobierno Local\", \"includes\": [\"P708_3\"]}, {\"n\": 9, \"value\": \"Organismo No Gubernamental (ONG)\", \"includes\": [\"P708_4\", \"P712_5\"]}, {\"n\": 10, \"value\": \"Empresa Privada\", \"includes\": [\"P708_5\", \"P712_7\"]}, {\"n\": 11, \"value\": \"Asociación de productores/as\", \"includes\": [\"P708_6\"]}, {\"n\": 12, \"value\": \"Comerciante, productor/a, amigo/a\", \"includes\": [\"P708_7\"]}, {\"n\": 13, \"value\": \"Otro\", \"includes\": [\"P708_8\", \"P712_9\"]}], \"P709\": [{\"n\": 1, \"value\": \"Radio\", \"includes\": [\"P709_1\"]}, {\"n\": 2, \"value\": \"Televisión\", \"includes\": [\"P709_2\"]}, {\"n\": 3, \"value\": \"Teléfono\", \"includes\": [\"P709_3\"]}, {\"n\": 4, \"value\": \"Diarios\", \"includes\": [\"P709_4\"]}, {\"n\": 5, \"value\": \"Folletos\", \"includes\": [\"P709_5\"]}, {\"n\": 6, \"value\": \"Internet\", \"includes\": [\"P709_6\"]}, {\"n\": 7, \"value\": \"Talleres\", \"includes\": [\"P709_7\"]}, {\"n\": 8, \"value\": \"Comunicación verbal\", \"includes\": [\"P709_8\"]}, {\"n\": 9, \"value\": \"Otro\", \"includes\": [\"P709_9\"]}], \"P710\": [{\"n\": 1, \"value\": \"Información agroclimática\", \"includes\": [\"P710_1\"]}, {\"n\": 2, \"value\": \"Manejo de enfermedades y plagas\", \"includes\": [\"P710_2\"]}, {\"n\": 3, \"value\": \"Precio de insumos agropecuarios\", \"includes\": [\"P710_3\"]}, {\"n\": 4, \"value\": \"Precio de venta (chacra, mayorista, minorista)\", \"includes\": [\"P710_4\"]}, {\"n\": 5, \"value\": \"Técnica de manejo de cultivos y crianza\", \"includes\": [\"P710_5\"]}, {\"n\": 6, \"value\": \"Técnica de manejo de semilla\", \"includes\": [\"P710_6\"]}, {\"n\": 7, \"value\": \"Uso de abonos y fertilizantes\", \"includes\": [\"P710_7\"]}, {\"n\": 8, \"value\": \"Técnicas y sistema de riego\", \"includes\": [\"P710_8\"]}, {\"n\": 9, \"value\": \"Análisis de suelo\", \"includes\": [\"P710_9\"]}, {\"n\": 10, \"value\": \"Otro\", \"includes\": [\"P710_10\"]}]}"
      ],
      "execution_count": 29,
      "outputs": [],
      "metadata": {}
    },
    {
      "cell_type": "code",
      "source": [
        "options"
      ],
      "execution_count": 30,
      "outputs": [
        {
          "output_type": "execute_result",
          "data": {
            "text/plain": "{'P707': [{'value': 'Si', 'includes': []}],\n 'P708and712': [{'n': 1,\n   'value': 'Ministerio de Agricultura y Riego',\n   'includes': ['P708_1', 'P712_1']},\n  {'n': 2, 'value': 'Agencia Agraria', 'includes': ['P712_2']},\n  {'n': 3,\n   'value': 'Instituto Nacional de Innovación Agraria (INIA)',\n   'includes': ['P712_3']},\n  {'n': 4,\n   'value': 'Servicio Nacional de Sanidad Agraria (SENASA)',\n   'includes': ['P712_4']},\n  {'n': 5,\n   'value': 'Instituto Nacional de Defensa Civil (INDECI)',\n   'includes': ['P712_6']},\n  {'n': 6,\n   'value': 'Servicio Nacional de Meteorología e Higrología (SENAMHI)',\n   'includes': ['P712_8']},\n  {'n': 7, 'value': 'Gobierno Regional', 'includes': ['P708_2']},\n  {'n': 8, 'value': 'Gobierno Local', 'includes': ['P708_3']},\n  {'n': 9,\n   'value': 'Organismo No Gubernamental (ONG)',\n   'includes': ['P708_4', 'P712_5']},\n  {'n': 10, 'value': 'Empresa Privada', 'includes': ['P708_5', 'P712_7']},\n  {'n': 11, 'value': 'Asociación de productores/as', 'includes': ['P708_6']},\n  {'n': 12,\n   'value': 'Comerciante, productor/a, amigo/a',\n   'includes': ['P708_7']},\n  {'n': 13, 'value': 'Otro', 'includes': ['P708_8', 'P712_9']}],\n 'P709': [{'n': 1, 'value': 'Radio', 'includes': ['P709_1']},\n  {'n': 2, 'value': 'Televisión', 'includes': ['P709_2']},\n  {'n': 3, 'value': 'Teléfono', 'includes': ['P709_3']},\n  {'n': 4, 'value': 'Diarios', 'includes': ['P709_4']},\n  {'n': 5, 'value': 'Folletos', 'includes': ['P709_5']},\n  {'n': 6, 'value': 'Internet', 'includes': ['P709_6']},\n  {'n': 7, 'value': 'Talleres', 'includes': ['P709_7']},\n  {'n': 8, 'value': 'Comunicación verbal', 'includes': ['P709_8']},\n  {'n': 9, 'value': 'Otro', 'includes': ['P709_9']}],\n 'P710': [{'n': 1,\n   'value': 'Información agroclimática',\n   'includes': ['P710_1']},\n  {'n': 2, 'value': 'Manejo de enfermedades y plagas', 'includes': ['P710_2']},\n  {'n': 3, 'value': 'Precio de insumos agropecuarios', 'includes': ['P710_3']},\n  {'n': 4,\n   'value': 'Precio de venta (chacra, mayorista, minorista)',\n   'includes': ['P710_4']},\n  {'n': 5,\n   'value': 'Técnica de manejo de cultivos y crianza',\n   'includes': ['P710_5']},\n  {'n': 6, 'value': 'Técnica de manejo de semilla', 'includes': ['P710_6']},\n  {'n': 7, 'value': 'Uso de abonos y fertilizantes', 'includes': ['P710_7']},\n  {'n': 8, 'value': 'Técnicas y sistema de riego', 'includes': ['P710_8']},\n  {'n': 9, 'value': 'Análisis de suelo', 'includes': ['P710_9']},\n  {'n': 10, 'value': 'Otro', 'includes': ['P710_10']}]}"
          },
          "metadata": {},
          "execution_count": 30
        }
      ],
      "metadata": {}
    },
    {
      "cell_type": "code",
      "source": [
        "oldData = {}\n",
        "# 'P707_1': [0, 1], 'P707_2': [1, 0]\n",
        "for variable in variables:\n",
        "    newName = variable[\"newVariable\"][\"name\"]\n",
        "    N = variable[\"newVariable\"][\"n\"] + 1\n",
        "    K = variable[\"newVariable\"][\"k\"] + 1\n",
        "    oldVariables = variable[\"oldVariables\"]\n",
        "    option = options[newName]\n",
        "    # print(\"==========\", option)\n",
        "    for x in oldVariables:\n",
        "        # print(\"old variable\", x)\n",
        "        oName = x[\"name\"]\n",
        "        oK = x[\"k\"] + 1\n",
        "        oN = x[\"n\"] + 1\n",
        "        for o_n in range(1, oN):\n",
        "            oVariable = oName + \"_%s\" % o_n\n",
        "            cols = []\n",
        "            print(\"old variable\", oVariable)\n",
        "            if x[\"k\"] > 1:\n",
        "                for o_k in range(1, oK):\n",
        "                    okVariable = oName + \"_%s\" % o_k + \"_%s\" % o_n\n",
        "                    cols = np.append(cols, okVariable)\n",
        "                    # print(\"--------*\", okVariable)\n",
        "                print(len(cols))\n",
        "                prev = np.where(white_potato_information[cols].fillna(0).replace({'Pase': 0}) != 0, 1, 0)\n",
        "                noreshape = np.where(np.sum(prev, axis = 1) >= 1, 1, 0)\n",
        "                oldData[oVariable] = noreshape.reshape((len(noreshape),))\n",
        "            else:\n",
        "                cols = np.append(cols, oVariable)\n",
        "                # print(\"--------\", oVariable)\n",
        "                print(len(cols))\n",
        "                prev = np.where(white_potato_information[cols].fillna(0).replace({'Pase': 0}) != 0, 1, 0)\n",
        "                noreshape = np.where(prev >= 1, 1, 0)\n",
        "                oldData[oVariable] = noreshape.reshape((len(noreshape),))\n",
        "\n",
        "df_oldData = pd.DataFrame(data=oldData)"
      ],
      "execution_count": 31,
      "outputs": [
        {
          "output_type": "stream",
          "name": "stdout",
          "text": "old variable P707_1\n1\nold variable P707_2\n1\nold variable P707_3\n1\nold variable P707_4\n1\nold variable P707_5\n1\nold variable P707_6\n1\nold variable P707_7\n1\nold variable P707_8\n1\nold variable P708_1\n8\nold variable P708_2\n8\nold variable P708_3\n8\nold variable P708_4\n8\nold variable P708_5\n8\nold variable P708_6\n8\nold variable P708_7\n8\nold variable P708_8\n8\nold variable P712_1\n1\nold variable P712_2\n1\nold variable P712_3\n1\nold variable P712_4\n1\nold variable P712_5\n1\nold variable P712_6\n1\nold variable P712_7\n1\nold variable P712_8\n1\nold variable P712_9\n1\nold variable P709_1\n8\nold variable P709_2\n8\nold variable P709_3\n8\nold variable P709_4\n8\nold variable P709_5\n8\nold variable P709_6\n8\nold variable P709_7\n8\nold variable P709_8\n8\nold variable P709_9\n8\nold variable P710_1\n1\nold variable P710_2\n1\nold variable P710_3\n1\nold variable P710_4\n1\nold variable P710_5\n1\nold variable P710_6\n1\nold variable P710_7\n1\nold variable P710_8\n1\nold variable P710_9\n1\nold variable P710_10\n1\n"
        }
      ],
      "metadata": {}
    },
    {
      "cell_type": "code",
      "source": [
        "df_oldData"
      ],
      "execution_count": 32,
      "outputs": [
        {
          "output_type": "execute_result",
          "data": {
            "text/plain": "      P707_1  P707_2  P707_3  P707_4  P707_5  P707_6  P707_7  P707_8  P708_1  \\\n0          1       1       1       1       1       1       1       1       0   \n1          1       1       1       1       1       1       1       1       0   \n2          1       1       1       1       1       1       1       1       0   \n3          1       1       1       1       1       1       1       1       0   \n4          1       1       1       1       1       1       1       1       0   \n...      ...     ...     ...     ...     ...     ...     ...     ...     ...   \n3240       1       1       1       1       1       1       1       1       0   \n3241       1       1       1       1       1       1       1       1       0   \n3242       1       1       1       1       1       1       1       1       0   \n3243       1       1       1       1       1       1       1       1       0   \n3244       1       1       1       1       1       1       1       1       0   \n\n      P708_2  ...  P710_1  P710_2  P710_3  P710_4  P710_5  P710_6  P710_7  \\\n0          0  ...       0       0       0       0       0       1       1   \n1          0  ...       0       1       0       0       1       0       1   \n2          0  ...       0       1       0       0       0       0       0   \n3          0  ...       0       0       0       0       0       0       1   \n4          0  ...       0       1       0       0       0       0       0   \n...      ...  ...     ...     ...     ...     ...     ...     ...     ...   \n3240       0  ...       0       0       0       0       1       0       0   \n3241       0  ...       0       0       0       0       1       0       0   \n3242       0  ...       0       0       0       0       1       0       0   \n3243       0  ...       0       0       1       0       0       0       0   \n3244       0  ...       0       0       0       0       1       0       0   \n\n      P710_8  P710_9  P710_10  \n0          1       0        0  \n1          0       0        0  \n2          0       1        0  \n3          0       0        0  \n4          0       0        0  \n...      ...     ...      ...  \n3240       0       0        0  \n3241       0       0        0  \n3242       0       0        0  \n3243       0       0        1  \n3244       0       0        0  \n\n[3245 rows x 44 columns]",
            "text/html": "<div>\n<style scoped>\n    .dataframe tbody tr th:only-of-type {\n        vertical-align: middle;\n    }\n\n    .dataframe tbody tr th {\n        vertical-align: top;\n    }\n\n    .dataframe thead th {\n        text-align: right;\n    }\n</style>\n<table border=\"1\" class=\"dataframe\">\n  <thead>\n    <tr style=\"text-align: right;\">\n      <th></th>\n      <th>P707_1</th>\n      <th>P707_2</th>\n      <th>P707_3</th>\n      <th>P707_4</th>\n      <th>P707_5</th>\n      <th>P707_6</th>\n      <th>P707_7</th>\n      <th>P707_8</th>\n      <th>P708_1</th>\n      <th>P708_2</th>\n      <th>...</th>\n      <th>P710_1</th>\n      <th>P710_2</th>\n      <th>P710_3</th>\n      <th>P710_4</th>\n      <th>P710_5</th>\n      <th>P710_6</th>\n      <th>P710_7</th>\n      <th>P710_8</th>\n      <th>P710_9</th>\n      <th>P710_10</th>\n    </tr>\n  </thead>\n  <tbody>\n    <tr>\n      <th>0</th>\n      <td>1</td>\n      <td>1</td>\n      <td>1</td>\n      <td>1</td>\n      <td>1</td>\n      <td>1</td>\n      <td>1</td>\n      <td>1</td>\n      <td>0</td>\n      <td>0</td>\n      <td>...</td>\n      <td>0</td>\n      <td>0</td>\n      <td>0</td>\n      <td>0</td>\n      <td>0</td>\n      <td>1</td>\n      <td>1</td>\n      <td>1</td>\n      <td>0</td>\n      <td>0</td>\n    </tr>\n    <tr>\n      <th>1</th>\n      <td>1</td>\n      <td>1</td>\n      <td>1</td>\n      <td>1</td>\n      <td>1</td>\n      <td>1</td>\n      <td>1</td>\n      <td>1</td>\n      <td>0</td>\n      <td>0</td>\n      <td>...</td>\n      <td>0</td>\n      <td>1</td>\n      <td>0</td>\n      <td>0</td>\n      <td>1</td>\n      <td>0</td>\n      <td>1</td>\n      <td>0</td>\n      <td>0</td>\n      <td>0</td>\n    </tr>\n    <tr>\n      <th>2</th>\n      <td>1</td>\n      <td>1</td>\n      <td>1</td>\n      <td>1</td>\n      <td>1</td>\n      <td>1</td>\n      <td>1</td>\n      <td>1</td>\n      <td>0</td>\n      <td>0</td>\n      <td>...</td>\n      <td>0</td>\n      <td>1</td>\n      <td>0</td>\n      <td>0</td>\n      <td>0</td>\n      <td>0</td>\n      <td>0</td>\n      <td>0</td>\n      <td>1</td>\n      <td>0</td>\n    </tr>\n    <tr>\n      <th>3</th>\n      <td>1</td>\n      <td>1</td>\n      <td>1</td>\n      <td>1</td>\n      <td>1</td>\n      <td>1</td>\n      <td>1</td>\n      <td>1</td>\n      <td>0</td>\n      <td>0</td>\n      <td>...</td>\n      <td>0</td>\n      <td>0</td>\n      <td>0</td>\n      <td>0</td>\n      <td>0</td>\n      <td>0</td>\n      <td>1</td>\n      <td>0</td>\n      <td>0</td>\n      <td>0</td>\n    </tr>\n    <tr>\n      <th>4</th>\n      <td>1</td>\n      <td>1</td>\n      <td>1</td>\n      <td>1</td>\n      <td>1</td>\n      <td>1</td>\n      <td>1</td>\n      <td>1</td>\n      <td>0</td>\n      <td>0</td>\n      <td>...</td>\n      <td>0</td>\n      <td>1</td>\n      <td>0</td>\n      <td>0</td>\n      <td>0</td>\n      <td>0</td>\n      <td>0</td>\n      <td>0</td>\n      <td>0</td>\n      <td>0</td>\n    </tr>\n    <tr>\n      <th>...</th>\n      <td>...</td>\n      <td>...</td>\n      <td>...</td>\n      <td>...</td>\n      <td>...</td>\n      <td>...</td>\n      <td>...</td>\n      <td>...</td>\n      <td>...</td>\n      <td>...</td>\n      <td>...</td>\n      <td>...</td>\n      <td>...</td>\n      <td>...</td>\n      <td>...</td>\n      <td>...</td>\n      <td>...</td>\n      <td>...</td>\n      <td>...</td>\n      <td>...</td>\n      <td>...</td>\n    </tr>\n    <tr>\n      <th>3240</th>\n      <td>1</td>\n      <td>1</td>\n      <td>1</td>\n      <td>1</td>\n      <td>1</td>\n      <td>1</td>\n      <td>1</td>\n      <td>1</td>\n      <td>0</td>\n      <td>0</td>\n      <td>...</td>\n      <td>0</td>\n      <td>0</td>\n      <td>0</td>\n      <td>0</td>\n      <td>1</td>\n      <td>0</td>\n      <td>0</td>\n      <td>0</td>\n      <td>0</td>\n      <td>0</td>\n    </tr>\n    <tr>\n      <th>3241</th>\n      <td>1</td>\n      <td>1</td>\n      <td>1</td>\n      <td>1</td>\n      <td>1</td>\n      <td>1</td>\n      <td>1</td>\n      <td>1</td>\n      <td>0</td>\n      <td>0</td>\n      <td>...</td>\n      <td>0</td>\n      <td>0</td>\n      <td>0</td>\n      <td>0</td>\n      <td>1</td>\n      <td>0</td>\n      <td>0</td>\n      <td>0</td>\n      <td>0</td>\n      <td>0</td>\n    </tr>\n    <tr>\n      <th>3242</th>\n      <td>1</td>\n      <td>1</td>\n      <td>1</td>\n      <td>1</td>\n      <td>1</td>\n      <td>1</td>\n      <td>1</td>\n      <td>1</td>\n      <td>0</td>\n      <td>0</td>\n      <td>...</td>\n      <td>0</td>\n      <td>0</td>\n      <td>0</td>\n      <td>0</td>\n      <td>1</td>\n      <td>0</td>\n      <td>0</td>\n      <td>0</td>\n      <td>0</td>\n      <td>0</td>\n    </tr>\n    <tr>\n      <th>3243</th>\n      <td>1</td>\n      <td>1</td>\n      <td>1</td>\n      <td>1</td>\n      <td>1</td>\n      <td>1</td>\n      <td>1</td>\n      <td>1</td>\n      <td>0</td>\n      <td>0</td>\n      <td>...</td>\n      <td>0</td>\n      <td>0</td>\n      <td>1</td>\n      <td>0</td>\n      <td>0</td>\n      <td>0</td>\n      <td>0</td>\n      <td>0</td>\n      <td>0</td>\n      <td>1</td>\n    </tr>\n    <tr>\n      <th>3244</th>\n      <td>1</td>\n      <td>1</td>\n      <td>1</td>\n      <td>1</td>\n      <td>1</td>\n      <td>1</td>\n      <td>1</td>\n      <td>1</td>\n      <td>0</td>\n      <td>0</td>\n      <td>...</td>\n      <td>0</td>\n      <td>0</td>\n      <td>0</td>\n      <td>0</td>\n      <td>1</td>\n      <td>0</td>\n      <td>0</td>\n      <td>0</td>\n      <td>0</td>\n      <td>0</td>\n    </tr>\n  </tbody>\n</table>\n<p>3245 rows × 44 columns</p>\n</div>"
          },
          "metadata": {},
          "execution_count": 32
        }
      ],
      "metadata": {}
    },
    {
      "cell_type": "code",
      "source": [
        "newData = {}\n",
        "for variable in variables:\n",
        "    newName = variable[\"newVariable\"][\"name\"]\n",
        "    N = variable[\"newVariable\"][\"n\"] + 1\n",
        "    K = variable[\"newVariable\"][\"k\"] + 1\n",
        "    oldVariables = variable[\"oldVariables\"]\n",
        "    option = options[newName]\n",
        "    # print(\"==========\", option)\n",
        "    for oldVariable in option:\n",
        "        if len(option) > 1:\n",
        "            n = oldVariable[\"n\"]\n",
        "            value = oldVariable[\"value\"]\n",
        "            oldVarIncludes = oldVariable[\"includes\"]\n",
        "            newVar = newName + \"_%s\" % n\n",
        "            noreshape = np.where(np.sum(df_oldData[oldVarIncludes], axis=1) >= 1, 1, 0)\n",
        "            newData[newVar] = noreshape.reshape((len(noreshape),))\n",
        "            print(\"====== new Data %s\" % newVar, oldVarIncludes)\n",
        "\n",
        "        else:\n",
        "            for n in range(1, N):\n",
        "                newVar = newName + \"_%s\" % n\n",
        "                noreshape = (white_potato_information[newVar] == \"Si\").astype(int)\n",
        "                newData[newVar] = noreshape\n",
        "                print(\"NEW: \", newVar)\n",
        " \n",
        "        # print(oldVariable)\n",
        "df_newData = pd.DataFrame(data=newData)"
      ],
      "execution_count": 33,
      "outputs": [
        {
          "output_type": "stream",
          "name": "stdout",
          "text": "NEW:  P707_1\nNEW:  P707_2\nNEW:  P707_3\nNEW:  P707_4\nNEW:  P707_5\nNEW:  P707_6\nNEW:  P707_7\nNEW:  P707_8\n====== new Data P708and712_1 ['P708_1', 'P712_1']\n====== new Data P708and712_2 ['P712_2']\n====== new Data P708and712_3 ['P712_3']\n====== new Data P708and712_4 ['P712_4']\n====== new Data P708and712_5 ['P712_6']\n====== new Data P708and712_6 ['P712_8']\n====== new Data P708and712_7 ['P708_2']\n====== new Data P708and712_8 ['P708_3']\n====== new Data P708and712_9 ['P708_4', 'P712_5']\n====== new Data P708and712_10 ['P708_5', 'P712_7']\n====== new Data P708and712_11 ['P708_6']\n====== new Data P708and712_12 ['P708_7']\n====== new Data P708and712_13 ['P708_8', 'P712_9']\n====== new Data P709_1 ['P709_1']\n====== new Data P709_2 ['P709_2']\n====== new Data P709_3 ['P709_3']\n====== new Data P709_4 ['P709_4']\n====== new Data P709_5 ['P709_5']\n====== new Data P709_6 ['P709_6']\n====== new Data P709_7 ['P709_7']\n====== new Data P709_8 ['P709_8']\n====== new Data P709_9 ['P709_9']\n====== new Data P710_1 ['P710_1']\n====== new Data P710_2 ['P710_2']\n====== new Data P710_3 ['P710_3']\n====== new Data P710_4 ['P710_4']\n====== new Data P710_5 ['P710_5']\n====== new Data P710_6 ['P710_6']\n====== new Data P710_7 ['P710_7']\n====== new Data P710_8 ['P710_8']\n====== new Data P710_9 ['P710_9']\n====== new Data P710_10 ['P710_10']\n"
        }
      ],
      "metadata": {}
    },
    {
      "cell_type": "code",
      "source": [
        "df_white_potato_information = pd.concat( [df_newData, white_potato_information[base_column]], axis=1) "
      ],
      "execution_count": 34,
      "outputs": [],
      "metadata": {}
    },
    {
      "cell_type": "code",
      "source": [
        "# df_white_potato_information.to_csv('white_potato_information.csv')"
      ],
      "execution_count": 35,
      "outputs": [],
      "metadata": {}
    },
    {
      "cell_type": "code",
      "execution_count": null,
      "metadata": {},
      "outputs": [],
      "source": []
    }
  ],
  "metadata": {
    "kernelspec": {
      "name": "python37464bitbaseconda8184d8b4cbba4a6ab984327643bf9a12",
      "display_name": "Python 3.7.4 64-bit ('base': conda)"
    }
  },
  "nbformat": 4,
  "nbformat_minor": 0
}