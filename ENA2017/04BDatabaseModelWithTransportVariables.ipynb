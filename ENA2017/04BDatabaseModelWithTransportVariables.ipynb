{
 "cells": [
  {
   "cell_type": "code",
   "execution_count": 1,
   "metadata": {},
   "outputs": [],
   "source": [
    "import pandas as pd\n",
    "from functools import reduce"
   ]
  },
  {
   "cell_type": "code",
   "execution_count": 19,
   "metadata": {},
   "outputs": [],
   "source": [
    "_MULTIINDEX_ = [\"NOMBREDD\", \"NOMBREPV\", \"NOMBREDI\"]"
   ]
  },
  {
   "cell_type": "code",
   "execution_count": 3,
   "metadata": {},
   "outputs": [],
   "source": [
    "_PATH_ = \"https://public.minsky.cc/maria/market_channel_factors_db\""
   ]
  },
  {
   "cell_type": "code",
   "execution_count": 4,
   "metadata": {},
   "outputs": [],
   "source": [
    "df = pd.read_csv(_PATH_ + \"/\" + \"databases/03PreModelDatabaseOfWhitePotato.csv\")"
   ]
  },
  {
   "cell_type": "code",
   "execution_count": 5,
   "metadata": {},
   "outputs": [],
   "source": [
    "df_districtToLimaMarket = pd.read_csv(_PATH_ + \"/\" + 'databases/04RoadTransportationDistrictToLimaMarket.csv')"
   ]
  },
  {
   "cell_type": "code",
   "execution_count": 6,
   "metadata": {},
   "outputs": [],
   "source": [
    "df_districtToProvinceCapitalOfRegion = pd.read_csv(_PATH_ + \"/\" + 'databases/04RoadTransportationDistrictToProvinceCapitalOfRegion.csv')"
   ]
  },
  {
   "cell_type": "code",
   "execution_count": 7,
   "metadata": {},
   "outputs": [],
   "source": [
    "df_provinceCapitalToLimaMarket = pd.read_csv(_PATH_ + \"/\" + 'databases/04RoadTransportationProvinceCapitalToLimaMarket.csv')"
   ]
  },
  {
   "cell_type": "code",
   "execution_count": 8,
   "metadata": {},
   "outputs": [],
   "source": [
    "df = df.drop(columns=[\"Unnamed: 0\"])"
   ]
  },
  {
   "cell_type": "code",
   "execution_count": 9,
   "metadata": {},
   "outputs": [
    {
     "data": {
      "text/plain": [
       "Index(['NOMBREDD', 'NOMBREPV', 'NOMBREDI', 'CONGLOMERADO', 'NSELUA', 'UA',\n",
       "       'crop', 'production', 'totalProduction', 'percentProduction',\n",
       "       'soldProduction', 'totalSoldProduction', 'percentSoldProduction',\n",
       "       'farmGatePricePerKg', 'farmGateIncomes', 'totalFarmGateIncomes',\n",
       "       'percentFarmGateIncomes', 'plantedArea', 'totalPlantedArea',\n",
       "       'percentPlantedArea', 'yield', 'volumeOfDistrict', 'associative',\n",
       "       'informalPriceInformation', 'formalPriceInformation',\n",
       "       'informalMetereologicalInformation', 'formalMetereologicalInformation',\n",
       "       'localMarket', 'regionalMarket', 'limaMarket', 'agroindustryMarket',\n",
       "       'exportMarket', 'MARKET_NAN', 'MARKETS', 'MARKETS_QTY', 'marketSize',\n",
       "       'collector', 'wholesaler', 'retailer', 'enterprise', 'finalConsumer',\n",
       "       'marketChannelDirectedness', 'pointsOfSale'],\n",
       "      dtype='object')"
      ]
     },
     "execution_count": 9,
     "metadata": {},
     "output_type": "execute_result"
    }
   ],
   "source": [
    "df.columns"
   ]
  },
  {
   "cell_type": "code",
   "execution_count": 11,
   "metadata": {},
   "outputs": [],
   "source": [
    "df_districtToLimaMarket = df_districtToLimaMarket[[\"NOMBREDD\", \"NOMBREPV\", \"NOMBREDI\", \"districtTimeToLimaMarket\"]]\n",
    "df_districtToProvinceCapitalOfRegion = df_districtToProvinceCapitalOfRegion[[\"NOMBREDD\", \"NOMBREPV\", \"NOMBREDI\", \"districtTimeToProvinceCapitalOfRegion\"]]\n",
    "df_provinceCapitalToLimaMarket = df_provinceCapitalToLimaMarket[[\"NOMBREDD\", \"provinceCapitalToLimaMarket\"]]"
   ]
  },
  {
   "cell_type": "code",
   "execution_count": 12,
   "metadata": {},
   "outputs": [
    {
     "data": {
      "text/plain": [
       "Index(['NOMBREDD', 'NOMBREPV', 'NOMBREDI', 'districtTimeToLimaMarket'], dtype='object')"
      ]
     },
     "execution_count": 12,
     "metadata": {},
     "output_type": "execute_result"
    }
   ],
   "source": [
    "df_districtToLimaMarket.columns"
   ]
  },
  {
   "cell_type": "code",
   "execution_count": 13,
   "metadata": {},
   "outputs": [
    {
     "data": {
      "text/plain": [
       "Index(['NOMBREDD', 'NOMBREPV', 'NOMBREDI',\n",
       "       'districtTimeToProvinceCapitalOfRegion'],\n",
       "      dtype='object')"
      ]
     },
     "execution_count": 13,
     "metadata": {},
     "output_type": "execute_result"
    }
   ],
   "source": [
    "df_districtToProvinceCapitalOfRegion.columns"
   ]
  },
  {
   "cell_type": "code",
   "execution_count": 14,
   "metadata": {},
   "outputs": [
    {
     "data": {
      "text/plain": [
       "Index(['NOMBREDD', 'provinceCapitalToLimaMarket'], dtype='object')"
      ]
     },
     "execution_count": 14,
     "metadata": {},
     "output_type": "execute_result"
    }
   ],
   "source": [
    "df_provinceCapitalToLimaMarket.columns"
   ]
  },
  {
   "cell_type": "code",
   "execution_count": 15,
   "metadata": {},
   "outputs": [],
   "source": [
    "def mergeDataFrames(dfArray, indices):\n",
    "    dfList = []\n",
    "    for df in dfArray:\n",
    "        dfList.append(df)\n",
    "    df = reduce(lambda x, y: pd.merge(x, y, how=\"left\", on = indices, suffixes=(\"\", \"_y\")), dfList)\n",
    "    filter = [col for col in df if col.endswith(\"y\")]\n",
    "    #Eliminar\n",
    "    df_drop = df.drop(columns=filter)\n",
    "    #Seleccionar\n",
    "    df_keep = df[filter]\n",
    "    return df_drop"
   ]
  },
  {
   "cell_type": "code",
   "execution_count": 16,
   "metadata": {},
   "outputs": [
    {
     "data": {
      "text/plain": [
       "(386, 386, 24)"
      ]
     },
     "execution_count": 16,
     "metadata": {},
     "output_type": "execute_result"
    }
   ],
   "source": [
    "len(df_districtToLimaMarket), len(df_districtToProvinceCapitalOfRegion), len(df_provinceCapitalToLimaMarket)"
   ]
  },
  {
   "cell_type": "code",
   "execution_count": 17,
   "metadata": {},
   "outputs": [],
   "source": [
    "df_transportation = mergeDataFrames([mergeDataFrames([df_districtToLimaMarket, df_districtToProvinceCapitalOfRegion], [\"NOMBREDD\", \"NOMBREPV\", \"NOMBREDI\"]), df_provinceCapitalToLimaMarket], [\"NOMBREDD\"])"
   ]
  },
  {
   "cell_type": "code",
   "execution_count": 18,
   "metadata": {},
   "outputs": [
    {
     "data": {
      "text/plain": [
       "Index(['NOMBREDD', 'NOMBREPV', 'NOMBREDI', 'districtTimeToLimaMarket',\n",
       "       'districtTimeToProvinceCapitalOfRegion', 'provinceCapitalToLimaMarket'],\n",
       "      dtype='object')"
      ]
     },
     "execution_count": 18,
     "metadata": {},
     "output_type": "execute_result"
    }
   ],
   "source": [
    "df_transportation.columns"
   ]
  },
  {
   "cell_type": "code",
   "execution_count": 20,
   "metadata": {},
   "outputs": [],
   "source": [
    "df_model = mergeDataFrames([df, df_transportation], _MULTIINDEX_)"
   ]
  },
  {
   "cell_type": "code",
   "execution_count": 21,
   "metadata": {},
   "outputs": [
    {
     "data": {
      "text/plain": [
       "Index(['NOMBREDD', 'NOMBREPV', 'NOMBREDI', 'CONGLOMERADO', 'NSELUA', 'UA',\n",
       "       'crop', 'production', 'totalProduction', 'percentProduction',\n",
       "       'soldProduction', 'totalSoldProduction', 'percentSoldProduction',\n",
       "       'farmGatePricePerKg', 'farmGateIncomes', 'totalFarmGateIncomes',\n",
       "       'percentFarmGateIncomes', 'plantedArea', 'totalPlantedArea',\n",
       "       'percentPlantedArea', 'yield', 'volumeOfDistrict', 'associative',\n",
       "       'informalPriceInformation', 'formalPriceInformation',\n",
       "       'informalMetereologicalInformation', 'formalMetereologicalInformation',\n",
       "       'localMarket', 'regionalMarket', 'limaMarket', 'agroindustryMarket',\n",
       "       'exportMarket', 'MARKET_NAN', 'MARKETS', 'MARKETS_QTY', 'marketSize',\n",
       "       'collector', 'wholesaler', 'retailer', 'enterprise', 'finalConsumer',\n",
       "       'marketChannelDirectedness', 'pointsOfSale', 'districtTimeToLimaMarket',\n",
       "       'districtTimeToProvinceCapitalOfRegion', 'provinceCapitalToLimaMarket'],\n",
       "      dtype='object')"
      ]
     },
     "execution_count": 21,
     "metadata": {},
     "output_type": "execute_result"
    }
   ],
   "source": [
    "df_model.columns"
   ]
  },
  {
   "cell_type": "code",
   "execution_count": 22,
   "metadata": {},
   "outputs": [
    {
     "data": {
      "text/plain": [
       "2064"
      ]
     },
     "execution_count": 22,
     "metadata": {},
     "output_type": "execute_result"
    }
   ],
   "source": [
    "len(df_model)"
   ]
  },
  {
   "cell_type": "code",
   "execution_count": 23,
   "metadata": {},
   "outputs": [
    {
     "data": {
      "text/html": [
       "<div>\n",
       "<style scoped>\n",
       "    .dataframe tbody tr th:only-of-type {\n",
       "        vertical-align: middle;\n",
       "    }\n",
       "\n",
       "    .dataframe tbody tr th {\n",
       "        vertical-align: top;\n",
       "    }\n",
       "\n",
       "    .dataframe thead th {\n",
       "        text-align: right;\n",
       "    }\n",
       "</style>\n",
       "<table border=\"1\" class=\"dataframe\">\n",
       "  <thead>\n",
       "    <tr style=\"text-align: right;\">\n",
       "      <th></th>\n",
       "      <th>NOMBREDD</th>\n",
       "      <th>NOMBREPV</th>\n",
       "      <th>NOMBREDI</th>\n",
       "      <th>CONGLOMERADO</th>\n",
       "      <th>NSELUA</th>\n",
       "      <th>UA</th>\n",
       "      <th>crop</th>\n",
       "      <th>production</th>\n",
       "      <th>totalProduction</th>\n",
       "      <th>percentProduction</th>\n",
       "      <th>...</th>\n",
       "      <th>collector</th>\n",
       "      <th>wholesaler</th>\n",
       "      <th>retailer</th>\n",
       "      <th>enterprise</th>\n",
       "      <th>finalConsumer</th>\n",
       "      <th>marketChannelDirectedness</th>\n",
       "      <th>pointsOfSale</th>\n",
       "      <th>districtTimeToLimaMarket</th>\n",
       "      <th>districtTimeToProvinceCapitalOfRegion</th>\n",
       "      <th>provinceCapitalToLimaMarket</th>\n",
       "    </tr>\n",
       "  </thead>\n",
       "  <tbody>\n",
       "    <tr>\n",
       "      <th>0</th>\n",
       "      <td>AMAZONAS</td>\n",
       "      <td>BONGARA</td>\n",
       "      <td>FLORIDA</td>\n",
       "      <td>5370</td>\n",
       "      <td>8</td>\n",
       "      <td>2</td>\n",
       "      <td>PAPA BLANCA</td>\n",
       "      <td>750.0</td>\n",
       "      <td>282400.0</td>\n",
       "      <td>0.002656</td>\n",
       "      <td>...</td>\n",
       "      <td>0</td>\n",
       "      <td>0</td>\n",
       "      <td>1</td>\n",
       "      <td>0</td>\n",
       "      <td>0</td>\n",
       "      <td>Retailer</td>\n",
       "      <td>NaN</td>\n",
       "      <td>20.9</td>\n",
       "      <td>2.28</td>\n",
       "      <td>20.3</td>\n",
       "    </tr>\n",
       "    <tr>\n",
       "      <th>1</th>\n",
       "      <td>AMAZONAS</td>\n",
       "      <td>BONGARA</td>\n",
       "      <td>YAMBRASBAMBA</td>\n",
       "      <td>5362</td>\n",
       "      <td>19</td>\n",
       "      <td>3</td>\n",
       "      <td>PAPA BLANCA</td>\n",
       "      <td>1850.0</td>\n",
       "      <td>76743.0</td>\n",
       "      <td>0.024106</td>\n",
       "      <td>...</td>\n",
       "      <td>0</td>\n",
       "      <td>1</td>\n",
       "      <td>0</td>\n",
       "      <td>0</td>\n",
       "      <td>0</td>\n",
       "      <td>Wholesaler</td>\n",
       "      <td>NaN</td>\n",
       "      <td>20.9</td>\n",
       "      <td>2.30</td>\n",
       "      <td>20.3</td>\n",
       "    </tr>\n",
       "    <tr>\n",
       "      <th>2</th>\n",
       "      <td>AMAZONAS</td>\n",
       "      <td>CHACHAPOYAS</td>\n",
       "      <td>CHILIQUIN</td>\n",
       "      <td>5490</td>\n",
       "      <td>142</td>\n",
       "      <td>14</td>\n",
       "      <td>PAPA BLANCA</td>\n",
       "      <td>4750.0</td>\n",
       "      <td>181043.0</td>\n",
       "      <td>0.026237</td>\n",
       "      <td>...</td>\n",
       "      <td>0</td>\n",
       "      <td>0</td>\n",
       "      <td>1</td>\n",
       "      <td>0</td>\n",
       "      <td>0</td>\n",
       "      <td>Retailer</td>\n",
       "      <td>NaN</td>\n",
       "      <td>22.6</td>\n",
       "      <td>2.48</td>\n",
       "      <td>20.3</td>\n",
       "    </tr>\n",
       "    <tr>\n",
       "      <th>3</th>\n",
       "      <td>AMAZONAS</td>\n",
       "      <td>CHACHAPOYAS</td>\n",
       "      <td>CHILIQUIN</td>\n",
       "      <td>5491</td>\n",
       "      <td>101</td>\n",
       "      <td>13</td>\n",
       "      <td>PAPA BLANCA</td>\n",
       "      <td>2000.0</td>\n",
       "      <td>48696.0</td>\n",
       "      <td>0.041071</td>\n",
       "      <td>...</td>\n",
       "      <td>0</td>\n",
       "      <td>1</td>\n",
       "      <td>0</td>\n",
       "      <td>0</td>\n",
       "      <td>0</td>\n",
       "      <td>Wholesaler</td>\n",
       "      <td>NaN</td>\n",
       "      <td>22.6</td>\n",
       "      <td>2.48</td>\n",
       "      <td>20.3</td>\n",
       "    </tr>\n",
       "    <tr>\n",
       "      <th>4</th>\n",
       "      <td>AMAZONAS</td>\n",
       "      <td>CHACHAPOYAS</td>\n",
       "      <td>CHUQUIBAMBA</td>\n",
       "      <td>5532</td>\n",
       "      <td>45</td>\n",
       "      <td>4</td>\n",
       "      <td>PAPA BLANCA</td>\n",
       "      <td>1000.0</td>\n",
       "      <td>31197.5</td>\n",
       "      <td>0.032054</td>\n",
       "      <td>...</td>\n",
       "      <td>0</td>\n",
       "      <td>0</td>\n",
       "      <td>1</td>\n",
       "      <td>0</td>\n",
       "      <td>1</td>\n",
       "      <td>Final consumer</td>\n",
       "      <td>NaN</td>\n",
       "      <td>19.8</td>\n",
       "      <td>6.38</td>\n",
       "      <td>20.3</td>\n",
       "    </tr>\n",
       "  </tbody>\n",
       "</table>\n",
       "<p>5 rows × 46 columns</p>\n",
       "</div>"
      ],
      "text/plain": [
       "   NOMBREDD     NOMBREPV      NOMBREDI  CONGLOMERADO  NSELUA  UA         crop  \\\n",
       "0  AMAZONAS      BONGARA       FLORIDA          5370       8   2  PAPA BLANCA   \n",
       "1  AMAZONAS      BONGARA  YAMBRASBAMBA          5362      19   3  PAPA BLANCA   \n",
       "2  AMAZONAS  CHACHAPOYAS     CHILIQUIN          5490     142  14  PAPA BLANCA   \n",
       "3  AMAZONAS  CHACHAPOYAS     CHILIQUIN          5491     101  13  PAPA BLANCA   \n",
       "4  AMAZONAS  CHACHAPOYAS   CHUQUIBAMBA          5532      45   4  PAPA BLANCA   \n",
       "\n",
       "   production  totalProduction  percentProduction  ...  collector  wholesaler  \\\n",
       "0       750.0         282400.0           0.002656  ...          0           0   \n",
       "1      1850.0          76743.0           0.024106  ...          0           1   \n",
       "2      4750.0         181043.0           0.026237  ...          0           0   \n",
       "3      2000.0          48696.0           0.041071  ...          0           1   \n",
       "4      1000.0          31197.5           0.032054  ...          0           0   \n",
       "\n",
       "   retailer  enterprise  finalConsumer  marketChannelDirectedness  \\\n",
       "0         1           0              0                   Retailer   \n",
       "1         0           0              0                 Wholesaler   \n",
       "2         1           0              0                   Retailer   \n",
       "3         0           0              0                 Wholesaler   \n",
       "4         1           0              1             Final consumer   \n",
       "\n",
       "   pointsOfSale  districtTimeToLimaMarket  \\\n",
       "0           NaN                      20.9   \n",
       "1           NaN                      20.9   \n",
       "2           NaN                      22.6   \n",
       "3           NaN                      22.6   \n",
       "4           NaN                      19.8   \n",
       "\n",
       "   districtTimeToProvinceCapitalOfRegion  provinceCapitalToLimaMarket  \n",
       "0                                   2.28                         20.3  \n",
       "1                                   2.30                         20.3  \n",
       "2                                   2.48                         20.3  \n",
       "3                                   2.48                         20.3  \n",
       "4                                   6.38                         20.3  \n",
       "\n",
       "[5 rows x 46 columns]"
      ]
     },
     "execution_count": 23,
     "metadata": {},
     "output_type": "execute_result"
    }
   ],
   "source": [
    "df_model.head()"
   ]
  },
  {
   "cell_type": "code",
   "execution_count": 24,
   "metadata": {},
   "outputs": [
    {
     "data": {
      "text/plain": [
       "NOMBREDD                                    0\n",
       "NOMBREPV                                    0\n",
       "NOMBREDI                                    0\n",
       "CONGLOMERADO                                0\n",
       "NSELUA                                      0\n",
       "UA                                          0\n",
       "crop                                        0\n",
       "production                                  0\n",
       "totalProduction                             0\n",
       "percentProduction                           0\n",
       "soldProduction                              0\n",
       "totalSoldProduction                         0\n",
       "percentSoldProduction                       0\n",
       "farmGatePricePerKg                          0\n",
       "farmGateIncomes                             0\n",
       "totalFarmGateIncomes                        0\n",
       "percentFarmGateIncomes                      0\n",
       "plantedArea                                 0\n",
       "totalPlantedArea                            0\n",
       "percentPlantedArea                          0\n",
       "yield                                       0\n",
       "volumeOfDistrict                            0\n",
       "associative                                 0\n",
       "informalPriceInformation                    0\n",
       "formalPriceInformation                      0\n",
       "informalMetereologicalInformation           0\n",
       "formalMetereologicalInformation             0\n",
       "localMarket                                 0\n",
       "regionalMarket                              0\n",
       "limaMarket                                  0\n",
       "agroindustryMarket                          0\n",
       "exportMarket                                0\n",
       "MARKET_NAN                                  0\n",
       "MARKETS                                     0\n",
       "MARKETS_QTY                                 0\n",
       "marketSize                                  0\n",
       "collector                                   0\n",
       "wholesaler                                  0\n",
       "retailer                                    0\n",
       "enterprise                                  0\n",
       "finalConsumer                               0\n",
       "marketChannelDirectedness                   0\n",
       "pointsOfSale                             1261\n",
       "districtTimeToLimaMarket                    0\n",
       "districtTimeToProvinceCapitalOfRegion       0\n",
       "provinceCapitalToLimaMarket                 0\n",
       "dtype: int64"
      ]
     },
     "execution_count": 24,
     "metadata": {},
     "output_type": "execute_result"
    }
   ],
   "source": [
    "df_model.isnull().sum(axis=0)"
   ]
  },
  {
   "cell_type": "code",
   "execution_count": 25,
   "metadata": {},
   "outputs": [],
   "source": [
    "df_model.to_csv(\"ThesisDataframes/04ModelDatabaseOfWhitePotato.csv\")"
   ]
  },
  {
   "cell_type": "code",
   "execution_count": null,
   "metadata": {},
   "outputs": [],
   "source": []
  }
 ],
 "metadata": {
  "kernelspec": {
   "display_name": "Python 3",
   "language": "python",
   "name": "python3"
  },
  "language_info": {
   "codemirror_mode": {
    "name": "ipython",
    "version": 3
   },
   "file_extension": ".py",
   "mimetype": "text/x-python",
   "name": "python",
   "nbconvert_exporter": "python",
   "pygments_lexer": "ipython3",
   "version": "3.7.6"
  }
 },
 "nbformat": 4,
 "nbformat_minor": 4
}
