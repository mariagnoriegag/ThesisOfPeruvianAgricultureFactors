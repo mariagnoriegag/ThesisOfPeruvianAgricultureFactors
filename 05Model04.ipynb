{
 "cells": [
  {
   "cell_type": "code",
   "execution_count": 1,
   "metadata": {},
   "outputs": [],
   "source": [
    "import matplotlib.pyplot as plt\n",
    "import numpy as np\n",
    "import pandas as pd\n",
    "import seaborn as sns\n",
    "from functools import reduce"
   ]
  },
  {
   "cell_type": "code",
   "execution_count": 2,
   "metadata": {},
   "outputs": [],
   "source": [
    "_PATH_ = \"ThesisDataFrames\""
   ]
  },
  {
   "cell_type": "code",
   "execution_count": 3,
   "metadata": {},
   "outputs": [],
   "source": [
    "df = pd.read_csv(_PATH_ + \"/\" + \"DataframeModel04WhitePotato.csv\")"
   ]
  },
  {
   "cell_type": "code",
   "execution_count": 4,
   "metadata": {},
   "outputs": [
    {
     "data": {
      "text/plain": [
       "Index(['Unnamed: 0', 'NOMBREDD', 'NOMBREPV', 'NOMBREDI', 'CONGLOMERADO',\n",
       "       'NSELUA', 'UA', 'crop', 'production', 'totalProduction',\n",
       "       'percentProduction', 'soldProduction', 'totalSoldProduction',\n",
       "       'percentSoldProduction', 'farmGatePricePerKg', 'farmGateIncomes',\n",
       "       'totalFarmGateIncomes', 'percentFarmGateIncomes', 'plantedArea',\n",
       "       'totalPlantedArea', 'percentPlantedArea', 'yield', 'volumeOfDistrict',\n",
       "       'associative', 'informalPriceInformation', 'formalPriceInformation',\n",
       "       'informalMetereologicalInformation', 'formalMetereologicalInformation',\n",
       "       'localMarket', 'regionalMarket', 'limaMarket', 'agroindustryMarket',\n",
       "       'marketSize', 'collector', 'wholesaler', 'retailer', 'enterprise',\n",
       "       'finalConsumer', 'marketChannelDirectedness',\n",
       "       'timeProvinceToLimaMarket', 'timeDistrictToProvinceCapital',\n",
       "       'vegetablePointsOfSales'],\n",
       "      dtype='object')"
      ]
     },
     "execution_count": 4,
     "metadata": {},
     "output_type": "execute_result"
    }
   ],
   "source": [
    "df.columns"
   ]
  },
  {
   "cell_type": "code",
   "execution_count": null,
   "metadata": {},
   "outputs": [],
   "source": []
  }
 ],
 "metadata": {
  "kernelspec": {
   "display_name": "Python 3",
   "language": "python",
   "name": "python3"
  },
  "language_info": {
   "codemirror_mode": {
    "name": "ipython",
    "version": 3
   },
   "file_extension": ".py",
   "mimetype": "text/x-python",
   "name": "python",
   "nbconvert_exporter": "python",
   "pygments_lexer": "ipython3",
   "version": "3.7.6"
  }
 },
 "nbformat": 4,
 "nbformat_minor": 4
}
