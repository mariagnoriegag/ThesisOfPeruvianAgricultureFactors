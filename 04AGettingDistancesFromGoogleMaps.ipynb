{
 "cells": [
  {
   "cell_type": "code",
   "execution_count": 1,
   "metadata": {},
   "outputs": [],
   "source": [
    "import pandas as pd\n",
    "import helium\n",
    "import csv"
   ]
  },
  {
   "cell_type": "code",
   "execution_count": 2,
   "metadata": {},
   "outputs": [],
   "source": [
    "_PATH_ = \"https://public.minsky.cc/maria/market_channel_factors_db\""
   ]
  },
  {
   "cell_type": "code",
   "execution_count": 60,
   "metadata": {},
   "outputs": [],
   "source": [
    "df = pd.read_csv(_PATH_ + \"/\" + \"databases/03PreModelDatabaseOfWhitePotato.csv\")"
   ]
  },
  {
   "cell_type": "code",
   "execution_count": 82,
   "metadata": {},
   "outputs": [],
   "source": [
    "capitalOfRegions = pd.read_csv(_PATH_ + \"/\" + \"databases/ProvinceCapitalOfRegions.csv\")"
   ]
  },
  {
   "cell_type": "code",
   "execution_count": 4,
   "metadata": {},
   "outputs": [
    {
     "output_type": "execute_result",
     "data": {
      "text/plain": "Index(['Unnamed: 0', 'NOMBREDD', 'NOMBREPV', 'NOMBREDI', 'CONGLOMERADO',\n       'NSELUA', 'UA', 'crop', 'production', 'totalProduction',\n       'percentProduction', 'soldProduction', 'totalSoldProduction',\n       'percentSoldProduction', 'farmGatePricePerKg', 'farmGateIncomes',\n       'totalFarmGateIncomes', 'percentFarmGateIncomes', 'plantedArea',\n       'totalPlantedArea', 'percentPlantedArea', 'yield', 'volumeOfDistrict',\n       'associative', 'informalPriceInformation', 'formalPriceInformation',\n       'informalMetereologicalInformation', 'formalMetereologicalInformation',\n       'localMarket', 'regionalMarket', 'limaMarket', 'agroindustryMarket',\n       'exportMarket', 'MARKET_NAN', 'MARKETS', 'MARKETS_QTY', 'marketSize',\n       'collector', 'wholesaler', 'retailer', 'enterprise', 'finalConsumer',\n       'marketChannelDirectedness', 'pointsOfSale'],\n      dtype='object')"
     },
     "metadata": {},
     "execution_count": 4
    }
   ],
   "source": [
    "df.columns"
   ]
  },
  {
   "cell_type": "code",
   "execution_count": 52,
   "metadata": {},
   "outputs": [],
   "source": [
    "def createNumberTimeVariable(df, variableName, newVariableName):\n",
    "    df[newVariableName] = df[variableName].apply(lambda x: x.split(\" \")).apply(lambda x: '{0:.3g}'.format(int(x[0]) + int(x[2])/60) if (len(x) > 2) else '{0:.2g}'.format(int(x[0])/60) if x[1] == \"min\" else int(x[0]))"
   ]
  },
  {
   "cell_type": "markdown",
   "metadata": {},
   "source": [
    "# District time to Lima Market"
   ]
  },
  {
   "cell_type": "code",
   "execution_count": 7,
   "metadata": {},
   "outputs": [],
   "source": [
    "places = df[\"NOMBREDI\"] + \", \" + df[\"NOMBREPV\"] + \", \" + df[\"NOMBREDD\"]\n",
    "places = places.unique()\n",
    "\n",
    "distances_dtlm = {}\n",
    "times_dtlm = {}\n",
    "\n",
    "helium.start_chrome()\n",
    "for place in places:\n",
    "    fixed_place = place.lower().replace(\" \", \"+\")\n",
    "    url = f\"http://google.com/maps/dir/{fixed_place}/Mercado+Productores,+Santa+Anita\"\n",
    "    helium.go_to(url)\n",
    "    q = helium.S(\"div.section-directions-trip-numbers\")\n",
    "    box = helium.find_all(q)\n",
    "    if len(box) == 0:\n",
    "        distances_dtlm[place] = None\n",
    "        times_dtlm[place] = None\n",
    "        continue\n",
    "    dist_and_time = box[0]\n",
    "    dist_and_time = dist_and_time.web_element.text\n",
    "    \n",
    "    d_t = dist_and_time.split(\"\\n\")\n",
    "    times_dtlm[place] = d_t[0]\n",
    "    distances_dtlm[place] = d_t[1]"
   ]
  },
  {
   "cell_type": "code",
   "execution_count": 8,
   "metadata": {},
   "outputs": [],
   "source": [
    "with open(\"04RoadTransportationDistrictToLimaMarket.csv\", \"w\") as df:\n",
    "    df.write(\"NOMBREDI,NOMBREPV,NOMBREDD,DistanceInTime,DistanceInKm\\n\")\n",
    "    for key in distances_dtlm.keys():\n",
    "        df.write(\"%s,%s,%s\\n\"%(key.replace(\", \", \",\"), times_dtlm[key], distances_dtlm[key]))"
   ]
  },
  {
   "cell_type": "code",
   "execution_count": 53,
   "metadata": {},
   "outputs": [],
   "source": [
    "districtToLimaMarket = pd.read_csv('04RoadTransportationDistrictToLimaMarket.csv')"
   ]
  },
  {
   "cell_type": "code",
   "execution_count": 54,
   "metadata": {},
   "outputs": [],
   "source": [
    "createNumberTimeVariable(districtToLimaMarket, \"DistanceInTime\", \"districtTimeToLimaMarket\")"
   ]
  },
  {
   "cell_type": "code",
   "execution_count": 55,
   "metadata": {},
   "outputs": [
    {
     "output_type": "execute_result",
     "data": {
      "text/plain": "              NOMBREDI     NOMBREPV  NOMBREDD DistanceInTime DistanceInKm  \\\n0              FLORIDA      BONGARA  AMAZONAS    20 h 53 min      1217 km   \n1         YAMBRASBAMBA      BONGARA  AMAZONAS    20 h 53 min      1228 km   \n2            CHILIQUIN  CHACHAPOYAS  AMAZONAS    22 h 38 min      1280 km   \n3          CHUQUIBAMBA  CHACHAPOYAS  AMAZONAS    19 h 47 min      1077 km   \n4             LA JALCA  CHACHAPOYAS  AMAZONAS    21 h 44 min      1137 km   \n..                 ...          ...       ...            ...          ...   \n381              TACNA        TACNA     TACNA    17 h 29 min      1221 km   \n382  HEROES ALBARRACIN       TARATA     TACNA    18 h 35 min      1283 km   \n383           SITAJARA       TARATA     TACNA    18 h 35 min      1283 km   \n384             TARATA       TARATA     TACNA    18 h 35 min      1283 km   \n385             TICACO       TARATA     TACNA    18 h 54 min      1293 km   \n\n    districtTimeToLimaMarket  \n0                       20.9  \n1                       20.9  \n2                       22.6  \n3                       19.8  \n4                       21.7  \n..                       ...  \n381                     17.5  \n382                     18.6  \n383                     18.6  \n384                     18.6  \n385                     18.9  \n\n[386 rows x 6 columns]",
      "text/html": "<div>\n<style scoped>\n    .dataframe tbody tr th:only-of-type {\n        vertical-align: middle;\n    }\n\n    .dataframe tbody tr th {\n        vertical-align: top;\n    }\n\n    .dataframe thead th {\n        text-align: right;\n    }\n</style>\n<table border=\"1\" class=\"dataframe\">\n  <thead>\n    <tr style=\"text-align: right;\">\n      <th></th>\n      <th>NOMBREDI</th>\n      <th>NOMBREPV</th>\n      <th>NOMBREDD</th>\n      <th>DistanceInTime</th>\n      <th>DistanceInKm</th>\n      <th>districtTimeToLimaMarket</th>\n    </tr>\n  </thead>\n  <tbody>\n    <tr>\n      <th>0</th>\n      <td>FLORIDA</td>\n      <td>BONGARA</td>\n      <td>AMAZONAS</td>\n      <td>20 h 53 min</td>\n      <td>1217 km</td>\n      <td>20.9</td>\n    </tr>\n    <tr>\n      <th>1</th>\n      <td>YAMBRASBAMBA</td>\n      <td>BONGARA</td>\n      <td>AMAZONAS</td>\n      <td>20 h 53 min</td>\n      <td>1228 km</td>\n      <td>20.9</td>\n    </tr>\n    <tr>\n      <th>2</th>\n      <td>CHILIQUIN</td>\n      <td>CHACHAPOYAS</td>\n      <td>AMAZONAS</td>\n      <td>22 h 38 min</td>\n      <td>1280 km</td>\n      <td>22.6</td>\n    </tr>\n    <tr>\n      <th>3</th>\n      <td>CHUQUIBAMBA</td>\n      <td>CHACHAPOYAS</td>\n      <td>AMAZONAS</td>\n      <td>19 h 47 min</td>\n      <td>1077 km</td>\n      <td>19.8</td>\n    </tr>\n    <tr>\n      <th>4</th>\n      <td>LA JALCA</td>\n      <td>CHACHAPOYAS</td>\n      <td>AMAZONAS</td>\n      <td>21 h 44 min</td>\n      <td>1137 km</td>\n      <td>21.7</td>\n    </tr>\n    <tr>\n      <th>...</th>\n      <td>...</td>\n      <td>...</td>\n      <td>...</td>\n      <td>...</td>\n      <td>...</td>\n      <td>...</td>\n    </tr>\n    <tr>\n      <th>381</th>\n      <td>TACNA</td>\n      <td>TACNA</td>\n      <td>TACNA</td>\n      <td>17 h 29 min</td>\n      <td>1221 km</td>\n      <td>17.5</td>\n    </tr>\n    <tr>\n      <th>382</th>\n      <td>HEROES ALBARRACIN</td>\n      <td>TARATA</td>\n      <td>TACNA</td>\n      <td>18 h 35 min</td>\n      <td>1283 km</td>\n      <td>18.6</td>\n    </tr>\n    <tr>\n      <th>383</th>\n      <td>SITAJARA</td>\n      <td>TARATA</td>\n      <td>TACNA</td>\n      <td>18 h 35 min</td>\n      <td>1283 km</td>\n      <td>18.6</td>\n    </tr>\n    <tr>\n      <th>384</th>\n      <td>TARATA</td>\n      <td>TARATA</td>\n      <td>TACNA</td>\n      <td>18 h 35 min</td>\n      <td>1283 km</td>\n      <td>18.6</td>\n    </tr>\n    <tr>\n      <th>385</th>\n      <td>TICACO</td>\n      <td>TARATA</td>\n      <td>TACNA</td>\n      <td>18 h 54 min</td>\n      <td>1293 km</td>\n      <td>18.9</td>\n    </tr>\n  </tbody>\n</table>\n<p>386 rows × 6 columns</p>\n</div>"
     },
     "metadata": {},
     "execution_count": 55
    }
   ],
   "source": [
    "districtToLimaMarket"
   ]
  },
  {
   "cell_type": "code",
   "execution_count": 56,
   "metadata": {},
   "outputs": [],
   "source": [
    "districtToLimaMarket.to_csv('04RoadTransportationDistrictToLimaMarket.csv')\n"
   ]
  },
  {
   "cell_type": "markdown",
   "metadata": {},
   "source": [
    "# District time to province capital of Region"
   ]
  },
  {
   "cell_type": "code",
   "execution_count": 62,
   "metadata": {},
   "outputs": [],
   "source": [
    "def getCapitalProvinceDestination(region):\n",
    "    row_selected = capitalOfRegions[capitalOfRegions[\"NOMBREDD\"] == region].reset_index()\n",
    "    return (row_selected[\"NOMBREPV\"] +  \", \" + row_selected[\"NOMBREDD\"])[0]"
   ]
  },
  {
   "cell_type": "code",
   "execution_count": 69,
   "metadata": {},
   "outputs": [
    {
     "output_type": "execute_result",
     "data": {
      "text/plain": "'TRUJILLO, LA LIBERTAD'"
     },
     "metadata": {},
     "execution_count": 69
    }
   ],
   "source": [
    "region = \"LA LIBERTAD\"\n",
    "getCapitalProvinceDestination(region)"
   ]
  },
  {
   "cell_type": "code",
   "execution_count": 70,
   "metadata": {},
   "outputs": [],
   "source": [
    "places = df[\"NOMBREDI\"] + \", \" + df[\"NOMBREPV\"] + \", \" + df[\"NOMBREDD\"]\n",
    "places = places.unique()\n",
    "\n",
    "distances_dtpc = {}\n",
    "times_dtpc = {}\n",
    "\n",
    "helium.start_chrome()\n",
    "for place in places:\n",
    "    region = place.split(\", \")[-1]\n",
    "    initial_place = place.lower().replace(\" \", \"+\")\n",
    "    destination_place = getCapitalProvinceDestination(region).lower().replace(\" \", \"+\")\n",
    "    url = f\"http://google.com/maps/dir/{initial_place}/{destination_place}\"\n",
    "    helium.go_to(url)\n",
    "    q = helium.S(\"div.section-directions-trip-numbers\")\n",
    "    box = helium.find_all(q)\n",
    "    if len(box) == 0:\n",
    "        distances_dtpc[place] = None\n",
    "        times_dtpc[place] = None\n",
    "        continue\n",
    "    dist_and_time = box[0]\n",
    "    dist_and_time = dist_and_time.web_element.text\n",
    "    \n",
    "    d_t = dist_and_time.split(\"\\n\")\n",
    "    times_dtpc[place] = d_t[0]\n",
    "    distances_dtpc[place] = d_t[1]\n"
   ]
  },
  {
   "cell_type": "code",
   "execution_count": 71,
   "metadata": {},
   "outputs": [],
   "source": [
    "with open(\"04RoadTransportationDistrictToProvinceCapitalOfRegion.csv\", \"w\") as df:\n",
    "    df.write(\"NOMBREDI,NOMBREPV,NOMBREDD,DistanceInTime,DistanceInKm\\n\")\n",
    "    for key in distances_dtpc.keys():\n",
    "        df.write(\"%s,%s,%s\\n\"%(key.replace(\", \", \",\"), times_dtpc[key], distances_dtpc[key]))"
   ]
  },
  {
   "cell_type": "code",
   "execution_count": 72,
   "metadata": {},
   "outputs": [],
   "source": [
    "districtToProvinceCapitalOfRegion = pd.read_csv('04RoadTransportationDistrictToProvinceCapitalOfRegion.csv')"
   ]
  },
  {
   "cell_type": "code",
   "execution_count": 73,
   "metadata": {},
   "outputs": [],
   "source": [
    "createNumberTimeVariable(districtToProvinceCapitalOfRegion, \"DistanceInTime\", \"districtTimeToProvinceCapitalOfRegion\")"
   ]
  },
  {
   "cell_type": "code",
   "execution_count": 74,
   "metadata": {},
   "outputs": [
    {
     "output_type": "execute_result",
     "data": {
      "text/plain": "              NOMBREDI     NOMBREPV  NOMBREDD DistanceInTime DistanceInKm  \\\n0              FLORIDA      BONGARA  AMAZONAS     2 h 17 min      95.3 km   \n1         YAMBRASBAMBA      BONGARA  AMAZONAS     2 h 18 min       106 km   \n2            CHILIQUIN  CHACHAPOYAS  AMAZONAS     2 h 29 min      74.3 km   \n3          CHUQUIBAMBA  CHACHAPOYAS  AMAZONAS     6 h 23 min       232 km   \n4             LA JALCA  CHACHAPOYAS  AMAZONAS     1 h 50 min      71.2 km   \n..                 ...          ...       ...            ...          ...   \n381              TACNA        TACNA     TACNA          0 min         0 km   \n382  HEROES ALBARRACIN       TARATA     TACNA     1 h 40 min      88.4 km   \n383           SITAJARA       TARATA     TACNA     1 h 40 min      88.4 km   \n384             TARATA       TARATA     TACNA     1 h 40 min      88.4 km   \n385             TICACO       TARATA     TACNA     1 h 40 min      88.4 km   \n\n    districtTimeToProvinceCapitalOfRegion  \n0                                    2.28  \n1                                     2.3  \n2                                    2.48  \n3                                    6.38  \n4                                    1.83  \n..                                    ...  \n381                                     0  \n382                                  1.67  \n383                                  1.67  \n384                                  1.67  \n385                                  1.67  \n\n[386 rows x 6 columns]",
      "text/html": "<div>\n<style scoped>\n    .dataframe tbody tr th:only-of-type {\n        vertical-align: middle;\n    }\n\n    .dataframe tbody tr th {\n        vertical-align: top;\n    }\n\n    .dataframe thead th {\n        text-align: right;\n    }\n</style>\n<table border=\"1\" class=\"dataframe\">\n  <thead>\n    <tr style=\"text-align: right;\">\n      <th></th>\n      <th>NOMBREDI</th>\n      <th>NOMBREPV</th>\n      <th>NOMBREDD</th>\n      <th>DistanceInTime</th>\n      <th>DistanceInKm</th>\n      <th>districtTimeToProvinceCapitalOfRegion</th>\n    </tr>\n  </thead>\n  <tbody>\n    <tr>\n      <th>0</th>\n      <td>FLORIDA</td>\n      <td>BONGARA</td>\n      <td>AMAZONAS</td>\n      <td>2 h 17 min</td>\n      <td>95.3 km</td>\n      <td>2.28</td>\n    </tr>\n    <tr>\n      <th>1</th>\n      <td>YAMBRASBAMBA</td>\n      <td>BONGARA</td>\n      <td>AMAZONAS</td>\n      <td>2 h 18 min</td>\n      <td>106 km</td>\n      <td>2.3</td>\n    </tr>\n    <tr>\n      <th>2</th>\n      <td>CHILIQUIN</td>\n      <td>CHACHAPOYAS</td>\n      <td>AMAZONAS</td>\n      <td>2 h 29 min</td>\n      <td>74.3 km</td>\n      <td>2.48</td>\n    </tr>\n    <tr>\n      <th>3</th>\n      <td>CHUQUIBAMBA</td>\n      <td>CHACHAPOYAS</td>\n      <td>AMAZONAS</td>\n      <td>6 h 23 min</td>\n      <td>232 km</td>\n      <td>6.38</td>\n    </tr>\n    <tr>\n      <th>4</th>\n      <td>LA JALCA</td>\n      <td>CHACHAPOYAS</td>\n      <td>AMAZONAS</td>\n      <td>1 h 50 min</td>\n      <td>71.2 km</td>\n      <td>1.83</td>\n    </tr>\n    <tr>\n      <th>...</th>\n      <td>...</td>\n      <td>...</td>\n      <td>...</td>\n      <td>...</td>\n      <td>...</td>\n      <td>...</td>\n    </tr>\n    <tr>\n      <th>381</th>\n      <td>TACNA</td>\n      <td>TACNA</td>\n      <td>TACNA</td>\n      <td>0 min</td>\n      <td>0 km</td>\n      <td>0</td>\n    </tr>\n    <tr>\n      <th>382</th>\n      <td>HEROES ALBARRACIN</td>\n      <td>TARATA</td>\n      <td>TACNA</td>\n      <td>1 h 40 min</td>\n      <td>88.4 km</td>\n      <td>1.67</td>\n    </tr>\n    <tr>\n      <th>383</th>\n      <td>SITAJARA</td>\n      <td>TARATA</td>\n      <td>TACNA</td>\n      <td>1 h 40 min</td>\n      <td>88.4 km</td>\n      <td>1.67</td>\n    </tr>\n    <tr>\n      <th>384</th>\n      <td>TARATA</td>\n      <td>TARATA</td>\n      <td>TACNA</td>\n      <td>1 h 40 min</td>\n      <td>88.4 km</td>\n      <td>1.67</td>\n    </tr>\n    <tr>\n      <th>385</th>\n      <td>TICACO</td>\n      <td>TARATA</td>\n      <td>TACNA</td>\n      <td>1 h 40 min</td>\n      <td>88.4 km</td>\n      <td>1.67</td>\n    </tr>\n  </tbody>\n</table>\n<p>386 rows × 6 columns</p>\n</div>"
     },
     "metadata": {},
     "execution_count": 74
    }
   ],
   "source": [
    "districtToProvinceCapitalOfRegion"
   ]
  },
  {
   "cell_type": "code",
   "execution_count": 75,
   "metadata": {},
   "outputs": [],
   "source": [
    "districtToProvinceCapitalOfRegion.to_csv('04RoadTransportationDistrictToProvinceCapitalOfRegion.csv')"
   ]
  },
  {
   "cell_type": "markdown",
   "metadata": {},
   "source": [
    "# Province capital time to Lima Market"
   ]
  },
  {
   "cell_type": "code",
   "execution_count": 84,
   "metadata": {
    "tags": []
   },
   "outputs": [],
   "source": [
    "places = capitalOfRegions[\"NOMBREPV\"] + \", \" + capitalOfRegions[\"NOMBREDD\"]\n",
    "places = places.unique()\n",
    "\n",
    "distances_pctlm = {}\n",
    "times_pctlm = {}\n",
    "\n",
    "helium.start_chrome()\n",
    "for place in places:\n",
    "    region = place.split(\", \")[-1]\n",
    "    fixed_place = getCapitalProvinceDestination(region).lower().replace(\" \", \"+\")\n",
    "    url = f\"http://google.com/maps/dir/{fixed_place}/Mercado+Productores,+Santa+Anita\"\n",
    "    helium.go_to(url)\n",
    "    q = helium.S(\"div.section-directions-trip-numbers\")\n",
    "    box = helium.find_all(q)\n",
    "    if len(box) == 0:\n",
    "        distances_pctlm[place] = None\n",
    "        times_pctlm[place] = None\n",
    "        continue\n",
    "    dist_and_time = box[0]\n",
    "    dist_and_time = dist_and_time.web_element.text\n",
    "    \n",
    "    d_t = dist_and_time.split(\"\\n\")\n",
    "    times_pctlm[place] = d_t[0]\n",
    "    distances_pctlm[place] = d_t[1]\n",
    "    \n"
   ]
  },
  {
   "cell_type": "code",
   "execution_count": 87,
   "metadata": {},
   "outputs": [],
   "source": [
    "with open(\"04RoadTransportationProvinceCapitalToLimaMarket.csv\", \"w\") as df:\n",
    "    df.write(\"NOMBREPV,NOMBREDD,DistanceInTime,DistanceInKm\\n\")\n",
    "    for key in distances_pctlm.keys():\n",
    "        df.write(\"%s,%s,%s\\n\"%(key.replace(\", \", \",\"), times_pctlm[key], distances_pctlm[key]))"
   ]
  },
  {
   "cell_type": "code",
   "execution_count": 88,
   "metadata": {},
   "outputs": [],
   "source": [
    "provinceCapitalToLimaMarket = pd.read_csv('04RoadTransportationProvinceCapitalToLimaMarket.csv')"
   ]
  },
  {
   "cell_type": "code",
   "execution_count": 91,
   "metadata": {},
   "outputs": [],
   "source": [
    "createNumberTimeVariable(provinceCapitalToLimaMarket, \"DistanceInTime\", \"provinceCapitalToLimaMarket\")"
   ]
  },
  {
   "cell_type": "code",
   "execution_count": 92,
   "metadata": {},
   "outputs": [
    {
     "output_type": "execute_result",
     "data": {
      "text/plain": "            NOMBREPV        NOMBREDD DistanceInTime DistanceInKm  \\\n0        CHACHAPOYAS        AMAZONAS    20 h 20 min      1229 km   \n1             HUARAZ          ANCASH     6 h 46 min       411 km   \n2            ABANCAY        APURIMAC    16 h 28 min       938 km   \n3           AREQUIPA        AREQUIPA    14 h 56 min      1008 km   \n4           AYACUCHO        AYACUCHO     8 h 32 min       553 km   \n5          CAJAMARCA       CAJAMARCA    14 h 40 min       867 km   \n6              CUSCO           CUSCO    20 h 33 min      1132 km   \n7       HUANCAVELICA    HUANCAVELICA      6 h 1 min       420 km   \n8            HUANUCO         HUANUCO     8 h 12 min       380 km   \n9                ICA             ICA     3 h 48 min       297 km   \n10          HUANCAYO           JUNIN     6 h 27 min       293 km   \n11          TRUJILLO     LA LIBERTAD     8 h 32 min       567 km   \n12          CHICLAYO      LAMBAYEQUE    12 h 30 min       782 km   \n13              LIMA            LIMA         31 min      12.7 km   \n14     ALTO AMAZONAS          LORETO    21 h 51 min      1106 km   \n15  PUERTO MALDONADO   MADRE DE DIOS           28 h      1825 km   \n16          MOQUEGUA        MOQUEGUA    16 h 20 min      1096 km   \n17    CERRO DE PASCO           PASCO      6 h 9 min       277 km   \n18             PIURA           PIURA    15 h 36 min      1002 km   \n19              PUNO            PUNO    20 h 25 min      1293 km   \n20         MOYOBAMBA      SAN MARTIN    21 h 36 min      1078 km   \n21             TACNA           TACNA    17 h 53 min      1221 km   \n22            TUMBES          TUMBES    19 h 58 min      1280 km   \n23          PUCALLPA         UCAYALI    14 h 49 min       712 km   \n\n   provinceCapitalToLimaMarket  \n0                         20.3  \n1                         6.77  \n2                         16.5  \n3                         14.9  \n4                         8.53  \n5                         14.7  \n6                         20.6  \n7                         6.02  \n8                          8.2  \n9                          3.8  \n10                        6.45  \n11                        8.53  \n12                        12.5  \n13                        0.52  \n14                        21.9  \n15                          28  \n16                        16.3  \n17                        6.15  \n18                        15.6  \n19                        20.4  \n20                        21.6  \n21                        17.9  \n22                          20  \n23                        14.8  ",
      "text/html": "<div>\n<style scoped>\n    .dataframe tbody tr th:only-of-type {\n        vertical-align: middle;\n    }\n\n    .dataframe tbody tr th {\n        vertical-align: top;\n    }\n\n    .dataframe thead th {\n        text-align: right;\n    }\n</style>\n<table border=\"1\" class=\"dataframe\">\n  <thead>\n    <tr style=\"text-align: right;\">\n      <th></th>\n      <th>NOMBREPV</th>\n      <th>NOMBREDD</th>\n      <th>DistanceInTime</th>\n      <th>DistanceInKm</th>\n      <th>provinceCapitalToLimaMarket</th>\n    </tr>\n  </thead>\n  <tbody>\n    <tr>\n      <th>0</th>\n      <td>CHACHAPOYAS</td>\n      <td>AMAZONAS</td>\n      <td>20 h 20 min</td>\n      <td>1229 km</td>\n      <td>20.3</td>\n    </tr>\n    <tr>\n      <th>1</th>\n      <td>HUARAZ</td>\n      <td>ANCASH</td>\n      <td>6 h 46 min</td>\n      <td>411 km</td>\n      <td>6.77</td>\n    </tr>\n    <tr>\n      <th>2</th>\n      <td>ABANCAY</td>\n      <td>APURIMAC</td>\n      <td>16 h 28 min</td>\n      <td>938 km</td>\n      <td>16.5</td>\n    </tr>\n    <tr>\n      <th>3</th>\n      <td>AREQUIPA</td>\n      <td>AREQUIPA</td>\n      <td>14 h 56 min</td>\n      <td>1008 km</td>\n      <td>14.9</td>\n    </tr>\n    <tr>\n      <th>4</th>\n      <td>AYACUCHO</td>\n      <td>AYACUCHO</td>\n      <td>8 h 32 min</td>\n      <td>553 km</td>\n      <td>8.53</td>\n    </tr>\n    <tr>\n      <th>5</th>\n      <td>CAJAMARCA</td>\n      <td>CAJAMARCA</td>\n      <td>14 h 40 min</td>\n      <td>867 km</td>\n      <td>14.7</td>\n    </tr>\n    <tr>\n      <th>6</th>\n      <td>CUSCO</td>\n      <td>CUSCO</td>\n      <td>20 h 33 min</td>\n      <td>1132 km</td>\n      <td>20.6</td>\n    </tr>\n    <tr>\n      <th>7</th>\n      <td>HUANCAVELICA</td>\n      <td>HUANCAVELICA</td>\n      <td>6 h 1 min</td>\n      <td>420 km</td>\n      <td>6.02</td>\n    </tr>\n    <tr>\n      <th>8</th>\n      <td>HUANUCO</td>\n      <td>HUANUCO</td>\n      <td>8 h 12 min</td>\n      <td>380 km</td>\n      <td>8.2</td>\n    </tr>\n    <tr>\n      <th>9</th>\n      <td>ICA</td>\n      <td>ICA</td>\n      <td>3 h 48 min</td>\n      <td>297 km</td>\n      <td>3.8</td>\n    </tr>\n    <tr>\n      <th>10</th>\n      <td>HUANCAYO</td>\n      <td>JUNIN</td>\n      <td>6 h 27 min</td>\n      <td>293 km</td>\n      <td>6.45</td>\n    </tr>\n    <tr>\n      <th>11</th>\n      <td>TRUJILLO</td>\n      <td>LA LIBERTAD</td>\n      <td>8 h 32 min</td>\n      <td>567 km</td>\n      <td>8.53</td>\n    </tr>\n    <tr>\n      <th>12</th>\n      <td>CHICLAYO</td>\n      <td>LAMBAYEQUE</td>\n      <td>12 h 30 min</td>\n      <td>782 km</td>\n      <td>12.5</td>\n    </tr>\n    <tr>\n      <th>13</th>\n      <td>LIMA</td>\n      <td>LIMA</td>\n      <td>31 min</td>\n      <td>12.7 km</td>\n      <td>0.52</td>\n    </tr>\n    <tr>\n      <th>14</th>\n      <td>ALTO AMAZONAS</td>\n      <td>LORETO</td>\n      <td>21 h 51 min</td>\n      <td>1106 km</td>\n      <td>21.9</td>\n    </tr>\n    <tr>\n      <th>15</th>\n      <td>PUERTO MALDONADO</td>\n      <td>MADRE DE DIOS</td>\n      <td>28 h</td>\n      <td>1825 km</td>\n      <td>28</td>\n    </tr>\n    <tr>\n      <th>16</th>\n      <td>MOQUEGUA</td>\n      <td>MOQUEGUA</td>\n      <td>16 h 20 min</td>\n      <td>1096 km</td>\n      <td>16.3</td>\n    </tr>\n    <tr>\n      <th>17</th>\n      <td>CERRO DE PASCO</td>\n      <td>PASCO</td>\n      <td>6 h 9 min</td>\n      <td>277 km</td>\n      <td>6.15</td>\n    </tr>\n    <tr>\n      <th>18</th>\n      <td>PIURA</td>\n      <td>PIURA</td>\n      <td>15 h 36 min</td>\n      <td>1002 km</td>\n      <td>15.6</td>\n    </tr>\n    <tr>\n      <th>19</th>\n      <td>PUNO</td>\n      <td>PUNO</td>\n      <td>20 h 25 min</td>\n      <td>1293 km</td>\n      <td>20.4</td>\n    </tr>\n    <tr>\n      <th>20</th>\n      <td>MOYOBAMBA</td>\n      <td>SAN MARTIN</td>\n      <td>21 h 36 min</td>\n      <td>1078 km</td>\n      <td>21.6</td>\n    </tr>\n    <tr>\n      <th>21</th>\n      <td>TACNA</td>\n      <td>TACNA</td>\n      <td>17 h 53 min</td>\n      <td>1221 km</td>\n      <td>17.9</td>\n    </tr>\n    <tr>\n      <th>22</th>\n      <td>TUMBES</td>\n      <td>TUMBES</td>\n      <td>19 h 58 min</td>\n      <td>1280 km</td>\n      <td>20</td>\n    </tr>\n    <tr>\n      <th>23</th>\n      <td>PUCALLPA</td>\n      <td>UCAYALI</td>\n      <td>14 h 49 min</td>\n      <td>712 km</td>\n      <td>14.8</td>\n    </tr>\n  </tbody>\n</table>\n</div>"
     },
     "metadata": {},
     "execution_count": 92
    }
   ],
   "source": [
    "provinceCapitalToLimaMarket"
   ]
  },
  {
   "cell_type": "code",
   "execution_count": 94,
   "metadata": {},
   "outputs": [],
   "source": [
    "provinceCapitalToLimaMarket.to_csv('04RoadTransportationProvinceCapitalToLimaMarket.csv')"
   ]
  },
  {
   "cell_type": "code",
   "execution_count": null,
   "metadata": {},
   "outputs": [],
   "source": []
  }
 ],
 "metadata": {
  "kernelspec": {
   "display_name": "Python 3.8.3 64-bit",
   "language": "python",
   "name": "python_defaultSpec_1594370538859"
  },
  "language_info": {
   "codemirror_mode": {
    "name": "ipython",
    "version": 3
   },
   "file_extension": ".py",
   "mimetype": "text/x-python",
   "name": "python",
   "nbconvert_exporter": "python",
   "pygments_lexer": "ipython3",
   "version": "3.8.3-final"
  }
 },
 "nbformat": 4,
 "nbformat_minor": 4
}