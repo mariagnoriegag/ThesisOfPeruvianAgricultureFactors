{
 "cells": [
  {
   "cell_type": "code",
   "execution_count": 1,
   "metadata": {},
   "outputs": [],
   "source": [
    "import pandas as pd\n",
    "import helium\n",
    "import csv"
   ]
  },
  {
   "cell_type": "code",
   "execution_count": 2,
   "metadata": {},
   "outputs": [],
   "source": [
    "_PATH_ = \"https://public.minsky.cc/maria/market_channel_factors_db\""
   ]
  },
  {
   "cell_type": "code",
   "execution_count": 3,
   "metadata": {},
   "outputs": [],
   "source": [
    "df = pd.read_csv(_PATH_ + \"/\" + \"databases/2019_03PreModelDatabaseOfWhitePotato.csv\")"
   ]
  },
  {
   "cell_type": "code",
   "execution_count": 4,
   "metadata": {},
   "outputs": [],
   "source": [
    "capitalOfRegions = pd.read_csv(_PATH_ + \"/\" + \"databases/ProvinceCapitalOfRegions.csv\")"
   ]
  },
  {
   "cell_type": "code",
   "execution_count": 5,
   "metadata": {},
   "outputs": [],
   "source": [
    "capitalOfRegions[capitalOfRegions[\"NOMBREDD\"] == \"APURIMAC\"] = \"APURÍMAC\"\n",
    "capitalOfRegions[capitalOfRegions[\"NOMBREDD\"] == \"HUANUCO\"] = \"HUÁNUCO\"\n",
    "capitalOfRegions[capitalOfRegions[\"NOMBREDD\"] == \"JUNIN\"] = \"JUNÍN\""
   ]
  },
  {
   "cell_type": "code",
   "execution_count": 6,
   "metadata": {},
   "outputs": [
    {
     "output_type": "execute_result",
     "data": {
      "text/plain": [
       "            NOMBREPV        NOMBREDD\n",
       "0        CHACHAPOYAS        AMAZONAS\n",
       "1             HUARAZ          ANCASH\n",
       "2           APURÍMAC        APURÍMAC\n",
       "3           AREQUIPA        AREQUIPA\n",
       "4           AYACUCHO        AYACUCHO\n",
       "5          CAJAMARCA       CAJAMARCA\n",
       "6              CUSCO           CUSCO\n",
       "7       HUANCAVELICA    HUANCAVELICA\n",
       "8            HUÁNUCO         HUÁNUCO\n",
       "9                ICA             ICA\n",
       "10             JUNÍN           JUNÍN\n",
       "11          TRUJILLO     LA LIBERTAD\n",
       "12          CHICLAYO      LAMBAYEQUE\n",
       "13              LIMA            LIMA\n",
       "14     ALTO AMAZONAS          LORETO\n",
       "15  PUERTO MALDONADO   MADRE DE DIOS\n",
       "16          MOQUEGUA        MOQUEGUA\n",
       "17    CERRO DE PASCO           PASCO\n",
       "18             PIURA           PIURA\n",
       "19              PUNO            PUNO\n",
       "20         MOYOBAMBA      SAN MARTIN\n",
       "21             TACNA           TACNA\n",
       "22            TUMBES          TUMBES\n",
       "23          PUCALLPA         UCAYALI"
      ],
      "text/html": "<div>\n<style scoped>\n    .dataframe tbody tr th:only-of-type {\n        vertical-align: middle;\n    }\n\n    .dataframe tbody tr th {\n        vertical-align: top;\n    }\n\n    .dataframe thead th {\n        text-align: right;\n    }\n</style>\n<table border=\"1\" class=\"dataframe\">\n  <thead>\n    <tr style=\"text-align: right;\">\n      <th></th>\n      <th>NOMBREPV</th>\n      <th>NOMBREDD</th>\n    </tr>\n  </thead>\n  <tbody>\n    <tr>\n      <th>0</th>\n      <td>CHACHAPOYAS</td>\n      <td>AMAZONAS</td>\n    </tr>\n    <tr>\n      <th>1</th>\n      <td>HUARAZ</td>\n      <td>ANCASH</td>\n    </tr>\n    <tr>\n      <th>2</th>\n      <td>APURÍMAC</td>\n      <td>APURÍMAC</td>\n    </tr>\n    <tr>\n      <th>3</th>\n      <td>AREQUIPA</td>\n      <td>AREQUIPA</td>\n    </tr>\n    <tr>\n      <th>4</th>\n      <td>AYACUCHO</td>\n      <td>AYACUCHO</td>\n    </tr>\n    <tr>\n      <th>5</th>\n      <td>CAJAMARCA</td>\n      <td>CAJAMARCA</td>\n    </tr>\n    <tr>\n      <th>6</th>\n      <td>CUSCO</td>\n      <td>CUSCO</td>\n    </tr>\n    <tr>\n      <th>7</th>\n      <td>HUANCAVELICA</td>\n      <td>HUANCAVELICA</td>\n    </tr>\n    <tr>\n      <th>8</th>\n      <td>HUÁNUCO</td>\n      <td>HUÁNUCO</td>\n    </tr>\n    <tr>\n      <th>9</th>\n      <td>ICA</td>\n      <td>ICA</td>\n    </tr>\n    <tr>\n      <th>10</th>\n      <td>JUNÍN</td>\n      <td>JUNÍN</td>\n    </tr>\n    <tr>\n      <th>11</th>\n      <td>TRUJILLO</td>\n      <td>LA LIBERTAD</td>\n    </tr>\n    <tr>\n      <th>12</th>\n      <td>CHICLAYO</td>\n      <td>LAMBAYEQUE</td>\n    </tr>\n    <tr>\n      <th>13</th>\n      <td>LIMA</td>\n      <td>LIMA</td>\n    </tr>\n    <tr>\n      <th>14</th>\n      <td>ALTO AMAZONAS</td>\n      <td>LORETO</td>\n    </tr>\n    <tr>\n      <th>15</th>\n      <td>PUERTO MALDONADO</td>\n      <td>MADRE DE DIOS</td>\n    </tr>\n    <tr>\n      <th>16</th>\n      <td>MOQUEGUA</td>\n      <td>MOQUEGUA</td>\n    </tr>\n    <tr>\n      <th>17</th>\n      <td>CERRO DE PASCO</td>\n      <td>PASCO</td>\n    </tr>\n    <tr>\n      <th>18</th>\n      <td>PIURA</td>\n      <td>PIURA</td>\n    </tr>\n    <tr>\n      <th>19</th>\n      <td>PUNO</td>\n      <td>PUNO</td>\n    </tr>\n    <tr>\n      <th>20</th>\n      <td>MOYOBAMBA</td>\n      <td>SAN MARTIN</td>\n    </tr>\n    <tr>\n      <th>21</th>\n      <td>TACNA</td>\n      <td>TACNA</td>\n    </tr>\n    <tr>\n      <th>22</th>\n      <td>TUMBES</td>\n      <td>TUMBES</td>\n    </tr>\n    <tr>\n      <th>23</th>\n      <td>PUCALLPA</td>\n      <td>UCAYALI</td>\n    </tr>\n  </tbody>\n</table>\n</div>"
     },
     "metadata": {},
     "execution_count": 6
    }
   ],
   "source": [
    "capitalOfRegions"
   ]
  },
  {
   "cell_type": "code",
   "execution_count": 7,
   "metadata": {},
   "outputs": [
    {
     "output_type": "execute_result",
     "data": {
      "text/plain": [
       "Index(['Unnamed: 0', 'NOMBREDD', 'NOMBREPV', 'NOMBREDI', 'CONGLOMERADO',\n",
       "       'NSELUA', 'UA', 'crop', 'production', 'totalProduction',\n",
       "       'percentProduction', 'soldProduction', 'totalSoldProduction',\n",
       "       'percentSoldProduction', 'farmGatePricePerKg', 'farmGateIncomes',\n",
       "       'totalFarmGateIncomes', 'percentFarmGateIncomes', 'plantedArea',\n",
       "       'totalPlantedArea', 'percentPlantedArea', 'yield', 'volumeOfDistrict',\n",
       "       'associative', 'informalPriceInformation', 'formalPriceInformation',\n",
       "       'informalMetereologicalInformation', 'formalMetereologicalInformation',\n",
       "       'localMarket', 'regionalMarket', 'limaMarket', 'agroindustryMarket',\n",
       "       'exportMarket', 'MARKET_NAN', 'MARKETS', 'MARKETS_QTY', 'marketSize',\n",
       "       'collector', 'wholesaler', 'retailer', 'enterprise', 'finalConsumer',\n",
       "       'marketChannelDirectedness', 'pointsOfSale'],\n",
       "      dtype='object')"
      ]
     },
     "metadata": {},
     "execution_count": 7
    }
   ],
   "source": [
    "df.columns"
   ]
  },
  {
   "cell_type": "code",
   "execution_count": 25,
   "metadata": {},
   "outputs": [],
   "source": [
    "def createNumberTimeVariable(df, variableName, newVariableName):\n",
    "    df[newVariableName] = df[variableName].apply(lambda x: x.split(\" \")).apply(lambda x: '{0:.3g}'.format(int(x[0]) + int(x[2])/60) if (len(x) > 2) else '{0:.2g}'.format(int(x[0])/60) if x[1] == \"min\" else int(x[0]))"
   ]
  },
  {
   "cell_type": "markdown",
   "metadata": {},
   "source": [
    "# District time to Lima Market"
   ]
  },
  {
   "cell_type": "code",
   "execution_count": 8,
   "metadata": {},
   "outputs": [],
   "source": [
    "places = df[\"NOMBREDI\"] + \", \" + df[\"NOMBREPV\"] + \", \" + df[\"NOMBREDD\"]\n",
    "places = places.unique()\n",
    "\n",
    "distances_dtlm = {}\n",
    "times_dtlm = {}\n",
    "\n",
    "helium.start_chrome()\n",
    "for place in places:\n",
    "    fixed_place = place.lower().replace(\" \", \"+\")\n",
    "    url = f\"http://google.com/maps/dir/{fixed_place}/Mercado+Productores,+Santa+Anita\"\n",
    "    helium.go_to(url)\n",
    "    q = helium.S(\"div.section-directions-trip-numbers\")\n",
    "    box = helium.find_all(q)\n",
    "    if len(box) == 0:\n",
    "        distances_dtlm[place] = None\n",
    "        times_dtlm[place] = None\n",
    "        continue\n",
    "    dist_and_time = box[0]\n",
    "    dist_and_time = dist_and_time.web_element.text\n",
    "    \n",
    "    d_t = dist_and_time.split(\"\\n\")\n",
    "    times_dtlm[place] = d_t[0]\n",
    "    distances_dtlm[place] = d_t[1]"
   ]
  },
  {
   "cell_type": "code",
   "execution_count": 9,
   "metadata": {},
   "outputs": [],
   "source": [
    "with open(\"2019_04RoadTransportationDistrictToLimaMarket.csv\", \"w\") as df:\n",
    "    df.write(\"NOMBREDI,NOMBREPV,NOMBREDD,DistanceInTime,DistanceInKm\\n\")\n",
    "    for key in distances_dtlm.keys():\n",
    "        df.write(\"%s,%s,%s\\n\"%(key.replace(\", \", \",\"), times_dtlm[key], distances_dtlm[key]))"
   ]
  },
  {
   "cell_type": "code",
   "execution_count": 8,
   "metadata": {},
   "outputs": [],
   "source": [
    "districtToLimaMarket = pd.read_csv('2019_04RoadTransportationDistrictToLimaMarket.csv')"
   ]
  },
  {
   "cell_type": "code",
   "execution_count": 9,
   "metadata": {},
   "outputs": [
    {
     "output_type": "error",
     "ename": "NameError",
     "evalue": "name 'createNumberTimeVariable' is not defined",
     "traceback": [
      "\u001b[0;31m---------------------------------------------------------------------------\u001b[0m",
      "\u001b[0;31mNameError\u001b[0m                                 Traceback (most recent call last)",
      "\u001b[0;32m<ipython-input-9-cc2be946e450>\u001b[0m in \u001b[0;36m<module>\u001b[0;34m\u001b[0m\n\u001b[0;32m----> 1\u001b[0;31m \u001b[0mcreateNumberTimeVariable\u001b[0m\u001b[0;34m(\u001b[0m\u001b[0mdistrictToLimaMarket\u001b[0m\u001b[0;34m,\u001b[0m \u001b[0;34m\"DistanceInTime\"\u001b[0m\u001b[0;34m,\u001b[0m \u001b[0;34m\"districtTimeToLimaMarket\"\u001b[0m\u001b[0;34m)\u001b[0m\u001b[0;34m\u001b[0m\u001b[0;34m\u001b[0m\u001b[0m\n\u001b[0m",
      "\u001b[0;31mNameError\u001b[0m: name 'createNumberTimeVariable' is not defined"
     ]
    }
   ],
   "source": [
    "createNumberTimeVariable(districtToLimaMarket, \"DistanceInTime\", \"districtTimeToLimaMarket\")"
   ]
  },
  {
   "cell_type": "code",
   "execution_count": 13,
   "metadata": {},
   "outputs": [
    {
     "output_type": "execute_result",
     "data": {
      "text/plain": [
       "        NOMBREDI     NOMBREPV  NOMBREDD DistanceInTime DistanceInKm  \\\n",
       "0        FLORIDA      BONGARA  AMAZONAS     20 h 3 min      1220 km   \n",
       "1    CHUQUIBAMBA  CHACHAPOYAS  AMAZONAS    19 h 35 min      1079 km   \n",
       "2       LA JALCA  CHACHAPOYAS  AMAZONAS     21 h 1 min      1139 km   \n",
       "3        LEVANTO  CHACHAPOYAS  AMAZONAS    20 h 51 min      1253 km   \n",
       "4         SOLOCO  CHACHAPOYAS  AMAZONAS    20 h 49 min      1259 km   \n",
       "..           ...          ...       ...            ...          ...   \n",
       "383     POCOLLAY        TACNA     TACNA    17 h 51 min      1225 km   \n",
       "384        TACNA        TACNA     TACNA    17 h 46 min      1222 km   \n",
       "385     SITAJARA       TARATA     TACNA    19 h 28 min      1286 km   \n",
       "386       TARATA       TARATA     TACNA    19 h 28 min      1286 km   \n",
       "387       TICACO       TARATA     TACNA    19 h 37 min      1297 km   \n",
       "\n",
       "    districtTimeToLimaMarket  \n",
       "0                       20.1  \n",
       "1                       19.6  \n",
       "2                         21  \n",
       "3                       20.9  \n",
       "4                       20.8  \n",
       "..                       ...  \n",
       "383                     17.9  \n",
       "384                     17.8  \n",
       "385                     19.5  \n",
       "386                     19.5  \n",
       "387                     19.6  \n",
       "\n",
       "[388 rows x 6 columns]"
      ],
      "text/html": "<div>\n<style scoped>\n    .dataframe tbody tr th:only-of-type {\n        vertical-align: middle;\n    }\n\n    .dataframe tbody tr th {\n        vertical-align: top;\n    }\n\n    .dataframe thead th {\n        text-align: right;\n    }\n</style>\n<table border=\"1\" class=\"dataframe\">\n  <thead>\n    <tr style=\"text-align: right;\">\n      <th></th>\n      <th>NOMBREDI</th>\n      <th>NOMBREPV</th>\n      <th>NOMBREDD</th>\n      <th>DistanceInTime</th>\n      <th>DistanceInKm</th>\n      <th>districtTimeToLimaMarket</th>\n    </tr>\n  </thead>\n  <tbody>\n    <tr>\n      <th>0</th>\n      <td>FLORIDA</td>\n      <td>BONGARA</td>\n      <td>AMAZONAS</td>\n      <td>20 h 3 min</td>\n      <td>1220 km</td>\n      <td>20.1</td>\n    </tr>\n    <tr>\n      <th>1</th>\n      <td>CHUQUIBAMBA</td>\n      <td>CHACHAPOYAS</td>\n      <td>AMAZONAS</td>\n      <td>19 h 35 min</td>\n      <td>1079 km</td>\n      <td>19.6</td>\n    </tr>\n    <tr>\n      <th>2</th>\n      <td>LA JALCA</td>\n      <td>CHACHAPOYAS</td>\n      <td>AMAZONAS</td>\n      <td>21 h 1 min</td>\n      <td>1139 km</td>\n      <td>21</td>\n    </tr>\n    <tr>\n      <th>3</th>\n      <td>LEVANTO</td>\n      <td>CHACHAPOYAS</td>\n      <td>AMAZONAS</td>\n      <td>20 h 51 min</td>\n      <td>1253 km</td>\n      <td>20.9</td>\n    </tr>\n    <tr>\n      <th>4</th>\n      <td>SOLOCO</td>\n      <td>CHACHAPOYAS</td>\n      <td>AMAZONAS</td>\n      <td>20 h 49 min</td>\n      <td>1259 km</td>\n      <td>20.8</td>\n    </tr>\n    <tr>\n      <th>...</th>\n      <td>...</td>\n      <td>...</td>\n      <td>...</td>\n      <td>...</td>\n      <td>...</td>\n      <td>...</td>\n    </tr>\n    <tr>\n      <th>383</th>\n      <td>POCOLLAY</td>\n      <td>TACNA</td>\n      <td>TACNA</td>\n      <td>17 h 51 min</td>\n      <td>1225 km</td>\n      <td>17.9</td>\n    </tr>\n    <tr>\n      <th>384</th>\n      <td>TACNA</td>\n      <td>TACNA</td>\n      <td>TACNA</td>\n      <td>17 h 46 min</td>\n      <td>1222 km</td>\n      <td>17.8</td>\n    </tr>\n    <tr>\n      <th>385</th>\n      <td>SITAJARA</td>\n      <td>TARATA</td>\n      <td>TACNA</td>\n      <td>19 h 28 min</td>\n      <td>1286 km</td>\n      <td>19.5</td>\n    </tr>\n    <tr>\n      <th>386</th>\n      <td>TARATA</td>\n      <td>TARATA</td>\n      <td>TACNA</td>\n      <td>19 h 28 min</td>\n      <td>1286 km</td>\n      <td>19.5</td>\n    </tr>\n    <tr>\n      <th>387</th>\n      <td>TICACO</td>\n      <td>TARATA</td>\n      <td>TACNA</td>\n      <td>19 h 37 min</td>\n      <td>1297 km</td>\n      <td>19.6</td>\n    </tr>\n  </tbody>\n</table>\n<p>388 rows × 6 columns</p>\n</div>"
     },
     "metadata": {},
     "execution_count": 13
    }
   ],
   "source": [
    "districtToLimaMarket"
   ]
  },
  {
   "cell_type": "code",
   "execution_count": 15,
   "metadata": {},
   "outputs": [],
   "source": [
    "districtToLimaMarket.to_csv('2019_04RoadTransportationDistrictToLimaMarket.csv')\n"
   ]
  },
  {
   "cell_type": "markdown",
   "metadata": {},
   "source": [
    "# District time to province capital of Region"
   ]
  },
  {
   "cell_type": "code",
   "execution_count": 10,
   "metadata": {},
   "outputs": [],
   "source": [
    "def getCapitalProvinceDestination(region):\n",
    "    row_selected = capitalOfRegions[capitalOfRegions[\"NOMBREDD\"] == region].reset_index()\n",
    "    print(region, \"row_selected\", row_selected, row_selected[\"NOMBREPV\"], row_selected[\"NOMBREDD\"])\n",
    "    return (row_selected[\"NOMBREPV\"] +  \", \" + row_selected[\"NOMBREDD\"])[0]"
   ]
  },
  {
   "cell_type": "code",
   "execution_count": 11,
   "metadata": {},
   "outputs": [
    {
     "output_type": "stream",
     "name": "stdout",
     "text": [
      "LA LIBERTAD row_selected    index  NOMBREPV     NOMBREDD\n0     11  TRUJILLO  LA LIBERTAD 0    TRUJILLO\nName: NOMBREPV, dtype: object 0    LA LIBERTAD\nName: NOMBREDD, dtype: object\n"
     ]
    },
    {
     "output_type": "execute_result",
     "data": {
      "text/plain": [
       "'TRUJILLO, LA LIBERTAD'"
      ]
     },
     "metadata": {},
     "execution_count": 11
    }
   ],
   "source": [
    "region = \"LA LIBERTAD\"\n",
    "getCapitalProvinceDestination(region)"
   ]
  },
  {
   "cell_type": "code",
   "execution_count": 12,
   "metadata": {},
   "outputs": [
    {
     "output_type": "execute_result",
     "data": {
      "text/plain": [
       "            NOMBREPV        NOMBREDD\n",
       "0        CHACHAPOYAS        AMAZONAS\n",
       "1             HUARAZ          ANCASH\n",
       "2           APURÍMAC        APURÍMAC\n",
       "3           AREQUIPA        AREQUIPA\n",
       "4           AYACUCHO        AYACUCHO\n",
       "5          CAJAMARCA       CAJAMARCA\n",
       "6              CUSCO           CUSCO\n",
       "7       HUANCAVELICA    HUANCAVELICA\n",
       "8            HUÁNUCO         HUÁNUCO\n",
       "9                ICA             ICA\n",
       "10             JUNÍN           JUNÍN\n",
       "11          TRUJILLO     LA LIBERTAD\n",
       "12          CHICLAYO      LAMBAYEQUE\n",
       "13              LIMA            LIMA\n",
       "14     ALTO AMAZONAS          LORETO\n",
       "15  PUERTO MALDONADO   MADRE DE DIOS\n",
       "16          MOQUEGUA        MOQUEGUA\n",
       "17    CERRO DE PASCO           PASCO\n",
       "18             PIURA           PIURA\n",
       "19              PUNO            PUNO\n",
       "20         MOYOBAMBA      SAN MARTIN\n",
       "21             TACNA           TACNA\n",
       "22            TUMBES          TUMBES\n",
       "23          PUCALLPA         UCAYALI"
      ],
      "text/html": "<div>\n<style scoped>\n    .dataframe tbody tr th:only-of-type {\n        vertical-align: middle;\n    }\n\n    .dataframe tbody tr th {\n        vertical-align: top;\n    }\n\n    .dataframe thead th {\n        text-align: right;\n    }\n</style>\n<table border=\"1\" class=\"dataframe\">\n  <thead>\n    <tr style=\"text-align: right;\">\n      <th></th>\n      <th>NOMBREPV</th>\n      <th>NOMBREDD</th>\n    </tr>\n  </thead>\n  <tbody>\n    <tr>\n      <th>0</th>\n      <td>CHACHAPOYAS</td>\n      <td>AMAZONAS</td>\n    </tr>\n    <tr>\n      <th>1</th>\n      <td>HUARAZ</td>\n      <td>ANCASH</td>\n    </tr>\n    <tr>\n      <th>2</th>\n      <td>APURÍMAC</td>\n      <td>APURÍMAC</td>\n    </tr>\n    <tr>\n      <th>3</th>\n      <td>AREQUIPA</td>\n      <td>AREQUIPA</td>\n    </tr>\n    <tr>\n      <th>4</th>\n      <td>AYACUCHO</td>\n      <td>AYACUCHO</td>\n    </tr>\n    <tr>\n      <th>5</th>\n      <td>CAJAMARCA</td>\n      <td>CAJAMARCA</td>\n    </tr>\n    <tr>\n      <th>6</th>\n      <td>CUSCO</td>\n      <td>CUSCO</td>\n    </tr>\n    <tr>\n      <th>7</th>\n      <td>HUANCAVELICA</td>\n      <td>HUANCAVELICA</td>\n    </tr>\n    <tr>\n      <th>8</th>\n      <td>HUÁNUCO</td>\n      <td>HUÁNUCO</td>\n    </tr>\n    <tr>\n      <th>9</th>\n      <td>ICA</td>\n      <td>ICA</td>\n    </tr>\n    <tr>\n      <th>10</th>\n      <td>JUNÍN</td>\n      <td>JUNÍN</td>\n    </tr>\n    <tr>\n      <th>11</th>\n      <td>TRUJILLO</td>\n      <td>LA LIBERTAD</td>\n    </tr>\n    <tr>\n      <th>12</th>\n      <td>CHICLAYO</td>\n      <td>LAMBAYEQUE</td>\n    </tr>\n    <tr>\n      <th>13</th>\n      <td>LIMA</td>\n      <td>LIMA</td>\n    </tr>\n    <tr>\n      <th>14</th>\n      <td>ALTO AMAZONAS</td>\n      <td>LORETO</td>\n    </tr>\n    <tr>\n      <th>15</th>\n      <td>PUERTO MALDONADO</td>\n      <td>MADRE DE DIOS</td>\n    </tr>\n    <tr>\n      <th>16</th>\n      <td>MOQUEGUA</td>\n      <td>MOQUEGUA</td>\n    </tr>\n    <tr>\n      <th>17</th>\n      <td>CERRO DE PASCO</td>\n      <td>PASCO</td>\n    </tr>\n    <tr>\n      <th>18</th>\n      <td>PIURA</td>\n      <td>PIURA</td>\n    </tr>\n    <tr>\n      <th>19</th>\n      <td>PUNO</td>\n      <td>PUNO</td>\n    </tr>\n    <tr>\n      <th>20</th>\n      <td>MOYOBAMBA</td>\n      <td>SAN MARTIN</td>\n    </tr>\n    <tr>\n      <th>21</th>\n      <td>TACNA</td>\n      <td>TACNA</td>\n    </tr>\n    <tr>\n      <th>22</th>\n      <td>TUMBES</td>\n      <td>TUMBES</td>\n    </tr>\n    <tr>\n      <th>23</th>\n      <td>PUCALLPA</td>\n      <td>UCAYALI</td>\n    </tr>\n  </tbody>\n</table>\n</div>"
     },
     "metadata": {},
     "execution_count": 12
    }
   ],
   "source": [
    "capitalOfRegions"
   ]
  },
  {
   "cell_type": "code",
   "execution_count": 44,
   "metadata": {},
   "outputs": [
    {
     "output_type": "stream",
     "name": "stdout",
     "text": [
      "AMAZONAS row_selected    index     NOMBREPV  NOMBREDD\n",
      "0      0  CHACHAPOYAS  AMAZONAS 0    CHACHAPOYAS\n",
      "Name: NOMBREPV, dtype: object 0    AMAZONAS\n",
      "Name: NOMBREDD, dtype: object\n",
      "chachapoyas,+amazonas\n",
      "AMAZONAS row_selected    index     NOMBREPV  NOMBREDD\n",
      "0      0  CHACHAPOYAS  AMAZONAS 0    CHACHAPOYAS\n",
      "Name: NOMBREPV, dtype: object 0    AMAZONAS\n",
      "Name: NOMBREDD, dtype: object\n",
      "chachapoyas,+amazonas\n",
      "AMAZONAS row_selected    index     NOMBREPV  NOMBREDD\n",
      "0      0  CHACHAPOYAS  AMAZONAS 0    CHACHAPOYAS\n",
      "Name: NOMBREPV, dtype: object 0    AMAZONAS\n",
      "Name: NOMBREDD, dtype: object\n",
      "chachapoyas,+amazonas\n",
      "AMAZONAS row_selected    index     NOMBREPV  NOMBREDD\n",
      "0      0  CHACHAPOYAS  AMAZONAS 0    CHACHAPOYAS\n",
      "Name: NOMBREPV, dtype: object 0    AMAZONAS\n",
      "Name: NOMBREDD, dtype: object\n",
      "chachapoyas,+amazonas\n",
      "AMAZONAS row_selected    index     NOMBREPV  NOMBREDD\n",
      "0      0  CHACHAPOYAS  AMAZONAS 0    CHACHAPOYAS\n",
      "Name: NOMBREPV, dtype: object 0    AMAZONAS\n",
      "Name: NOMBREDD, dtype: object\n",
      "chachapoyas,+amazonas\n",
      "AMAZONAS row_selected    index     NOMBREPV  NOMBREDD\n",
      "0      0  CHACHAPOYAS  AMAZONAS 0    CHACHAPOYAS\n",
      "Name: NOMBREPV, dtype: object 0    AMAZONAS\n",
      "Name: NOMBREDD, dtype: object\n",
      "chachapoyas,+amazonas\n",
      "AMAZONAS row_selected    index     NOMBREPV  NOMBREDD\n",
      "0      0  CHACHAPOYAS  AMAZONAS 0    CHACHAPOYAS\n",
      "Name: NOMBREPV, dtype: object 0    AMAZONAS\n",
      "Name: NOMBREDD, dtype: object\n",
      "chachapoyas,+amazonas\n",
      "AMAZONAS row_selected    index     NOMBREPV  NOMBREDD\n",
      "0      0  CHACHAPOYAS  AMAZONAS 0    CHACHAPOYAS\n",
      "Name: NOMBREPV, dtype: object 0    AMAZONAS\n",
      "Name: NOMBREDD, dtype: object\n",
      "chachapoyas,+amazonas\n",
      "AMAZONAS row_selected    index     NOMBREPV  NOMBREDD\n",
      "0      0  CHACHAPOYAS  AMAZONAS 0    CHACHAPOYAS\n",
      "Name: NOMBREPV, dtype: object 0    AMAZONAS\n",
      "Name: NOMBREDD, dtype: object\n",
      "chachapoyas,+amazonas\n",
      "AMAZONAS row_selected    index     NOMBREPV  NOMBREDD\n",
      "0      0  CHACHAPOYAS  AMAZONAS 0    CHACHAPOYAS\n",
      "Name: NOMBREPV, dtype: object 0    AMAZONAS\n",
      "Name: NOMBREDD, dtype: object\n",
      "chachapoyas,+amazonas\n",
      "AMAZONAS row_selected    index     NOMBREPV  NOMBREDD\n",
      "0      0  CHACHAPOYAS  AMAZONAS 0    CHACHAPOYAS\n",
      "Name: NOMBREPV, dtype: object 0    AMAZONAS\n",
      "Name: NOMBREDD, dtype: object\n",
      "chachapoyas,+amazonas\n",
      "AMAZONAS row_selected    index     NOMBREPV  NOMBREDD\n",
      "0      0  CHACHAPOYAS  AMAZONAS 0    CHACHAPOYAS\n",
      "Name: NOMBREPV, dtype: object 0    AMAZONAS\n",
      "Name: NOMBREDD, dtype: object\n",
      "chachapoyas,+amazonas\n",
      "ANCASH row_selected    index NOMBREPV NOMBREDD\n",
      "0      1   HUARAZ   ANCASH 0    HUARAZ\n",
      "Name: NOMBREPV, dtype: object 0    ANCASH\n",
      "Name: NOMBREDD, dtype: object\n",
      "huaraz,+ancash\n",
      "ANCASH row_selected    index NOMBREPV NOMBREDD\n",
      "0      1   HUARAZ   ANCASH 0    HUARAZ\n",
      "Name: NOMBREPV, dtype: object 0    ANCASH\n",
      "Name: NOMBREDD, dtype: object\n",
      "huaraz,+ancash\n",
      "ANCASH row_selected    index NOMBREPV NOMBREDD\n",
      "0      1   HUARAZ   ANCASH 0    HUARAZ\n",
      "Name: NOMBREPV, dtype: object 0    ANCASH\n",
      "Name: NOMBREDD, dtype: object\n",
      "huaraz,+ancash\n",
      "ANCASH row_selected    index NOMBREPV NOMBREDD\n",
      "0      1   HUARAZ   ANCASH 0    HUARAZ\n",
      "Name: NOMBREPV, dtype: object 0    ANCASH\n",
      "Name: NOMBREDD, dtype: object\n",
      "huaraz,+ancash\n",
      "ANCASH row_selected    index NOMBREPV NOMBREDD\n",
      "0      1   HUARAZ   ANCASH 0    HUARAZ\n",
      "Name: NOMBREPV, dtype: object 0    ANCASH\n",
      "Name: NOMBREDD, dtype: object\n",
      "huaraz,+ancash\n",
      "ANCASH row_selected    index NOMBREPV NOMBREDD\n",
      "0      1   HUARAZ   ANCASH 0    HUARAZ\n",
      "Name: NOMBREPV, dtype: object 0    ANCASH\n",
      "Name: NOMBREDD, dtype: object\n",
      "huaraz,+ancash\n",
      "ANCASH row_selected    index NOMBREPV NOMBREDD\n",
      "0      1   HUARAZ   ANCASH 0    HUARAZ\n",
      "Name: NOMBREPV, dtype: object 0    ANCASH\n",
      "Name: NOMBREDD, dtype: object\n",
      "huaraz,+ancash\n",
      "ANCASH row_selected    index NOMBREPV NOMBREDD\n",
      "0      1   HUARAZ   ANCASH 0    HUARAZ\n",
      "Name: NOMBREPV, dtype: object 0    ANCASH\n",
      "Name: NOMBREDD, dtype: object\n",
      "huaraz,+ancash\n",
      "ANCASH row_selected    index NOMBREPV NOMBREDD\n",
      "0      1   HUARAZ   ANCASH 0    HUARAZ\n",
      "Name: NOMBREPV, dtype: object 0    ANCASH\n",
      "Name: NOMBREDD, dtype: object\n",
      "huaraz,+ancash\n",
      "ANCASH row_selected    index NOMBREPV NOMBREDD\n",
      "0      1   HUARAZ   ANCASH 0    HUARAZ\n",
      "Name: NOMBREPV, dtype: object 0    ANCASH\n",
      "Name: NOMBREDD, dtype: object\n",
      "huaraz,+ancash\n",
      "ANCASH row_selected    index NOMBREPV NOMBREDD\n",
      "0      1   HUARAZ   ANCASH 0    HUARAZ\n",
      "Name: NOMBREPV, dtype: object 0    ANCASH\n",
      "Name: NOMBREDD, dtype: object\n",
      "huaraz,+ancash\n",
      "ANCASH row_selected    index NOMBREPV NOMBREDD\n",
      "0      1   HUARAZ   ANCASH 0    HUARAZ\n",
      "Name: NOMBREPV, dtype: object 0    ANCASH\n",
      "Name: NOMBREDD, dtype: object\n",
      "huaraz,+ancash\n",
      "ANCASH row_selected    index NOMBREPV NOMBREDD\n",
      "0      1   HUARAZ   ANCASH 0    HUARAZ\n",
      "Name: NOMBREPV, dtype: object 0    ANCASH\n",
      "Name: NOMBREDD, dtype: object\n",
      "huaraz,+ancash\n",
      "ANCASH row_selected    index NOMBREPV NOMBREDD\n",
      "0      1   HUARAZ   ANCASH 0    HUARAZ\n",
      "Name: NOMBREPV, dtype: object 0    ANCASH\n",
      "Name: NOMBREDD, dtype: object\n",
      "huaraz,+ancash\n",
      "ANCASH row_selected    index NOMBREPV NOMBREDD\n",
      "0      1   HUARAZ   ANCASH 0    HUARAZ\n",
      "Name: NOMBREPV, dtype: object 0    ANCASH\n",
      "Name: NOMBREDD, dtype: object\n",
      "huaraz,+ancash\n",
      "ANCASH row_selected    index NOMBREPV NOMBREDD\n",
      "0      1   HUARAZ   ANCASH 0    HUARAZ\n",
      "Name: NOMBREPV, dtype: object 0    ANCASH\n",
      "Name: NOMBREDD, dtype: object\n",
      "huaraz,+ancash\n",
      "ANCASH row_selected    index NOMBREPV NOMBREDD\n",
      "0      1   HUARAZ   ANCASH 0    HUARAZ\n",
      "Name: NOMBREPV, dtype: object 0    ANCASH\n",
      "Name: NOMBREDD, dtype: object\n",
      "huaraz,+ancash\n",
      "ANCASH row_selected    index NOMBREPV NOMBREDD\n",
      "0      1   HUARAZ   ANCASH 0    HUARAZ\n",
      "Name: NOMBREPV, dtype: object 0    ANCASH\n",
      "Name: NOMBREDD, dtype: object\n",
      "huaraz,+ancash\n",
      "ANCASH row_selected    index NOMBREPV NOMBREDD\n",
      "0      1   HUARAZ   ANCASH 0    HUARAZ\n",
      "Name: NOMBREPV, dtype: object 0    ANCASH\n",
      "Name: NOMBREDD, dtype: object\n",
      "huaraz,+ancash\n",
      "ANCASH row_selected    index NOMBREPV NOMBREDD\n",
      "0      1   HUARAZ   ANCASH 0    HUARAZ\n",
      "Name: NOMBREPV, dtype: object 0    ANCASH\n",
      "Name: NOMBREDD, dtype: object\n",
      "huaraz,+ancash\n",
      "ANCASH row_selected    index NOMBREPV NOMBREDD\n",
      "0      1   HUARAZ   ANCASH 0    HUARAZ\n",
      "Name: NOMBREPV, dtype: object 0    ANCASH\n",
      "Name: NOMBREDD, dtype: object\n",
      "huaraz,+ancash\n",
      "ANCASH row_selected    index NOMBREPV NOMBREDD\n",
      "0      1   HUARAZ   ANCASH 0    HUARAZ\n",
      "Name: NOMBREPV, dtype: object 0    ANCASH\n",
      "Name: NOMBREDD, dtype: object\n",
      "huaraz,+ancash\n",
      "ANCASH row_selected    index NOMBREPV NOMBREDD\n",
      "0      1   HUARAZ   ANCASH 0    HUARAZ\n",
      "Name: NOMBREPV, dtype: object 0    ANCASH\n",
      "Name: NOMBREDD, dtype: object\n",
      "huaraz,+ancash\n",
      "ANCASH row_selected    index NOMBREPV NOMBREDD\n",
      "0      1   HUARAZ   ANCASH 0    HUARAZ\n",
      "Name: NOMBREPV, dtype: object 0    ANCASH\n",
      "Name: NOMBREDD, dtype: object\n",
      "huaraz,+ancash\n",
      "ANCASH row_selected    index NOMBREPV NOMBREDD\n",
      "0      1   HUARAZ   ANCASH 0    HUARAZ\n",
      "Name: NOMBREPV, dtype: object 0    ANCASH\n",
      "Name: NOMBREDD, dtype: object\n",
      "huaraz,+ancash\n",
      "ANCASH row_selected    index NOMBREPV NOMBREDD\n",
      "0      1   HUARAZ   ANCASH 0    HUARAZ\n",
      "Name: NOMBREPV, dtype: object 0    ANCASH\n",
      "Name: NOMBREDD, dtype: object\n",
      "huaraz,+ancash\n",
      "ANCASH row_selected    index NOMBREPV NOMBREDD\n",
      "0      1   HUARAZ   ANCASH 0    HUARAZ\n",
      "Name: NOMBREPV, dtype: object 0    ANCASH\n",
      "Name: NOMBREDD, dtype: object\n",
      "huaraz,+ancash\n",
      "ANCASH row_selected    index NOMBREPV NOMBREDD\n",
      "0      1   HUARAZ   ANCASH 0    HUARAZ\n",
      "Name: NOMBREPV, dtype: object 0    ANCASH\n",
      "Name: NOMBREDD, dtype: object\n",
      "huaraz,+ancash\n",
      "ANCASH row_selected    index NOMBREPV NOMBREDD\n",
      "0      1   HUARAZ   ANCASH 0    HUARAZ\n",
      "Name: NOMBREPV, dtype: object 0    ANCASH\n",
      "Name: NOMBREDD, dtype: object\n",
      "huaraz,+ancash\n",
      "ANCASH row_selected    index NOMBREPV NOMBREDD\n",
      "0      1   HUARAZ   ANCASH 0    HUARAZ\n",
      "Name: NOMBREPV, dtype: object 0    ANCASH\n",
      "Name: NOMBREDD, dtype: object\n",
      "huaraz,+ancash\n",
      "ANCASH row_selected    index NOMBREPV NOMBREDD\n",
      "0      1   HUARAZ   ANCASH 0    HUARAZ\n",
      "Name: NOMBREPV, dtype: object 0    ANCASH\n",
      "Name: NOMBREDD, dtype: object\n",
      "huaraz,+ancash\n",
      "ANCASH row_selected    index NOMBREPV NOMBREDD\n",
      "0      1   HUARAZ   ANCASH 0    HUARAZ\n",
      "Name: NOMBREPV, dtype: object 0    ANCASH\n",
      "Name: NOMBREDD, dtype: object\n",
      "huaraz,+ancash\n",
      "ANCASH row_selected    index NOMBREPV NOMBREDD\n",
      "0      1   HUARAZ   ANCASH 0    HUARAZ\n",
      "Name: NOMBREPV, dtype: object 0    ANCASH\n",
      "Name: NOMBREDD, dtype: object\n",
      "huaraz,+ancash\n",
      "ANCASH row_selected    index NOMBREPV NOMBREDD\n",
      "0      1   HUARAZ   ANCASH 0    HUARAZ\n",
      "Name: NOMBREPV, dtype: object 0    ANCASH\n",
      "Name: NOMBREDD, dtype: object\n",
      "huaraz,+ancash\n",
      "ANCASH row_selected    index NOMBREPV NOMBREDD\n",
      "0      1   HUARAZ   ANCASH 0    HUARAZ\n",
      "Name: NOMBREPV, dtype: object 0    ANCASH\n",
      "Name: NOMBREDD, dtype: object\n",
      "huaraz,+ancash\n",
      "ANCASH row_selected    index NOMBREPV NOMBREDD\n",
      "0      1   HUARAZ   ANCASH 0    HUARAZ\n",
      "Name: NOMBREPV, dtype: object 0    ANCASH\n",
      "Name: NOMBREDD, dtype: object\n",
      "huaraz,+ancash\n",
      "ANCASH row_selected    index NOMBREPV NOMBREDD\n",
      "0      1   HUARAZ   ANCASH 0    HUARAZ\n",
      "Name: NOMBREPV, dtype: object 0    ANCASH\n",
      "Name: NOMBREDD, dtype: object\n",
      "huaraz,+ancash\n",
      "APURÍMAC row_selected Empty DataFrame\n",
      "Columns: [index, NOMBREPV, NOMBREDD]\n",
      "Index: [] Series([], Name: NOMBREPV, dtype: object) Series([], Name: NOMBREDD, dtype: object)\n"
     ]
    },
    {
     "output_type": "error",
     "ename": "IndexError",
     "evalue": "index out of bounds",
     "traceback": [
      "\u001b[0;31m---------------------------------------------------------------------------\u001b[0m",
      "\u001b[0;31mKeyError\u001b[0m                                  Traceback (most recent call last)",
      "\u001b[0;32m/usr/local/lib/python3.8/site-packages/pandas/core/indexes/base.py\u001b[0m in \u001b[0;36mget_value\u001b[0;34m(self, series, key)\u001b[0m\n\u001b[1;32m   4404\u001b[0m         \u001b[0;32mtry\u001b[0m\u001b[0;34m:\u001b[0m\u001b[0;34m\u001b[0m\u001b[0;34m\u001b[0m\u001b[0m\n\u001b[0;32m-> 4405\u001b[0;31m             \u001b[0;32mreturn\u001b[0m \u001b[0mself\u001b[0m\u001b[0;34m.\u001b[0m\u001b[0m_engine\u001b[0m\u001b[0;34m.\u001b[0m\u001b[0mget_value\u001b[0m\u001b[0;34m(\u001b[0m\u001b[0ms\u001b[0m\u001b[0;34m,\u001b[0m \u001b[0mk\u001b[0m\u001b[0;34m,\u001b[0m \u001b[0mtz\u001b[0m\u001b[0;34m=\u001b[0m\u001b[0mgetattr\u001b[0m\u001b[0;34m(\u001b[0m\u001b[0mseries\u001b[0m\u001b[0;34m.\u001b[0m\u001b[0mdtype\u001b[0m\u001b[0;34m,\u001b[0m \u001b[0;34m\"tz\"\u001b[0m\u001b[0;34m,\u001b[0m \u001b[0;32mNone\u001b[0m\u001b[0;34m)\u001b[0m\u001b[0;34m)\u001b[0m\u001b[0;34m\u001b[0m\u001b[0;34m\u001b[0m\u001b[0m\n\u001b[0m\u001b[1;32m   4406\u001b[0m         \u001b[0;32mexcept\u001b[0m \u001b[0mKeyError\u001b[0m \u001b[0;32mas\u001b[0m \u001b[0me1\u001b[0m\u001b[0;34m:\u001b[0m\u001b[0;34m\u001b[0m\u001b[0;34m\u001b[0m\u001b[0m\n",
      "\u001b[0;32mpandas/_libs/index.pyx\u001b[0m in \u001b[0;36mpandas._libs.index.IndexEngine.get_value\u001b[0;34m()\u001b[0m\n",
      "\u001b[0;32mpandas/_libs/index.pyx\u001b[0m in \u001b[0;36mpandas._libs.index.IndexEngine.get_value\u001b[0;34m()\u001b[0m\n",
      "\u001b[0;32mpandas/_libs/index.pyx\u001b[0m in \u001b[0;36mpandas._libs.index.IndexEngine.get_loc\u001b[0;34m()\u001b[0m\n",
      "\u001b[0;32mpandas/_libs/hashtable_class_helper.pxi\u001b[0m in \u001b[0;36mpandas._libs.hashtable.Int64HashTable.get_item\u001b[0;34m()\u001b[0m\n",
      "\u001b[0;32mpandas/_libs/hashtable_class_helper.pxi\u001b[0m in \u001b[0;36mpandas._libs.hashtable.Int64HashTable.get_item\u001b[0;34m()\u001b[0m\n",
      "\u001b[0;31mKeyError\u001b[0m: 0",
      "\nDuring handling of the above exception, another exception occurred:\n",
      "\u001b[0;31mIndexError\u001b[0m                                Traceback (most recent call last)",
      "\u001b[0;32m<ipython-input-44-a7e97be77ee6>\u001b[0m in \u001b[0;36m<module>\u001b[0;34m\u001b[0m\n\u001b[1;32m      9\u001b[0m     \u001b[0mregion\u001b[0m \u001b[0;34m=\u001b[0m \u001b[0mplace\u001b[0m\u001b[0;34m.\u001b[0m\u001b[0msplit\u001b[0m\u001b[0;34m(\u001b[0m\u001b[0;34m\", \"\u001b[0m\u001b[0;34m)\u001b[0m\u001b[0;34m[\u001b[0m\u001b[0;34m-\u001b[0m\u001b[0;36m1\u001b[0m\u001b[0;34m]\u001b[0m\u001b[0;34m\u001b[0m\u001b[0;34m\u001b[0m\u001b[0m\n\u001b[1;32m     10\u001b[0m     \u001b[0minitial_place\u001b[0m \u001b[0;34m=\u001b[0m \u001b[0mplace\u001b[0m\u001b[0;34m.\u001b[0m\u001b[0mlower\u001b[0m\u001b[0;34m(\u001b[0m\u001b[0;34m)\u001b[0m\u001b[0;34m.\u001b[0m\u001b[0mreplace\u001b[0m\u001b[0;34m(\u001b[0m\u001b[0;34m\" \"\u001b[0m\u001b[0;34m,\u001b[0m \u001b[0;34m\"+\"\u001b[0m\u001b[0;34m)\u001b[0m\u001b[0;34m\u001b[0m\u001b[0;34m\u001b[0m\u001b[0m\n\u001b[0;32m---> 11\u001b[0;31m     \u001b[0mdestination_place\u001b[0m \u001b[0;34m=\u001b[0m \u001b[0mgetCapitalProvinceDestination\u001b[0m\u001b[0;34m(\u001b[0m\u001b[0mregion\u001b[0m\u001b[0;34m)\u001b[0m\u001b[0;34m.\u001b[0m\u001b[0mlower\u001b[0m\u001b[0;34m(\u001b[0m\u001b[0;34m)\u001b[0m\u001b[0;34m.\u001b[0m\u001b[0mreplace\u001b[0m\u001b[0;34m(\u001b[0m\u001b[0;34m\" \"\u001b[0m\u001b[0;34m,\u001b[0m \u001b[0;34m\"+\"\u001b[0m\u001b[0;34m)\u001b[0m\u001b[0;34m\u001b[0m\u001b[0;34m\u001b[0m\u001b[0m\n\u001b[0m\u001b[1;32m     12\u001b[0m     \u001b[0mprint\u001b[0m\u001b[0;34m(\u001b[0m\u001b[0mdestination_place\u001b[0m\u001b[0;34m)\u001b[0m\u001b[0;34m\u001b[0m\u001b[0;34m\u001b[0m\u001b[0m\n\u001b[1;32m     13\u001b[0m     \u001b[0murl\u001b[0m \u001b[0;34m=\u001b[0m \u001b[0;34mf\"http://google.com/maps/dir/{initial_place}/{destination_place}\"\u001b[0m\u001b[0;34m\u001b[0m\u001b[0;34m\u001b[0m\u001b[0m\n",
      "\u001b[0;32m<ipython-input-43-bc8a1382c859>\u001b[0m in \u001b[0;36mgetCapitalProvinceDestination\u001b[0;34m(region)\u001b[0m\n\u001b[1;32m      2\u001b[0m     \u001b[0mrow_selected\u001b[0m \u001b[0;34m=\u001b[0m \u001b[0mcapitalOfRegions\u001b[0m\u001b[0;34m[\u001b[0m\u001b[0mcapitalOfRegions\u001b[0m\u001b[0;34m[\u001b[0m\u001b[0;34m\"NOMBREDD\"\u001b[0m\u001b[0;34m]\u001b[0m \u001b[0;34m==\u001b[0m \u001b[0mregion\u001b[0m\u001b[0;34m]\u001b[0m\u001b[0;34m.\u001b[0m\u001b[0mreset_index\u001b[0m\u001b[0;34m(\u001b[0m\u001b[0;34m)\u001b[0m\u001b[0;34m\u001b[0m\u001b[0;34m\u001b[0m\u001b[0m\n\u001b[1;32m      3\u001b[0m     \u001b[0mprint\u001b[0m\u001b[0;34m(\u001b[0m\u001b[0mregion\u001b[0m\u001b[0;34m,\u001b[0m \u001b[0;34m\"row_selected\"\u001b[0m\u001b[0;34m,\u001b[0m \u001b[0mrow_selected\u001b[0m\u001b[0;34m,\u001b[0m \u001b[0mrow_selected\u001b[0m\u001b[0;34m[\u001b[0m\u001b[0;34m\"NOMBREPV\"\u001b[0m\u001b[0;34m]\u001b[0m\u001b[0;34m,\u001b[0m \u001b[0mrow_selected\u001b[0m\u001b[0;34m[\u001b[0m\u001b[0;34m\"NOMBREDD\"\u001b[0m\u001b[0;34m]\u001b[0m\u001b[0;34m)\u001b[0m\u001b[0;34m\u001b[0m\u001b[0;34m\u001b[0m\u001b[0m\n\u001b[0;32m----> 4\u001b[0;31m     \u001b[0;32mreturn\u001b[0m \u001b[0;34m(\u001b[0m\u001b[0mrow_selected\u001b[0m\u001b[0;34m[\u001b[0m\u001b[0;34m\"NOMBREPV\"\u001b[0m\u001b[0;34m]\u001b[0m \u001b[0;34m+\u001b[0m  \u001b[0;34m\", \"\u001b[0m \u001b[0;34m+\u001b[0m \u001b[0mrow_selected\u001b[0m\u001b[0;34m[\u001b[0m\u001b[0;34m\"NOMBREDD\"\u001b[0m\u001b[0;34m]\u001b[0m\u001b[0;34m)\u001b[0m\u001b[0;34m[\u001b[0m\u001b[0;36m0\u001b[0m\u001b[0;34m]\u001b[0m\u001b[0;34m\u001b[0m\u001b[0;34m\u001b[0m\u001b[0m\n\u001b[0m",
      "\u001b[0;32m/usr/local/lib/python3.8/site-packages/pandas/core/series.py\u001b[0m in \u001b[0;36m__getitem__\u001b[0;34m(self, key)\u001b[0m\n\u001b[1;32m    869\u001b[0m         \u001b[0mkey\u001b[0m \u001b[0;34m=\u001b[0m \u001b[0mcom\u001b[0m\u001b[0;34m.\u001b[0m\u001b[0mapply_if_callable\u001b[0m\u001b[0;34m(\u001b[0m\u001b[0mkey\u001b[0m\u001b[0;34m,\u001b[0m \u001b[0mself\u001b[0m\u001b[0;34m)\u001b[0m\u001b[0;34m\u001b[0m\u001b[0;34m\u001b[0m\u001b[0m\n\u001b[1;32m    870\u001b[0m         \u001b[0;32mtry\u001b[0m\u001b[0;34m:\u001b[0m\u001b[0;34m\u001b[0m\u001b[0;34m\u001b[0m\u001b[0m\n\u001b[0;32m--> 871\u001b[0;31m             \u001b[0mresult\u001b[0m \u001b[0;34m=\u001b[0m \u001b[0mself\u001b[0m\u001b[0;34m.\u001b[0m\u001b[0mindex\u001b[0m\u001b[0;34m.\u001b[0m\u001b[0mget_value\u001b[0m\u001b[0;34m(\u001b[0m\u001b[0mself\u001b[0m\u001b[0;34m,\u001b[0m \u001b[0mkey\u001b[0m\u001b[0;34m)\u001b[0m\u001b[0;34m\u001b[0m\u001b[0;34m\u001b[0m\u001b[0m\n\u001b[0m\u001b[1;32m    872\u001b[0m \u001b[0;34m\u001b[0m\u001b[0m\n\u001b[1;32m    873\u001b[0m             \u001b[0;32mif\u001b[0m \u001b[0;32mnot\u001b[0m \u001b[0mis_scalar\u001b[0m\u001b[0;34m(\u001b[0m\u001b[0mresult\u001b[0m\u001b[0;34m)\u001b[0m\u001b[0;34m:\u001b[0m\u001b[0;34m\u001b[0m\u001b[0;34m\u001b[0m\u001b[0m\n",
      "\u001b[0;32m/usr/local/lib/python3.8/site-packages/pandas/core/indexes/base.py\u001b[0m in \u001b[0;36mget_value\u001b[0;34m(self, series, key)\u001b[0m\n\u001b[1;32m   4409\u001b[0m \u001b[0;34m\u001b[0m\u001b[0m\n\u001b[1;32m   4410\u001b[0m             \u001b[0;32mtry\u001b[0m\u001b[0;34m:\u001b[0m\u001b[0;34m\u001b[0m\u001b[0;34m\u001b[0m\u001b[0m\n\u001b[0;32m-> 4411\u001b[0;31m                 \u001b[0;32mreturn\u001b[0m \u001b[0mlibindex\u001b[0m\u001b[0;34m.\u001b[0m\u001b[0mget_value_at\u001b[0m\u001b[0;34m(\u001b[0m\u001b[0ms\u001b[0m\u001b[0;34m,\u001b[0m \u001b[0mkey\u001b[0m\u001b[0;34m)\u001b[0m\u001b[0;34m\u001b[0m\u001b[0;34m\u001b[0m\u001b[0m\n\u001b[0m\u001b[1;32m   4412\u001b[0m             \u001b[0;32mexcept\u001b[0m \u001b[0mIndexError\u001b[0m\u001b[0;34m:\u001b[0m\u001b[0;34m\u001b[0m\u001b[0;34m\u001b[0m\u001b[0m\n\u001b[1;32m   4413\u001b[0m                 \u001b[0;32mraise\u001b[0m\u001b[0;34m\u001b[0m\u001b[0;34m\u001b[0m\u001b[0m\n",
      "\u001b[0;32mpandas/_libs/index.pyx\u001b[0m in \u001b[0;36mpandas._libs.index.get_value_at\u001b[0;34m()\u001b[0m\n",
      "\u001b[0;32mpandas/_libs/index.pyx\u001b[0m in \u001b[0;36mpandas._libs.index.get_value_at\u001b[0;34m()\u001b[0m\n",
      "\u001b[0;32mpandas/_libs/util.pxd\u001b[0m in \u001b[0;36mpandas._libs.util.get_value_at\u001b[0;34m()\u001b[0m\n",
      "\u001b[0;32mpandas/_libs/util.pxd\u001b[0m in \u001b[0;36mpandas._libs.util.validate_indexer\u001b[0;34m()\u001b[0m\n",
      "\u001b[0;31mIndexError\u001b[0m: index out of bounds"
     ]
    }
   ],
   "source": [
    "places = df[\"NOMBREDI\"] + \", \" + df[\"NOMBREPV\"] + \", \" + df[\"NOMBREDD\"]\n",
    "places = places.unique()\n",
    "\n",
    "distances_dtpc = {}\n",
    "times_dtpc = {}\n",
    "\n",
    "helium.start_chrome()\n",
    "for place in places:\n",
    "    region = place.split(\", \")[-1]\n",
    "    initial_place = place.lower().replace(\" \", \"+\")\n",
    "    destination_place = getCapitalProvinceDestination(region).lower().replace(\" \", \"+\")\n",
    "    print(destination_place)\n",
    "    url = f\"http://google.com/maps/dir/{initial_place}/{destination_place}\"\n",
    "    helium.go_to(url)\n",
    "    q = helium.S(\"div.section-directions-trip-numbers\")\n",
    "    box = helium.find_all(q)\n",
    "    if len(box) == 0:\n",
    "        distances_dtpc[place] = None\n",
    "        times_dtpc[place] = None\n",
    "        continue\n",
    "    dist_and_time = box[0]\n",
    "    dist_and_time = dist_and_time.web_element.text\n",
    "    \n",
    "    d_t = dist_and_time.split(\"\\n\")\n",
    "    times_dtpc[place] = d_t[0]\n",
    "    distances_dtpc[place] = d_t[1]\n"
   ]
  },
  {
   "cell_type": "code",
   "execution_count": 71,
   "metadata": {},
   "outputs": [],
   "source": [
    "with open(\"2019_04RoadTransportationDistrictToProvinceCapitalOfRegion.csv\", \"w\") as df:\n",
    "    df.write(\"NOMBREDI,NOMBREPV,NOMBREDD,DistanceInTime,DistanceInKm\\n\")\n",
    "    for key in distances_dtpc.keys():\n",
    "        df.write(\"%s,%s,%s\\n\"%(key.replace(\", \", \",\"), times_dtpc[key], distances_dtpc[key]))"
   ]
  },
  {
   "cell_type": "code",
   "execution_count": 13,
   "metadata": {},
   "outputs": [],
   "source": [
    "districtToProvinceCapitalOfRegion = pd.read_csv('2019_04RoadTransportationDistrictToProvinceCapitalOfRegion.csv')"
   ]
  },
  {
   "cell_type": "code",
   "execution_count": 14,
   "metadata": {},
   "outputs": [
    {
     "output_type": "execute_result",
     "data": {
      "text/plain": [
       "      NOMBREDI     NOMBREPV  NOMBREDD DistanceInTime DistanceInKm\n",
       "0      FLORIDA      BONGARA  AMAZONAS     2 h 12 min      95.3 km\n",
       "1  CHUQUIBAMBA  CHACHAPOYAS  AMAZONAS     6 h 17 min       232 km\n",
       "2     LA JALCA  CHACHAPOYAS  AMAZONAS     1 h 47 min      71.1 km\n",
       "3      LEVANTO  CHACHAPOYAS  AMAZONAS            1 h      23.1 km\n",
       "4       SOLOCO  CHACHAPOYAS  AMAZONAS         54 min      27.9 km"
      ],
      "text/html": "<div>\n<style scoped>\n    .dataframe tbody tr th:only-of-type {\n        vertical-align: middle;\n    }\n\n    .dataframe tbody tr th {\n        vertical-align: top;\n    }\n\n    .dataframe thead th {\n        text-align: right;\n    }\n</style>\n<table border=\"1\" class=\"dataframe\">\n  <thead>\n    <tr style=\"text-align: right;\">\n      <th></th>\n      <th>NOMBREDI</th>\n      <th>NOMBREPV</th>\n      <th>NOMBREDD</th>\n      <th>DistanceInTime</th>\n      <th>DistanceInKm</th>\n    </tr>\n  </thead>\n  <tbody>\n    <tr>\n      <th>0</th>\n      <td>FLORIDA</td>\n      <td>BONGARA</td>\n      <td>AMAZONAS</td>\n      <td>2 h 12 min</td>\n      <td>95.3 km</td>\n    </tr>\n    <tr>\n      <th>1</th>\n      <td>CHUQUIBAMBA</td>\n      <td>CHACHAPOYAS</td>\n      <td>AMAZONAS</td>\n      <td>6 h 17 min</td>\n      <td>232 km</td>\n    </tr>\n    <tr>\n      <th>2</th>\n      <td>LA JALCA</td>\n      <td>CHACHAPOYAS</td>\n      <td>AMAZONAS</td>\n      <td>1 h 47 min</td>\n      <td>71.1 km</td>\n    </tr>\n    <tr>\n      <th>3</th>\n      <td>LEVANTO</td>\n      <td>CHACHAPOYAS</td>\n      <td>AMAZONAS</td>\n      <td>1 h</td>\n      <td>23.1 km</td>\n    </tr>\n    <tr>\n      <th>4</th>\n      <td>SOLOCO</td>\n      <td>CHACHAPOYAS</td>\n      <td>AMAZONAS</td>\n      <td>54 min</td>\n      <td>27.9 km</td>\n    </tr>\n  </tbody>\n</table>\n</div>"
     },
     "metadata": {},
     "execution_count": 14
    }
   ],
   "source": [
    "districtToProvinceCapitalOfRegion.head()"
   ]
  },
  {
   "cell_type": "code",
   "execution_count": 17,
   "metadata": {},
   "outputs": [],
   "source": [
    "createNumberTimeVariable(districtToProvinceCapitalOfRegion, \"DistanceInTime\", \"districtTimeToProvinceCapitalOfRegion\")"
   ]
  },
  {
   "cell_type": "code",
   "execution_count": 18,
   "metadata": {},
   "outputs": [
    {
     "output_type": "execute_result",
     "data": {
      "text/plain": [
       "        NOMBREDI     NOMBREPV  NOMBREDD DistanceInTime DistanceInKm  \\\n",
       "0        FLORIDA      BONGARA  AMAZONAS     2 h 12 min      95.3 km   \n",
       "1    CHUQUIBAMBA  CHACHAPOYAS  AMAZONAS     6 h 17 min       232 km   \n",
       "2       LA JALCA  CHACHAPOYAS  AMAZONAS     1 h 47 min      71.1 km   \n",
       "3        LEVANTO  CHACHAPOYAS  AMAZONAS            1 h      23.1 km   \n",
       "4         SOLOCO  CHACHAPOYAS  AMAZONAS         54 min      27.9 km   \n",
       "..           ...          ...       ...            ...          ...   \n",
       "383     POCOLLAY        TACNA     TACNA          7 min       3.4 km   \n",
       "384        TACNA        TACNA     TACNA          0 min         0 km   \n",
       "385     SITAJARA       TARATA     TACNA     1 h 35 min      88.1 km   \n",
       "386       TARATA       TARATA     TACNA     1 h 35 min      88.1 km   \n",
       "387       TICACO       TARATA     TACNA     1 h 35 min      88.1 km   \n",
       "\n",
       "    districtTimeToProvinceCapitalOfRegion  \n",
       "0                                     2.2  \n",
       "1                                    6.28  \n",
       "2                                    1.78  \n",
       "3                                       1  \n",
       "4                                     0.9  \n",
       "..                                    ...  \n",
       "383                                  0.12  \n",
       "384                                     0  \n",
       "385                                  1.58  \n",
       "386                                  1.58  \n",
       "387                                  1.58  \n",
       "\n",
       "[388 rows x 6 columns]"
      ],
      "text/html": "<div>\n<style scoped>\n    .dataframe tbody tr th:only-of-type {\n        vertical-align: middle;\n    }\n\n    .dataframe tbody tr th {\n        vertical-align: top;\n    }\n\n    .dataframe thead th {\n        text-align: right;\n    }\n</style>\n<table border=\"1\" class=\"dataframe\">\n  <thead>\n    <tr style=\"text-align: right;\">\n      <th></th>\n      <th>NOMBREDI</th>\n      <th>NOMBREPV</th>\n      <th>NOMBREDD</th>\n      <th>DistanceInTime</th>\n      <th>DistanceInKm</th>\n      <th>districtTimeToProvinceCapitalOfRegion</th>\n    </tr>\n  </thead>\n  <tbody>\n    <tr>\n      <th>0</th>\n      <td>FLORIDA</td>\n      <td>BONGARA</td>\n      <td>AMAZONAS</td>\n      <td>2 h 12 min</td>\n      <td>95.3 km</td>\n      <td>2.2</td>\n    </tr>\n    <tr>\n      <th>1</th>\n      <td>CHUQUIBAMBA</td>\n      <td>CHACHAPOYAS</td>\n      <td>AMAZONAS</td>\n      <td>6 h 17 min</td>\n      <td>232 km</td>\n      <td>6.28</td>\n    </tr>\n    <tr>\n      <th>2</th>\n      <td>LA JALCA</td>\n      <td>CHACHAPOYAS</td>\n      <td>AMAZONAS</td>\n      <td>1 h 47 min</td>\n      <td>71.1 km</td>\n      <td>1.78</td>\n    </tr>\n    <tr>\n      <th>3</th>\n      <td>LEVANTO</td>\n      <td>CHACHAPOYAS</td>\n      <td>AMAZONAS</td>\n      <td>1 h</td>\n      <td>23.1 km</td>\n      <td>1</td>\n    </tr>\n    <tr>\n      <th>4</th>\n      <td>SOLOCO</td>\n      <td>CHACHAPOYAS</td>\n      <td>AMAZONAS</td>\n      <td>54 min</td>\n      <td>27.9 km</td>\n      <td>0.9</td>\n    </tr>\n    <tr>\n      <th>...</th>\n      <td>...</td>\n      <td>...</td>\n      <td>...</td>\n      <td>...</td>\n      <td>...</td>\n      <td>...</td>\n    </tr>\n    <tr>\n      <th>383</th>\n      <td>POCOLLAY</td>\n      <td>TACNA</td>\n      <td>TACNA</td>\n      <td>7 min</td>\n      <td>3.4 km</td>\n      <td>0.12</td>\n    </tr>\n    <tr>\n      <th>384</th>\n      <td>TACNA</td>\n      <td>TACNA</td>\n      <td>TACNA</td>\n      <td>0 min</td>\n      <td>0 km</td>\n      <td>0</td>\n    </tr>\n    <tr>\n      <th>385</th>\n      <td>SITAJARA</td>\n      <td>TARATA</td>\n      <td>TACNA</td>\n      <td>1 h 35 min</td>\n      <td>88.1 km</td>\n      <td>1.58</td>\n    </tr>\n    <tr>\n      <th>386</th>\n      <td>TARATA</td>\n      <td>TARATA</td>\n      <td>TACNA</td>\n      <td>1 h 35 min</td>\n      <td>88.1 km</td>\n      <td>1.58</td>\n    </tr>\n    <tr>\n      <th>387</th>\n      <td>TICACO</td>\n      <td>TARATA</td>\n      <td>TACNA</td>\n      <td>1 h 35 min</td>\n      <td>88.1 km</td>\n      <td>1.58</td>\n    </tr>\n  </tbody>\n</table>\n<p>388 rows × 6 columns</p>\n</div>"
     },
     "metadata": {},
     "execution_count": 18
    }
   ],
   "source": [
    "districtToProvinceCapitalOfRegion"
   ]
  },
  {
   "cell_type": "code",
   "execution_count": 19,
   "metadata": {},
   "outputs": [],
   "source": [
    "districtToProvinceCapitalOfRegion.to_csv('2019_04RoadTransportationDistrictToProvinceCapitalOfRegion.csv')"
   ]
  },
  {
   "cell_type": "markdown",
   "metadata": {},
   "source": [
    "# Province capital time to Lima Market"
   ]
  },
  {
   "cell_type": "code",
   "execution_count": 20,
   "metadata": {
    "tags": []
   },
   "outputs": [
    {
     "output_type": "stream",
     "name": "stdout",
     "text": [
      "AMAZONAS row_selected    index     NOMBREPV  NOMBREDD\n",
      "0      0  CHACHAPOYAS  AMAZONAS 0    CHACHAPOYAS\n",
      "Name: NOMBREPV, dtype: object 0    AMAZONAS\n",
      "Name: NOMBREDD, dtype: object\n",
      "ANCASH row_selected    index NOMBREPV NOMBREDD\n",
      "0      1   HUARAZ   ANCASH 0    HUARAZ\n",
      "Name: NOMBREPV, dtype: object 0    ANCASH\n",
      "Name: NOMBREDD, dtype: object\n",
      "APURÍMAC row_selected    index  NOMBREPV  NOMBREDD\n",
      "0      2  APURÍMAC  APURÍMAC 0    APURÍMAC\n",
      "Name: NOMBREPV, dtype: object 0    APURÍMAC\n",
      "Name: NOMBREDD, dtype: object\n",
      "AREQUIPA row_selected    index  NOMBREPV  NOMBREDD\n",
      "0      3  AREQUIPA  AREQUIPA 0    AREQUIPA\n",
      "Name: NOMBREPV, dtype: object 0    AREQUIPA\n",
      "Name: NOMBREDD, dtype: object\n",
      "AYACUCHO row_selected    index  NOMBREPV  NOMBREDD\n",
      "0      4  AYACUCHO  AYACUCHO 0    AYACUCHO\n",
      "Name: NOMBREPV, dtype: object 0    AYACUCHO\n",
      "Name: NOMBREDD, dtype: object\n",
      "CAJAMARCA row_selected    index   NOMBREPV   NOMBREDD\n",
      "0      5  CAJAMARCA  CAJAMARCA 0    CAJAMARCA\n",
      "Name: NOMBREPV, dtype: object 0    CAJAMARCA\n",
      "Name: NOMBREDD, dtype: object\n",
      "CUSCO row_selected    index NOMBREPV NOMBREDD\n",
      "0      6    CUSCO    CUSCO 0    CUSCO\n",
      "Name: NOMBREPV, dtype: object 0    CUSCO\n",
      "Name: NOMBREDD, dtype: object\n",
      "HUANCAVELICA row_selected    index      NOMBREPV      NOMBREDD\n",
      "0      7  HUANCAVELICA  HUANCAVELICA 0    HUANCAVELICA\n",
      "Name: NOMBREPV, dtype: object 0    HUANCAVELICA\n",
      "Name: NOMBREDD, dtype: object\n",
      "HUÁNUCO row_selected    index NOMBREPV NOMBREDD\n",
      "0      8  HUÁNUCO  HUÁNUCO 0    HUÁNUCO\n",
      "Name: NOMBREPV, dtype: object 0    HUÁNUCO\n",
      "Name: NOMBREDD, dtype: object\n",
      "ICA row_selected    index NOMBREPV NOMBREDD\n",
      "0      9      ICA      ICA 0    ICA\n",
      "Name: NOMBREPV, dtype: object 0    ICA\n",
      "Name: NOMBREDD, dtype: object\n",
      "JUNÍN row_selected    index NOMBREPV NOMBREDD\n",
      "0     10    JUNÍN    JUNÍN 0    JUNÍN\n",
      "Name: NOMBREPV, dtype: object 0    JUNÍN\n",
      "Name: NOMBREDD, dtype: object\n",
      "LA LIBERTAD row_selected    index  NOMBREPV     NOMBREDD\n",
      "0     11  TRUJILLO  LA LIBERTAD 0    TRUJILLO\n",
      "Name: NOMBREPV, dtype: object 0    LA LIBERTAD\n",
      "Name: NOMBREDD, dtype: object\n",
      "LAMBAYEQUE row_selected    index  NOMBREPV    NOMBREDD\n",
      "0     12  CHICLAYO  LAMBAYEQUE 0    CHICLAYO\n",
      "Name: NOMBREPV, dtype: object 0    LAMBAYEQUE\n",
      "Name: NOMBREDD, dtype: object\n",
      "LIMA row_selected    index NOMBREPV NOMBREDD\n",
      "0     13     LIMA     LIMA 0    LIMA\n",
      "Name: NOMBREPV, dtype: object 0    LIMA\n",
      "Name: NOMBREDD, dtype: object\n",
      "LORETO row_selected    index       NOMBREPV NOMBREDD\n",
      "0     14  ALTO AMAZONAS   LORETO 0    ALTO AMAZONAS\n",
      "Name: NOMBREPV, dtype: object 0    LORETO\n",
      "Name: NOMBREDD, dtype: object\n",
      " MADRE DE DIOS row_selected    index          NOMBREPV        NOMBREDD\n",
      "0     15  PUERTO MALDONADO   MADRE DE DIOS 0    PUERTO MALDONADO\n",
      "Name: NOMBREPV, dtype: object 0     MADRE DE DIOS\n",
      "Name: NOMBREDD, dtype: object\n",
      "MOQUEGUA row_selected    index  NOMBREPV  NOMBREDD\n",
      "0     16  MOQUEGUA  MOQUEGUA 0    MOQUEGUA\n",
      "Name: NOMBREPV, dtype: object 0    MOQUEGUA\n",
      "Name: NOMBREDD, dtype: object\n",
      "PASCO row_selected    index        NOMBREPV NOMBREDD\n",
      "0     17  CERRO DE PASCO    PASCO 0    CERRO DE PASCO\n",
      "Name: NOMBREPV, dtype: object 0    PASCO\n",
      "Name: NOMBREDD, dtype: object\n",
      "PIURA row_selected    index NOMBREPV NOMBREDD\n",
      "0     18    PIURA    PIURA 0    PIURA\n",
      "Name: NOMBREPV, dtype: object 0    PIURA\n",
      "Name: NOMBREDD, dtype: object\n",
      "PUNO row_selected    index NOMBREPV NOMBREDD\n",
      "0     19     PUNO     PUNO 0    PUNO\n",
      "Name: NOMBREPV, dtype: object 0    PUNO\n",
      "Name: NOMBREDD, dtype: object\n",
      "SAN MARTIN row_selected    index   NOMBREPV    NOMBREDD\n",
      "0     20  MOYOBAMBA  SAN MARTIN 0    MOYOBAMBA\n",
      "Name: NOMBREPV, dtype: object 0    SAN MARTIN\n",
      "Name: NOMBREDD, dtype: object\n",
      "TACNA row_selected    index NOMBREPV NOMBREDD\n",
      "0     21    TACNA    TACNA 0    TACNA\n",
      "Name: NOMBREPV, dtype: object 0    TACNA\n",
      "Name: NOMBREDD, dtype: object\n",
      "TUMBES row_selected    index NOMBREPV NOMBREDD\n",
      "0     22   TUMBES   TUMBES 0    TUMBES\n",
      "Name: NOMBREPV, dtype: object 0    TUMBES\n",
      "Name: NOMBREDD, dtype: object\n",
      "UCAYALI row_selected    index  NOMBREPV NOMBREDD\n",
      "0     23  PUCALLPA  UCAYALI 0    PUCALLPA\n",
      "Name: NOMBREPV, dtype: object 0    UCAYALI\n",
      "Name: NOMBREDD, dtype: object\n"
     ]
    }
   ],
   "source": [
    "places = capitalOfRegions[\"NOMBREPV\"] + \", \" + capitalOfRegions[\"NOMBREDD\"]\n",
    "places = places.unique()\n",
    "\n",
    "distances_pctlm = {}\n",
    "times_pctlm = {}\n",
    "\n",
    "helium.start_chrome()\n",
    "for place in places:\n",
    "    region = place.split(\", \")[-1]\n",
    "    fixed_place = getCapitalProvinceDestination(region).lower().replace(\" \", \"+\")\n",
    "    url = f\"http://google.com/maps/dir/{fixed_place}/Mercado+Productores,+Santa+Anita\"\n",
    "    helium.go_to(url)\n",
    "    q = helium.S(\"div.section-directions-trip-numbers\")\n",
    "    box = helium.find_all(q)\n",
    "    if len(box) == 0:\n",
    "        distances_pctlm[place] = None\n",
    "        times_pctlm[place] = None\n",
    "        continue\n",
    "    dist_and_time = box[0]\n",
    "    dist_and_time = dist_and_time.web_element.text\n",
    "    \n",
    "    d_t = dist_and_time.split(\"\\n\")\n",
    "    times_pctlm[place] = d_t[0]\n",
    "    distances_pctlm[place] = d_t[1]\n",
    "    \n"
   ]
  },
  {
   "cell_type": "code",
   "execution_count": 21,
   "metadata": {},
   "outputs": [],
   "source": [
    "with open(\"2019_04RoadTransportationProvinceCapitalToLimaMarket.csv\", \"w\") as df:\n",
    "    df.write(\"NOMBREPV,NOMBREDD,DistanceInTime,DistanceInKm\\n\")\n",
    "    for key in distances_pctlm.keys():\n",
    "        df.write(\"%s,%s,%s\\n\"%(key.replace(\", \", \",\"), times_pctlm[key], distances_pctlm[key]))"
   ]
  },
  {
   "cell_type": "code",
   "execution_count": 26,
   "metadata": {},
   "outputs": [],
   "source": [
    "provinceCapitalToLimaMarket = pd.read_csv('2019_04RoadTransportationProvinceCapitalToLimaMarket.csv')"
   ]
  },
  {
   "cell_type": "code",
   "execution_count": 27,
   "metadata": {},
   "outputs": [],
   "source": [
    "createNumberTimeVariable(provinceCapitalToLimaMarket, \"DistanceInTime\", \"provinceCapitalToLimaMarket\")"
   ]
  },
  {
   "cell_type": "code",
   "execution_count": 28,
   "metadata": {},
   "outputs": [
    {
     "output_type": "execute_result",
     "data": {
      "text/plain": [
       "            NOMBREPV        NOMBREDD DistanceInTime DistanceInKm  \\\n",
       "0        CHACHAPOYAS        AMAZONAS    20 h 49 min      1230 km   \n",
       "1             HUARAZ          ANCASH     6 h 56 min       412 km   \n",
       "2           APURÍMAC        APURÍMAC     18 h 7 min       985 km   \n",
       "3           AREQUIPA        AREQUIPA    15 h 42 min      1008 km   \n",
       "4           AYACUCHO        AYACUCHO     8 h 25 min       553 km   \n",
       "5          CAJAMARCA       CAJAMARCA    15 h 12 min       869 km   \n",
       "6              CUSCO           CUSCO    20 h 24 min      1093 km   \n",
       "7       HUANCAVELICA    HUANCAVELICA     6 h 55 min       419 km   \n",
       "8            HUÁNUCO         HUÁNUCO     8 h 40 min       407 km   \n",
       "9                ICA             ICA     3 h 59 min       297 km   \n",
       "10             JUNÍN           JUNÍN      5 h 5 min       225 km   \n",
       "11          TRUJILLO     LA LIBERTAD     9 h 13 min       569 km   \n",
       "12          CHICLAYO      LAMBAYEQUE    12 h 22 min       780 km   \n",
       "13              LIMA            LIMA         23 min      13.2 km   \n",
       "14     ALTO AMAZONAS          LORETO    23 h 19 min      1126 km   \n",
       "15  PUERTO MALDONADO   MADRE DE DIOS           29 h      1824 km   \n",
       "16          MOQUEGUA        MOQUEGUA    16 h 53 min      1096 km   \n",
       "17    CERRO DE PASCO           PASCO     6 h 29 min       304 km   \n",
       "18             PIURA           PIURA    16 h 43 min       999 km   \n",
       "19              PUNO            PUNO    20 h 41 min      1292 km   \n",
       "20         MOYOBAMBA      SAN MARTIN    22 h 56 min      1122 km   \n",
       "21             TACNA           TACNA    18 h 21 min      1221 km   \n",
       "22            TUMBES          TUMBES    21 h 44 min      1282 km   \n",
       "23          PUCALLPA         UCAYALI     16 h 7 min       736 km   \n",
       "\n",
       "   provinceCapitalToLimaMarket  \n",
       "0                         20.8  \n",
       "1                         6.93  \n",
       "2                         18.1  \n",
       "3                         15.7  \n",
       "4                         8.42  \n",
       "5                         15.2  \n",
       "6                         20.4  \n",
       "7                         6.92  \n",
       "8                         8.67  \n",
       "9                         3.98  \n",
       "10                        5.08  \n",
       "11                        9.22  \n",
       "12                        12.4  \n",
       "13                        0.38  \n",
       "14                        23.3  \n",
       "15                          29  \n",
       "16                        16.9  \n",
       "17                        6.48  \n",
       "18                        16.7  \n",
       "19                        20.7  \n",
       "20                        22.9  \n",
       "21                        18.4  \n",
       "22                        21.7  \n",
       "23                        16.1  "
      ],
      "text/html": "<div>\n<style scoped>\n    .dataframe tbody tr th:only-of-type {\n        vertical-align: middle;\n    }\n\n    .dataframe tbody tr th {\n        vertical-align: top;\n    }\n\n    .dataframe thead th {\n        text-align: right;\n    }\n</style>\n<table border=\"1\" class=\"dataframe\">\n  <thead>\n    <tr style=\"text-align: right;\">\n      <th></th>\n      <th>NOMBREPV</th>\n      <th>NOMBREDD</th>\n      <th>DistanceInTime</th>\n      <th>DistanceInKm</th>\n      <th>provinceCapitalToLimaMarket</th>\n    </tr>\n  </thead>\n  <tbody>\n    <tr>\n      <th>0</th>\n      <td>CHACHAPOYAS</td>\n      <td>AMAZONAS</td>\n      <td>20 h 49 min</td>\n      <td>1230 km</td>\n      <td>20.8</td>\n    </tr>\n    <tr>\n      <th>1</th>\n      <td>HUARAZ</td>\n      <td>ANCASH</td>\n      <td>6 h 56 min</td>\n      <td>412 km</td>\n      <td>6.93</td>\n    </tr>\n    <tr>\n      <th>2</th>\n      <td>APURÍMAC</td>\n      <td>APURÍMAC</td>\n      <td>18 h 7 min</td>\n      <td>985 km</td>\n      <td>18.1</td>\n    </tr>\n    <tr>\n      <th>3</th>\n      <td>AREQUIPA</td>\n      <td>AREQUIPA</td>\n      <td>15 h 42 min</td>\n      <td>1008 km</td>\n      <td>15.7</td>\n    </tr>\n    <tr>\n      <th>4</th>\n      <td>AYACUCHO</td>\n      <td>AYACUCHO</td>\n      <td>8 h 25 min</td>\n      <td>553 km</td>\n      <td>8.42</td>\n    </tr>\n    <tr>\n      <th>5</th>\n      <td>CAJAMARCA</td>\n      <td>CAJAMARCA</td>\n      <td>15 h 12 min</td>\n      <td>869 km</td>\n      <td>15.2</td>\n    </tr>\n    <tr>\n      <th>6</th>\n      <td>CUSCO</td>\n      <td>CUSCO</td>\n      <td>20 h 24 min</td>\n      <td>1093 km</td>\n      <td>20.4</td>\n    </tr>\n    <tr>\n      <th>7</th>\n      <td>HUANCAVELICA</td>\n      <td>HUANCAVELICA</td>\n      <td>6 h 55 min</td>\n      <td>419 km</td>\n      <td>6.92</td>\n    </tr>\n    <tr>\n      <th>8</th>\n      <td>HUÁNUCO</td>\n      <td>HUÁNUCO</td>\n      <td>8 h 40 min</td>\n      <td>407 km</td>\n      <td>8.67</td>\n    </tr>\n    <tr>\n      <th>9</th>\n      <td>ICA</td>\n      <td>ICA</td>\n      <td>3 h 59 min</td>\n      <td>297 km</td>\n      <td>3.98</td>\n    </tr>\n    <tr>\n      <th>10</th>\n      <td>JUNÍN</td>\n      <td>JUNÍN</td>\n      <td>5 h 5 min</td>\n      <td>225 km</td>\n      <td>5.08</td>\n    </tr>\n    <tr>\n      <th>11</th>\n      <td>TRUJILLO</td>\n      <td>LA LIBERTAD</td>\n      <td>9 h 13 min</td>\n      <td>569 km</td>\n      <td>9.22</td>\n    </tr>\n    <tr>\n      <th>12</th>\n      <td>CHICLAYO</td>\n      <td>LAMBAYEQUE</td>\n      <td>12 h 22 min</td>\n      <td>780 km</td>\n      <td>12.4</td>\n    </tr>\n    <tr>\n      <th>13</th>\n      <td>LIMA</td>\n      <td>LIMA</td>\n      <td>23 min</td>\n      <td>13.2 km</td>\n      <td>0.38</td>\n    </tr>\n    <tr>\n      <th>14</th>\n      <td>ALTO AMAZONAS</td>\n      <td>LORETO</td>\n      <td>23 h 19 min</td>\n      <td>1126 km</td>\n      <td>23.3</td>\n    </tr>\n    <tr>\n      <th>15</th>\n      <td>PUERTO MALDONADO</td>\n      <td>MADRE DE DIOS</td>\n      <td>29 h</td>\n      <td>1824 km</td>\n      <td>29</td>\n    </tr>\n    <tr>\n      <th>16</th>\n      <td>MOQUEGUA</td>\n      <td>MOQUEGUA</td>\n      <td>16 h 53 min</td>\n      <td>1096 km</td>\n      <td>16.9</td>\n    </tr>\n    <tr>\n      <th>17</th>\n      <td>CERRO DE PASCO</td>\n      <td>PASCO</td>\n      <td>6 h 29 min</td>\n      <td>304 km</td>\n      <td>6.48</td>\n    </tr>\n    <tr>\n      <th>18</th>\n      <td>PIURA</td>\n      <td>PIURA</td>\n      <td>16 h 43 min</td>\n      <td>999 km</td>\n      <td>16.7</td>\n    </tr>\n    <tr>\n      <th>19</th>\n      <td>PUNO</td>\n      <td>PUNO</td>\n      <td>20 h 41 min</td>\n      <td>1292 km</td>\n      <td>20.7</td>\n    </tr>\n    <tr>\n      <th>20</th>\n      <td>MOYOBAMBA</td>\n      <td>SAN MARTIN</td>\n      <td>22 h 56 min</td>\n      <td>1122 km</td>\n      <td>22.9</td>\n    </tr>\n    <tr>\n      <th>21</th>\n      <td>TACNA</td>\n      <td>TACNA</td>\n      <td>18 h 21 min</td>\n      <td>1221 km</td>\n      <td>18.4</td>\n    </tr>\n    <tr>\n      <th>22</th>\n      <td>TUMBES</td>\n      <td>TUMBES</td>\n      <td>21 h 44 min</td>\n      <td>1282 km</td>\n      <td>21.7</td>\n    </tr>\n    <tr>\n      <th>23</th>\n      <td>PUCALLPA</td>\n      <td>UCAYALI</td>\n      <td>16 h 7 min</td>\n      <td>736 km</td>\n      <td>16.1</td>\n    </tr>\n  </tbody>\n</table>\n</div>"
     },
     "metadata": {},
     "execution_count": 28
    }
   ],
   "source": [
    "provinceCapitalToLimaMarket"
   ]
  },
  {
   "cell_type": "code",
   "execution_count": 29,
   "metadata": {},
   "outputs": [],
   "source": [
    "provinceCapitalToLimaMarket.to_csv('2019_04RoadTransportationProvinceCapitalToLimaMarket.csv')"
   ]
  },
  {
   "cell_type": "code",
   "execution_count": null,
   "metadata": {},
   "outputs": [],
   "source": []
  }
 ],
 "metadata": {
  "kernelspec": {
   "name": "python383jvsc74a57bd0aee8b7b246df8f9039afb4144a1f6fd8d2ca17a180786b69acc140d282b71a49",
   "display_name": "Python 3.8.3 64-bit"
  },
  "language_info": {
   "codemirror_mode": {
    "name": "ipython",
    "version": 3
   },
   "file_extension": ".py",
   "mimetype": "text/x-python",
   "name": "python",
   "nbconvert_exporter": "python",
   "pygments_lexer": "ipython3",
   "version": "3.8.3-final"
  }
 },
 "nbformat": 4,
 "nbformat_minor": 4
}