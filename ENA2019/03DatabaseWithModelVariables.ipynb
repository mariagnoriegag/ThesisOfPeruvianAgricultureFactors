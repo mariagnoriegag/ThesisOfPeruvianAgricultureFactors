{
 "cells": [
  {
   "cell_type": "code",
   "execution_count": 1,
   "metadata": {},
   "outputs": [],
   "source": [
    "import numpy as np\n",
    "import pandas as pd\n",
    "from functools import reduce"
   ]
  },
  {
   "cell_type": "code",
   "execution_count": 2,
   "metadata": {},
   "outputs": [],
   "source": [
    "_MULTIINDEX_ = [\"NOMBREDD\", \"NOMBREPV\", \"NOMBREDI\", \"CONGLOMERADO\", \"NSELUA\", \"UA\"]"
   ]
  },
  {
   "cell_type": "code",
   "execution_count": 3,
   "metadata": {},
   "outputs": [],
   "source": [
    "_UACROP_ = [\"NOMBREDD\", \"NOMBREPV\", \"NOMBREDI\", \"CONGLOMERADO\", \"NSELUA\", \"UA\", \"crop\"]"
   ]
  },
  {
   "cell_type": "code",
   "execution_count": 4,
   "metadata": {},
   "outputs": [],
   "source": [
    "_CROPNAME_ = \"PAPA BLANCA\""
   ]
  },
  {
   "cell_type": "code",
   "execution_count": 5,
   "metadata": {},
   "outputs": [],
   "source": [
    "_PATH_ = \"https://public.minsky.cc/maria/market_channel_factors_db\""
   ]
  },
  {
   "cell_type": "code",
   "execution_count": 6,
   "metadata": {},
   "outputs": [],
   "source": [
    "df = pd.read_csv(_PATH_ + \"/\" + \"databases/2019_02DatabaseFilteredByWhitePotato.csv\")"
   ]
  },
  {
   "cell_type": "code",
   "execution_count": 7,
   "metadata": {},
   "outputs": [],
   "source": [
    "df = df.drop(columns=[\"Unnamed: 0\"])"
   ]
  },
  {
   "cell_type": "code",
   "execution_count": 8,
   "metadata": {},
   "outputs": [
    {
     "output_type": "execute_result",
     "data": {
      "text/plain": [
       "Index(['NOMBREDD', 'NOMBREPV', 'NOMBREDI', 'CONGLOMERADO', 'NSELUA', 'UA',\n",
       "       'cropsList', 'crops', 'ANIO', 'CCDD',\n",
       "       ...\n",
       "       'P712_9', 'P713_1', 'P713_2', 'P713_3', 'P713_4', 'P713_5', 'P713_6',\n",
       "       'P713_7', 'P713_8', 'OMICAP700'],\n",
       "      dtype='object', length=538)"
      ]
     },
     "metadata": {},
     "execution_count": 8
    }
   ],
   "source": [
    "df.columns"
   ]
  },
  {
   "cell_type": "code",
   "execution_count": 9,
   "metadata": {},
   "outputs": [],
   "source": [
    "def getVariable_UA_Crops(df, variable):\n",
    "    df_UA_CROPS = df.groupby(_UACROP_)[variable].unique().apply(lambda x: np.sum(x)).reset_index()\n",
    "    return df_UA_CROPS"
   ]
  },
  {
   "cell_type": "markdown",
   "metadata": {},
   "source": [
    "# Productivity"
   ]
  },
  {
   "cell_type": "code",
   "execution_count": 10,
   "metadata": {},
   "outputs": [],
   "source": [
    "def getProduction(df):\n",
    "    df[\"production\"] = (df[\"P219_CANT_1\"] + df[\"P219_CANT_2\"].apply(pd.to_numeric, errors=\"coerce\")/1000) * df[\"P219_EQUIV_KG\"]\n",
    "\n",
    "def getTotalProduction_UA(df_UA_CROPS):\n",
    "    df_total_UA = df_UA_CROPS.groupby(_MULTIINDEX_)[\"production\"].apply(np.sum).reset_index()\n",
    "    return df_total_UA.rename(columns={\"production\": \"totalProduction\"})\n",
    "\n",
    "def getPercentageCropProduction_UA(df, cropName):\n",
    "    getProduction(df)\n",
    "    df_UA_CROPS = getVariable_UA_Crops(df, \"production\")\n",
    "    df_total = getTotalProduction_UA(df_UA_CROPS)\n",
    "    df_crop = df_UA_CROPS[df_UA_CROPS[\"crop\"] == cropName].reset_index(drop=True)\n",
    "    df_concat = pd.concat([df_crop, df_total[\"totalProduction\"]], axis=1, sort=False)\n",
    "    df_concat[\"percentProduction\"] = df_concat[\"production\"] / df_concat[\"totalProduction\"]\n",
    "    return df_concat\n",
    "\n",
    "def getProduction_Sold(df):\n",
    "    df[\"soldProduction\"] = (df[\"P220_1_CANT_1\"] + df[\"P220_1_CANT_2\"].apply(pd.to_numeric, errors=\"coerce\") / 1000) * df[\"P219_EQUIV_KG\"]\n",
    "\n",
    "def getTotalProductionSold_UA(df_UA_CROPS):\n",
    "    df_total_UA = df_UA_CROPS.groupby(_MULTIINDEX_)[\"soldProduction\"].apply(np.sum).reset_index()\n",
    "    return df_total_UA.rename(columns={\"soldProduction\": \"totalSoldProduction\"})\n",
    "\n",
    "def getPercentageCropProductionSold_UA(df, cropName):\n",
    "    getProduction_Sold(df)\n",
    "    df_UA_CROPS = getVariable_UA_Crops(df, \"soldProduction\")\n",
    "    df_total = getTotalProductionSold_UA(df_UA_CROPS)\n",
    "    df_crop = df_UA_CROPS[df_UA_CROPS[\"crop\"] == cropName].reset_index(drop=True)\n",
    "    df_concat = pd.concat([df_crop, df_total[\"totalSoldProduction\"]], axis=1, sort=False)\n",
    "    df_concat[\"percentSoldProduction\"] = df_concat[\"soldProduction\"] / df_concat[\"totalSoldProduction\"]\n",
    "    return df_concat\n",
    "\n",
    "def getCropIncomes(df):\n",
    "    df[\"farmGatePricePerKg\"] = df[\"P220_1_VAL\"] / df[\"soldProduction\"]\n",
    "    df[\"farmGateIncomes\"] = df[\"farmGatePricePerKg\"] * df[\"soldProduction\"]\n",
    "\n",
    "def getTotalCropIncomes_UA(df_UA_CROPS, df_UA_CROPS_kg):\n",
    "    df_total_UA = df_UA_CROPS.groupby(_MULTIINDEX_)[\"farmGateIncomes\"].apply(np.sum).reset_index()\n",
    "    df_total_UA_kg = df_UA_CROPS_kg.groupby(_MULTIINDEX_)[\"farmGatePricePerKg\"].apply(np.sum).reset_index()\n",
    "    return df_total_UA.rename(columns={\"farmGateIncomes\": \"totalFarmGateIncomes\"})\n",
    "\n",
    "def getPercentageCropIncomes_UA(df, cropName):\n",
    "    getCropIncomes(df)\n",
    "    getProduction_Sold(df)\n",
    "    df_UA_CROPS = getVariable_UA_Crops(df, \"farmGateIncomes\")\n",
    "    df_UA_CROPS_kg = getVariable_UA_Crops(df, \"farmGatePricePerKg\")\n",
    "    df_total = getTotalCropIncomes_UA(df_UA_CROPS, df_UA_CROPS_kg)\n",
    "    df_crop = df_UA_CROPS[df_UA_CROPS[\"crop\"] == cropName].reset_index(drop=True)\n",
    "    df_crop_kg = df_UA_CROPS_kg[df_UA_CROPS_kg[\"crop\"] == cropName].reset_index(drop=True)\n",
    "    df_concat = pd.concat([df_crop_kg, df_crop[\"farmGateIncomes\"], df_total[\"totalFarmGateIncomes\"]], axis=1, sort=False)\n",
    "    df_concat[\"percentFarmGateIncomes\"] = df_concat[\"farmGateIncomes\"] / df_concat[\"totalFarmGateIncomes\"]\n",
    "    return df_concat\n",
    "\n",
    "def getAreaSembrada(df):\n",
    "    df[\"plantedArea\"] = df[\"P210_SUP_1\"] + (df[\"P210_SUP_2\"].apply(pd.to_numeric, errors=\"coerce\")/1000)\n",
    "\n",
    "def getTotalAreaSembrada_UA(df_UA_CROPS):\n",
    "    df_totalArea_UA = df_UA_CROPS.groupby(_MULTIINDEX_)[\"plantedArea\"].apply(np.sum).reset_index()\n",
    "    return df_totalArea_UA.rename(columns={\"plantedArea\": \"totalPlantedArea\"})\n",
    "\n",
    "def getPercentageCropPlantedAreaAndYield_UA(df, cropName):\n",
    "    getAreaSembrada(df)\n",
    "    getProduction(df)\n",
    "    df_UA_CROPS = getVariable_UA_Crops(df, \"plantedArea\")\n",
    "    df_UA_CROPS_production = getVariable_UA_Crops(df, \"production\")\n",
    "    df_total_area = getTotalAreaSembrada_UA(df_UA_CROPS)\n",
    "    df_crop_area = df_UA_CROPS[df_UA_CROPS[\"crop\"] == cropName].reset_index(drop=True)\n",
    "    df_crop_production = df_UA_CROPS_production[df_UA_CROPS_production[\"crop\"] == cropName].reset_index(drop=True)\n",
    "    df_concat = pd.concat([df_crop_area, df_total_area[\"totalPlantedArea\"], df_crop_production[\"production\"]], axis=1, sort=False)\n",
    "    df_concat[\"percentPlantedArea\"] = df_concat[\"plantedArea\"] / df_concat[\"totalPlantedArea\"]\n",
    "    df_concat[\"yield\"] = df_concat[\"production\"] / df_concat[\"plantedArea\"]\n",
    "    return df_concat"
   ]
  },
  {
   "cell_type": "code",
   "execution_count": 11,
   "metadata": {},
   "outputs": [],
   "source": [
    "def mergeDataFrames(dfArray, indices):\n",
    "    dfList = []\n",
    "    for df in dfArray:\n",
    "        dfList.append(df)\n",
    "    df = reduce(lambda x, y: pd.merge(x, y, how=\"left\", on = indices, suffixes=(\"\", \"_y\")), dfList)\n",
    "    filter = [col for col in df if col.endswith(\"y\")]\n",
    "    #Eliminar\n",
    "    df_drop = df.drop(columns=filter)\n",
    "    #Seleccionar\n",
    "    df_keep = df[filter]\n",
    "    return df_drop"
   ]
  },
  {
   "cell_type": "code",
   "execution_count": 12,
   "metadata": {},
   "outputs": [],
   "source": [
    "df_production = getPercentageCropProduction_UA(df, _CROPNAME_)\n",
    "df_soldProduction = getPercentageCropProductionSold_UA(df, _CROPNAME_)\n",
    "df_incomes = getPercentageCropIncomes_UA(df, _CROPNAME_)\n",
    "df_plantedAreaAndYield = getPercentageCropPlantedAreaAndYield_UA(df, _CROPNAME_)"
   ]
  },
  {
   "cell_type": "code",
   "execution_count": 14,
   "metadata": {},
   "outputs": [],
   "source": [
    "df01 = mergeDataFrames([df_production, df_soldProduction, df_incomes, df_plantedAreaAndYield], _MULTIINDEX_)"
   ]
  },
  {
   "cell_type": "code",
   "execution_count": 14,
   "metadata": {},
   "outputs": [],
   "source": [
    "#df01"
   ]
  },
  {
   "cell_type": "code",
   "execution_count": 15,
   "metadata": {},
   "outputs": [
    {
     "output_type": "execute_result",
     "data": {
      "text/plain": [
       "Index(['NOMBREDD', 'NOMBREPV', 'NOMBREDI', 'CONGLOMERADO', 'NSELUA', 'UA',\n",
       "       'crop', 'production', 'totalProduction', 'percentProduction',\n",
       "       'soldProduction', 'totalSoldProduction', 'percentSoldProduction',\n",
       "       'farmGatePricePerKg', 'farmGateIncomes', 'totalFarmGateIncomes',\n",
       "       'percentFarmGateIncomes', 'plantedArea', 'totalPlantedArea',\n",
       "       'percentPlantedArea', 'yield'],\n",
       "      dtype='object')"
      ]
     },
     "metadata": {},
     "execution_count": 15
    }
   ],
   "source": [
    "df01.columns"
   ]
  },
  {
   "cell_type": "code",
   "execution_count": 16,
   "metadata": {},
   "outputs": [
    {
     "output_type": "execute_result",
     "data": {
      "text/plain": [
       "<matplotlib.axes._subplots.AxesSubplot at 0x1516dbd30>"
      ]
     },
     "metadata": {},
     "execution_count": 16
    },
    {
     "output_type": "display_data",
     "data": {
      "text/plain": "<Figure size 432x288 with 1 Axes>",
      "image/svg+xml": "<?xml version=\"1.0\" encoding=\"utf-8\" standalone=\"no\"?>\n<!DOCTYPE svg PUBLIC \"-//W3C//DTD SVG 1.1//EN\"\n  \"http://www.w3.org/Graphics/SVG/1.1/DTD/svg11.dtd\">\n<!-- Created with matplotlib (https://matplotlib.org/) -->\n<svg height=\"248.518125pt\" version=\"1.1\" viewBox=\"0 0 375.2875 248.518125\" width=\"375.2875pt\" xmlns=\"http://www.w3.org/2000/svg\" xmlns:xlink=\"http://www.w3.org/1999/xlink\">\n <defs>\n  <style type=\"text/css\">\n*{stroke-linecap:butt;stroke-linejoin:round;}\n  </style>\n </defs>\n <g id=\"figure_1\">\n  <g id=\"patch_1\">\n   <path d=\"M 0 248.518125 \nL 375.2875 248.518125 \nL 375.2875 0 \nL 0 0 \nz\n\" style=\"fill:none;\"/>\n  </g>\n  <g id=\"axes_1\">\n   <g id=\"patch_2\">\n    <path d=\"M 33.2875 224.64 \nL 368.0875 224.64 \nL 368.0875 7.2 \nL 33.2875 7.2 \nz\n\" style=\"fill:#ffffff;\"/>\n   </g>\n   <g id=\"patch_3\">\n    <path clip-path=\"url(#p40320fec8d)\" d=\"M 48.505682 224.64 \nL 78.942045 224.64 \nL 78.942045 204.258538 \nL 48.505682 204.258538 \nz\n\" style=\"fill:#1f77b4;\"/>\n   </g>\n   <g id=\"patch_4\">\n    <path clip-path=\"url(#p40320fec8d)\" d=\"M 78.942045 224.64 \nL 109.378409 224.64 \nL 109.378409 186.64493 \nL 78.942045 186.64493 \nz\n\" style=\"fill:#1f77b4;\"/>\n   </g>\n   <g id=\"patch_5\">\n    <path clip-path=\"url(#p40320fec8d)\" d=\"M 109.378409 224.64 \nL 139.814773 224.64 \nL 139.814773 191.425766 \nL 109.378409 191.425766 \nz\n\" style=\"fill:#1f77b4;\"/>\n   </g>\n   <g id=\"patch_6\">\n    <path clip-path=\"url(#p40320fec8d)\" d=\"M 139.814773 224.64 \nL 170.251136 224.64 \nL 170.251136 193.187127 \nL 139.814773 193.187127 \nz\n\" style=\"fill:#1f77b4;\"/>\n   </g>\n   <g id=\"patch_7\">\n    <path clip-path=\"url(#p40320fec8d)\" d=\"M 170.251136 224.64 \nL 200.6875 224.64 \nL 200.6875 193.43875 \nL 170.251136 193.43875 \nz\n\" style=\"fill:#1f77b4;\"/>\n   </g>\n   <g id=\"patch_8\">\n    <path clip-path=\"url(#p40320fec8d)\" d=\"M 200.6875 224.64 \nL 231.123864 224.64 \nL 231.123864 187.903045 \nL 200.6875 187.903045 \nz\n\" style=\"fill:#1f77b4;\"/>\n   </g>\n   <g id=\"patch_9\">\n    <path clip-path=\"url(#p40320fec8d)\" d=\"M 231.123864 224.64 \nL 261.560227 224.64 \nL 261.560227 194.696865 \nL 231.123864 194.696865 \nz\n\" style=\"fill:#1f77b4;\"/>\n   </g>\n   <g id=\"patch_10\">\n    <path clip-path=\"url(#p40320fec8d)\" d=\"M 261.560227 224.64 \nL 291.996591 224.64 \nL 291.996591 190.167651 \nL 261.560227 190.167651 \nz\n\" style=\"fill:#1f77b4;\"/>\n   </g>\n   <g id=\"patch_11\">\n    <path clip-path=\"url(#p40320fec8d)\" d=\"M 291.996591 224.64 \nL 322.432955 224.64 \nL 322.432955 196.709849 \nL 291.996591 196.709849 \nz\n\" style=\"fill:#1f77b4;\"/>\n   </g>\n   <g id=\"patch_12\">\n    <path clip-path=\"url(#p40320fec8d)\" d=\"M 322.432955 224.64 \nL 352.869318 224.64 \nL 352.869318 17.554286 \nL 322.432955 17.554286 \nz\n\" style=\"fill:#1f77b4;\"/>\n   </g>\n   <g id=\"matplotlib.axis_1\">\n    <g id=\"xtick_1\">\n     <g id=\"line2d_1\">\n      <path clip-path=\"url(#p40320fec8d)\" d=\"M 47.346201 224.64 \nL 47.346201 7.2 \n\" style=\"fill:none;stroke:#b0b0b0;stroke-linecap:square;stroke-width:0.8;\"/>\n     </g>\n     <g id=\"line2d_2\">\n      <defs>\n       <path d=\"M 0 0 \nL 0 3.5 \n\" id=\"m24ffaf708f\" style=\"stroke:#000000;stroke-width:0.8;\"/>\n      </defs>\n      <g>\n       <use style=\"stroke:#000000;stroke-width:0.8;\" x=\"47.346201\" xlink:href=\"#m24ffaf708f\" y=\"224.64\"/>\n      </g>\n     </g>\n     <g id=\"text_1\">\n      <!-- 0.0 -->\n      <defs>\n       <path d=\"M 31.78125 66.40625 \nQ 24.171875 66.40625 20.328125 58.90625 \nQ 16.5 51.421875 16.5 36.375 \nQ 16.5 21.390625 20.328125 13.890625 \nQ 24.171875 6.390625 31.78125 6.390625 \nQ 39.453125 6.390625 43.28125 13.890625 \nQ 47.125 21.390625 47.125 36.375 \nQ 47.125 51.421875 43.28125 58.90625 \nQ 39.453125 66.40625 31.78125 66.40625 \nz\nM 31.78125 74.21875 \nQ 44.046875 74.21875 50.515625 64.515625 \nQ 56.984375 54.828125 56.984375 36.375 \nQ 56.984375 17.96875 50.515625 8.265625 \nQ 44.046875 -1.421875 31.78125 -1.421875 \nQ 19.53125 -1.421875 13.0625 8.265625 \nQ 6.59375 17.96875 6.59375 36.375 \nQ 6.59375 54.828125 13.0625 64.515625 \nQ 19.53125 74.21875 31.78125 74.21875 \nz\n\" id=\"DejaVuSans-48\"/>\n       <path d=\"M 10.6875 12.40625 \nL 21 12.40625 \nL 21 0 \nL 10.6875 0 \nz\n\" id=\"DejaVuSans-46\"/>\n      </defs>\n      <g transform=\"translate(39.394639 239.238437)scale(0.1 -0.1)\">\n       <use xlink:href=\"#DejaVuSans-48\"/>\n       <use x=\"63.623047\" xlink:href=\"#DejaVuSans-46\"/>\n       <use x=\"95.410156\" xlink:href=\"#DejaVuSans-48\"/>\n      </g>\n     </g>\n    </g>\n    <g id=\"xtick_2\">\n     <g id=\"line2d_3\">\n      <path clip-path=\"url(#p40320fec8d)\" d=\"M 108.450825 224.64 \nL 108.450825 7.2 \n\" style=\"fill:none;stroke:#b0b0b0;stroke-linecap:square;stroke-width:0.8;\"/>\n     </g>\n     <g id=\"line2d_4\">\n      <g>\n       <use style=\"stroke:#000000;stroke-width:0.8;\" x=\"108.450825\" xlink:href=\"#m24ffaf708f\" y=\"224.64\"/>\n      </g>\n     </g>\n     <g id=\"text_2\">\n      <!-- 0.2 -->\n      <defs>\n       <path d=\"M 19.1875 8.296875 \nL 53.609375 8.296875 \nL 53.609375 0 \nL 7.328125 0 \nL 7.328125 8.296875 \nQ 12.9375 14.109375 22.625 23.890625 \nQ 32.328125 33.6875 34.8125 36.53125 \nQ 39.546875 41.84375 41.421875 45.53125 \nQ 43.3125 49.21875 43.3125 52.78125 \nQ 43.3125 58.59375 39.234375 62.25 \nQ 35.15625 65.921875 28.609375 65.921875 \nQ 23.96875 65.921875 18.8125 64.3125 \nQ 13.671875 62.703125 7.8125 59.421875 \nL 7.8125 69.390625 \nQ 13.765625 71.78125 18.9375 73 \nQ 24.125 74.21875 28.421875 74.21875 \nQ 39.75 74.21875 46.484375 68.546875 \nQ 53.21875 62.890625 53.21875 53.421875 \nQ 53.21875 48.921875 51.53125 44.890625 \nQ 49.859375 40.875 45.40625 35.40625 \nQ 44.1875 33.984375 37.640625 27.21875 \nQ 31.109375 20.453125 19.1875 8.296875 \nz\n\" id=\"DejaVuSans-50\"/>\n      </defs>\n      <g transform=\"translate(100.499262 239.238437)scale(0.1 -0.1)\">\n       <use xlink:href=\"#DejaVuSans-48\"/>\n       <use x=\"63.623047\" xlink:href=\"#DejaVuSans-46\"/>\n       <use x=\"95.410156\" xlink:href=\"#DejaVuSans-50\"/>\n      </g>\n     </g>\n    </g>\n    <g id=\"xtick_3\">\n     <g id=\"line2d_5\">\n      <path clip-path=\"url(#p40320fec8d)\" d=\"M 169.555448 224.64 \nL 169.555448 7.2 \n\" style=\"fill:none;stroke:#b0b0b0;stroke-linecap:square;stroke-width:0.8;\"/>\n     </g>\n     <g id=\"line2d_6\">\n      <g>\n       <use style=\"stroke:#000000;stroke-width:0.8;\" x=\"169.555448\" xlink:href=\"#m24ffaf708f\" y=\"224.64\"/>\n      </g>\n     </g>\n     <g id=\"text_3\">\n      <!-- 0.4 -->\n      <defs>\n       <path d=\"M 37.796875 64.3125 \nL 12.890625 25.390625 \nL 37.796875 25.390625 \nz\nM 35.203125 72.90625 \nL 47.609375 72.90625 \nL 47.609375 25.390625 \nL 58.015625 25.390625 \nL 58.015625 17.1875 \nL 47.609375 17.1875 \nL 47.609375 0 \nL 37.796875 0 \nL 37.796875 17.1875 \nL 4.890625 17.1875 \nL 4.890625 26.703125 \nz\n\" id=\"DejaVuSans-52\"/>\n      </defs>\n      <g transform=\"translate(161.603886 239.238437)scale(0.1 -0.1)\">\n       <use xlink:href=\"#DejaVuSans-48\"/>\n       <use x=\"63.623047\" xlink:href=\"#DejaVuSans-46\"/>\n       <use x=\"95.410156\" xlink:href=\"#DejaVuSans-52\"/>\n      </g>\n     </g>\n    </g>\n    <g id=\"xtick_4\">\n     <g id=\"line2d_7\">\n      <path clip-path=\"url(#p40320fec8d)\" d=\"M 230.660071 224.64 \nL 230.660071 7.2 \n\" style=\"fill:none;stroke:#b0b0b0;stroke-linecap:square;stroke-width:0.8;\"/>\n     </g>\n     <g id=\"line2d_8\">\n      <g>\n       <use style=\"stroke:#000000;stroke-width:0.8;\" x=\"230.660071\" xlink:href=\"#m24ffaf708f\" y=\"224.64\"/>\n      </g>\n     </g>\n     <g id=\"text_4\">\n      <!-- 0.6 -->\n      <defs>\n       <path d=\"M 33.015625 40.375 \nQ 26.375 40.375 22.484375 35.828125 \nQ 18.609375 31.296875 18.609375 23.390625 \nQ 18.609375 15.53125 22.484375 10.953125 \nQ 26.375 6.390625 33.015625 6.390625 \nQ 39.65625 6.390625 43.53125 10.953125 \nQ 47.40625 15.53125 47.40625 23.390625 \nQ 47.40625 31.296875 43.53125 35.828125 \nQ 39.65625 40.375 33.015625 40.375 \nz\nM 52.59375 71.296875 \nL 52.59375 62.3125 \nQ 48.875 64.0625 45.09375 64.984375 \nQ 41.3125 65.921875 37.59375 65.921875 \nQ 27.828125 65.921875 22.671875 59.328125 \nQ 17.53125 52.734375 16.796875 39.40625 \nQ 19.671875 43.65625 24.015625 45.921875 \nQ 28.375 48.1875 33.59375 48.1875 \nQ 44.578125 48.1875 50.953125 41.515625 \nQ 57.328125 34.859375 57.328125 23.390625 \nQ 57.328125 12.15625 50.6875 5.359375 \nQ 44.046875 -1.421875 33.015625 -1.421875 \nQ 20.359375 -1.421875 13.671875 8.265625 \nQ 6.984375 17.96875 6.984375 36.375 \nQ 6.984375 53.65625 15.1875 63.9375 \nQ 23.390625 74.21875 37.203125 74.21875 \nQ 40.921875 74.21875 44.703125 73.484375 \nQ 48.484375 72.75 52.59375 71.296875 \nz\n\" id=\"DejaVuSans-54\"/>\n      </defs>\n      <g transform=\"translate(222.708509 239.238437)scale(0.1 -0.1)\">\n       <use xlink:href=\"#DejaVuSans-48\"/>\n       <use x=\"63.623047\" xlink:href=\"#DejaVuSans-46\"/>\n       <use x=\"95.410156\" xlink:href=\"#DejaVuSans-54\"/>\n      </g>\n     </g>\n    </g>\n    <g id=\"xtick_5\">\n     <g id=\"line2d_9\">\n      <path clip-path=\"url(#p40320fec8d)\" d=\"M 291.764695 224.64 \nL 291.764695 7.2 \n\" style=\"fill:none;stroke:#b0b0b0;stroke-linecap:square;stroke-width:0.8;\"/>\n     </g>\n     <g id=\"line2d_10\">\n      <g>\n       <use style=\"stroke:#000000;stroke-width:0.8;\" x=\"291.764695\" xlink:href=\"#m24ffaf708f\" y=\"224.64\"/>\n      </g>\n     </g>\n     <g id=\"text_5\">\n      <!-- 0.8 -->\n      <defs>\n       <path d=\"M 31.78125 34.625 \nQ 24.75 34.625 20.71875 30.859375 \nQ 16.703125 27.09375 16.703125 20.515625 \nQ 16.703125 13.921875 20.71875 10.15625 \nQ 24.75 6.390625 31.78125 6.390625 \nQ 38.8125 6.390625 42.859375 10.171875 \nQ 46.921875 13.96875 46.921875 20.515625 \nQ 46.921875 27.09375 42.890625 30.859375 \nQ 38.875 34.625 31.78125 34.625 \nz\nM 21.921875 38.8125 \nQ 15.578125 40.375 12.03125 44.71875 \nQ 8.5 49.078125 8.5 55.328125 \nQ 8.5 64.0625 14.71875 69.140625 \nQ 20.953125 74.21875 31.78125 74.21875 \nQ 42.671875 74.21875 48.875 69.140625 \nQ 55.078125 64.0625 55.078125 55.328125 \nQ 55.078125 49.078125 51.53125 44.71875 \nQ 48 40.375 41.703125 38.8125 \nQ 48.828125 37.15625 52.796875 32.3125 \nQ 56.78125 27.484375 56.78125 20.515625 \nQ 56.78125 9.90625 50.3125 4.234375 \nQ 43.84375 -1.421875 31.78125 -1.421875 \nQ 19.734375 -1.421875 13.25 4.234375 \nQ 6.78125 9.90625 6.78125 20.515625 \nQ 6.78125 27.484375 10.78125 32.3125 \nQ 14.796875 37.15625 21.921875 38.8125 \nz\nM 18.3125 54.390625 \nQ 18.3125 48.734375 21.84375 45.5625 \nQ 25.390625 42.390625 31.78125 42.390625 \nQ 38.140625 42.390625 41.71875 45.5625 \nQ 45.3125 48.734375 45.3125 54.390625 \nQ 45.3125 60.0625 41.71875 63.234375 \nQ 38.140625 66.40625 31.78125 66.40625 \nQ 25.390625 66.40625 21.84375 63.234375 \nQ 18.3125 60.0625 18.3125 54.390625 \nz\n\" id=\"DejaVuSans-56\"/>\n      </defs>\n      <g transform=\"translate(283.813132 239.238437)scale(0.1 -0.1)\">\n       <use xlink:href=\"#DejaVuSans-48\"/>\n       <use x=\"63.623047\" xlink:href=\"#DejaVuSans-46\"/>\n       <use x=\"95.410156\" xlink:href=\"#DejaVuSans-56\"/>\n      </g>\n     </g>\n    </g>\n    <g id=\"xtick_6\">\n     <g id=\"line2d_11\">\n      <path clip-path=\"url(#p40320fec8d)\" d=\"M 352.869318 224.64 \nL 352.869318 7.2 \n\" style=\"fill:none;stroke:#b0b0b0;stroke-linecap:square;stroke-width:0.8;\"/>\n     </g>\n     <g id=\"line2d_12\">\n      <g>\n       <use style=\"stroke:#000000;stroke-width:0.8;\" x=\"352.869318\" xlink:href=\"#m24ffaf708f\" y=\"224.64\"/>\n      </g>\n     </g>\n     <g id=\"text_6\">\n      <!-- 1.0 -->\n      <defs>\n       <path d=\"M 12.40625 8.296875 \nL 28.515625 8.296875 \nL 28.515625 63.921875 \nL 10.984375 60.40625 \nL 10.984375 69.390625 \nL 28.421875 72.90625 \nL 38.28125 72.90625 \nL 38.28125 8.296875 \nL 54.390625 8.296875 \nL 54.390625 0 \nL 12.40625 0 \nz\n\" id=\"DejaVuSans-49\"/>\n      </defs>\n      <g transform=\"translate(344.917756 239.238437)scale(0.1 -0.1)\">\n       <use xlink:href=\"#DejaVuSans-49\"/>\n       <use x=\"63.623047\" xlink:href=\"#DejaVuSans-46\"/>\n       <use x=\"95.410156\" xlink:href=\"#DejaVuSans-48\"/>\n      </g>\n     </g>\n    </g>\n   </g>\n   <g id=\"matplotlib.axis_2\">\n    <g id=\"ytick_1\">\n     <g id=\"line2d_13\">\n      <path clip-path=\"url(#p40320fec8d)\" d=\"M 33.2875 224.64 \nL 368.0875 224.64 \n\" style=\"fill:none;stroke:#b0b0b0;stroke-linecap:square;stroke-width:0.8;\"/>\n     </g>\n     <g id=\"line2d_14\">\n      <defs>\n       <path d=\"M 0 0 \nL -3.5 0 \n\" id=\"md2c73ee1ca\" style=\"stroke:#000000;stroke-width:0.8;\"/>\n      </defs>\n      <g>\n       <use style=\"stroke:#000000;stroke-width:0.8;\" x=\"33.2875\" xlink:href=\"#md2c73ee1ca\" y=\"224.64\"/>\n      </g>\n     </g>\n     <g id=\"text_7\">\n      <!-- 0 -->\n      <g transform=\"translate(19.925 228.439219)scale(0.1 -0.1)\">\n       <use xlink:href=\"#DejaVuSans-48\"/>\n      </g>\n     </g>\n    </g>\n    <g id=\"ytick_2\">\n     <g id=\"line2d_15\">\n      <path clip-path=\"url(#p40320fec8d)\" d=\"M 33.2875 199.477702 \nL 368.0875 199.477702 \n\" style=\"fill:none;stroke:#b0b0b0;stroke-linecap:square;stroke-width:0.8;\"/>\n     </g>\n     <g id=\"line2d_16\">\n      <g>\n       <use style=\"stroke:#000000;stroke-width:0.8;\" x=\"33.2875\" xlink:href=\"#md2c73ee1ca\" y=\"199.477702\"/>\n      </g>\n     </g>\n     <g id=\"text_8\">\n      <!-- 100 -->\n      <g transform=\"translate(7.2 203.276921)scale(0.1 -0.1)\">\n       <use xlink:href=\"#DejaVuSans-49\"/>\n       <use x=\"63.623047\" xlink:href=\"#DejaVuSans-48\"/>\n       <use x=\"127.246094\" xlink:href=\"#DejaVuSans-48\"/>\n      </g>\n     </g>\n    </g>\n    <g id=\"ytick_3\">\n     <g id=\"line2d_17\">\n      <path clip-path=\"url(#p40320fec8d)\" d=\"M 33.2875 174.315404 \nL 368.0875 174.315404 \n\" style=\"fill:none;stroke:#b0b0b0;stroke-linecap:square;stroke-width:0.8;\"/>\n     </g>\n     <g id=\"line2d_18\">\n      <g>\n       <use style=\"stroke:#000000;stroke-width:0.8;\" x=\"33.2875\" xlink:href=\"#md2c73ee1ca\" y=\"174.315404\"/>\n      </g>\n     </g>\n     <g id=\"text_9\">\n      <!-- 200 -->\n      <g transform=\"translate(7.2 178.114622)scale(0.1 -0.1)\">\n       <use xlink:href=\"#DejaVuSans-50\"/>\n       <use x=\"63.623047\" xlink:href=\"#DejaVuSans-48\"/>\n       <use x=\"127.246094\" xlink:href=\"#DejaVuSans-48\"/>\n      </g>\n     </g>\n    </g>\n    <g id=\"ytick_4\">\n     <g id=\"line2d_19\">\n      <path clip-path=\"url(#p40320fec8d)\" d=\"M 33.2875 149.153105 \nL 368.0875 149.153105 \n\" style=\"fill:none;stroke:#b0b0b0;stroke-linecap:square;stroke-width:0.8;\"/>\n     </g>\n     <g id=\"line2d_20\">\n      <g>\n       <use style=\"stroke:#000000;stroke-width:0.8;\" x=\"33.2875\" xlink:href=\"#md2c73ee1ca\" y=\"149.153105\"/>\n      </g>\n     </g>\n     <g id=\"text_10\">\n      <!-- 300 -->\n      <defs>\n       <path d=\"M 40.578125 39.3125 \nQ 47.65625 37.796875 51.625 33 \nQ 55.609375 28.21875 55.609375 21.1875 \nQ 55.609375 10.40625 48.1875 4.484375 \nQ 40.765625 -1.421875 27.09375 -1.421875 \nQ 22.515625 -1.421875 17.65625 -0.515625 \nQ 12.796875 0.390625 7.625 2.203125 \nL 7.625 11.71875 \nQ 11.71875 9.328125 16.59375 8.109375 \nQ 21.484375 6.890625 26.8125 6.890625 \nQ 36.078125 6.890625 40.9375 10.546875 \nQ 45.796875 14.203125 45.796875 21.1875 \nQ 45.796875 27.640625 41.28125 31.265625 \nQ 36.765625 34.90625 28.71875 34.90625 \nL 20.21875 34.90625 \nL 20.21875 43.015625 \nL 29.109375 43.015625 \nQ 36.375 43.015625 40.234375 45.921875 \nQ 44.09375 48.828125 44.09375 54.296875 \nQ 44.09375 59.90625 40.109375 62.90625 \nQ 36.140625 65.921875 28.71875 65.921875 \nQ 24.65625 65.921875 20.015625 65.03125 \nQ 15.375 64.15625 9.8125 62.3125 \nL 9.8125 71.09375 \nQ 15.4375 72.65625 20.34375 73.4375 \nQ 25.25 74.21875 29.59375 74.21875 \nQ 40.828125 74.21875 47.359375 69.109375 \nQ 53.90625 64.015625 53.90625 55.328125 \nQ 53.90625 49.265625 50.4375 45.09375 \nQ 46.96875 40.921875 40.578125 39.3125 \nz\n\" id=\"DejaVuSans-51\"/>\n      </defs>\n      <g transform=\"translate(7.2 152.952324)scale(0.1 -0.1)\">\n       <use xlink:href=\"#DejaVuSans-51\"/>\n       <use x=\"63.623047\" xlink:href=\"#DejaVuSans-48\"/>\n       <use x=\"127.246094\" xlink:href=\"#DejaVuSans-48\"/>\n      </g>\n     </g>\n    </g>\n    <g id=\"ytick_5\">\n     <g id=\"line2d_21\">\n      <path clip-path=\"url(#p40320fec8d)\" d=\"M 33.2875 123.990807 \nL 368.0875 123.990807 \n\" style=\"fill:none;stroke:#b0b0b0;stroke-linecap:square;stroke-width:0.8;\"/>\n     </g>\n     <g id=\"line2d_22\">\n      <g>\n       <use style=\"stroke:#000000;stroke-width:0.8;\" x=\"33.2875\" xlink:href=\"#md2c73ee1ca\" y=\"123.990807\"/>\n      </g>\n     </g>\n     <g id=\"text_11\">\n      <!-- 400 -->\n      <g transform=\"translate(7.2 127.790026)scale(0.1 -0.1)\">\n       <use xlink:href=\"#DejaVuSans-52\"/>\n       <use x=\"63.623047\" xlink:href=\"#DejaVuSans-48\"/>\n       <use x=\"127.246094\" xlink:href=\"#DejaVuSans-48\"/>\n      </g>\n     </g>\n    </g>\n    <g id=\"ytick_6\">\n     <g id=\"line2d_23\">\n      <path clip-path=\"url(#p40320fec8d)\" d=\"M 33.2875 98.828509 \nL 368.0875 98.828509 \n\" style=\"fill:none;stroke:#b0b0b0;stroke-linecap:square;stroke-width:0.8;\"/>\n     </g>\n     <g id=\"line2d_24\">\n      <g>\n       <use style=\"stroke:#000000;stroke-width:0.8;\" x=\"33.2875\" xlink:href=\"#md2c73ee1ca\" y=\"98.828509\"/>\n      </g>\n     </g>\n     <g id=\"text_12\">\n      <!-- 500 -->\n      <defs>\n       <path d=\"M 10.796875 72.90625 \nL 49.515625 72.90625 \nL 49.515625 64.59375 \nL 19.828125 64.59375 \nL 19.828125 46.734375 \nQ 21.96875 47.46875 24.109375 47.828125 \nQ 26.265625 48.1875 28.421875 48.1875 \nQ 40.625 48.1875 47.75 41.5 \nQ 54.890625 34.8125 54.890625 23.390625 \nQ 54.890625 11.625 47.5625 5.09375 \nQ 40.234375 -1.421875 26.90625 -1.421875 \nQ 22.3125 -1.421875 17.546875 -0.640625 \nQ 12.796875 0.140625 7.71875 1.703125 \nL 7.71875 11.625 \nQ 12.109375 9.234375 16.796875 8.0625 \nQ 21.484375 6.890625 26.703125 6.890625 \nQ 35.15625 6.890625 40.078125 11.328125 \nQ 45.015625 15.765625 45.015625 23.390625 \nQ 45.015625 31 40.078125 35.4375 \nQ 35.15625 39.890625 26.703125 39.890625 \nQ 22.75 39.890625 18.8125 39.015625 \nQ 14.890625 38.140625 10.796875 36.28125 \nz\n\" id=\"DejaVuSans-53\"/>\n      </defs>\n      <g transform=\"translate(7.2 102.627728)scale(0.1 -0.1)\">\n       <use xlink:href=\"#DejaVuSans-53\"/>\n       <use x=\"63.623047\" xlink:href=\"#DejaVuSans-48\"/>\n       <use x=\"127.246094\" xlink:href=\"#DejaVuSans-48\"/>\n      </g>\n     </g>\n    </g>\n    <g id=\"ytick_7\">\n     <g id=\"line2d_25\">\n      <path clip-path=\"url(#p40320fec8d)\" d=\"M 33.2875 73.666211 \nL 368.0875 73.666211 \n\" style=\"fill:none;stroke:#b0b0b0;stroke-linecap:square;stroke-width:0.8;\"/>\n     </g>\n     <g id=\"line2d_26\">\n      <g>\n       <use style=\"stroke:#000000;stroke-width:0.8;\" x=\"33.2875\" xlink:href=\"#md2c73ee1ca\" y=\"73.666211\"/>\n      </g>\n     </g>\n     <g id=\"text_13\">\n      <!-- 600 -->\n      <g transform=\"translate(7.2 77.465429)scale(0.1 -0.1)\">\n       <use xlink:href=\"#DejaVuSans-54\"/>\n       <use x=\"63.623047\" xlink:href=\"#DejaVuSans-48\"/>\n       <use x=\"127.246094\" xlink:href=\"#DejaVuSans-48\"/>\n      </g>\n     </g>\n    </g>\n    <g id=\"ytick_8\">\n     <g id=\"line2d_27\">\n      <path clip-path=\"url(#p40320fec8d)\" d=\"M 33.2875 48.503913 \nL 368.0875 48.503913 \n\" style=\"fill:none;stroke:#b0b0b0;stroke-linecap:square;stroke-width:0.8;\"/>\n     </g>\n     <g id=\"line2d_28\">\n      <g>\n       <use style=\"stroke:#000000;stroke-width:0.8;\" x=\"33.2875\" xlink:href=\"#md2c73ee1ca\" y=\"48.503913\"/>\n      </g>\n     </g>\n     <g id=\"text_14\">\n      <!-- 700 -->\n      <defs>\n       <path d=\"M 8.203125 72.90625 \nL 55.078125 72.90625 \nL 55.078125 68.703125 \nL 28.609375 0 \nL 18.3125 0 \nL 43.21875 64.59375 \nL 8.203125 64.59375 \nz\n\" id=\"DejaVuSans-55\"/>\n      </defs>\n      <g transform=\"translate(7.2 52.303131)scale(0.1 -0.1)\">\n       <use xlink:href=\"#DejaVuSans-55\"/>\n       <use x=\"63.623047\" xlink:href=\"#DejaVuSans-48\"/>\n       <use x=\"127.246094\" xlink:href=\"#DejaVuSans-48\"/>\n      </g>\n     </g>\n    </g>\n    <g id=\"ytick_9\">\n     <g id=\"line2d_29\">\n      <path clip-path=\"url(#p40320fec8d)\" d=\"M 33.2875 23.341614 \nL 368.0875 23.341614 \n\" style=\"fill:none;stroke:#b0b0b0;stroke-linecap:square;stroke-width:0.8;\"/>\n     </g>\n     <g id=\"line2d_30\">\n      <g>\n       <use style=\"stroke:#000000;stroke-width:0.8;\" x=\"33.2875\" xlink:href=\"#md2c73ee1ca\" y=\"23.341614\"/>\n      </g>\n     </g>\n     <g id=\"text_15\">\n      <!-- 800 -->\n      <g transform=\"translate(7.2 27.140833)scale(0.1 -0.1)\">\n       <use xlink:href=\"#DejaVuSans-56\"/>\n       <use x=\"63.623047\" xlink:href=\"#DejaVuSans-48\"/>\n       <use x=\"127.246094\" xlink:href=\"#DejaVuSans-48\"/>\n      </g>\n     </g>\n    </g>\n   </g>\n   <g id=\"patch_13\">\n    <path d=\"M 33.2875 224.64 \nL 33.2875 7.2 \n\" style=\"fill:none;stroke:#000000;stroke-linecap:square;stroke-linejoin:miter;stroke-width:0.8;\"/>\n   </g>\n   <g id=\"patch_14\">\n    <path d=\"M 368.0875 224.64 \nL 368.0875 7.2 \n\" style=\"fill:none;stroke:#000000;stroke-linecap:square;stroke-linejoin:miter;stroke-width:0.8;\"/>\n   </g>\n   <g id=\"patch_15\">\n    <path d=\"M 33.2875 224.64 \nL 368.0875 224.64 \n\" style=\"fill:none;stroke:#000000;stroke-linecap:square;stroke-linejoin:miter;stroke-width:0.8;\"/>\n   </g>\n   <g id=\"patch_16\">\n    <path d=\"M 33.2875 7.2 \nL 368.0875 7.2 \n\" style=\"fill:none;stroke:#000000;stroke-linecap:square;stroke-linejoin:miter;stroke-width:0.8;\"/>\n   </g>\n  </g>\n </g>\n <defs>\n  <clipPath id=\"p40320fec8d\">\n   <rect height=\"217.44\" width=\"334.8\" x=\"33.2875\" y=\"7.2\"/>\n  </clipPath>\n </defs>\n</svg>\n",
      "image/png": "[encoded data removed]"
     },
     "metadata": {
      "needs_background": "light"
     }
    }
   ],
   "source": [
    "#df01[\"percentFarmGateIncomes\"].hist()"
   ]
  },
  {
   "cell_type": "code",
   "execution_count": 17,
   "metadata": {},
   "outputs": [],
   "source": [
    "def filteringBySoldProductionAndFarmGateIncomesMoreThanZero(df):\n",
    "    new = df[df[\"soldProduction\"] > 0].reset_index(drop=True)\n",
    "    return new[new[\"farmGateIncomes\"] > 0].reset_index(drop=True)"
   ]
  },
  {
   "cell_type": "code",
   "execution_count": 18,
   "metadata": {},
   "outputs": [],
   "source": [
    "df_productivity = filteringBySoldProductionAndFarmGateIncomesMoreThanZero(df01)"
   ]
  },
  {
   "cell_type": "code",
   "execution_count": 19,
   "metadata": {},
   "outputs": [
    {
     "output_type": "execute_result",
     "data": {
      "text/plain": [
       "1949"
      ]
     },
     "metadata": {},
     "execution_count": 19
    }
   ],
   "source": [
    "len(df_productivity)"
   ]
  },
  {
   "cell_type": "code",
   "execution_count": 21,
   "metadata": {},
   "outputs": [
    {
     "output_type": "execute_result",
     "data": {
      "text/plain": [
       "<matplotlib.axes._subplots.AxesSubplot at 0x1517d8460>"
      ]
     },
     "metadata": {},
     "execution_count": 21
    },
    {
     "output_type": "display_data",
     "data": {
      "text/plain": "<Figure size 432x288 with 1 Axes>",
      "image/svg+xml": "<?xml version=\"1.0\" encoding=\"utf-8\" standalone=\"no\"?>\n<!DOCTYPE svg PUBLIC \"-//W3C//DTD SVG 1.1//EN\"\n  \"http://www.w3.org/Graphics/SVG/1.1/DTD/svg11.dtd\">\n<!-- Created with matplotlib (https://matplotlib.org/) -->\n<svg height=\"248.518125pt\" version=\"1.1\" viewBox=\"0 0 375.2875 248.518125\" width=\"375.2875pt\" xmlns=\"http://www.w3.org/2000/svg\" xmlns:xlink=\"http://www.w3.org/1999/xlink\">\n <defs>\n  <style type=\"text/css\">\n*{stroke-linecap:butt;stroke-linejoin:round;}\n  </style>\n </defs>\n <g id=\"figure_1\">\n  <g id=\"patch_1\">\n   <path d=\"M 0 248.518125 \nL 375.2875 248.518125 \nL 375.2875 0 \nL 0 0 \nz\n\" style=\"fill:none;\"/>\n  </g>\n  <g id=\"axes_1\">\n   <g id=\"patch_2\">\n    <path d=\"M 33.2875 224.64 \nL 368.0875 224.64 \nL 368.0875 7.2 \nL 33.2875 7.2 \nz\n\" style=\"fill:#ffffff;\"/>\n   </g>\n   <g id=\"patch_3\">\n    <path clip-path=\"url(#pdc15d4a170)\" d=\"M 48.505682 224.64 \nL 78.942045 224.64 \nL 78.942045 204.258538 \nL 48.505682 204.258538 \nz\n\" style=\"fill:#1f77b4;\"/>\n   </g>\n   <g id=\"patch_4\">\n    <path clip-path=\"url(#pdc15d4a170)\" d=\"M 78.942045 224.64 \nL 109.378409 224.64 \nL 109.378409 186.64493 \nL 78.942045 186.64493 \nz\n\" style=\"fill:#1f77b4;\"/>\n   </g>\n   <g id=\"patch_5\">\n    <path clip-path=\"url(#pdc15d4a170)\" d=\"M 109.378409 224.64 \nL 139.814773 224.64 \nL 139.814773 191.425766 \nL 109.378409 191.425766 \nz\n\" style=\"fill:#1f77b4;\"/>\n   </g>\n   <g id=\"patch_6\">\n    <path clip-path=\"url(#pdc15d4a170)\" d=\"M 139.814773 224.64 \nL 170.251136 224.64 \nL 170.251136 193.187127 \nL 139.814773 193.187127 \nz\n\" style=\"fill:#1f77b4;\"/>\n   </g>\n   <g id=\"patch_7\">\n    <path clip-path=\"url(#pdc15d4a170)\" d=\"M 170.251136 224.64 \nL 200.6875 224.64 \nL 200.6875 193.43875 \nL 170.251136 193.43875 \nz\n\" style=\"fill:#1f77b4;\"/>\n   </g>\n   <g id=\"patch_8\">\n    <path clip-path=\"url(#pdc15d4a170)\" d=\"M 200.6875 224.64 \nL 231.123864 224.64 \nL 231.123864 187.903045 \nL 200.6875 187.903045 \nz\n\" style=\"fill:#1f77b4;\"/>\n   </g>\n   <g id=\"patch_9\">\n    <path clip-path=\"url(#pdc15d4a170)\" d=\"M 231.123864 224.64 \nL 261.560227 224.64 \nL 261.560227 194.696865 \nL 231.123864 194.696865 \nz\n\" style=\"fill:#1f77b4;\"/>\n   </g>\n   <g id=\"patch_10\">\n    <path clip-path=\"url(#pdc15d4a170)\" d=\"M 261.560227 224.64 \nL 291.996591 224.64 \nL 291.996591 190.167651 \nL 261.560227 190.167651 \nz\n\" style=\"fill:#1f77b4;\"/>\n   </g>\n   <g id=\"patch_11\">\n    <path clip-path=\"url(#pdc15d4a170)\" d=\"M 291.996591 224.64 \nL 322.432955 224.64 \nL 322.432955 196.709849 \nL 291.996591 196.709849 \nz\n\" style=\"fill:#1f77b4;\"/>\n   </g>\n   <g id=\"patch_12\">\n    <path clip-path=\"url(#pdc15d4a170)\" d=\"M 322.432955 224.64 \nL 352.869318 224.64 \nL 352.869318 17.554286 \nL 322.432955 17.554286 \nz\n\" style=\"fill:#1f77b4;\"/>\n   </g>\n   <g id=\"matplotlib.axis_1\">\n    <g id=\"xtick_1\">\n     <g id=\"line2d_1\">\n      <path clip-path=\"url(#pdc15d4a170)\" d=\"M 47.346201 224.64 \nL 47.346201 7.2 \n\" style=\"fill:none;stroke:#b0b0b0;stroke-linecap:square;stroke-width:0.8;\"/>\n     </g>\n     <g id=\"line2d_2\">\n      <defs>\n       <path d=\"M 0 0 \nL 0 3.5 \n\" id=\"m3d8a4912f7\" style=\"stroke:#000000;stroke-width:0.8;\"/>\n      </defs>\n      <g>\n       <use style=\"stroke:#000000;stroke-width:0.8;\" x=\"47.346201\" xlink:href=\"#m3d8a4912f7\" y=\"224.64\"/>\n      </g>\n     </g>\n     <g id=\"text_1\">\n      <!-- 0.0 -->\n      <defs>\n       <path d=\"M 31.78125 66.40625 \nQ 24.171875 66.40625 20.328125 58.90625 \nQ 16.5 51.421875 16.5 36.375 \nQ 16.5 21.390625 20.328125 13.890625 \nQ 24.171875 6.390625 31.78125 6.390625 \nQ 39.453125 6.390625 43.28125 13.890625 \nQ 47.125 21.390625 47.125 36.375 \nQ 47.125 51.421875 43.28125 58.90625 \nQ 39.453125 66.40625 31.78125 66.40625 \nz\nM 31.78125 74.21875 \nQ 44.046875 74.21875 50.515625 64.515625 \nQ 56.984375 54.828125 56.984375 36.375 \nQ 56.984375 17.96875 50.515625 8.265625 \nQ 44.046875 -1.421875 31.78125 -1.421875 \nQ 19.53125 -1.421875 13.0625 8.265625 \nQ 6.59375 17.96875 6.59375 36.375 \nQ 6.59375 54.828125 13.0625 64.515625 \nQ 19.53125 74.21875 31.78125 74.21875 \nz\n\" id=\"DejaVuSans-48\"/>\n       <path d=\"M 10.6875 12.40625 \nL 21 12.40625 \nL 21 0 \nL 10.6875 0 \nz\n\" id=\"DejaVuSans-46\"/>\n      </defs>\n      <g transform=\"translate(39.394639 239.238437)scale(0.1 -0.1)\">\n       <use xlink:href=\"#DejaVuSans-48\"/>\n       <use x=\"63.623047\" xlink:href=\"#DejaVuSans-46\"/>\n       <use x=\"95.410156\" xlink:href=\"#DejaVuSans-48\"/>\n      </g>\n     </g>\n    </g>\n    <g id=\"xtick_2\">\n     <g id=\"line2d_3\">\n      <path clip-path=\"url(#pdc15d4a170)\" d=\"M 108.450825 224.64 \nL 108.450825 7.2 \n\" style=\"fill:none;stroke:#b0b0b0;stroke-linecap:square;stroke-width:0.8;\"/>\n     </g>\n     <g id=\"line2d_4\">\n      <g>\n       <use style=\"stroke:#000000;stroke-width:0.8;\" x=\"108.450825\" xlink:href=\"#m3d8a4912f7\" y=\"224.64\"/>\n      </g>\n     </g>\n     <g id=\"text_2\">\n      <!-- 0.2 -->\n      <defs>\n       <path d=\"M 19.1875 8.296875 \nL 53.609375 8.296875 \nL 53.609375 0 \nL 7.328125 0 \nL 7.328125 8.296875 \nQ 12.9375 14.109375 22.625 23.890625 \nQ 32.328125 33.6875 34.8125 36.53125 \nQ 39.546875 41.84375 41.421875 45.53125 \nQ 43.3125 49.21875 43.3125 52.78125 \nQ 43.3125 58.59375 39.234375 62.25 \nQ 35.15625 65.921875 28.609375 65.921875 \nQ 23.96875 65.921875 18.8125 64.3125 \nQ 13.671875 62.703125 7.8125 59.421875 \nL 7.8125 69.390625 \nQ 13.765625 71.78125 18.9375 73 \nQ 24.125 74.21875 28.421875 74.21875 \nQ 39.75 74.21875 46.484375 68.546875 \nQ 53.21875 62.890625 53.21875 53.421875 \nQ 53.21875 48.921875 51.53125 44.890625 \nQ 49.859375 40.875 45.40625 35.40625 \nQ 44.1875 33.984375 37.640625 27.21875 \nQ 31.109375 20.453125 19.1875 8.296875 \nz\n\" id=\"DejaVuSans-50\"/>\n      </defs>\n      <g transform=\"translate(100.499262 239.238437)scale(0.1 -0.1)\">\n       <use xlink:href=\"#DejaVuSans-48\"/>\n       <use x=\"63.623047\" xlink:href=\"#DejaVuSans-46\"/>\n       <use x=\"95.410156\" xlink:href=\"#DejaVuSans-50\"/>\n      </g>\n     </g>\n    </g>\n    <g id=\"xtick_3\">\n     <g id=\"line2d_5\">\n      <path clip-path=\"url(#pdc15d4a170)\" d=\"M 169.555448 224.64 \nL 169.555448 7.2 \n\" style=\"fill:none;stroke:#b0b0b0;stroke-linecap:square;stroke-width:0.8;\"/>\n     </g>\n     <g id=\"line2d_6\">\n      <g>\n       <use style=\"stroke:#000000;stroke-width:0.8;\" x=\"169.555448\" xlink:href=\"#m3d8a4912f7\" y=\"224.64\"/>\n      </g>\n     </g>\n     <g id=\"text_3\">\n      <!-- 0.4 -->\n      <defs>\n       <path d=\"M 37.796875 64.3125 \nL 12.890625 25.390625 \nL 37.796875 25.390625 \nz\nM 35.203125 72.90625 \nL 47.609375 72.90625 \nL 47.609375 25.390625 \nL 58.015625 25.390625 \nL 58.015625 17.1875 \nL 47.609375 17.1875 \nL 47.609375 0 \nL 37.796875 0 \nL 37.796875 17.1875 \nL 4.890625 17.1875 \nL 4.890625 26.703125 \nz\n\" id=\"DejaVuSans-52\"/>\n      </defs>\n      <g transform=\"translate(161.603886 239.238437)scale(0.1 -0.1)\">\n       <use xlink:href=\"#DejaVuSans-48\"/>\n       <use x=\"63.623047\" xlink:href=\"#DejaVuSans-46\"/>\n       <use x=\"95.410156\" xlink:href=\"#DejaVuSans-52\"/>\n      </g>\n     </g>\n    </g>\n    <g id=\"xtick_4\">\n     <g id=\"line2d_7\">\n      <path clip-path=\"url(#pdc15d4a170)\" d=\"M 230.660071 224.64 \nL 230.660071 7.2 \n\" style=\"fill:none;stroke:#b0b0b0;stroke-linecap:square;stroke-width:0.8;\"/>\n     </g>\n     <g id=\"line2d_8\">\n      <g>\n       <use style=\"stroke:#000000;stroke-width:0.8;\" x=\"230.660071\" xlink:href=\"#m3d8a4912f7\" y=\"224.64\"/>\n      </g>\n     </g>\n     <g id=\"text_4\">\n      <!-- 0.6 -->\n      <defs>\n       <path d=\"M 33.015625 40.375 \nQ 26.375 40.375 22.484375 35.828125 \nQ 18.609375 31.296875 18.609375 23.390625 \nQ 18.609375 15.53125 22.484375 10.953125 \nQ 26.375 6.390625 33.015625 6.390625 \nQ 39.65625 6.390625 43.53125 10.953125 \nQ 47.40625 15.53125 47.40625 23.390625 \nQ 47.40625 31.296875 43.53125 35.828125 \nQ 39.65625 40.375 33.015625 40.375 \nz\nM 52.59375 71.296875 \nL 52.59375 62.3125 \nQ 48.875 64.0625 45.09375 64.984375 \nQ 41.3125 65.921875 37.59375 65.921875 \nQ 27.828125 65.921875 22.671875 59.328125 \nQ 17.53125 52.734375 16.796875 39.40625 \nQ 19.671875 43.65625 24.015625 45.921875 \nQ 28.375 48.1875 33.59375 48.1875 \nQ 44.578125 48.1875 50.953125 41.515625 \nQ 57.328125 34.859375 57.328125 23.390625 \nQ 57.328125 12.15625 50.6875 5.359375 \nQ 44.046875 -1.421875 33.015625 -1.421875 \nQ 20.359375 -1.421875 13.671875 8.265625 \nQ 6.984375 17.96875 6.984375 36.375 \nQ 6.984375 53.65625 15.1875 63.9375 \nQ 23.390625 74.21875 37.203125 74.21875 \nQ 40.921875 74.21875 44.703125 73.484375 \nQ 48.484375 72.75 52.59375 71.296875 \nz\n\" id=\"DejaVuSans-54\"/>\n      </defs>\n      <g transform=\"translate(222.708509 239.238437)scale(0.1 -0.1)\">\n       <use xlink:href=\"#DejaVuSans-48\"/>\n       <use x=\"63.623047\" xlink:href=\"#DejaVuSans-46\"/>\n       <use x=\"95.410156\" xlink:href=\"#DejaVuSans-54\"/>\n      </g>\n     </g>\n    </g>\n    <g id=\"xtick_5\">\n     <g id=\"line2d_9\">\n      <path clip-path=\"url(#pdc15d4a170)\" d=\"M 291.764695 224.64 \nL 291.764695 7.2 \n\" style=\"fill:none;stroke:#b0b0b0;stroke-linecap:square;stroke-width:0.8;\"/>\n     </g>\n     <g id=\"line2d_10\">\n      <g>\n       <use style=\"stroke:#000000;stroke-width:0.8;\" x=\"291.764695\" xlink:href=\"#m3d8a4912f7\" y=\"224.64\"/>\n      </g>\n     </g>\n     <g id=\"text_5\">\n      <!-- 0.8 -->\n      <defs>\n       <path d=\"M 31.78125 34.625 \nQ 24.75 34.625 20.71875 30.859375 \nQ 16.703125 27.09375 16.703125 20.515625 \nQ 16.703125 13.921875 20.71875 10.15625 \nQ 24.75 6.390625 31.78125 6.390625 \nQ 38.8125 6.390625 42.859375 10.171875 \nQ 46.921875 13.96875 46.921875 20.515625 \nQ 46.921875 27.09375 42.890625 30.859375 \nQ 38.875 34.625 31.78125 34.625 \nz\nM 21.921875 38.8125 \nQ 15.578125 40.375 12.03125 44.71875 \nQ 8.5 49.078125 8.5 55.328125 \nQ 8.5 64.0625 14.71875 69.140625 \nQ 20.953125 74.21875 31.78125 74.21875 \nQ 42.671875 74.21875 48.875 69.140625 \nQ 55.078125 64.0625 55.078125 55.328125 \nQ 55.078125 49.078125 51.53125 44.71875 \nQ 48 40.375 41.703125 38.8125 \nQ 48.828125 37.15625 52.796875 32.3125 \nQ 56.78125 27.484375 56.78125 20.515625 \nQ 56.78125 9.90625 50.3125 4.234375 \nQ 43.84375 -1.421875 31.78125 -1.421875 \nQ 19.734375 -1.421875 13.25 4.234375 \nQ 6.78125 9.90625 6.78125 20.515625 \nQ 6.78125 27.484375 10.78125 32.3125 \nQ 14.796875 37.15625 21.921875 38.8125 \nz\nM 18.3125 54.390625 \nQ 18.3125 48.734375 21.84375 45.5625 \nQ 25.390625 42.390625 31.78125 42.390625 \nQ 38.140625 42.390625 41.71875 45.5625 \nQ 45.3125 48.734375 45.3125 54.390625 \nQ 45.3125 60.0625 41.71875 63.234375 \nQ 38.140625 66.40625 31.78125 66.40625 \nQ 25.390625 66.40625 21.84375 63.234375 \nQ 18.3125 60.0625 18.3125 54.390625 \nz\n\" id=\"DejaVuSans-56\"/>\n      </defs>\n      <g transform=\"translate(283.813132 239.238437)scale(0.1 -0.1)\">\n       <use xlink:href=\"#DejaVuSans-48\"/>\n       <use x=\"63.623047\" xlink:href=\"#DejaVuSans-46\"/>\n       <use x=\"95.410156\" xlink:href=\"#DejaVuSans-56\"/>\n      </g>\n     </g>\n    </g>\n    <g id=\"xtick_6\">\n     <g id=\"line2d_11\">\n      <path clip-path=\"url(#pdc15d4a170)\" d=\"M 352.869318 224.64 \nL 352.869318 7.2 \n\" style=\"fill:none;stroke:#b0b0b0;stroke-linecap:square;stroke-width:0.8;\"/>\n     </g>\n     <g id=\"line2d_12\">\n      <g>\n       <use style=\"stroke:#000000;stroke-width:0.8;\" x=\"352.869318\" xlink:href=\"#m3d8a4912f7\" y=\"224.64\"/>\n      </g>\n     </g>\n     <g id=\"text_6\">\n      <!-- 1.0 -->\n      <defs>\n       <path d=\"M 12.40625 8.296875 \nL 28.515625 8.296875 \nL 28.515625 63.921875 \nL 10.984375 60.40625 \nL 10.984375 69.390625 \nL 28.421875 72.90625 \nL 38.28125 72.90625 \nL 38.28125 8.296875 \nL 54.390625 8.296875 \nL 54.390625 0 \nL 12.40625 0 \nz\n\" id=\"DejaVuSans-49\"/>\n      </defs>\n      <g transform=\"translate(344.917756 239.238437)scale(0.1 -0.1)\">\n       <use xlink:href=\"#DejaVuSans-49\"/>\n       <use x=\"63.623047\" xlink:href=\"#DejaVuSans-46\"/>\n       <use x=\"95.410156\" xlink:href=\"#DejaVuSans-48\"/>\n      </g>\n     </g>\n    </g>\n   </g>\n   <g id=\"matplotlib.axis_2\">\n    <g id=\"ytick_1\">\n     <g id=\"line2d_13\">\n      <path clip-path=\"url(#pdc15d4a170)\" d=\"M 33.2875 224.64 \nL 368.0875 224.64 \n\" style=\"fill:none;stroke:#b0b0b0;stroke-linecap:square;stroke-width:0.8;\"/>\n     </g>\n     <g id=\"line2d_14\">\n      <defs>\n       <path d=\"M 0 0 \nL -3.5 0 \n\" id=\"m4bd477c74f\" style=\"stroke:#000000;stroke-width:0.8;\"/>\n      </defs>\n      <g>\n       <use style=\"stroke:#000000;stroke-width:0.8;\" x=\"33.2875\" xlink:href=\"#m4bd477c74f\" y=\"224.64\"/>\n      </g>\n     </g>\n     <g id=\"text_7\">\n      <!-- 0 -->\n      <g transform=\"translate(19.925 228.439219)scale(0.1 -0.1)\">\n       <use xlink:href=\"#DejaVuSans-48\"/>\n      </g>\n     </g>\n    </g>\n    <g id=\"ytick_2\">\n     <g id=\"line2d_15\">\n      <path clip-path=\"url(#pdc15d4a170)\" d=\"M 33.2875 199.477702 \nL 368.0875 199.477702 \n\" style=\"fill:none;stroke:#b0b0b0;stroke-linecap:square;stroke-width:0.8;\"/>\n     </g>\n     <g id=\"line2d_16\">\n      <g>\n       <use style=\"stroke:#000000;stroke-width:0.8;\" x=\"33.2875\" xlink:href=\"#m4bd477c74f\" y=\"199.477702\"/>\n      </g>\n     </g>\n     <g id=\"text_8\">\n      <!-- 100 -->\n      <g transform=\"translate(7.2 203.276921)scale(0.1 -0.1)\">\n       <use xlink:href=\"#DejaVuSans-49\"/>\n       <use x=\"63.623047\" xlink:href=\"#DejaVuSans-48\"/>\n       <use x=\"127.246094\" xlink:href=\"#DejaVuSans-48\"/>\n      </g>\n     </g>\n    </g>\n    <g id=\"ytick_3\">\n     <g id=\"line2d_17\">\n      <path clip-path=\"url(#pdc15d4a170)\" d=\"M 33.2875 174.315404 \nL 368.0875 174.315404 \n\" style=\"fill:none;stroke:#b0b0b0;stroke-linecap:square;stroke-width:0.8;\"/>\n     </g>\n     <g id=\"line2d_18\">\n      <g>\n       <use style=\"stroke:#000000;stroke-width:0.8;\" x=\"33.2875\" xlink:href=\"#m4bd477c74f\" y=\"174.315404\"/>\n      </g>\n     </g>\n     <g id=\"text_9\">\n      <!-- 200 -->\n      <g transform=\"translate(7.2 178.114622)scale(0.1 -0.1)\">\n       <use xlink:href=\"#DejaVuSans-50\"/>\n       <use x=\"63.623047\" xlink:href=\"#DejaVuSans-48\"/>\n       <use x=\"127.246094\" xlink:href=\"#DejaVuSans-48\"/>\n      </g>\n     </g>\n    </g>\n    <g id=\"ytick_4\">\n     <g id=\"line2d_19\">\n      <path clip-path=\"url(#pdc15d4a170)\" d=\"M 33.2875 149.153105 \nL 368.0875 149.153105 \n\" style=\"fill:none;stroke:#b0b0b0;stroke-linecap:square;stroke-width:0.8;\"/>\n     </g>\n     <g id=\"line2d_20\">\n      <g>\n       <use style=\"stroke:#000000;stroke-width:0.8;\" x=\"33.2875\" xlink:href=\"#m4bd477c74f\" y=\"149.153105\"/>\n      </g>\n     </g>\n     <g id=\"text_10\">\n      <!-- 300 -->\n      <defs>\n       <path d=\"M 40.578125 39.3125 \nQ 47.65625 37.796875 51.625 33 \nQ 55.609375 28.21875 55.609375 21.1875 \nQ 55.609375 10.40625 48.1875 4.484375 \nQ 40.765625 -1.421875 27.09375 -1.421875 \nQ 22.515625 -1.421875 17.65625 -0.515625 \nQ 12.796875 0.390625 7.625 2.203125 \nL 7.625 11.71875 \nQ 11.71875 9.328125 16.59375 8.109375 \nQ 21.484375 6.890625 26.8125 6.890625 \nQ 36.078125 6.890625 40.9375 10.546875 \nQ 45.796875 14.203125 45.796875 21.1875 \nQ 45.796875 27.640625 41.28125 31.265625 \nQ 36.765625 34.90625 28.71875 34.90625 \nL 20.21875 34.90625 \nL 20.21875 43.015625 \nL 29.109375 43.015625 \nQ 36.375 43.015625 40.234375 45.921875 \nQ 44.09375 48.828125 44.09375 54.296875 \nQ 44.09375 59.90625 40.109375 62.90625 \nQ 36.140625 65.921875 28.71875 65.921875 \nQ 24.65625 65.921875 20.015625 65.03125 \nQ 15.375 64.15625 9.8125 62.3125 \nL 9.8125 71.09375 \nQ 15.4375 72.65625 20.34375 73.4375 \nQ 25.25 74.21875 29.59375 74.21875 \nQ 40.828125 74.21875 47.359375 69.109375 \nQ 53.90625 64.015625 53.90625 55.328125 \nQ 53.90625 49.265625 50.4375 45.09375 \nQ 46.96875 40.921875 40.578125 39.3125 \nz\n\" id=\"DejaVuSans-51\"/>\n      </defs>\n      <g transform=\"translate(7.2 152.952324)scale(0.1 -0.1)\">\n       <use xlink:href=\"#DejaVuSans-51\"/>\n       <use x=\"63.623047\" xlink:href=\"#DejaVuSans-48\"/>\n       <use x=\"127.246094\" xlink:href=\"#DejaVuSans-48\"/>\n      </g>\n     </g>\n    </g>\n    <g id=\"ytick_5\">\n     <g id=\"line2d_21\">\n      <path clip-path=\"url(#pdc15d4a170)\" d=\"M 33.2875 123.990807 \nL 368.0875 123.990807 \n\" style=\"fill:none;stroke:#b0b0b0;stroke-linecap:square;stroke-width:0.8;\"/>\n     </g>\n     <g id=\"line2d_22\">\n      <g>\n       <use style=\"stroke:#000000;stroke-width:0.8;\" x=\"33.2875\" xlink:href=\"#m4bd477c74f\" y=\"123.990807\"/>\n      </g>\n     </g>\n     <g id=\"text_11\">\n      <!-- 400 -->\n      <g transform=\"translate(7.2 127.790026)scale(0.1 -0.1)\">\n       <use xlink:href=\"#DejaVuSans-52\"/>\n       <use x=\"63.623047\" xlink:href=\"#DejaVuSans-48\"/>\n       <use x=\"127.246094\" xlink:href=\"#DejaVuSans-48\"/>\n      </g>\n     </g>\n    </g>\n    <g id=\"ytick_6\">\n     <g id=\"line2d_23\">\n      <path clip-path=\"url(#pdc15d4a170)\" d=\"M 33.2875 98.828509 \nL 368.0875 98.828509 \n\" style=\"fill:none;stroke:#b0b0b0;stroke-linecap:square;stroke-width:0.8;\"/>\n     </g>\n     <g id=\"line2d_24\">\n      <g>\n       <use style=\"stroke:#000000;stroke-width:0.8;\" x=\"33.2875\" xlink:href=\"#m4bd477c74f\" y=\"98.828509\"/>\n      </g>\n     </g>\n     <g id=\"text_12\">\n      <!-- 500 -->\n      <defs>\n       <path d=\"M 10.796875 72.90625 \nL 49.515625 72.90625 \nL 49.515625 64.59375 \nL 19.828125 64.59375 \nL 19.828125 46.734375 \nQ 21.96875 47.46875 24.109375 47.828125 \nQ 26.265625 48.1875 28.421875 48.1875 \nQ 40.625 48.1875 47.75 41.5 \nQ 54.890625 34.8125 54.890625 23.390625 \nQ 54.890625 11.625 47.5625 5.09375 \nQ 40.234375 -1.421875 26.90625 -1.421875 \nQ 22.3125 -1.421875 17.546875 -0.640625 \nQ 12.796875 0.140625 7.71875 1.703125 \nL 7.71875 11.625 \nQ 12.109375 9.234375 16.796875 8.0625 \nQ 21.484375 6.890625 26.703125 6.890625 \nQ 35.15625 6.890625 40.078125 11.328125 \nQ 45.015625 15.765625 45.015625 23.390625 \nQ 45.015625 31 40.078125 35.4375 \nQ 35.15625 39.890625 26.703125 39.890625 \nQ 22.75 39.890625 18.8125 39.015625 \nQ 14.890625 38.140625 10.796875 36.28125 \nz\n\" id=\"DejaVuSans-53\"/>\n      </defs>\n      <g transform=\"translate(7.2 102.627728)scale(0.1 -0.1)\">\n       <use xlink:href=\"#DejaVuSans-53\"/>\n       <use x=\"63.623047\" xlink:href=\"#DejaVuSans-48\"/>\n       <use x=\"127.246094\" xlink:href=\"#DejaVuSans-48\"/>\n      </g>\n     </g>\n    </g>\n    <g id=\"ytick_7\">\n     <g id=\"line2d_25\">\n      <path clip-path=\"url(#pdc15d4a170)\" d=\"M 33.2875 73.666211 \nL 368.0875 73.666211 \n\" style=\"fill:none;stroke:#b0b0b0;stroke-linecap:square;stroke-width:0.8;\"/>\n     </g>\n     <g id=\"line2d_26\">\n      <g>\n       <use style=\"stroke:#000000;stroke-width:0.8;\" x=\"33.2875\" xlink:href=\"#m4bd477c74f\" y=\"73.666211\"/>\n      </g>\n     </g>\n     <g id=\"text_13\">\n      <!-- 600 -->\n      <g transform=\"translate(7.2 77.465429)scale(0.1 -0.1)\">\n       <use xlink:href=\"#DejaVuSans-54\"/>\n       <use x=\"63.623047\" xlink:href=\"#DejaVuSans-48\"/>\n       <use x=\"127.246094\" xlink:href=\"#DejaVuSans-48\"/>\n      </g>\n     </g>\n    </g>\n    <g id=\"ytick_8\">\n     <g id=\"line2d_27\">\n      <path clip-path=\"url(#pdc15d4a170)\" d=\"M 33.2875 48.503913 \nL 368.0875 48.503913 \n\" style=\"fill:none;stroke:#b0b0b0;stroke-linecap:square;stroke-width:0.8;\"/>\n     </g>\n     <g id=\"line2d_28\">\n      <g>\n       <use style=\"stroke:#000000;stroke-width:0.8;\" x=\"33.2875\" xlink:href=\"#m4bd477c74f\" y=\"48.503913\"/>\n      </g>\n     </g>\n     <g id=\"text_14\">\n      <!-- 700 -->\n      <defs>\n       <path d=\"M 8.203125 72.90625 \nL 55.078125 72.90625 \nL 55.078125 68.703125 \nL 28.609375 0 \nL 18.3125 0 \nL 43.21875 64.59375 \nL 8.203125 64.59375 \nz\n\" id=\"DejaVuSans-55\"/>\n      </defs>\n      <g transform=\"translate(7.2 52.303131)scale(0.1 -0.1)\">\n       <use xlink:href=\"#DejaVuSans-55\"/>\n       <use x=\"63.623047\" xlink:href=\"#DejaVuSans-48\"/>\n       <use x=\"127.246094\" xlink:href=\"#DejaVuSans-48\"/>\n      </g>\n     </g>\n    </g>\n    <g id=\"ytick_9\">\n     <g id=\"line2d_29\">\n      <path clip-path=\"url(#pdc15d4a170)\" d=\"M 33.2875 23.341614 \nL 368.0875 23.341614 \n\" style=\"fill:none;stroke:#b0b0b0;stroke-linecap:square;stroke-width:0.8;\"/>\n     </g>\n     <g id=\"line2d_30\">\n      <g>\n       <use style=\"stroke:#000000;stroke-width:0.8;\" x=\"33.2875\" xlink:href=\"#m4bd477c74f\" y=\"23.341614\"/>\n      </g>\n     </g>\n     <g id=\"text_15\">\n      <!-- 800 -->\n      <g transform=\"translate(7.2 27.140833)scale(0.1 -0.1)\">\n       <use xlink:href=\"#DejaVuSans-56\"/>\n       <use x=\"63.623047\" xlink:href=\"#DejaVuSans-48\"/>\n       <use x=\"127.246094\" xlink:href=\"#DejaVuSans-48\"/>\n      </g>\n     </g>\n    </g>\n   </g>\n   <g id=\"patch_13\">\n    <path d=\"M 33.2875 224.64 \nL 33.2875 7.2 \n\" style=\"fill:none;stroke:#000000;stroke-linecap:square;stroke-linejoin:miter;stroke-width:0.8;\"/>\n   </g>\n   <g id=\"patch_14\">\n    <path d=\"M 368.0875 224.64 \nL 368.0875 7.2 \n\" style=\"fill:none;stroke:#000000;stroke-linecap:square;stroke-linejoin:miter;stroke-width:0.8;\"/>\n   </g>\n   <g id=\"patch_15\">\n    <path d=\"M 33.2875 224.64 \nL 368.0875 224.64 \n\" style=\"fill:none;stroke:#000000;stroke-linecap:square;stroke-linejoin:miter;stroke-width:0.8;\"/>\n   </g>\n   <g id=\"patch_16\">\n    <path d=\"M 33.2875 7.2 \nL 368.0875 7.2 \n\" style=\"fill:none;stroke:#000000;stroke-linecap:square;stroke-linejoin:miter;stroke-width:0.8;\"/>\n   </g>\n  </g>\n </g>\n <defs>\n  <clipPath id=\"pdc15d4a170\">\n   <rect height=\"217.44\" width=\"334.8\" x=\"33.2875\" y=\"7.2\"/>\n  </clipPath>\n </defs>\n</svg>\n",
      "image/png": "[encoded data removed]"
     },
     "metadata": {
      "needs_background": "light"
     }
    }
   ],
   "source": [
    "#df_productivity[\"percentFarmGateIncomes\"].hist()"
   ]
  },
  {
   "cell_type": "code",
   "execution_count": 24,
   "metadata": {},
   "outputs": [
    {
     "output_type": "execute_result",
     "data": {
      "text/plain": [
       "<matplotlib.axes._subplots.AxesSubplot at 0x15192d9d0>"
      ]
     },
     "metadata": {},
     "execution_count": 24
    },
    {
     "output_type": "display_data",
     "data": {
      "text/plain": "<Figure size 432x288 with 1 Axes>",
      "image/svg+xml": "<?xml version=\"1.0\" encoding=\"utf-8\" standalone=\"no\"?>\n<!DOCTYPE svg PUBLIC \"-//W3C//DTD SVG 1.1//EN\"\n  \"http://www.w3.org/Graphics/SVG/1.1/DTD/svg11.dtd\">\n<!-- Created with matplotlib (https://matplotlib.org/) -->\n<svg height=\"248.518125pt\" version=\"1.1\" viewBox=\"0 0 375.2875 248.518125\" width=\"375.2875pt\" xmlns=\"http://www.w3.org/2000/svg\" xmlns:xlink=\"http://www.w3.org/1999/xlink\">\n <defs>\n  <style type=\"text/css\">\n*{stroke-linecap:butt;stroke-linejoin:round;}\n  </style>\n </defs>\n <g id=\"figure_1\">\n  <g id=\"patch_1\">\n   <path d=\"M 0 248.518125 \nL 375.2875 248.518125 \nL 375.2875 0 \nL 0 0 \nz\n\" style=\"fill:none;\"/>\n  </g>\n  <g id=\"axes_1\">\n   <g id=\"patch_2\">\n    <path d=\"M 33.2875 224.64 \nL 368.0875 224.64 \nL 368.0875 7.2 \nL 33.2875 7.2 \nz\n\" style=\"fill:#ffffff;\"/>\n   </g>\n   <g id=\"patch_3\">\n    <path clip-path=\"url(#p6e031fd7ec)\" d=\"M 48.505682 224.64 \nL 78.942045 224.64 \nL 78.942045 207.523486 \nL 48.505682 207.523486 \nz\n\" style=\"fill:#1f77b4;\"/>\n   </g>\n   <g id=\"patch_4\">\n    <path clip-path=\"url(#p6e031fd7ec)\" d=\"M 78.942045 224.64 \nL 109.378409 224.64 \nL 109.378409 203.184088 \nL 78.942045 203.184088 \nz\n\" style=\"fill:#1f77b4;\"/>\n   </g>\n   <g id=\"patch_5\">\n    <path clip-path=\"url(#p6e031fd7ec)\" d=\"M 109.378409 224.64 \nL 139.814773 224.64 \nL 139.814773 194.74637 \nL 109.378409 194.74637 \nz\n\" style=\"fill:#1f77b4;\"/>\n   </g>\n   <g id=\"patch_6\">\n    <path clip-path=\"url(#p6e031fd7ec)\" d=\"M 139.814773 224.64 \nL 170.251136 224.64 \nL 170.251136 194.987447 \nL 139.814773 194.987447 \nz\n\" style=\"fill:#1f77b4;\"/>\n   </g>\n   <g id=\"patch_7\">\n    <path clip-path=\"url(#p6e031fd7ec)\" d=\"M 170.251136 224.64 \nL 200.6875 224.64 \nL 200.6875 198.362535 \nL 170.251136 198.362535 \nz\n\" style=\"fill:#1f77b4;\"/>\n   </g>\n   <g id=\"patch_8\">\n    <path clip-path=\"url(#p6e031fd7ec)\" d=\"M 200.6875 224.64 \nL 231.123864 224.64 \nL 231.123864 194.505292 \nL 200.6875 194.505292 \nz\n\" style=\"fill:#1f77b4;\"/>\n   </g>\n   <g id=\"patch_9\">\n    <path clip-path=\"url(#p6e031fd7ec)\" d=\"M 231.123864 224.64 \nL 261.560227 224.64 \nL 261.560227 194.74637 \nL 231.123864 194.74637 \nz\n\" style=\"fill:#1f77b4;\"/>\n   </g>\n   <g id=\"patch_10\">\n    <path clip-path=\"url(#p6e031fd7ec)\" d=\"M 261.560227 224.64 \nL 291.996591 224.64 \nL 291.996591 186.790807 \nL 261.560227 186.790807 \nz\n\" style=\"fill:#1f77b4;\"/>\n   </g>\n   <g id=\"patch_11\">\n    <path clip-path=\"url(#p6e031fd7ec)\" d=\"M 291.996591 224.64 \nL 322.432955 224.64 \nL 322.432955 184.138952 \nL 291.996591 184.138952 \nz\n\" style=\"fill:#1f77b4;\"/>\n   </g>\n   <g id=\"patch_12\">\n    <path clip-path=\"url(#p6e031fd7ec)\" d=\"M 322.432955 224.64 \nL 352.869318 224.64 \nL 352.869318 17.554286 \nL 322.432955 17.554286 \nz\n\" style=\"fill:#1f77b4;\"/>\n   </g>\n   <g id=\"matplotlib.axis_1\">\n    <g id=\"xtick_1\">\n     <g id=\"line2d_1\">\n      <path clip-path=\"url(#p6e031fd7ec)\" d=\"M 47.39635 224.64 \nL 47.39635 7.2 \n\" style=\"fill:none;stroke:#b0b0b0;stroke-linecap:square;stroke-width:0.8;\"/>\n     </g>\n     <g id=\"line2d_2\">\n      <defs>\n       <path d=\"M 0 0 \nL 0 3.5 \n\" id=\"mee9242e3b4\" style=\"stroke:#000000;stroke-width:0.8;\"/>\n      </defs>\n      <g>\n       <use style=\"stroke:#000000;stroke-width:0.8;\" x=\"47.39635\" xlink:href=\"#mee9242e3b4\" y=\"224.64\"/>\n      </g>\n     </g>\n     <g id=\"text_1\">\n      <!-- 0.0 -->\n      <defs>\n       <path d=\"M 31.78125 66.40625 \nQ 24.171875 66.40625 20.328125 58.90625 \nQ 16.5 51.421875 16.5 36.375 \nQ 16.5 21.390625 20.328125 13.890625 \nQ 24.171875 6.390625 31.78125 6.390625 \nQ 39.453125 6.390625 43.28125 13.890625 \nQ 47.125 21.390625 47.125 36.375 \nQ 47.125 51.421875 43.28125 58.90625 \nQ 39.453125 66.40625 31.78125 66.40625 \nz\nM 31.78125 74.21875 \nQ 44.046875 74.21875 50.515625 64.515625 \nQ 56.984375 54.828125 56.984375 36.375 \nQ 56.984375 17.96875 50.515625 8.265625 \nQ 44.046875 -1.421875 31.78125 -1.421875 \nQ 19.53125 -1.421875 13.0625 8.265625 \nQ 6.59375 17.96875 6.59375 36.375 \nQ 6.59375 54.828125 13.0625 64.515625 \nQ 19.53125 74.21875 31.78125 74.21875 \nz\n\" id=\"DejaVuSans-48\"/>\n       <path d=\"M 10.6875 12.40625 \nL 21 12.40625 \nL 21 0 \nL 10.6875 0 \nz\n\" id=\"DejaVuSans-46\"/>\n      </defs>\n      <g transform=\"translate(39.444788 239.238438)scale(0.1 -0.1)\">\n       <use xlink:href=\"#DejaVuSans-48\"/>\n       <use x=\"63.623047\" xlink:href=\"#DejaVuSans-46\"/>\n       <use x=\"95.410156\" xlink:href=\"#DejaVuSans-48\"/>\n      </g>\n     </g>\n    </g>\n    <g id=\"xtick_2\">\n     <g id=\"line2d_3\">\n      <path clip-path=\"url(#p6e031fd7ec)\" d=\"M 108.490944 224.64 \nL 108.490944 7.2 \n\" style=\"fill:none;stroke:#b0b0b0;stroke-linecap:square;stroke-width:0.8;\"/>\n     </g>\n     <g id=\"line2d_4\">\n      <g>\n       <use style=\"stroke:#000000;stroke-width:0.8;\" x=\"108.490944\" xlink:href=\"#mee9242e3b4\" y=\"224.64\"/>\n      </g>\n     </g>\n     <g id=\"text_2\">\n      <!-- 0.2 -->\n      <defs>\n       <path d=\"M 19.1875 8.296875 \nL 53.609375 8.296875 \nL 53.609375 0 \nL 7.328125 0 \nL 7.328125 8.296875 \nQ 12.9375 14.109375 22.625 23.890625 \nQ 32.328125 33.6875 34.8125 36.53125 \nQ 39.546875 41.84375 41.421875 45.53125 \nQ 43.3125 49.21875 43.3125 52.78125 \nQ 43.3125 58.59375 39.234375 62.25 \nQ 35.15625 65.921875 28.609375 65.921875 \nQ 23.96875 65.921875 18.8125 64.3125 \nQ 13.671875 62.703125 7.8125 59.421875 \nL 7.8125 69.390625 \nQ 13.765625 71.78125 18.9375 73 \nQ 24.125 74.21875 28.421875 74.21875 \nQ 39.75 74.21875 46.484375 68.546875 \nQ 53.21875 62.890625 53.21875 53.421875 \nQ 53.21875 48.921875 51.53125 44.890625 \nQ 49.859375 40.875 45.40625 35.40625 \nQ 44.1875 33.984375 37.640625 27.21875 \nQ 31.109375 20.453125 19.1875 8.296875 \nz\n\" id=\"DejaVuSans-50\"/>\n      </defs>\n      <g transform=\"translate(100.539381 239.238438)scale(0.1 -0.1)\">\n       <use xlink:href=\"#DejaVuSans-48\"/>\n       <use x=\"63.623047\" xlink:href=\"#DejaVuSans-46\"/>\n       <use x=\"95.410156\" xlink:href=\"#DejaVuSans-50\"/>\n      </g>\n     </g>\n    </g>\n    <g id=\"xtick_3\">\n     <g id=\"line2d_5\">\n      <path clip-path=\"url(#p6e031fd7ec)\" d=\"M 169.585537 224.64 \nL 169.585537 7.2 \n\" style=\"fill:none;stroke:#b0b0b0;stroke-linecap:square;stroke-width:0.8;\"/>\n     </g>\n     <g id=\"line2d_6\">\n      <g>\n       <use style=\"stroke:#000000;stroke-width:0.8;\" x=\"169.585537\" xlink:href=\"#mee9242e3b4\" y=\"224.64\"/>\n      </g>\n     </g>\n     <g id=\"text_3\">\n      <!-- 0.4 -->\n      <defs>\n       <path d=\"M 37.796875 64.3125 \nL 12.890625 25.390625 \nL 37.796875 25.390625 \nz\nM 35.203125 72.90625 \nL 47.609375 72.90625 \nL 47.609375 25.390625 \nL 58.015625 25.390625 \nL 58.015625 17.1875 \nL 47.609375 17.1875 \nL 47.609375 0 \nL 37.796875 0 \nL 37.796875 17.1875 \nL 4.890625 17.1875 \nL 4.890625 26.703125 \nz\n\" id=\"DejaVuSans-52\"/>\n      </defs>\n      <g transform=\"translate(161.633975 239.238438)scale(0.1 -0.1)\">\n       <use xlink:href=\"#DejaVuSans-48\"/>\n       <use x=\"63.623047\" xlink:href=\"#DejaVuSans-46\"/>\n       <use x=\"95.410156\" xlink:href=\"#DejaVuSans-52\"/>\n      </g>\n     </g>\n    </g>\n    <g id=\"xtick_4\">\n     <g id=\"line2d_7\">\n      <path clip-path=\"url(#p6e031fd7ec)\" d=\"M 230.680131 224.64 \nL 230.680131 7.2 \n\" style=\"fill:none;stroke:#b0b0b0;stroke-linecap:square;stroke-width:0.8;\"/>\n     </g>\n     <g id=\"line2d_8\">\n      <g>\n       <use style=\"stroke:#000000;stroke-width:0.8;\" x=\"230.680131\" xlink:href=\"#mee9242e3b4\" y=\"224.64\"/>\n      </g>\n     </g>\n     <g id=\"text_4\">\n      <!-- 0.6 -->\n      <defs>\n       <path d=\"M 33.015625 40.375 \nQ 26.375 40.375 22.484375 35.828125 \nQ 18.609375 31.296875 18.609375 23.390625 \nQ 18.609375 15.53125 22.484375 10.953125 \nQ 26.375 6.390625 33.015625 6.390625 \nQ 39.65625 6.390625 43.53125 10.953125 \nQ 47.40625 15.53125 47.40625 23.390625 \nQ 47.40625 31.296875 43.53125 35.828125 \nQ 39.65625 40.375 33.015625 40.375 \nz\nM 52.59375 71.296875 \nL 52.59375 62.3125 \nQ 48.875 64.0625 45.09375 64.984375 \nQ 41.3125 65.921875 37.59375 65.921875 \nQ 27.828125 65.921875 22.671875 59.328125 \nQ 17.53125 52.734375 16.796875 39.40625 \nQ 19.671875 43.65625 24.015625 45.921875 \nQ 28.375 48.1875 33.59375 48.1875 \nQ 44.578125 48.1875 50.953125 41.515625 \nQ 57.328125 34.859375 57.328125 23.390625 \nQ 57.328125 12.15625 50.6875 5.359375 \nQ 44.046875 -1.421875 33.015625 -1.421875 \nQ 20.359375 -1.421875 13.671875 8.265625 \nQ 6.984375 17.96875 6.984375 36.375 \nQ 6.984375 53.65625 15.1875 63.9375 \nQ 23.390625 74.21875 37.203125 74.21875 \nQ 40.921875 74.21875 44.703125 73.484375 \nQ 48.484375 72.75 52.59375 71.296875 \nz\n\" id=\"DejaVuSans-54\"/>\n      </defs>\n      <g transform=\"translate(222.728568 239.238438)scale(0.1 -0.1)\">\n       <use xlink:href=\"#DejaVuSans-48\"/>\n       <use x=\"63.623047\" xlink:href=\"#DejaVuSans-46\"/>\n       <use x=\"95.410156\" xlink:href=\"#DejaVuSans-54\"/>\n      </g>\n     </g>\n    </g>\n    <g id=\"xtick_5\">\n     <g id=\"line2d_9\">\n      <path clip-path=\"url(#p6e031fd7ec)\" d=\"M 291.774725 224.64 \nL 291.774725 7.2 \n\" style=\"fill:none;stroke:#b0b0b0;stroke-linecap:square;stroke-width:0.8;\"/>\n     </g>\n     <g id=\"line2d_10\">\n      <g>\n       <use style=\"stroke:#000000;stroke-width:0.8;\" x=\"291.774725\" xlink:href=\"#mee9242e3b4\" y=\"224.64\"/>\n      </g>\n     </g>\n     <g id=\"text_5\">\n      <!-- 0.8 -->\n      <defs>\n       <path d=\"M 31.78125 34.625 \nQ 24.75 34.625 20.71875 30.859375 \nQ 16.703125 27.09375 16.703125 20.515625 \nQ 16.703125 13.921875 20.71875 10.15625 \nQ 24.75 6.390625 31.78125 6.390625 \nQ 38.8125 6.390625 42.859375 10.171875 \nQ 46.921875 13.96875 46.921875 20.515625 \nQ 46.921875 27.09375 42.890625 30.859375 \nQ 38.875 34.625 31.78125 34.625 \nz\nM 21.921875 38.8125 \nQ 15.578125 40.375 12.03125 44.71875 \nQ 8.5 49.078125 8.5 55.328125 \nQ 8.5 64.0625 14.71875 69.140625 \nQ 20.953125 74.21875 31.78125 74.21875 \nQ 42.671875 74.21875 48.875 69.140625 \nQ 55.078125 64.0625 55.078125 55.328125 \nQ 55.078125 49.078125 51.53125 44.71875 \nQ 48 40.375 41.703125 38.8125 \nQ 48.828125 37.15625 52.796875 32.3125 \nQ 56.78125 27.484375 56.78125 20.515625 \nQ 56.78125 9.90625 50.3125 4.234375 \nQ 43.84375 -1.421875 31.78125 -1.421875 \nQ 19.734375 -1.421875 13.25 4.234375 \nQ 6.78125 9.90625 6.78125 20.515625 \nQ 6.78125 27.484375 10.78125 32.3125 \nQ 14.796875 37.15625 21.921875 38.8125 \nz\nM 18.3125 54.390625 \nQ 18.3125 48.734375 21.84375 45.5625 \nQ 25.390625 42.390625 31.78125 42.390625 \nQ 38.140625 42.390625 41.71875 45.5625 \nQ 45.3125 48.734375 45.3125 54.390625 \nQ 45.3125 60.0625 41.71875 63.234375 \nQ 38.140625 66.40625 31.78125 66.40625 \nQ 25.390625 66.40625 21.84375 63.234375 \nQ 18.3125 60.0625 18.3125 54.390625 \nz\n\" id=\"DejaVuSans-56\"/>\n      </defs>\n      <g transform=\"translate(283.823162 239.238438)scale(0.1 -0.1)\">\n       <use xlink:href=\"#DejaVuSans-48\"/>\n       <use x=\"63.623047\" xlink:href=\"#DejaVuSans-46\"/>\n       <use x=\"95.410156\" xlink:href=\"#DejaVuSans-56\"/>\n      </g>\n     </g>\n    </g>\n    <g id=\"xtick_6\">\n     <g id=\"line2d_11\">\n      <path clip-path=\"url(#p6e031fd7ec)\" d=\"M 352.869318 224.64 \nL 352.869318 7.2 \n\" style=\"fill:none;stroke:#b0b0b0;stroke-linecap:square;stroke-width:0.8;\"/>\n     </g>\n     <g id=\"line2d_12\">\n      <g>\n       <use style=\"stroke:#000000;stroke-width:0.8;\" x=\"352.869318\" xlink:href=\"#mee9242e3b4\" y=\"224.64\"/>\n      </g>\n     </g>\n     <g id=\"text_6\">\n      <!-- 1.0 -->\n      <defs>\n       <path d=\"M 12.40625 8.296875 \nL 28.515625 8.296875 \nL 28.515625 63.921875 \nL 10.984375 60.40625 \nL 10.984375 69.390625 \nL 28.421875 72.90625 \nL 38.28125 72.90625 \nL 38.28125 8.296875 \nL 54.390625 8.296875 \nL 54.390625 0 \nL 12.40625 0 \nz\n\" id=\"DejaVuSans-49\"/>\n      </defs>\n      <g transform=\"translate(344.917756 239.238438)scale(0.1 -0.1)\">\n       <use xlink:href=\"#DejaVuSans-49\"/>\n       <use x=\"63.623047\" xlink:href=\"#DejaVuSans-46\"/>\n       <use x=\"95.410156\" xlink:href=\"#DejaVuSans-48\"/>\n      </g>\n     </g>\n    </g>\n   </g>\n   <g id=\"matplotlib.axis_2\">\n    <g id=\"ytick_1\">\n     <g id=\"line2d_13\">\n      <path clip-path=\"url(#p6e031fd7ec)\" d=\"M 33.2875 224.64 \nL 368.0875 224.64 \n\" style=\"fill:none;stroke:#b0b0b0;stroke-linecap:square;stroke-width:0.8;\"/>\n     </g>\n     <g id=\"line2d_14\">\n      <defs>\n       <path d=\"M 0 0 \nL -3.5 0 \n\" id=\"m16fc19bac1\" style=\"stroke:#000000;stroke-width:0.8;\"/>\n      </defs>\n      <g>\n       <use style=\"stroke:#000000;stroke-width:0.8;\" x=\"33.2875\" xlink:href=\"#m16fc19bac1\" y=\"224.64\"/>\n      </g>\n     </g>\n     <g id=\"text_7\">\n      <!-- 0 -->\n      <g transform=\"translate(19.925 228.439219)scale(0.1 -0.1)\">\n       <use xlink:href=\"#DejaVuSans-48\"/>\n      </g>\n     </g>\n    </g>\n    <g id=\"ytick_2\">\n     <g id=\"line2d_15\">\n      <path clip-path=\"url(#p6e031fd7ec)\" d=\"M 33.2875 176.424467 \nL 368.0875 176.424467 \n\" style=\"fill:none;stroke:#b0b0b0;stroke-linecap:square;stroke-width:0.8;\"/>\n     </g>\n     <g id=\"line2d_16\">\n      <g>\n       <use style=\"stroke:#000000;stroke-width:0.8;\" x=\"33.2875\" xlink:href=\"#m16fc19bac1\" y=\"176.424467\"/>\n      </g>\n     </g>\n     <g id=\"text_8\">\n      <!-- 200 -->\n      <g transform=\"translate(7.2 180.223686)scale(0.1 -0.1)\">\n       <use xlink:href=\"#DejaVuSans-50\"/>\n       <use x=\"63.623047\" xlink:href=\"#DejaVuSans-48\"/>\n       <use x=\"127.246094\" xlink:href=\"#DejaVuSans-48\"/>\n      </g>\n     </g>\n    </g>\n    <g id=\"ytick_3\">\n     <g id=\"line2d_17\">\n      <path clip-path=\"url(#p6e031fd7ec)\" d=\"M 33.2875 128.208934 \nL 368.0875 128.208934 \n\" style=\"fill:none;stroke:#b0b0b0;stroke-linecap:square;stroke-width:0.8;\"/>\n     </g>\n     <g id=\"line2d_18\">\n      <g>\n       <use style=\"stroke:#000000;stroke-width:0.8;\" x=\"33.2875\" xlink:href=\"#m16fc19bac1\" y=\"128.208934\"/>\n      </g>\n     </g>\n     <g id=\"text_9\">\n      <!-- 400 -->\n      <g transform=\"translate(7.2 132.008153)scale(0.1 -0.1)\">\n       <use xlink:href=\"#DejaVuSans-52\"/>\n       <use x=\"63.623047\" xlink:href=\"#DejaVuSans-48\"/>\n       <use x=\"127.246094\" xlink:href=\"#DejaVuSans-48\"/>\n      </g>\n     </g>\n    </g>\n    <g id=\"ytick_4\">\n     <g id=\"line2d_19\">\n      <path clip-path=\"url(#p6e031fd7ec)\" d=\"M 33.2875 79.993401 \nL 368.0875 79.993401 \n\" style=\"fill:none;stroke:#b0b0b0;stroke-linecap:square;stroke-width:0.8;\"/>\n     </g>\n     <g id=\"line2d_20\">\n      <g>\n       <use style=\"stroke:#000000;stroke-width:0.8;\" x=\"33.2875\" xlink:href=\"#m16fc19bac1\" y=\"79.993401\"/>\n      </g>\n     </g>\n     <g id=\"text_10\">\n      <!-- 600 -->\n      <g transform=\"translate(7.2 83.79262)scale(0.1 -0.1)\">\n       <use xlink:href=\"#DejaVuSans-54\"/>\n       <use x=\"63.623047\" xlink:href=\"#DejaVuSans-48\"/>\n       <use x=\"127.246094\" xlink:href=\"#DejaVuSans-48\"/>\n      </g>\n     </g>\n    </g>\n    <g id=\"ytick_5\">\n     <g id=\"line2d_21\">\n      <path clip-path=\"url(#p6e031fd7ec)\" d=\"M 33.2875 31.777868 \nL 368.0875 31.777868 \n\" style=\"fill:none;stroke:#b0b0b0;stroke-linecap:square;stroke-width:0.8;\"/>\n     </g>\n     <g id=\"line2d_22\">\n      <g>\n       <use style=\"stroke:#000000;stroke-width:0.8;\" x=\"33.2875\" xlink:href=\"#m16fc19bac1\" y=\"31.777868\"/>\n      </g>\n     </g>\n     <g id=\"text_11\">\n      <!-- 800 -->\n      <g transform=\"translate(7.2 35.577087)scale(0.1 -0.1)\">\n       <use xlink:href=\"#DejaVuSans-56\"/>\n       <use x=\"63.623047\" xlink:href=\"#DejaVuSans-48\"/>\n       <use x=\"127.246094\" xlink:href=\"#DejaVuSans-48\"/>\n      </g>\n     </g>\n    </g>\n   </g>\n   <g id=\"patch_13\">\n    <path d=\"M 33.2875 224.64 \nL 33.2875 7.2 \n\" style=\"fill:none;stroke:#000000;stroke-linecap:square;stroke-linejoin:miter;stroke-width:0.8;\"/>\n   </g>\n   <g id=\"patch_14\">\n    <path d=\"M 368.0875 224.64 \nL 368.0875 7.2 \n\" style=\"fill:none;stroke:#000000;stroke-linecap:square;stroke-linejoin:miter;stroke-width:0.8;\"/>\n   </g>\n   <g id=\"patch_15\">\n    <path d=\"M 33.2875 224.64 \nL 368.0875 224.64 \n\" style=\"fill:none;stroke:#000000;stroke-linecap:square;stroke-linejoin:miter;stroke-width:0.8;\"/>\n   </g>\n   <g id=\"patch_16\">\n    <path d=\"M 33.2875 7.2 \nL 368.0875 7.2 \n\" style=\"fill:none;stroke:#000000;stroke-linecap:square;stroke-linejoin:miter;stroke-width:0.8;\"/>\n   </g>\n  </g>\n </g>\n <defs>\n  <clipPath id=\"p6e031fd7ec\">\n   <rect height=\"217.44\" width=\"334.8\" x=\"33.2875\" y=\"7.2\"/>\n  </clipPath>\n </defs>\n</svg>\n",
      "image/png": "[encoded data removed]"
     },
     "metadata": {
      "needs_background": "light"
     }
    }
   ],
   "source": [
    "#df_productivity[\"percentSoldProduction\"].hist()"
   ]
  },
  {
   "cell_type": "markdown",
   "metadata": {},
   "source": [
    "# Economies of scale"
   ]
  },
  {
   "cell_type": "code",
   "execution_count": 26,
   "metadata": {},
   "outputs": [],
   "source": [
    "# Group by zone (district)\n",
    "def getProductionSoldVolume_UA_Zone(df_productivity):\n",
    "    df_production = df_productivity[np.append(_MULTIINDEX_, [\"soldProduction\"])]\n",
    "    df_production_zone = df_production.groupby([\"NOMBREDD\", \"NOMBREPV\", \"NOMBREDI\"])[\"soldProduction\"].apply(np.sum).reset_index().rename(columns={\"soldProduction\": \"volumeOfDistrict\"})\n",
    "    return pd.merge(df_production, df_production_zone, how=\"left\", on=[\"NOMBREDD\", \"NOMBREPV\", \"NOMBREDI\"], suffixes=(\"\", \"_y\"))[np.append(_MULTIINDEX_, \"volumeOfDistrict\")]"
   ]
  },
  {
   "cell_type": "code",
   "execution_count": 23,
   "metadata": {},
   "outputs": [],
   "source": [
    "#getProductionSoldVolume_UA_Zone(df_productivity)"
   ]
  },
  {
   "cell_type": "code",
   "execution_count": 27,
   "metadata": {},
   "outputs": [],
   "source": [
    "df_economies_of_scale = getProductionSoldVolume_UA_Zone(df_productivity)"
   ]
  },
  {
   "cell_type": "code",
   "execution_count": 28,
   "metadata": {},
   "outputs": [
    {
     "output_type": "execute_result",
     "data": {
      "text/plain": [
       "1949"
      ]
     },
     "metadata": {},
     "execution_count": 28
    }
   ],
   "source": [
    "len(df_economies_of_scale)"
   ]
  },
  {
   "cell_type": "code",
   "execution_count": 29,
   "metadata": {},
   "outputs": [
    {
     "output_type": "execute_result",
     "data": {
      "text/plain": [
       "Index(['NOMBREDD', 'NOMBREPV', 'NOMBREDI', 'CONGLOMERADO', 'NSELUA', 'UA',\n",
       "       'volumeOfDistrict'],\n",
       "      dtype='object')"
      ]
     },
     "metadata": {},
     "execution_count": 29
    }
   ],
   "source": [
    "df_economies_of_scale.columns"
   ]
  },
  {
   "cell_type": "markdown",
   "metadata": {},
   "source": [
    "# Associativity"
   ]
  },
  {
   "cell_type": "code",
   "execution_count": 37,
   "metadata": {},
   "outputs": [],
   "source": [
    "# Sí instead of Si value (difference of 2019 ENA)\n",
    "def getAsociativity_UA(df, cropName):\n",
    "    df[\"associativity\"] = df[\"P801\"].astype(\"category\").cat.rename_categories({\"No\": 0, \"Sí\": 1})\n",
    "    df_new = df[df[\"crop\"] == cropName].groupby(_MULTIINDEX_)[\"associativity\"].unique().apply(list).apply(np.sum).reset_index().rename(columns={\"associativity\": \"associative\"})\n",
    "    return df_new"
   ]
  },
  {
   "cell_type": "code",
   "execution_count": 39,
   "metadata": {},
   "outputs": [],
   "source": [
    "df_associativity = getAsociativity_UA(df, _CROPNAME_)"
   ]
  },
  {
   "cell_type": "code",
   "execution_count": 40,
   "metadata": {},
   "outputs": [
    {
     "output_type": "execute_result",
     "data": {
      "text/plain": [
       "0    158789\n",
       "1     14285\n",
       "Name: associativity, dtype: int64"
      ]
     },
     "metadata": {},
     "execution_count": 40
    }
   ],
   "source": [
    "#df[\"associativity\"].value_counts()"
   ]
  },
  {
   "cell_type": "code",
   "execution_count": 41,
   "metadata": {},
   "outputs": [
    {
     "output_type": "execute_result",
     "data": {
      "text/plain": [
       "4614"
      ]
     },
     "metadata": {},
     "execution_count": 41
    }
   ],
   "source": [
    "len(df_associativity)"
   ]
  },
  {
   "cell_type": "code",
   "execution_count": 42,
   "metadata": {},
   "outputs": [
    {
     "output_type": "execute_result",
     "data": {
      "text/plain": [
       "Index(['NOMBREDD', 'NOMBREPV', 'NOMBREDI', 'CONGLOMERADO', 'NSELUA', 'UA',\n",
       "       'associative'],\n",
       "      dtype='object')"
      ]
     },
     "metadata": {},
     "execution_count": 42
    }
   ],
   "source": [
    "df_associativity.columns"
   ]
  },
  {
   "cell_type": "markdown",
   "metadata": {},
   "source": [
    "# Information indices"
   ]
  },
  {
   "cell_type": "code",
   "execution_count": 43,
   "metadata": {},
   "outputs": [],
   "source": [
    "variables = [{\"newVariable\": {\"name\": \"P707\", \"n\": 8, \"k\": 1}, \"oldVariables\": [{\"name\": \"P707\", \"n\": 8, \"k\": 1}]}, {\"newVariable\": {\"name\": \"P708and712\", \"n\": 13, \"k\": 1}, \"oldVariables\": [{\"name\": \"P708\", \"n\": 8, \"k\": 8}, {\"name\": \"P712\", \"n\": 9, \"k\": 1}]}, {\"newVariable\": {\"name\": \"P709\", \"n\": 9, \"k\": 1}, \"oldVariables\": [{\"name\": \"P709\", \"n\": 9, \"k\": 8}]}, {\"newVariable\": {\"name\": \"P710\", \"n\": 10, \"k\": 1}, \"oldVariables\": [{\"name\": \"P710\", \"n\": 10, \"k\": 1}]}]\n",
    "options = {\"P707\": [{\"value\": \"Si\", \"includes\": []}], \"P708and712\": [{\"n\": 1, \"value\": \"Ministerio de Agricultura y Riego\", \"includes\": [\"P708_1\", \"P712_1\"]}, {\"n\": 2, \"value\": \"Agencia Agraria\", \"includes\": [\"P712_2\"]}, {\"n\": 3, \"value\": \"Instituto Nacional de Innovación Agraria (INIA)\", \"includes\": [\"P712_3\"]}, {\"n\": 4, \"value\": \"Servicio Nacional de Sanidad Agraria (SENASA)\", \"includes\": [\"P712_4\"]}, {\"n\": 5, \"value\": \"Instituto Nacional de Defensa Civil (INDECI)\", \"includes\": [\"P712_6\"]}, {\"n\": 6, \"value\": \"Servicio Nacional de Meteorología e Higrología (SENAMHI)\", \"includes\": [\"P712_8\"]}, {\"n\": 7, \"value\": \"Gobierno Regional\", \"includes\": [\"P708_2\"]}, {\"n\": 8, \"value\": \"Gobierno Local\", \"includes\": [\"P708_3\"]}, {\"n\": 9, \"value\": \"Organismo No Gubernamental (ONG)\", \"includes\": [\"P708_4\", \"P712_5\"]}, {\"n\": 10, \"value\": \"Empresa Privada\", \"includes\": [\"P708_5\", \"P712_7\"]}, {\"n\": 11, \"value\": \"Asociación de productores/as\", \"includes\": [\"P708_6\"]}, {\"n\": 12, \"value\": \"Comerciante, productor/a, amigo/a\", \"includes\": [\"P708_7\"]}, {\"n\": 13, \"value\": \"Otro\", \"includes\": [\"P708_8\", \"P712_9\"]}], \"P709\": [{\"n\": 1, \"value\": \"Radio\", \"includes\": [\"P709_1\"]}, {\"n\": 2, \"value\": \"Televisión\", \"includes\": [\"P709_2\"]}, {\"n\": 3, \"value\": \"Teléfono\", \"includes\": [\"P709_3\"]}, {\"n\": 4, \"value\": \"Diarios\", \"includes\": [\"P709_4\"]}, {\"n\": 5, \"value\": \"Folletos\", \"includes\": [\"P709_5\"]}, {\"n\": 6, \"value\": \"Internet\", \"includes\": [\"P709_6\"]}, {\"n\": 7, \"value\": \"Talleres\", \"includes\": [\"P709_7\"]}, {\"n\": 8, \"value\": \"Comunicación verbal\", \"includes\": [\"P709_8\"]}, {\"n\": 9, \"value\": \"Otro\", \"includes\": [\"P709_9\"]}], \"P710\": [{\"n\": 1, \"value\": \"Información agroclimática\", \"includes\": [\"P710_1\"]}, {\"n\": 2, \"value\": \"Manejo de enfermedades y plagas\", \"includes\": [\"P710_2\"]}, {\"n\": 3, \"value\": \"Precio de insumos agropecuarios\", \"includes\": [\"P710_3\"]}, {\"n\": 4, \"value\": \"Precio de venta (chacra, mayorista, minorista)\", \"includes\": [\"P710_4\"]}, {\"n\": 5, \"value\": \"Técnica de manejo de cultivos y crianza\", \"includes\": [\"P710_5\"]}, {\"n\": 6, \"value\": \"Técnica de manejo de semilla\", \"includes\": [\"P710_6\"]}, {\"n\": 7, \"value\": \"Uso de abonos y fertilizantes\", \"includes\": [\"P710_7\"]}, {\"n\": 8, \"value\": \"Técnicas y sistema de riego\", \"includes\": [\"P710_8\"]}, {\"n\": 9, \"value\": \"Análisis de suelo\", \"includes\": [\"P710_9\"]}, {\"n\": 10, \"value\": \"Otro\", \"includes\": [\"P710_10\"]}]}"
   ]
  },
  {
   "cell_type": "code",
   "execution_count": 44,
   "metadata": {},
   "outputs": [],
   "source": [
    "def getDfInfo(df):\n",
    "    index_inf_type = [i for i in range(len(df.columns)) if \"707\" in df.columns[i]]\n",
    "    index_infsource_who = [i for i in range(len(df.columns)) if \"708\" in df.columns[i]]\n",
    "    index_infsource_who_2 = [i for i in range(len(df.columns)) if \"712\" in df.columns[i]]\n",
    "    index_infsource_media = [i for i in range(len(df.columns)) if \"709\" in df.columns[i]]\n",
    "    index_infsource_needs = [i for i in range(len(df.columns)) if \"710\" in df.columns[i]]\n",
    "\n",
    "    inf_type = df.columns[index_inf_type]\n",
    "    infsource_who = df.columns[index_infsource_who]\n",
    "    infsource_who_2 = df.columns[index_infsource_who_2]\n",
    "    infsource_media = df.columns[index_infsource_media]\n",
    "    infsource_needs = df.columns[index_infsource_needs]\n",
    "\n",
    "    selected_columns = np.concatenate((_MULTIINDEX_, [\"crop\"], inf_type, infsource_who, infsource_who_2, infsource_media, infsource_needs), axis=0)\n",
    "\n",
    "    df_info = df[selected_columns]\n",
    "    return df_info"
   ]
  },
  {
   "cell_type": "code",
   "execution_count": 45,
   "metadata": {},
   "outputs": [],
   "source": [
    "def getOldData(df):\n",
    "    oldData = {}\n",
    "    # \"P707_1\": [0, 1], \"P707_2\": [1, 0]\n",
    "    for variable in variables:\n",
    "        newName = variable[\"newVariable\"][\"name\"]\n",
    "        N = variable[\"newVariable\"][\"n\"] + 1\n",
    "        K = variable[\"newVariable\"][\"k\"] + 1\n",
    "        oldVariables = variable[\"oldVariables\"]\n",
    "        option = options[newName]\n",
    "        # print(\"==========\", option)\n",
    "        for x in oldVariables:\n",
    "            # print(\"old variable\", x)\n",
    "            oName = x[\"name\"]\n",
    "            oK = x[\"k\"] + 1\n",
    "            oN = x[\"n\"] + 1\n",
    "            for o_n in range(1, oN):\n",
    "                oVariable = oName + \"_%s\" % o_n\n",
    "                cols = []\n",
    "                # print(\"old variable\", oVariable)\n",
    "                if x[\"k\"] > 1:\n",
    "                    for o_k in range(1, oK):\n",
    "                        okVariable = oName + \"_%s\" % o_k + \"_%s\" % o_n\n",
    "                        cols = np.append(cols, okVariable)\n",
    "                        # print(\"--------*\", okVariable)\n",
    "                    # print(len(cols))\n",
    "                    prev = np.where(df[cols].fillna(0).replace({\"Pase\": 0}) != 0, 1, 0)\n",
    "                    noreshape = np.where(np.sum(prev, axis = 1) >= 1, 1, 0)\n",
    "                    oldData[oVariable] = noreshape.reshape((len(noreshape),))\n",
    "                else:\n",
    "                    cols = np.append(cols, oVariable)\n",
    "                    # print(\"--------\", oVariable)\n",
    "                    # print(len(cols))\n",
    "                    prev = np.where(df[cols].fillna(0).replace({\"Pase\": 0}) != 0, 1, 0)\n",
    "                    noreshape = np.where(prev >= 1, 1, 0)\n",
    "                    oldData[oVariable] = noreshape.reshape((len(noreshape),))\n",
    "\n",
    "    return pd.DataFrame(data=oldData)"
   ]
  },
  {
   "cell_type": "code",
   "execution_count": 46,
   "metadata": {},
   "outputs": [],
   "source": [
    "def getNewData(df, df_oldData):\n",
    "    newData = {}\n",
    "    for variable in variables:\n",
    "        newName = variable[\"newVariable\"][\"name\"]\n",
    "        N = variable[\"newVariable\"][\"n\"] + 1\n",
    "        K = variable[\"newVariable\"][\"k\"] + 1\n",
    "        oldVariables = variable[\"oldVariables\"]\n",
    "        option = options[newName]\n",
    "        # print(\"==========\", option)\n",
    "        for oldVariable in option:\n",
    "            if len(option) > 1:\n",
    "                n = oldVariable[\"n\"]\n",
    "                value = oldVariable[\"value\"]\n",
    "                oldVarIncludes = oldVariable[\"includes\"]\n",
    "                newVar = newName + \"_%s\" % n\n",
    "                noreshape = np.where(np.sum(df_oldData[oldVarIncludes], axis=1) >= 1, 1, 0)\n",
    "                newData[newVar] = noreshape.reshape((len(noreshape),))\n",
    "                # print(\"====== new Data %s\" % newVar, oldVarIncludes)\n",
    "\n",
    "            else:\n",
    "                for n in range(1, N):\n",
    "                    newVar = newName + \"_%s\" % n\n",
    "                    noreshape = (df[newVar] == \"Si\").astype(int)\n",
    "                    newData[newVar] = noreshape\n",
    "                    # print(\"NEW: \", newVar)\n",
    "    \n",
    "            # print(oldVariable)\n",
    "    return pd.DataFrame(data=newData)"
   ]
  },
  {
   "cell_type": "code",
   "execution_count": 47,
   "metadata": {},
   "outputs": [],
   "source": [
    "def getDfInformation(df):\n",
    "    df_oldData = getOldData(df)\n",
    "    df_newData = getNewData(df, df_oldData)\n",
    "    return pd.concat([df[np.append(_MULTIINDEX_, \"crop\")], df_newData], axis=1) "
   ]
  },
  {
   "cell_type": "code",
   "execution_count": 48,
   "metadata": {},
   "outputs": [],
   "source": [
    "df_info = getDfInfo(df)"
   ]
  },
  {
   "cell_type": "code",
   "execution_count": 49,
   "metadata": {},
   "outputs": [
    {
     "output_type": "execute_result",
     "data": {
      "text/plain": [
       "(170, 175758)"
      ]
     },
     "metadata": {},
     "execution_count": 49
    }
   ],
   "source": [
    "len(df_info.columns), len(df_info)"
   ]
  },
  {
   "cell_type": "code",
   "execution_count": 50,
   "metadata": {},
   "outputs": [],
   "source": [
    "df_info02 = getDfInformation(df_info)"
   ]
  },
  {
   "cell_type": "code",
   "execution_count": 51,
   "metadata": {},
   "outputs": [
    {
     "output_type": "execute_result",
     "data": {
      "text/plain": [
       "Index(['NOMBREDD', 'NOMBREPV', 'NOMBREDI', 'CONGLOMERADO', 'NSELUA', 'UA',\n",
       "       'crop', 'P707_1', 'P707_2', 'P707_3', 'P707_4', 'P707_5', 'P707_6',\n",
       "       'P707_7', 'P707_8', 'P708and712_1', 'P708and712_2', 'P708and712_3',\n",
       "       'P708and712_4', 'P708and712_5', 'P708and712_6', 'P708and712_7',\n",
       "       'P708and712_8', 'P708and712_9', 'P708and712_10', 'P708and712_11',\n",
       "       'P708and712_12', 'P708and712_13', 'P709_1', 'P709_2', 'P709_3',\n",
       "       'P709_4', 'P709_5', 'P709_6', 'P709_7', 'P709_8', 'P709_9', 'P710_1',\n",
       "       'P710_2', 'P710_3', 'P710_4', 'P710_5', 'P710_6', 'P710_7', 'P710_8',\n",
       "       'P710_9', 'P710_10'],\n",
       "      dtype='object')"
      ]
     },
     "metadata": {},
     "execution_count": 51
    }
   ],
   "source": [
    "df_info02.columns"
   ]
  },
  {
   "cell_type": "code",
   "execution_count": 53,
   "metadata": {},
   "outputs": [
    {
     "output_type": "execute_result",
     "data": {
      "text/plain": [
       "47"
      ]
     },
     "metadata": {},
     "execution_count": 53
    }
   ],
   "source": [
    "len(df_info02.columns)"
   ]
  },
  {
   "cell_type": "code",
   "execution_count": 54,
   "metadata": {},
   "outputs": [],
   "source": [
    "newNameColumns={\"P707_1\": \"INFORMATION_1\", \"P707_2\": \"INFORMATION_2\", \"P707_3\": \"INFORMATION_3\", \"P707_4\": \"INFORMATION_4\", \"P707_5\": \"INFORMATION_5\", \"P707_6\": \"INFORMATION_6\", \"P707_7\": \"INFORMATION_7\", \"P707_8\": \"INFORMATION_8\", \"P707_NAN\": \"INFORMATION_NAN\", \"P708and712_1\": \"INSTITUCION_1\", \"P708and712_2\": \"INSTITUCION_2\", \"P708and712_3\": \"INSTITUCION_3\", \"P708and712_4\": \"INSTITUCION_4\", \"P708and712_5\": \"INSTITUCION_5\", \"P708and712_6\": \"INSTITUCION_6\", \"P708and712_7\": \"INSTITUCION_7\", \"P708and712_8\": \"INSTITUCION_8\", \"P708and712_9\": \"INSTITUCION_9\", \"P708and712_10\": \"INSTITUCION_10\", \"P708and712_11\": \"INSTITUCION_11\", \"P708and712_12\": \"INSTITUCION_12\", \"P708and712_13\": \"INSTITUCION_13\", \"P708and712_NAN\": \"INSTITUCION_NAN\", \"P709_1\": \"MEDIO_1\", \"P709_2\": \"MEDIO_2\", \"P709_3\": \"MEDIO_3\", \"P709_4\": \"MEDIO_4\", \"P709_5\": \"MEDIO_5\", \"P709_6\": \"MEDIO_6\", \"P709_7\": \"MEDIO_7\", \"P709_8\": \"MEDIO_8\", \"P709_9\": \"MEDIO_9\", \"P709_NAN\": \"MEDIO_NAN\", \"P710_1\": \"INFO_REQUERIDA_1\", \"P710_2\": \"INFO_REQUERIDA_2\", \"P710_3\": \"INFO_REQUERIDA_3\", \"P710_4\": \"INFO_REQUERIDA_4\", \"P710_5\": \"INFO_REQUERIDA_5\", \"P710_6\": \"INFO_REQUERIDA_6\", \"P710_7\": \"INFO_REQUERIDA_7\", \"P710_8\": \"INFO_REQUERIDA_8\", \"P710_9\": \"INFO_REQUERIDA_9\", \"P710_10\": \"INFO_REQUERIDA_10\", \"P710_NAN\": \"INFO_REQUERIDA_NAN\"}"
   ]
  },
  {
   "cell_type": "code",
   "execution_count": 55,
   "metadata": {},
   "outputs": [],
   "source": [
    "df_info_newcolumns = df_info02.rename(columns=newNameColumns)"
   ]
  },
  {
   "cell_type": "code",
   "execution_count": 56,
   "metadata": {},
   "outputs": [
    {
     "output_type": "execute_result",
     "data": {
      "text/plain": [
       "Index(['NOMBREDD', 'NOMBREPV', 'NOMBREDI', 'CONGLOMERADO', 'NSELUA', 'UA',\n",
       "       'crop', 'INFORMATION_1', 'INFORMATION_2', 'INFORMATION_3',\n",
       "       'INFORMATION_4', 'INFORMATION_5', 'INFORMATION_6', 'INFORMATION_7',\n",
       "       'INFORMATION_8', 'INSTITUCION_1', 'INSTITUCION_2', 'INSTITUCION_3',\n",
       "       'INSTITUCION_4', 'INSTITUCION_5', 'INSTITUCION_6', 'INSTITUCION_7',\n",
       "       'INSTITUCION_8', 'INSTITUCION_9', 'INSTITUCION_10', 'INSTITUCION_11',\n",
       "       'INSTITUCION_12', 'INSTITUCION_13', 'MEDIO_1', 'MEDIO_2', 'MEDIO_3',\n",
       "       'MEDIO_4', 'MEDIO_5', 'MEDIO_6', 'MEDIO_7', 'MEDIO_8', 'MEDIO_9',\n",
       "       'INFO_REQUERIDA_1', 'INFO_REQUERIDA_2', 'INFO_REQUERIDA_3',\n",
       "       'INFO_REQUERIDA_4', 'INFO_REQUERIDA_5', 'INFO_REQUERIDA_6',\n",
       "       'INFO_REQUERIDA_7', 'INFO_REQUERIDA_8', 'INFO_REQUERIDA_9',\n",
       "       'INFO_REQUERIDA_10'],\n",
       "      dtype='object')"
      ]
     },
     "metadata": {},
     "execution_count": 56
    }
   ],
   "source": [
    "df_info_newcolumns.columns"
   ]
  },
  {
   "cell_type": "code",
   "execution_count": 57,
   "metadata": {},
   "outputs": [],
   "source": [
    "# Adding NAN variables\n",
    "base = [\"INFORMATION\", \"INSTITUTION\", \"MEDIO\", \"INFO_REQUERIDA\"]\n",
    "\n",
    "columns = {\"INFORMATION\": [\"INFORMATION_1\", \"INFORMATION_2\", \"INFORMATION_3\", \"INFORMATION_4\", \"INFORMATION_5\", \"INFORMATION_6\", \"INFORMATION_7\", \"INFORMATION_8\"], \"INSTITUTION\": [\"INSTITUCION_1\", \"INSTITUCION_2\", \"INSTITUCION_3\", \"INSTITUCION_4\", \"INSTITUCION_5\", \"INSTITUCION_6\", \"INSTITUCION_7\", \"INSTITUCION_8\", \"INSTITUCION_9\", \"INSTITUCION_10\", \"INSTITUCION_11\", \"INSTITUCION_12\", \"INSTITUCION_13\"], \"MEDIO\": [\"MEDIO_1\", \"MEDIO_2\", \"MEDIO_3\", \"MEDIO_4\", \"MEDIO_5\", \"MEDIO_6\", \"MEDIO_7\", \"MEDIO_8\", \"MEDIO_9\"], \"INFO_REQUERIDA\": [\"INFO_REQUERIDA_1\", \"INFO_REQUERIDA_2\", \"INFO_REQUERIDA_3\", \"INFO_REQUERIDA_4\", \"INFO_REQUERIDA_5\", \"INFO_REQUERIDA_6\", \"INFO_REQUERIDA_7\", \"INFO_REQUERIDA_8\", \"INFO_REQUERIDA_9\", \"INFO_REQUERIDA_10\"]}\n",
    "\n",
    "for name in base:\n",
    "    df_info_newcolumns[\"%s_NAN\" % name] = (df_info_newcolumns[columns[name]].sum(axis=1) == 0)*1"
   ]
  },
  {
   "cell_type": "code",
   "execution_count": 58,
   "metadata": {},
   "outputs": [
    {
     "output_type": "execute_result",
     "data": {
      "text/plain": [
       "Index(['NOMBREDD', 'NOMBREPV', 'NOMBREDI', 'CONGLOMERADO', 'NSELUA', 'UA',\n",
       "       'crop', 'INFORMATION_1', 'INFORMATION_2', 'INFORMATION_3',\n",
       "       'INFORMATION_4', 'INFORMATION_5', 'INFORMATION_6', 'INFORMATION_7',\n",
       "       'INFORMATION_8', 'INSTITUCION_1', 'INSTITUCION_2', 'INSTITUCION_3',\n",
       "       'INSTITUCION_4', 'INSTITUCION_5', 'INSTITUCION_6', 'INSTITUCION_7',\n",
       "       'INSTITUCION_8', 'INSTITUCION_9', 'INSTITUCION_10', 'INSTITUCION_11',\n",
       "       'INSTITUCION_12', 'INSTITUCION_13', 'MEDIO_1', 'MEDIO_2', 'MEDIO_3',\n",
       "       'MEDIO_4', 'MEDIO_5', 'MEDIO_6', 'MEDIO_7', 'MEDIO_8', 'MEDIO_9',\n",
       "       'INFO_REQUERIDA_1', 'INFO_REQUERIDA_2', 'INFO_REQUERIDA_3',\n",
       "       'INFO_REQUERIDA_4', 'INFO_REQUERIDA_5', 'INFO_REQUERIDA_6',\n",
       "       'INFO_REQUERIDA_7', 'INFO_REQUERIDA_8', 'INFO_REQUERIDA_9',\n",
       "       'INFO_REQUERIDA_10', 'INFORMATION_NAN', 'INSTITUTION_NAN', 'MEDIO_NAN',\n",
       "       'INFO_REQUERIDA_NAN'],\n",
       "      dtype='object')"
      ]
     },
     "metadata": {},
     "execution_count": 58
    }
   ],
   "source": [
    "df_info_newcolumns.columns"
   ]
  },
  {
   "cell_type": "code",
   "execution_count": 59,
   "metadata": {},
   "outputs": [],
   "source": [
    "def getVariablesForInformationIndex(df):\n",
    "    df[\"INFO_PRECIO\"] = df[\"INFORMATION_1\"]\n",
    "    df[\"INFO_METEREOLOGICA\"] = df[\"INFORMATION_5\"]\n",
    "    df[\"INFO_CALIDAD_VECINO_AMIGO\"] = df[\"INSTITUCION_12\"]\n",
    "    institutions = [\"INSTITUCION_1\", \"INSTITUCION_2\", \"INSTITUCION_3\", \"INSTITUCION_4\", \"INSTITUCION_5\", \"INSTITUCION_6\", \"INSTITUCION_7\", \"INSTITUCION_8\", \"INSTITUCION_9\", \"INSTITUCION_10\", \"INSTITUCION_11\", \"INSTITUCION_13\"]\n",
    "    df[\"INFO_CALIDAD_INSTITUCION\"] = (df[institutions].sum(axis=1) > 0)*1"
   ]
  },
  {
   "cell_type": "code",
   "execution_count": 60,
   "metadata": {},
   "outputs": [],
   "source": [
    "getVariablesForInformationIndex(df_info_newcolumns)"
   ]
  },
  {
   "cell_type": "code",
   "execution_count": 61,
   "metadata": {},
   "outputs": [],
   "source": [
    "def getInformationIndex(df):\n",
    "    df[\"INDEX_PRECIO_INFORMAL\"] = df[\"INFO_PRECIO\"] * df[\"INFO_CALIDAD_VECINO_AMIGO\"]\n",
    "    df[\"INDEX_PRECIO_FORMAL\"] = df[\"INFO_PRECIO\"] * df[\"INFO_CALIDAD_INSTITUCION\"]\n",
    "    df[\"INDEX_PRECIO_NAN\"] = (df[[\"INDEX_PRECIO_INFORMAL\", \"INDEX_PRECIO_FORMAL\"]].sum(axis=1) == 0) * 1\n",
    "\n",
    "    df[\"INDEX_METEREOLOGICA_INFORMAL\"] = df[\"INFO_METEREOLOGICA\"] * df[\"INFO_CALIDAD_VECINO_AMIGO\"]\n",
    "    df[\"INDEX_METEREOLOGICA_FORMAL\"] = df[\"INFO_METEREOLOGICA\"] * df[\"INFO_CALIDAD_INSTITUCION\"]\n",
    "    df[\"INDEX_METEREOLOGICA_NAN\"] = (df[[\"INDEX_METEREOLOGICA_INFORMAL\", \"INDEX_METEREOLOGICA_FORMAL\"]].sum(axis=1) == 0) * 1\n",
    "    \n",
    "    df[\"INDEX_NAN_INFORMAL\"] = (df[[\"INDEX_PRECIO_INFORMAL\", \"INDEX_METEREOLOGICA_INFORMAL\"]].sum(axis=1) == 0) * 1\n",
    "    df[\"INDEX_NAN_FORMAL\"] = (df[[\"INDEX_PRECIO_FORMAL\", \"INDEX_METEREOLOGICA_FORMAL\"]].sum(axis=1) == 0) * 1\n",
    "\n",
    "    df[\"INDEX_NAN_NAN\"] = (df[[\"INDEX_PRECIO_INFORMAL\", \"INDEX_PRECIO_FORMAL\", \"INDEX_METEREOLOGICA_INFORMAL\", \"INDEX_METEREOLOGICA_FORMAL\"]].sum(axis=1) == 0) * 1"
   ]
  },
  {
   "cell_type": "code",
   "execution_count": 62,
   "metadata": {},
   "outputs": [],
   "source": [
    "getInformationIndex(df_info_newcolumns)"
   ]
  },
  {
   "cell_type": "code",
   "execution_count": 63,
   "metadata": {},
   "outputs": [
    {
     "output_type": "execute_result",
     "data": {
      "text/plain": [
       "Index(['NOMBREDD', 'NOMBREPV', 'NOMBREDI', 'CONGLOMERADO', 'NSELUA', 'UA',\n",
       "       'crop', 'INFORMATION_1', 'INFORMATION_2', 'INFORMATION_3',\n",
       "       'INFORMATION_4', 'INFORMATION_5', 'INFORMATION_6', 'INFORMATION_7',\n",
       "       'INFORMATION_8', 'INSTITUCION_1', 'INSTITUCION_2', 'INSTITUCION_3',\n",
       "       'INSTITUCION_4', 'INSTITUCION_5', 'INSTITUCION_6', 'INSTITUCION_7',\n",
       "       'INSTITUCION_8', 'INSTITUCION_9', 'INSTITUCION_10', 'INSTITUCION_11',\n",
       "       'INSTITUCION_12', 'INSTITUCION_13', 'MEDIO_1', 'MEDIO_2', 'MEDIO_3',\n",
       "       'MEDIO_4', 'MEDIO_5', 'MEDIO_6', 'MEDIO_7', 'MEDIO_8', 'MEDIO_9',\n",
       "       'INFO_REQUERIDA_1', 'INFO_REQUERIDA_2', 'INFO_REQUERIDA_3',\n",
       "       'INFO_REQUERIDA_4', 'INFO_REQUERIDA_5', 'INFO_REQUERIDA_6',\n",
       "       'INFO_REQUERIDA_7', 'INFO_REQUERIDA_8', 'INFO_REQUERIDA_9',\n",
       "       'INFO_REQUERIDA_10', 'INFORMATION_NAN', 'INSTITUTION_NAN', 'MEDIO_NAN',\n",
       "       'INFO_REQUERIDA_NAN', 'INFO_PRECIO', 'INFO_METEREOLOGICA',\n",
       "       'INFO_CALIDAD_VECINO_AMIGO', 'INFO_CALIDAD_INSTITUCION',\n",
       "       'INDEX_PRECIO_INFORMAL', 'INDEX_PRECIO_FORMAL', 'INDEX_PRECIO_NAN',\n",
       "       'INDEX_METEREOLOGICA_INFORMAL', 'INDEX_METEREOLOGICA_FORMAL',\n",
       "       'INDEX_METEREOLOGICA_NAN', 'INDEX_NAN_INFORMAL', 'INDEX_NAN_FORMAL',\n",
       "       'INDEX_NAN_NAN'],\n",
       "      dtype='object')"
      ]
     },
     "metadata": {},
     "execution_count": 63
    }
   ],
   "source": [
    "df_info_newcolumns.columns"
   ]
  },
  {
   "cell_type": "code",
   "execution_count": 64,
   "metadata": {},
   "outputs": [],
   "source": [
    "df_information_indices = df_info_newcolumns.rename(columns={\"INDEX_PRECIO_INFORMAL\": \"informalPriceInformation\", \"INDEX_PRECIO_FORMAL\": \"formalPriceInformation\", \"INDEX_METEREOLOGICA_INFORMAL\": \"informalMetereologicalInformation\", \"INDEX_METEREOLOGICA_FORMAL\": \"formalMetereologicalInformation\"})"
   ]
  },
  {
   "cell_type": "code",
   "execution_count": 65,
   "metadata": {},
   "outputs": [
    {
     "output_type": "execute_result",
     "data": {
      "text/plain": [
       "175758"
      ]
     },
     "metadata": {},
     "execution_count": 65
    }
   ],
   "source": [
    "len(df_information_indices)"
   ]
  },
  {
   "cell_type": "code",
   "execution_count": 66,
   "metadata": {},
   "outputs": [],
   "source": [
    "def getVariableColum_UA(df, cropName, variable):\n",
    "    df_crop = df[df[\"crop\"] == cropName]\n",
    "    # print(cropName)\n",
    "    variableObs = df_crop.groupby(_MULTIINDEX_)[variable].unique().apply(lambda x: x[0]).reset_index()\n",
    "    print(variable, len(variableObs))\n",
    "    return variableObs\n",
    "\n",
    "indexVar = [\"INDEX_NAN_NAN\", \"INDEX_NAN_INFORMAL\", \"INDEX_NAN_FORMAL\", \"INDEX_PRECIO_NAN\", \"INDEX_PRECIO_INFORMAL\", \"INDEX_PRECIO_FORMAL\", \"INDEX_METEREOLOGICA_NAN\", \"INDEX_METEREOLOGICA_INFORMAL\", \"INDEX_METEREOLOGICA_FORMAL\"]"
   ]
  },
  {
   "cell_type": "code",
   "execution_count": 67,
   "metadata": {},
   "outputs": [],
   "source": [
    "# \"INDEX_NAN_NAN\", \"INDEX_NAN_INFORMAL\", \"INDEX_NAN_FORMAL\",\n",
    "# \"INDEX_PRECIO_NAN\", \"INDEX_PRECIO_INFORMAL\", \"INDEX_PRECIO_FORMAL\",\n",
    "# \"INDEX_CANTIDAD_NAN\", \"INDEX_CANTIDAD_INFORMAL\", \"INDEX_CANTIDAD_FORMAL\",\n",
    "# \"INDEX_METEREOLOGICA_NAN\", \"INDEX_METEREOLOGICA_INFORMAL\", \"INDEX_METEREOLOGICA_FORMAL\"\n",
    "# df_info_whitepotato_newcolumns\n",
    "def filteringInformationIndex_UA(df, cropName):\n",
    "    _00 = getVariableColum_UA(df, cropName, \"INDEX_NAN_NAN\")\n",
    "    _10 = getVariableColum_UA(df, cropName, \"INDEX_PRECIO_NAN\")\n",
    "    _20 = getVariableColum_UA(df, cropName, \"INDEX_METEREOLOGICA_NAN\")\n",
    "    _01 = getVariableColum_UA(df, cropName, \"INDEX_NAN_INFORMAL\")\n",
    "    _11 = getVariableColum_UA(df, cropName, \"INDEX_PRECIO_INFORMAL\")\n",
    "    _21 = getVariableColum_UA(df, cropName, \"INDEX_METEREOLOGICA_INFORMAL\")\n",
    "    _02 = getVariableColum_UA(df, cropName, \"INDEX_NAN_FORMAL\")\n",
    "    _12 = getVariableColum_UA(df, cropName, \"INDEX_PRECIO_FORMAL\")\n",
    "    _22 = getVariableColum_UA(df, cropName, \"INDEX_METEREOLOGICA_FORMAL\")\n",
    "    return pd.concat([_00, _10[\"INDEX_PRECIO_NAN\"], _20[\"INDEX_METEREOLOGICA_NAN\"], _01[\"INDEX_NAN_INFORMAL\"], _11[\"INDEX_PRECIO_INFORMAL\"], _21[\"INDEX_METEREOLOGICA_INFORMAL\"], _02[\"INDEX_NAN_FORMAL\"], _12[\"INDEX_PRECIO_FORMAL\"], _22[\"INDEX_METEREOLOGICA_FORMAL\"]], axis=1, sort=False)"
   ]
  },
  {
   "cell_type": "code",
   "execution_count": 68,
   "metadata": {},
   "outputs": [
    {
     "output_type": "stream",
     "name": "stdout",
     "text": [
      "INDEX_NAN_NAN 4614\n",
      "INDEX_PRECIO_NAN 4614\n",
      "INDEX_METEREOLOGICA_NAN 4614\n",
      "INDEX_NAN_INFORMAL 4614\n",
      "INDEX_PRECIO_INFORMAL 4614\n",
      "INDEX_METEREOLOGICA_INFORMAL 4614\n",
      "INDEX_NAN_FORMAL 4614\n",
      "INDEX_PRECIO_FORMAL 4614\n",
      "INDEX_METEREOLOGICA_FORMAL 4614\n"
     ]
    }
   ],
   "source": [
    "df_information = filteringInformationIndex_UA(df_info_newcolumns, _CROPNAME_)"
   ]
  },
  {
   "cell_type": "code",
   "execution_count": 69,
   "metadata": {},
   "outputs": [
    {
     "output_type": "execute_result",
     "data": {
      "text/plain": [
       "Index(['NOMBREDD', 'NOMBREPV', 'NOMBREDI', 'CONGLOMERADO', 'NSELUA', 'UA',\n",
       "       'INDEX_NAN_NAN', 'INDEX_PRECIO_NAN', 'INDEX_METEREOLOGICA_NAN',\n",
       "       'INDEX_NAN_INFORMAL', 'INDEX_PRECIO_INFORMAL',\n",
       "       'INDEX_METEREOLOGICA_INFORMAL', 'INDEX_NAN_FORMAL',\n",
       "       'INDEX_PRECIO_FORMAL', 'INDEX_METEREOLOGICA_FORMAL'],\n",
       "      dtype='object')"
      ]
     },
     "metadata": {},
     "execution_count": 69
    }
   ],
   "source": [
    "df_information.columns"
   ]
  },
  {
   "cell_type": "code",
   "execution_count": 70,
   "metadata": {},
   "outputs": [],
   "source": [
    "columnsSelected = [\"informalPriceInformation\", \"formalPriceInformation\", \"informalMetereologicalInformation\", \"formalMetereologicalInformation\"]\n",
    "df_information_indices = df_information.rename(columns={\"INDEX_PRECIO_INFORMAL\": \"informalPriceInformation\", \"INDEX_PRECIO_FORMAL\": \"formalPriceInformation\", \"INDEX_METEREOLOGICA_INFORMAL\": \"informalMetereologicalInformation\", \"INDEX_METEREOLOGICA_FORMAL\": \"formalMetereologicalInformation\"})[np.append(_MULTIINDEX_, columnsSelected)]"
   ]
  },
  {
   "cell_type": "code",
   "execution_count": 71,
   "metadata": {},
   "outputs": [
    {
     "output_type": "execute_result",
     "data": {
      "text/plain": [
       "4614"
      ]
     },
     "metadata": {},
     "execution_count": 71
    }
   ],
   "source": [
    "len(df_information_indices)"
   ]
  },
  {
   "cell_type": "code",
   "execution_count": 72,
   "metadata": {},
   "outputs": [
    {
     "output_type": "execute_result",
     "data": {
      "text/plain": [
       "Index(['NOMBREDD', 'NOMBREPV', 'NOMBREDI', 'CONGLOMERADO', 'NSELUA', 'UA',\n",
       "       'informalPriceInformation', 'formalPriceInformation',\n",
       "       'informalMetereologicalInformation', 'formalMetereologicalInformation'],\n",
       "      dtype='object')"
      ]
     },
     "metadata": {},
     "execution_count": 72
    }
   ],
   "source": [
    "df_information_indices.columns"
   ]
  },
  {
   "cell_type": "markdown",
   "metadata": {},
   "source": [
    "# Market size"
   ]
  },
  {
   "cell_type": "code",
   "execution_count": 73,
   "metadata": {},
   "outputs": [],
   "source": [
    "def getMarketSizeVariables(df):\n",
    "    df[\"MARKET_LOCAL\"] = (df[\"P223_1\"] == \"Mercado local (feria local, centro de acopio local)?\").astype(int)\n",
    "    df[\"MARKET_REGIONAL\"] = (df[\"P223_2\"] == \"Mercado regional (feria regional, centro de acopio regional)?\").astype(int)\n",
    "    df[\"MARKET_LIMA\"] = (df[\"P223_5\"] == \"Mercados de Lima?\").astype(int)\n",
    "    df[\"MARKET_AGROINDUSTRY\"] = (df[\"P223_4\"] == \"Agroindustria?\").astype(int)\n",
    "    df[\"MARKET_EXPORT\"] = (df[\"P223_3\"] == \"Mercado exterior?\").astype(int)\n",
    "    df[\"MARKET_NAN\"] = (df[\"P223_6\"] == \"NO SABE\").astype(int)"
   ]
  },
  {
   "cell_type": "code",
   "execution_count": 74,
   "metadata": {},
   "outputs": [],
   "source": [
    "def getMarketSizeDummies_UA(df, cropName, indices):\n",
    "    getMarketSizeVariables(df)\n",
    "    df_1 = df[df[\"crop\"] == cropName].groupby(indices)[\"MARKET_LOCAL\"].unique().apply(lambda x: x[0]).reset_index()\n",
    "    df_2 = df[df[\"crop\"] == cropName].groupby(indices)[\"MARKET_REGIONAL\"].unique().apply(lambda x: x[0]).reset_index()\n",
    "    df_3 = df[df[\"crop\"] == cropName].groupby(indices)[\"MARKET_LIMA\"].unique().apply(lambda x: x[0]).reset_index()\n",
    "    df_4 = df[df[\"crop\"] == cropName].groupby(indices)[\"MARKET_AGROINDUSTRY\"].unique().apply(lambda x: x[0]).reset_index()\n",
    "    df_5 = df[df[\"crop\"] == cropName].groupby(indices)[\"MARKET_EXPORT\"].unique().apply(lambda x: x[0]).reset_index()\n",
    "    df_6 = df[df[\"crop\"] == cropName].groupby(indices)[\"MARKET_NAN\"].unique().apply(lambda x: x[0]).reset_index()\n",
    "    return pd.concat([df_1, df_2[\"MARKET_REGIONAL\"], df_3[\"MARKET_LIMA\"], df_4[\"MARKET_AGROINDUSTRY\"], df_5[\"MARKET_EXPORT\"], df_6[\"MARKET_NAN\"]], axis=1, sort=False)"
   ]
  },
  {
   "cell_type": "code",
   "execution_count": 75,
   "metadata": {},
   "outputs": [],
   "source": [
    "def getLastMarketSize(x):\n",
    "    x = list(filter(lambda x : x != \"MARKET_NAN\", x))\n",
    "    if len(x):\n",
    "        last_one = x[-1]\n",
    "        if last_one == \"MARKET_LOCAL\":\n",
    "            val = \"Local market\"\n",
    "        elif last_one == \"MARKET_REGIONAL\":\n",
    "            val = \"Regional market\"\n",
    "        elif last_one == \"MARKET_LIMA\":\n",
    "            val = \"Lima markets\"\n",
    "        elif last_one == \"MARKET_AGROINDUSTRY\":\n",
    "            val = \"Agroindustry\"\n",
    "        elif last_one == \"MARKET_EXPORT\":\n",
    "            val = \"Outside market\"\n",
    "        else:\n",
    "            val = None\n",
    "        return val\n",
    "    else:\n",
    "        return None"
   ]
  },
  {
   "cell_type": "code",
   "execution_count": 76,
   "metadata": {},
   "outputs": [],
   "source": [
    "_MARKET_SIZE_ = [\"MARKET_LOCAL\", \"MARKET_REGIONAL\", \"MARKET_LIMA\", \"MARKET_AGROINDUSTRY\", \"MARKET_EXPORT\", \"MARKET_NAN\"]"
   ]
  },
  {
   "cell_type": "code",
   "execution_count": 77,
   "metadata": {},
   "outputs": [],
   "source": [
    "# Number of market size selected options\n",
    "def getMoreMarketSizeVariables_UA(df):\n",
    "    df[\"MARKETS\"] = df[_MARKET_SIZE_].apply(lambda x: x.index[x.astype(bool)].tolist(), axis=1)\n",
    "    df[\"MARKETS_QTY\"] = df[\"MARKETS\"].apply(lambda x: len(x))\n",
    "    df[\"LAST_MARKET_SIZE\"] = df[\"MARKETS\"].apply(getLastMarketSize)"
   ]
  },
  {
   "cell_type": "code",
   "execution_count": 78,
   "metadata": {},
   "outputs": [],
   "source": [
    "df_marketsize = getMarketSizeDummies_UA(df, _CROPNAME_, _MULTIINDEX_)\n",
    "getMoreMarketSizeVariables_UA(df_marketsize)\n",
    "df_marketSize = df_marketsize.rename(columns={\"MARKET_LOCAL\": \"localMarket\", \"MARKET_REGIONAL\": \"regionalMarket\", \"MARKET_LIMA\": \"limaMarket\", \"MARKET_AGROINDUSTRY\": \"agroindustryMarket\", \"MARKET_EXPORT\": \"exportMarket\", \"LAST_MARKET_SIZE\": \"marketSize\"})"
   ]
  },
  {
   "cell_type": "code",
   "execution_count": 79,
   "metadata": {},
   "outputs": [
    {
     "output_type": "execute_result",
     "data": {
      "text/plain": [
       "4614"
      ]
     },
     "metadata": {},
     "execution_count": 79
    }
   ],
   "source": [
    "len(df_marketsize)"
   ]
  },
  {
   "cell_type": "code",
   "execution_count": 80,
   "metadata": {},
   "outputs": [
    {
     "output_type": "execute_result",
     "data": {
      "text/plain": [
       "Index(['NOMBREDD', 'NOMBREPV', 'NOMBREDI', 'CONGLOMERADO', 'NSELUA', 'UA',\n",
       "       'localMarket', 'regionalMarket', 'limaMarket', 'agroindustryMarket',\n",
       "       'exportMarket', 'MARKET_NAN', 'MARKETS', 'MARKETS_QTY', 'marketSize'],\n",
       "      dtype='object')"
      ]
     },
     "metadata": {},
     "execution_count": 80
    }
   ],
   "source": [
    "df_marketSize.columns"
   ]
  },
  {
   "cell_type": "code",
   "execution_count": 81,
   "metadata": {},
   "outputs": [
    {
     "output_type": "execute_result",
     "data": {
      "text/plain": [
       "Local market       1521\n",
       "Regional market     390\n",
       "Lima markets        158\n",
       "Outside market        2\n",
       "Agroindustry          1\n",
       "Name: marketSize, dtype: int64"
      ]
     },
     "metadata": {},
     "execution_count": 81
    }
   ],
   "source": [
    "df_marketSize[\"marketSize\"].value_counts()"
   ]
  },
  {
   "cell_type": "markdown",
   "metadata": {},
   "source": [
    "# Market channel Directedness"
   ]
  },
  {
   "cell_type": "code",
   "execution_count": 82,
   "metadata": {},
   "outputs": [],
   "source": [
    "_DIRECT_ACCESS_TO_CONSUMERS_ = [\"COLLECTOR\", \"WHOLESALER\", \"RETAILER\", \"ASOCIATION_COOPERATIVE\", \"ENTERPRISE_AGROINDUSTRY\", \"CONSUMER\", \"ATC_NAN\"]"
   ]
  },
  {
   "cell_type": "code",
   "execution_count": 83,
   "metadata": {},
   "outputs": [],
   "source": [
    "def getDirectAccessVariables(df):\n",
    "    df[\"COLLECTOR\"] = (df[\"P222_1\"] == \"Acopiador\").astype(int)\n",
    "    df[\"WHOLESALER\"] = (df[\"P222_2\"] == \"Comerciante mayorista\").astype(int)\n",
    "    df[\"RETAILER\"] = (df[\"P222_3\"] == \"Comerciante minorista\").astype(int)\n",
    "    df[\"ASOCIATION_COOPERATIVE\"] = (df[\"P222_4\"] == \"Asociación / cooperativa\").astype(int)\n",
    "    df[\"ENTERPRISE_AGROINDUSTRY\"] = (df[\"P222_5\"] == \"Empresa / agroindustria\").astype(int)\n",
    "    df[\"CONSUMER\"] = (df[\"P222_6\"] == \"Consumidor Final\").astype(int)\n",
    "    df[\"ATC_NAN\"] = (df[\"P222_7\"] == \"NO SABE\").astype(int)\n",
    "    \n",
    "def getDirectAccessDummies_UA(df, cropName, indices):\n",
    "    getDirectAccessVariables(df)\n",
    "    df_1 = df[df[\"crop\"] == cropName].groupby(indices)[\"COLLECTOR\"].unique().apply(lambda x: x[0]).reset_index()\n",
    "    df_2 = df[df[\"crop\"] == cropName].groupby(indices)[\"WHOLESALER\"].unique().apply(lambda x: x[0]).reset_index()\n",
    "    df_3 = df[df[\"crop\"] == cropName].groupby(indices)[\"RETAILER\"].unique().apply(lambda x: x[0]).reset_index()\n",
    "    df_4 = df[df[\"crop\"] == cropName].groupby(indices)[\"ASOCIATION_COOPERATIVE\"].unique().apply(lambda x: x[0]).reset_index()\n",
    "    df_5 = df[df[\"crop\"] == cropName].groupby(indices)[\"ENTERPRISE_AGROINDUSTRY\"].unique().apply(lambda x: x[0]).reset_index()\n",
    "    df_6 = df[df[\"crop\"] == cropName].groupby(indices)[\"CONSUMER\"].unique().apply(lambda x: x[0]).reset_index()\n",
    "    df_7 = df[df[\"crop\"] == cropName].groupby(indices)[\"ATC_NAN\"].unique().apply(lambda x: x[0]).reset_index()\n",
    "    return pd.concat([df_1, df_2[\"WHOLESALER\"], df_3[\"RETAILER\"], df_4[\"ASOCIATION_COOPERATIVE\"], df_5[\"ENTERPRISE_AGROINDUSTRY\"], df_6[\"CONSUMER\"], df_7[\"ATC_NAN\"]], axis=1, sort=False)"
   ]
  },
  {
   "cell_type": "code",
   "execution_count": 84,
   "metadata": {},
   "outputs": [],
   "source": [
    "def getDirectAccessSize(x):\n",
    "    x = list(filter(lambda x : x != \"ATC_NAN\", x))\n",
    "    if len(x):\n",
    "        last_one = x[-1]\n",
    "        if last_one == \"COLLECTOR\":\n",
    "            val = \"Collector\"\n",
    "        elif last_one == \"WHOLESALER\":\n",
    "            val = \"Wholesaler\"\n",
    "        elif last_one == \"RETAILER\":\n",
    "            val = \"Retailer\"\n",
    "        elif last_one == \"ASOCIATION_COOPERATIVE\":\n",
    "            val = \"Association / Cooperative\"\n",
    "        elif last_one == \"ENTERPRISE_AGROINDUSTRY\":\n",
    "            val = \"Company / Agribusiness\"\n",
    "        elif last_one == \"CONSUMER\":\n",
    "            val = \"Final consumer\"\n",
    "        else:\n",
    "            val = None\n",
    "        return val\n",
    "    else:\n",
    "        return None\n",
    "\n",
    "def getMoreDirectAccessVariables_UA(df):\n",
    "    df[\"DIRECT_ACCESS\"] = df[_DIRECT_ACCESS_TO_CONSUMERS_].apply(lambda x: x.index[x.astype(bool)].tolist(), axis=1)\n",
    "    df[\"DIRECT_ACCESS_QTY\"] = df[\"DIRECT_ACCESS\"].apply(lambda x: len(x))\n",
    "    df[\"LAST_DIRECT_ACCESS\"] = df[\"DIRECT_ACCESS\"].apply(getDirectAccessSize)"
   ]
  },
  {
   "cell_type": "code",
   "execution_count": 85,
   "metadata": {},
   "outputs": [],
   "source": [
    "df_04 = getDirectAccessDummies_UA(df, _CROPNAME_, _MULTIINDEX_)\n",
    "getMoreDirectAccessVariables_UA(df_04)"
   ]
  },
  {
   "cell_type": "code",
   "execution_count": 86,
   "metadata": {},
   "outputs": [],
   "source": [
    "df_marketChannelDirectedness = df_04.rename(columns={\"COLLECTOR\": \"collector\", \"WHOLESALER\": \"wholesaler\", \"RETAILER\": \"retailer\", \"ASOCIATION_COOPERATIVE\": \"cooperative\", \"ENTERPRISE_AGROINDUSTRY\": \"enterprise\", \"CONSUMER\": \"finalConsumer\", \"LAST_DIRECT_ACCESS\": \"marketChannelDirectedness\"})\n",
    "df_marketChannelDirectedness = df_marketChannelDirectedness[np.append(_MULTIINDEX_, [\"collector\", \"wholesaler\", \"retailer\", \"enterprise\", \"finalConsumer\", \"marketChannelDirectedness\"])]"
   ]
  },
  {
   "cell_type": "code",
   "execution_count": 87,
   "metadata": {},
   "outputs": [
    {
     "output_type": "execute_result",
     "data": {
      "text/plain": [
       "4614"
      ]
     },
     "metadata": {},
     "execution_count": 87
    }
   ],
   "source": [
    "len(df_marketChannelDirectedness)"
   ]
  },
  {
   "cell_type": "code",
   "execution_count": 88,
   "metadata": {},
   "outputs": [
    {
     "output_type": "execute_result",
     "data": {
      "text/plain": [
       "Index(['NOMBREDD', 'NOMBREPV', 'NOMBREDI', 'CONGLOMERADO', 'NSELUA', 'UA',\n",
       "       'collector', 'wholesaler', 'retailer', 'enterprise', 'finalConsumer',\n",
       "       'marketChannelDirectedness'],\n",
       "      dtype='object')"
      ]
     },
     "metadata": {},
     "execution_count": 88
    }
   ],
   "source": [
    "df_marketChannelDirectedness.columns"
   ]
  },
  {
   "cell_type": "code",
   "execution_count": 89,
   "metadata": {},
   "outputs": [
    {
     "output_type": "execute_result",
     "data": {
      "text/plain": [
       "Collector                 560\n",
       "Wholesaler                550\n",
       "Final consumer            507\n",
       "Retailer                  453\n",
       "Company / Agribusiness      2\n",
       "Name: marketChannelDirectedness, dtype: int64"
      ]
     },
     "metadata": {},
     "execution_count": 89
    }
   ],
   "source": [
    "df_marketChannelDirectedness[\"marketChannelDirectedness\"].value_counts()"
   ]
  },
  {
   "cell_type": "markdown",
   "metadata": {},
   "source": [
    "# Number of District's points of sale"
   ]
  },
  {
   "cell_type": "code",
   "execution_count": 90,
   "metadata": {},
   "outputs": [],
   "source": [
    "df_points_of_sale = pd.read_csv(_PATH_ + \"/\" + \"cenama/Capitulo_IV_NACIONAL.csv\").rename(columns={\"DEPARTAMENTO\": \"NOMBREDD\", \"PROVINCIA\": \"NOMBREPV\", \"DISTRITO\": \"NOMBREDI\", \"P39_1\": \"pointsOfSale\"})"
   ]
  },
  {
   "cell_type": "code",
   "execution_count": 91,
   "metadata": {},
   "outputs": [
    {
     "output_type": "execute_result",
     "data": {
      "text/plain": [
       "Index(['Unnamed: 0', 'ID', 'CCDD', 'NOMBREDD', 'CCPP', 'NOMBREPV', 'CCDI',\n",
       "       'NOMBREDI', 'P29', 'P30_1', 'P30_2', 'P30_3', 'P30_4', 'P31_1', 'P31_2',\n",
       "       'P32_1', 'P32_2', 'P32_3', 'P33', 'P33_Otro', 'P34', 'P34_Otro', 'P34A',\n",
       "       'P35', 'P35_Otro', 'P36_1', 'P36_2', 'P36_3', 'P36A_1', 'P36A_2',\n",
       "       'P36B_1', 'P36B_2', 'P37', 'P38', 'pointsOfSale', 'P39_2', 'P39_3',\n",
       "       'P39_4', 'P39_5', 'P39_6', 'P39_7', 'P39_8', 'P39_9', 'P39_9_Otro',\n",
       "       'P39_Total', 'P40_1', 'P40_1_TIEMPO', 'P40_2', 'P40_2_TIEMPO', 'P40_3',\n",
       "       'P40_3_TIEMPO'],\n",
       "      dtype='object')"
      ]
     },
     "metadata": {},
     "execution_count": 91
    }
   ],
   "source": [
    "df_points_of_sale.columns"
   ]
  },
  {
   "cell_type": "code",
   "execution_count": 92,
   "metadata": {},
   "outputs": [],
   "source": [
    "s = [\"NOMBREDD\", \"NOMBREPV\", \"NOMBREDI\", \"pointsOfSale\"]\n",
    "df_points_of_sale = df_points_of_sale[s]"
   ]
  },
  {
   "cell_type": "code",
   "execution_count": 93,
   "metadata": {},
   "outputs": [],
   "source": [
    "df_points_of_sale = df_points_of_sale.groupby([\"NOMBREDD\", \"NOMBREPV\", \"NOMBREDI\"])[\"pointsOfSale\"].apply(np.sum).reset_index()"
   ]
  },
  {
   "cell_type": "code",
   "execution_count": 94,
   "metadata": {},
   "outputs": [
    {
     "output_type": "execute_result",
     "data": {
      "text/plain": [
       "     NOMBREDD NOMBREPV  NOMBREDI  pointsOfSale\n",
       "0    AMAZONAS    BAGUA  ARAMANGO           5.0\n",
       "1    AMAZONAS    BAGUA     BAGUA           5.0\n",
       "2    AMAZONAS    BAGUA     IMAZA           4.0\n",
       "3    AMAZONAS    BAGUA   LA PECA          90.0\n",
       "4    AMAZONAS  BONGARA     JAZAN          43.0\n",
       "..        ...      ...       ...           ...\n",
       "632    ÁNCASH    SANTA   SAMANCO           2.0\n",
       "633    ÁNCASH    SANTA     SANTA          30.0\n",
       "634    ÁNCASH   SIHUAS    SIHUAS          11.0\n",
       "635    ÁNCASH   YUNGAY    MANCOS           0.0\n",
       "636    ÁNCASH   YUNGAY    YUNGAY          40.0\n",
       "\n",
       "[637 rows x 4 columns]"
      ],
      "text/html": "<div>\n<style scoped>\n    .dataframe tbody tr th:only-of-type {\n        vertical-align: middle;\n    }\n\n    .dataframe tbody tr th {\n        vertical-align: top;\n    }\n\n    .dataframe thead th {\n        text-align: right;\n    }\n</style>\n<table border=\"1\" class=\"dataframe\">\n  <thead>\n    <tr style=\"text-align: right;\">\n      <th></th>\n      <th>NOMBREDD</th>\n      <th>NOMBREPV</th>\n      <th>NOMBREDI</th>\n      <th>pointsOfSale</th>\n    </tr>\n  </thead>\n  <tbody>\n    <tr>\n      <th>0</th>\n      <td>AMAZONAS</td>\n      <td>BAGUA</td>\n      <td>ARAMANGO</td>\n      <td>5.0</td>\n    </tr>\n    <tr>\n      <th>1</th>\n      <td>AMAZONAS</td>\n      <td>BAGUA</td>\n      <td>BAGUA</td>\n      <td>5.0</td>\n    </tr>\n    <tr>\n      <th>2</th>\n      <td>AMAZONAS</td>\n      <td>BAGUA</td>\n      <td>IMAZA</td>\n      <td>4.0</td>\n    </tr>\n    <tr>\n      <th>3</th>\n      <td>AMAZONAS</td>\n      <td>BAGUA</td>\n      <td>LA PECA</td>\n      <td>90.0</td>\n    </tr>\n    <tr>\n      <th>4</th>\n      <td>AMAZONAS</td>\n      <td>BONGARA</td>\n      <td>JAZAN</td>\n      <td>43.0</td>\n    </tr>\n    <tr>\n      <th>...</th>\n      <td>...</td>\n      <td>...</td>\n      <td>...</td>\n      <td>...</td>\n    </tr>\n    <tr>\n      <th>632</th>\n      <td>ÁNCASH</td>\n      <td>SANTA</td>\n      <td>SAMANCO</td>\n      <td>2.0</td>\n    </tr>\n    <tr>\n      <th>633</th>\n      <td>ÁNCASH</td>\n      <td>SANTA</td>\n      <td>SANTA</td>\n      <td>30.0</td>\n    </tr>\n    <tr>\n      <th>634</th>\n      <td>ÁNCASH</td>\n      <td>SIHUAS</td>\n      <td>SIHUAS</td>\n      <td>11.0</td>\n    </tr>\n    <tr>\n      <th>635</th>\n      <td>ÁNCASH</td>\n      <td>YUNGAY</td>\n      <td>MANCOS</td>\n      <td>0.0</td>\n    </tr>\n    <tr>\n      <th>636</th>\n      <td>ÁNCASH</td>\n      <td>YUNGAY</td>\n      <td>YUNGAY</td>\n      <td>40.0</td>\n    </tr>\n  </tbody>\n</table>\n<p>637 rows × 4 columns</p>\n</div>"
     },
     "metadata": {},
     "execution_count": 94
    }
   ],
   "source": [
    "df_points_of_sale"
   ]
  },
  {
   "cell_type": "code",
   "execution_count": 95,
   "metadata": {},
   "outputs": [
    {
     "output_type": "execute_result",
     "data": {
      "text/plain": [
       "Index(['NOMBREDD', 'NOMBREPV', 'NOMBREDI', 'pointsOfSale'], dtype='object')"
      ]
     },
     "metadata": {},
     "execution_count": 95
    }
   ],
   "source": [
    "df_points_of_sale.columns"
   ]
  },
  {
   "cell_type": "markdown",
   "metadata": {},
   "source": [
    "# Model dataframe"
   ]
  },
  {
   "cell_type": "code",
   "execution_count": 96,
   "metadata": {},
   "outputs": [],
   "source": [
    "df_model = mergeDataFrames([df_productivity, df_economies_of_scale, df_associativity, df_information_indices, df_marketSize, df_marketChannelDirectedness], _MULTIINDEX_)"
   ]
  },
  {
   "cell_type": "code",
   "execution_count": 97,
   "metadata": {},
   "outputs": [],
   "source": [
    "df_model = mergeDataFrames([df_model, df_points_of_sale], [\"NOMBREDD\", \"NOMBREPV\", \"NOMBREDI\"])"
   ]
  },
  {
   "cell_type": "code",
   "execution_count": 98,
   "metadata": {},
   "outputs": [
    {
     "output_type": "execute_result",
     "data": {
      "text/plain": [
       "1949"
      ]
     },
     "metadata": {},
     "execution_count": 98
    }
   ],
   "source": [
    "len(df_model)"
   ]
  },
  {
   "cell_type": "code",
   "execution_count": 99,
   "metadata": {},
   "outputs": [
    {
     "output_type": "execute_result",
     "data": {
      "text/plain": [
       "Index(['NOMBREDD', 'NOMBREPV', 'NOMBREDI', 'CONGLOMERADO', 'NSELUA', 'UA',\n",
       "       'crop', 'production', 'totalProduction', 'percentProduction',\n",
       "       'soldProduction', 'totalSoldProduction', 'percentSoldProduction',\n",
       "       'farmGatePricePerKg', 'farmGateIncomes', 'totalFarmGateIncomes',\n",
       "       'percentFarmGateIncomes', 'plantedArea', 'totalPlantedArea',\n",
       "       'percentPlantedArea', 'yield', 'volumeOfDistrict', 'associative',\n",
       "       'informalPriceInformation', 'formalPriceInformation',\n",
       "       'informalMetereologicalInformation', 'formalMetereologicalInformation',\n",
       "       'localMarket', 'regionalMarket', 'limaMarket', 'agroindustryMarket',\n",
       "       'exportMarket', 'MARKET_NAN', 'MARKETS', 'MARKETS_QTY', 'marketSize',\n",
       "       'collector', 'wholesaler', 'retailer', 'enterprise', 'finalConsumer',\n",
       "       'marketChannelDirectedness', 'pointsOfSale'],\n",
       "      dtype='object')"
      ]
     },
     "metadata": {},
     "execution_count": 99
    }
   ],
   "source": [
    "df_model.columns"
   ]
  },
  {
   "cell_type": "code",
   "execution_count": 100,
   "metadata": {},
   "outputs": [
    {
     "output_type": "execute_result",
     "data": {
      "text/plain": [
       "NOMBREDD                                0\n",
       "NOMBREPV                                0\n",
       "NOMBREDI                                0\n",
       "CONGLOMERADO                            0\n",
       "NSELUA                                  0\n",
       "UA                                      0\n",
       "crop                                    0\n",
       "production                              0\n",
       "totalProduction                         0\n",
       "percentProduction                       0\n",
       "soldProduction                          0\n",
       "totalSoldProduction                     0\n",
       "percentSoldProduction                   0\n",
       "farmGatePricePerKg                      0\n",
       "farmGateIncomes                         0\n",
       "totalFarmGateIncomes                    0\n",
       "percentFarmGateIncomes                  0\n",
       "plantedArea                             0\n",
       "totalPlantedArea                        0\n",
       "percentPlantedArea                      0\n",
       "yield                                   0\n",
       "volumeOfDistrict                        0\n",
       "associative                            23\n",
       "informalPriceInformation                0\n",
       "formalPriceInformation                  0\n",
       "informalMetereologicalInformation       0\n",
       "formalMetereologicalInformation         0\n",
       "localMarket                             0\n",
       "regionalMarket                          0\n",
       "limaMarket                              0\n",
       "agroindustryMarket                      0\n",
       "exportMarket                            0\n",
       "MARKET_NAN                              0\n",
       "MARKETS                                 0\n",
       "MARKETS_QTY                             0\n",
       "marketSize                              0\n",
       "collector                               0\n",
       "wholesaler                              0\n",
       "retailer                                0\n",
       "enterprise                              0\n",
       "finalConsumer                           0\n",
       "marketChannelDirectedness               0\n",
       "pointsOfSale                         1428\n",
       "dtype: int64"
      ]
     },
     "metadata": {},
     "execution_count": 100
    }
   ],
   "source": [
    "df_model.isnull().sum(axis=0)"
   ]
  },
  {
   "cell_type": "code",
   "execution_count": 101,
   "metadata": {},
   "outputs": [],
   "source": [
    "def removeRowsForMarketChannelDirectedness(df):\n",
    "    values = [\"Collector\", \"Retailer\", \"Wholesaler\", \"Final consumer\"]\n",
    "    return df[df[\"marketChannelDirectedness\"].isin(values)]"
   ]
  },
  {
   "cell_type": "code",
   "execution_count": 102,
   "metadata": {},
   "outputs": [],
   "source": [
    "def removeRowsForMarketSize(df):\n",
    "    values = [\"Local market\", \"Regional market\", \"Lima markets\"]\n",
    "    return df[df[\"marketSize\"].isin(values)]"
   ]
  },
  {
   "cell_type": "code",
   "execution_count": 103,
   "metadata": {},
   "outputs": [],
   "source": [
    "def removeAssociativeNullValues(df):\n",
    "    return df[~df[\"associative\"].isnull()]"
   ]
  },
  {
   "cell_type": "code",
   "execution_count": 104,
   "metadata": {},
   "outputs": [],
   "source": [
    "def changeNanToZero(df, variable):\n",
    "    df[df[variable].isnull()][variable] = 0"
   ]
  },
  {
   "cell_type": "code",
   "execution_count": 105,
   "metadata": {},
   "outputs": [],
   "source": [
    "df_model_filtered = removeRowsForMarketChannelDirectedness(df_model)"
   ]
  },
  {
   "cell_type": "code",
   "execution_count": 106,
   "metadata": {},
   "outputs": [],
   "source": [
    "df_model_filtered = removeRowsForMarketSize(df_model_filtered)"
   ]
  },
  {
   "cell_type": "code",
   "execution_count": 107,
   "metadata": {},
   "outputs": [],
   "source": [
    "df_model_filtered = removeAssociativeNullValues(df_model_filtered)"
   ]
  },
  {
   "cell_type": "code",
   "execution_count": 108,
   "metadata": {},
   "outputs": [],
   "source": [
    "changeNanToZero(df_model_filtered, \"pointsOfSale\")"
   ]
  },
  {
   "cell_type": "code",
   "execution_count": 109,
   "metadata": {},
   "outputs": [
    {
     "output_type": "execute_result",
     "data": {
      "text/plain": [
       "1923"
      ]
     },
     "metadata": {},
     "execution_count": 109
    }
   ],
   "source": [
    "len(df_model_filtered)"
   ]
  },
  {
   "cell_type": "code",
   "execution_count": 110,
   "metadata": {},
   "outputs": [
    {
     "output_type": "execute_result",
     "data": {
      "text/plain": [
       "NOMBREDD                                0\n",
       "NOMBREPV                                0\n",
       "NOMBREDI                                0\n",
       "CONGLOMERADO                            0\n",
       "NSELUA                                  0\n",
       "UA                                      0\n",
       "crop                                    0\n",
       "production                              0\n",
       "totalProduction                         0\n",
       "percentProduction                       0\n",
       "soldProduction                          0\n",
       "totalSoldProduction                     0\n",
       "percentSoldProduction                   0\n",
       "farmGatePricePerKg                      0\n",
       "farmGateIncomes                         0\n",
       "totalFarmGateIncomes                    0\n",
       "percentFarmGateIncomes                  0\n",
       "plantedArea                             0\n",
       "totalPlantedArea                        0\n",
       "percentPlantedArea                      0\n",
       "yield                                   0\n",
       "volumeOfDistrict                        0\n",
       "associative                             0\n",
       "informalPriceInformation                0\n",
       "formalPriceInformation                  0\n",
       "informalMetereologicalInformation       0\n",
       "formalMetereologicalInformation         0\n",
       "localMarket                             0\n",
       "regionalMarket                          0\n",
       "limaMarket                              0\n",
       "agroindustryMarket                      0\n",
       "exportMarket                            0\n",
       "MARKET_NAN                              0\n",
       "MARKETS                                 0\n",
       "MARKETS_QTY                             0\n",
       "marketSize                              0\n",
       "collector                               0\n",
       "wholesaler                              0\n",
       "retailer                                0\n",
       "enterprise                              0\n",
       "finalConsumer                           0\n",
       "marketChannelDirectedness               0\n",
       "pointsOfSale                         1412\n",
       "dtype: int64"
      ]
     },
     "metadata": {},
     "execution_count": 110
    }
   ],
   "source": [
    "df_model_filtered.isnull().sum(axis=0)"
   ]
  },
  {
   "cell_type": "code",
   "execution_count": 112,
   "metadata": {},
   "outputs": [
    {
     "output_type": "execute_result",
     "data": {
      "text/plain": [
       "Collector         522\n",
       "Wholesaler        520\n",
       "Final consumer    458\n",
       "Retailer          423\n",
       "Name: marketChannelDirectedness, dtype: int64"
      ]
     },
     "metadata": {},
     "execution_count": 112
    }
   ],
   "source": [
    "df_model_filtered[\"marketChannelDirectedness\"].value_counts()"
   ]
  },
  {
   "cell_type": "code",
   "execution_count": 113,
   "metadata": {},
   "outputs": [
    {
     "output_type": "execute_result",
     "data": {
      "text/plain": [
       "Local market       1406\n",
       "Regional market     365\n",
       "Lima markets        152\n",
       "Name: marketSize, dtype: int64"
      ]
     },
     "metadata": {},
     "execution_count": 113
    }
   ],
   "source": [
    "df_model_filtered[\"marketSize\"].value_counts()"
   ]
  },
  {
   "cell_type": "code",
   "execution_count": 114,
   "metadata": {},
   "outputs": [
    {
     "output_type": "execute_result",
     "data": {
      "text/plain": [
       "0.0    1825\n",
       "1.0      98\n",
       "Name: associative, dtype: int64"
      ]
     },
     "metadata": {},
     "execution_count": 114
    }
   ],
   "source": [
    "df_model_filtered[\"associative\"].value_counts()"
   ]
  },
  {
   "cell_type": "code",
   "execution_count": 116,
   "metadata": {},
   "outputs": [],
   "source": [
    "#df_model_filtered.to_csv(\"~/Desktop/DatosENA2019/2019_03PreModelDatabaseOfWhitePotato.csv\")"
   ]
  },
  {
   "cell_type": "code",
   "execution_count": null,
   "metadata": {},
   "outputs": [],
   "source": []
  }
 ],
 "metadata": {
  "kernelspec": {
   "name": "python3",
   "display_name": "Python 3.8.3 64-bit",
   "metadata": {
    "interpreter": {
     "hash": "7e85ec9bf098c5427e45e2f632dcd4eeff803b007e1abd287d600879388709c1"
    }
   }
  },
  "language_info": {
   "codemirror_mode": {
    "name": "ipython",
    "version": 3
   },
   "file_extension": ".py",
   "mimetype": "text/x-python",
   "name": "python",
   "nbconvert_exporter": "python",
   "pygments_lexer": "ipython3",
   "version": "3.8.3-final"
  }
 },
 "nbformat": 4,
 "nbformat_minor": 4
}