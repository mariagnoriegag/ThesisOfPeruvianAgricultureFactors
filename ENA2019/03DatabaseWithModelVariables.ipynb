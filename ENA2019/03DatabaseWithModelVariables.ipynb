{
 "cells": [
  {
   "cell_type": "code",
   "execution_count": 2,
   "metadata": {},
   "outputs": [],
   "source": [
    "import numpy as np\n",
    "import pandas as pd\n",
    "from functools import reduce"
   ]
  },
  {
   "cell_type": "code",
   "execution_count": 1,
   "metadata": {},
   "outputs": [],
   "source": [
    "_MULTIINDEX_ = [\"NOMBREDD\", \"NOMBREPV\", \"NOMBREDI\", \"CONGLOMERADO\", \"NSELUA\", \"UA\"]"
   ]
  },
  {
   "cell_type": "code",
   "execution_count": 3,
   "metadata": {},
   "outputs": [],
   "source": [
    "_UACROP_ = [\"NOMBREDD\", \"NOMBREPV\", \"NOMBREDI\", \"CONGLOMERADO\", \"NSELUA\", \"UA\", \"crop\"]"
   ]
  },
  {
   "cell_type": "code",
   "execution_count": 4,
   "metadata": {},
   "outputs": [],
   "source": [
    "_CROPNAME_ = \"PAPA BLANCA\""
   ]
  },
  {
   "cell_type": "code",
   "execution_count": 5,
   "metadata": {},
   "outputs": [],
   "source": [
    "_PATH_ = \"https://public.minsky.cc/maria/market_channel_factors_db\""
   ]
  },
  {
   "cell_type": "code",
   "execution_count": 6,
   "metadata": {},
   "outputs": [
    {
     "output_type": "stream",
     "name": "stderr",
     "text": [
      "/Users/marianoriega/Library/Python/3.8/lib/python/site-packages/IPython/core/interactiveshell.py:3062: DtypeWarning: Columns (13,19,37,46,49,50,51,52,57,79,81,85,87,93,104,105,106,107,108,109,110,111,112,113,114,115,116,117,118,127,129,131,137,138,139,140,141,142,143,144,145,146,147,148,149,150,151,152,153,154,155,156,157,158,159,160,161,162,163,164,165,166,167,168,169,170,171,172,173,174,175,176,177,178,179,184,189,194,195,196,197,198,201,202,203,204,205,206,207,208,209,210,214,216,227,239,240,241,242,243,244,245,246,248,249,251,252,254,255,257,258,260,261,263,264,266,267,269,270,272,273,275,276,278,279,281,282,284,285,287,288,290,291,293,294,296,297,299,300,302,303,305,306,308,309,311,314,315,317,321,322,324,325,327,328,330,331,333,334,336,339,340,342,343,345,346,348,349,351,352,354,355,357,358,360,361,363,367,368,369,370,371,372,373,374,375,376,377,378,379,380,381,382,383,385,386,387,388,389,390,391,392,393,394,395,396,397,398,399,400,401,403,404,405,406,407,408,409,410,411,412,413,414,415,416,417,418,419,421,422,423,424,425,426,427,428,429,430,431,432,433,434,435,436,437,439,440,441,442,443,444,445,446,447,448,449,450,451,452,453,454,455,457,458,459,460,461,462,463,464,465,466,467,468,469,470,471,472,473,475,476,477,478,479,480,481,482,483,484,485,486,487,488,489,490,491,521,522,523,524,525,526,527,528,529,530,531,532,533,534,535,536,537) have mixed types.Specify dtype option on import or set low_memory=False.\n  has_raised = await self.run_ast_nodes(code_ast.body, cell_name,\n"
     ]
    }
   ],
   "source": [
    "df = pd.read_csv(_PATH_ + \"/\" + \"databases/2019_02DatabaseFilteredByWhitePotato.csv\")"
   ]
  },
  {
   "cell_type": "code",
   "execution_count": 7,
   "metadata": {},
   "outputs": [],
   "source": [
    "df = df.drop(columns=[\"Unnamed: 0\"])"
   ]
  },
  {
   "cell_type": "code",
   "execution_count": 8,
   "metadata": {},
   "outputs": [
    {
     "output_type": "execute_result",
     "data": {
      "text/plain": [
       "Index(['NOMBREDD', 'NOMBREPV', 'NOMBREDI', 'CONGLOMERADO', 'NSELUA', 'UA',\n",
       "       'cropsList', 'crops', 'ANIO', 'CCDD',\n",
       "       ...\n",
       "       'P712_9', 'P713_1', 'P713_2', 'P713_3', 'P713_4', 'P713_5', 'P713_6',\n",
       "       'P713_7', 'P713_8', 'OMICAP700'],\n",
       "      dtype='object', length=538)"
      ]
     },
     "metadata": {},
     "execution_count": 8
    }
   ],
   "source": [
    "df.columns"
   ]
  },
  {
   "cell_type": "code",
   "execution_count": 9,
   "metadata": {},
   "outputs": [],
   "source": [
    "def getVariable_UA_Crops(df, variable):\n",
    "    df_UA_CROPS = df.groupby(_UACROP_)[variable].unique().apply(lambda x: np.sum(x)).reset_index()\n",
    "    return df_UA_CROPS"
   ]
  },
  {
   "cell_type": "markdown",
   "metadata": {},
   "source": [
    "# Productivity"
   ]
  },
  {
   "cell_type": "code",
   "execution_count": 10,
   "metadata": {},
   "outputs": [],
   "source": [
    "def getProduction(df):\n",
    "    df[\"production\"] = (df[\"P219_CANT_1\"] + df[\"P219_CANT_2\"].apply(pd.to_numeric, errors=\"coerce\")/1000) * df[\"P219_EQUIV_KG\"]\n",
    "\n",
    "def getTotalProduction_UA(df_UA_CROPS):\n",
    "    df_total_UA = df_UA_CROPS.groupby(_MULTIINDEX_)[\"production\"].apply(np.sum).reset_index()\n",
    "    return df_total_UA.rename(columns={\"production\": \"totalProduction\"})\n",
    "\n",
    "def getPercentageCropProduction_UA(df, cropName):\n",
    "    getProduction(df)\n",
    "    df_UA_CROPS = getVariable_UA_Crops(df, \"production\")\n",
    "    df_total = getTotalProduction_UA(df_UA_CROPS)\n",
    "    df_crop = df_UA_CROPS[df_UA_CROPS[\"crop\"] == cropName].reset_index(drop=True)\n",
    "    df_concat = pd.concat([df_crop, df_total[\"totalProduction\"]], axis=1, sort=False)\n",
    "    df_concat[\"percentProduction\"] = df_concat[\"production\"] / df_concat[\"totalProduction\"]\n",
    "    return df_concat\n",
    "\n",
    "def getProduction_Sold(df):\n",
    "    df[\"soldProduction\"] = (df[\"P220_1_CANT_1\"] + df[\"P220_1_CANT_2\"].apply(pd.to_numeric, errors=\"coerce\") / 1000) * df[\"P219_EQUIV_KG\"]\n",
    "\n",
    "def getTotalProductionSold_UA(df_UA_CROPS):\n",
    "    df_total_UA = df_UA_CROPS.groupby(_MULTIINDEX_)[\"soldProduction\"].apply(np.sum).reset_index()\n",
    "    return df_total_UA.rename(columns={\"soldProduction\": \"totalSoldProduction\"})\n",
    "\n",
    "def getPercentageCropProductionSold_UA(df, cropName):\n",
    "    getProduction_Sold(df)\n",
    "    df_UA_CROPS = getVariable_UA_Crops(df, \"soldProduction\")\n",
    "    df_total = getTotalProductionSold_UA(df_UA_CROPS)\n",
    "    df_crop = df_UA_CROPS[df_UA_CROPS[\"crop\"] == cropName].reset_index(drop=True)\n",
    "    df_concat = pd.concat([df_crop, df_total[\"totalSoldProduction\"]], axis=1, sort=False)\n",
    "    df_concat[\"percentSoldProduction\"] = df_concat[\"soldProduction\"] / df_concat[\"totalSoldProduction\"]\n",
    "    return df_concat\n",
    "\n",
    "def getCropIncomes(df):\n",
    "    df[\"farmGatePricePerKg\"] = df[\"P220_1_VAL\"] / df[\"soldProduction\"]\n",
    "    df[\"farmGateIncomes\"] = df[\"farmGatePricePerKg\"] * df[\"soldProduction\"]\n",
    "\n",
    "def getTotalCropIncomes_UA(df_UA_CROPS, df_UA_CROPS_kg):\n",
    "    df_total_UA = df_UA_CROPS.groupby(_MULTIINDEX_)[\"farmGateIncomes\"].apply(np.sum).reset_index()\n",
    "    df_total_UA_kg = df_UA_CROPS_kg.groupby(_MULTIINDEX_)[\"farmGatePricePerKg\"].apply(np.sum).reset_index()\n",
    "    return df_total_UA.rename(columns={\"farmGateIncomes\": \"totalFarmGateIncomes\"})\n",
    "\n",
    "def getPercentageCropIncomes_UA(df, cropName):\n",
    "    getCropIncomes(df)\n",
    "    getProduction_Sold(df)\n",
    "    df_UA_CROPS = getVariable_UA_Crops(df, \"farmGateIncomes\")\n",
    "    df_UA_CROPS_kg = getVariable_UA_Crops(df, \"farmGatePricePerKg\")\n",
    "    df_total = getTotalCropIncomes_UA(df_UA_CROPS, df_UA_CROPS_kg)\n",
    "    df_crop = df_UA_CROPS[df_UA_CROPS[\"crop\"] == cropName].reset_index(drop=True)\n",
    "    df_crop_kg = df_UA_CROPS_kg[df_UA_CROPS_kg[\"crop\"] == cropName].reset_index(drop=True)\n",
    "    df_concat = pd.concat([df_crop_kg, df_crop[\"farmGateIncomes\"], df_total[\"totalFarmGateIncomes\"]], axis=1, sort=False)\n",
    "    df_concat[\"percentFarmGateIncomes\"] = df_concat[\"farmGateIncomes\"] / df_concat[\"totalFarmGateIncomes\"]\n",
    "    return df_concat\n",
    "\n",
    "def getAreaSembrada(df):\n",
    "    df[\"plantedArea\"] = df[\"P210_SUP_1\"] + (df[\"P210_SUP_2\"].apply(pd.to_numeric, errors=\"coerce\")/1000)\n",
    "\n",
    "def getTotalAreaSembrada_UA(df_UA_CROPS):\n",
    "    df_totalArea_UA = df_UA_CROPS.groupby(_MULTIINDEX_)[\"plantedArea\"].apply(np.sum).reset_index()\n",
    "    return df_totalArea_UA.rename(columns={\"plantedArea\": \"totalPlantedArea\"})\n",
    "\n",
    "def getPercentageCropPlantedAreaAndYield_UA(df, cropName):\n",
    "    getAreaSembrada(df)\n",
    "    getProduction(df)\n",
    "    df_UA_CROPS = getVariable_UA_Crops(df, \"plantedArea\")\n",
    "    df_UA_CROPS_production = getVariable_UA_Crops(df, \"production\")\n",
    "    df_total_area = getTotalAreaSembrada_UA(df_UA_CROPS)\n",
    "    df_crop_area = df_UA_CROPS[df_UA_CROPS[\"crop\"] == cropName].reset_index(drop=True)\n",
    "    df_crop_production = df_UA_CROPS_production[df_UA_CROPS_production[\"crop\"] == cropName].reset_index(drop=True)\n",
    "    df_concat = pd.concat([df_crop_area, df_total_area[\"totalPlantedArea\"], df_crop_production[\"production\"]], axis=1, sort=False)\n",
    "    df_concat[\"percentPlantedArea\"] = df_concat[\"plantedArea\"] / df_concat[\"totalPlantedArea\"]\n",
    "    df_concat[\"yield\"] = df_concat[\"production\"] / df_concat[\"plantedArea\"]\n",
    "    return df_concat"
   ]
  },
  {
   "cell_type": "code",
   "execution_count": 11,
   "metadata": {},
   "outputs": [],
   "source": [
    "def mergeDataFrames(dfArray, indices):\n",
    "    dfList = []\n",
    "    for df in dfArray:\n",
    "        dfList.append(df)\n",
    "    df = reduce(lambda x, y: pd.merge(x, y, how=\"left\", on = indices, suffixes=(\"\", \"_y\")), dfList)\n",
    "    filter = [col for col in df if col.endswith(\"y\")]\n",
    "    #Eliminar\n",
    "    df_drop = df.drop(columns=filter)\n",
    "    #Seleccionar\n",
    "    df_keep = df[filter]\n",
    "    return df_drop"
   ]
  },
  {
   "cell_type": "code",
   "execution_count": 12,
   "metadata": {},
   "outputs": [],
   "source": [
    "df_production = getPercentageCropProduction_UA(df, _CROPNAME_)\n",
    "df_soldProduction = getPercentageCropProductionSold_UA(df, _CROPNAME_)\n",
    "df_incomes = getPercentageCropIncomes_UA(df, _CROPNAME_)\n",
    "df_plantedAreaAndYield = getPercentageCropPlantedAreaAndYield_UA(df, _CROPNAME_)"
   ]
  },
  {
   "cell_type": "code",
   "execution_count": 13,
   "metadata": {},
   "outputs": [],
   "source": [
    "df01 = mergeDataFrames([df_production, df_soldProduction, df_incomes, df_plantedAreaAndYield], _MULTIINDEX_)"
   ]
  },
  {
   "cell_type": "code",
   "execution_count": 14,
   "metadata": {},
   "outputs": [],
   "source": [
    "#df01"
   ]
  },
  {
   "cell_type": "code",
   "execution_count": 15,
   "metadata": {},
   "outputs": [
    {
     "output_type": "execute_result",
     "data": {
      "text/plain": [
       "Index(['NOMBREDD', 'NOMBREPV', 'NOMBREDI', 'CONGLOMERADO', 'NSELUA', 'UA',\n",
       "       'crop', 'production', 'totalProduction', 'percentProduction',\n",
       "       'soldProduction', 'totalSoldProduction', 'percentSoldProduction',\n",
       "       'farmGatePricePerKg', 'farmGateIncomes', 'totalFarmGateIncomes',\n",
       "       'percentFarmGateIncomes', 'plantedArea', 'totalPlantedArea',\n",
       "       'percentPlantedArea', 'yield'],\n",
       "      dtype='object')"
      ]
     },
     "metadata": {},
     "execution_count": 15
    }
   ],
   "source": [
    "df01.columns"
   ]
  },
  {
   "cell_type": "code",
   "execution_count": 16,
   "metadata": {},
   "outputs": [],
   "source": [
    "#df01[\"percentFarmGateIncomes\"].hist()"
   ]
  },
  {
   "cell_type": "code",
   "execution_count": 17,
   "metadata": {},
   "outputs": [],
   "source": [
    "def filteringBySoldProductionAndFarmGateIncomesMoreThanZero(df):\n",
    "    new = df[df[\"soldProduction\"] > 0].reset_index(drop=True)\n",
    "    return new[new[\"farmGateIncomes\"] > 0].reset_index(drop=True)"
   ]
  },
  {
   "cell_type": "code",
   "execution_count": 18,
   "metadata": {},
   "outputs": [],
   "source": [
    "df_productivity = filteringBySoldProductionAndFarmGateIncomesMoreThanZero(df01)"
   ]
  },
  {
   "cell_type": "code",
   "execution_count": 19,
   "metadata": {},
   "outputs": [
    {
     "output_type": "execute_result",
     "data": {
      "text/plain": [
       "1949"
      ]
     },
     "metadata": {},
     "execution_count": 19
    }
   ],
   "source": [
    "len(df_productivity)"
   ]
  },
  {
   "cell_type": "code",
   "execution_count": 20,
   "metadata": {},
   "outputs": [],
   "source": [
    "#df_productivity[\"percentFarmGateIncomes\"].hist()"
   ]
  },
  {
   "cell_type": "code",
   "execution_count": 21,
   "metadata": {},
   "outputs": [],
   "source": [
    "#df_productivity[\"percentSoldProduction\"].hist()"
   ]
  },
  {
   "cell_type": "markdown",
   "metadata": {},
   "source": [
    "# Economies of scale"
   ]
  },
  {
   "cell_type": "code",
   "execution_count": 22,
   "metadata": {},
   "outputs": [],
   "source": [
    "# Group by zone (district)\n",
    "def getProductionSoldVolume_UA_Zone(df_productivity):\n",
    "    df_production = df_productivity[np.append(_MULTIINDEX_, [\"soldProduction\"])]\n",
    "    df_production_zone = df_production.groupby([\"NOMBREDD\", \"NOMBREPV\", \"NOMBREDI\"])[\"soldProduction\"].apply(np.sum).reset_index().rename(columns={\"soldProduction\": \"volumeOfDistrict\"})\n",
    "    return pd.merge(df_production, df_production_zone, how=\"left\", on=[\"NOMBREDD\", \"NOMBREPV\", \"NOMBREDI\"], suffixes=(\"\", \"_y\"))[np.append(_MULTIINDEX_, \"volumeOfDistrict\")]"
   ]
  },
  {
   "cell_type": "code",
   "execution_count": 23,
   "metadata": {},
   "outputs": [],
   "source": [
    "#getProductionSoldVolume_UA_Zone(df_productivity)"
   ]
  },
  {
   "cell_type": "code",
   "execution_count": 24,
   "metadata": {},
   "outputs": [],
   "source": [
    "df_economies_of_scale = getProductionSoldVolume_UA_Zone(df_productivity)"
   ]
  },
  {
   "cell_type": "code",
   "execution_count": 25,
   "metadata": {},
   "outputs": [
    {
     "output_type": "execute_result",
     "data": {
      "text/plain": [
       "1949"
      ]
     },
     "metadata": {},
     "execution_count": 25
    }
   ],
   "source": [
    "len(df_economies_of_scale)"
   ]
  },
  {
   "cell_type": "code",
   "execution_count": 26,
   "metadata": {},
   "outputs": [
    {
     "output_type": "execute_result",
     "data": {
      "text/plain": [
       "Index(['NOMBREDD', 'NOMBREPV', 'NOMBREDI', 'CONGLOMERADO', 'NSELUA', 'UA',\n",
       "       'volumeOfDistrict'],\n",
       "      dtype='object')"
      ]
     },
     "metadata": {},
     "execution_count": 26
    }
   ],
   "source": [
    "df_economies_of_scale.columns"
   ]
  },
  {
   "cell_type": "markdown",
   "metadata": {},
   "source": [
    "# Associativity"
   ]
  },
  {
   "cell_type": "code",
   "execution_count": 27,
   "metadata": {},
   "outputs": [],
   "source": [
    "def getAsociativity_UA(df, cropName):\n",
    "    df[\"associativity\"] = df[\"P801\"].astype(\"category\").cat.rename_categories({\"No\": 0, \"Si\": 1})\n",
    "    df_new = df[df[\"crop\"] == cropName].groupby(_MULTIINDEX_)[\"associativity\"].unique().apply(list).apply(np.sum).reset_index().rename(columns={\"associativity\": \"associative\"})\n",
    "    return df_new"
   ]
  },
  {
   "cell_type": "code",
   "execution_count": 28,
   "metadata": {},
   "outputs": [
    {
     "output_type": "error",
     "ename": "TypeError",
     "evalue": "cannot perform reduce with flexible type",
     "traceback": [
      "\u001b[0;31m---------------------------------------------------------------------------\u001b[0m",
      "\u001b[0;31mTypeError\u001b[0m                                 Traceback (most recent call last)",
      "\u001b[0;32m<ipython-input-28-4008242a00b8>\u001b[0m in \u001b[0;36m<module>\u001b[0;34m\u001b[0m\n\u001b[0;32m----> 1\u001b[0;31m \u001b[0mdf_associativity\u001b[0m \u001b[0;34m=\u001b[0m \u001b[0mgetAsociativity_UA\u001b[0m\u001b[0;34m(\u001b[0m\u001b[0mdf\u001b[0m\u001b[0;34m,\u001b[0m \u001b[0m_CROPNAME_\u001b[0m\u001b[0;34m)\u001b[0m\u001b[0;34m\u001b[0m\u001b[0;34m\u001b[0m\u001b[0m\n\u001b[0m",
      "\u001b[0;32m<ipython-input-27-e484ce6ccd9f>\u001b[0m in \u001b[0;36mgetAsociativity_UA\u001b[0;34m(df, cropName)\u001b[0m\n\u001b[1;32m      1\u001b[0m \u001b[0;32mdef\u001b[0m \u001b[0mgetAsociativity_UA\u001b[0m\u001b[0;34m(\u001b[0m\u001b[0mdf\u001b[0m\u001b[0;34m,\u001b[0m \u001b[0mcropName\u001b[0m\u001b[0;34m)\u001b[0m\u001b[0;34m:\u001b[0m\u001b[0;34m\u001b[0m\u001b[0;34m\u001b[0m\u001b[0m\n\u001b[1;32m      2\u001b[0m     \u001b[0mdf\u001b[0m\u001b[0;34m[\u001b[0m\u001b[0;34m\"associativity\"\u001b[0m\u001b[0;34m]\u001b[0m \u001b[0;34m=\u001b[0m \u001b[0mdf\u001b[0m\u001b[0;34m[\u001b[0m\u001b[0;34m\"P801\"\u001b[0m\u001b[0;34m]\u001b[0m\u001b[0;34m.\u001b[0m\u001b[0mastype\u001b[0m\u001b[0;34m(\u001b[0m\u001b[0;34m\"category\"\u001b[0m\u001b[0;34m)\u001b[0m\u001b[0;34m.\u001b[0m\u001b[0mcat\u001b[0m\u001b[0;34m.\u001b[0m\u001b[0mrename_categories\u001b[0m\u001b[0;34m(\u001b[0m\u001b[0;34m{\u001b[0m\u001b[0;34m\"No\"\u001b[0m\u001b[0;34m:\u001b[0m \u001b[0;36m0\u001b[0m\u001b[0;34m,\u001b[0m \u001b[0;34m\"Si\"\u001b[0m\u001b[0;34m:\u001b[0m \u001b[0;36m1\u001b[0m\u001b[0;34m}\u001b[0m\u001b[0;34m)\u001b[0m\u001b[0;34m\u001b[0m\u001b[0;34m\u001b[0m\u001b[0m\n\u001b[0;32m----> 3\u001b[0;31m     \u001b[0mdf_new\u001b[0m \u001b[0;34m=\u001b[0m \u001b[0mdf\u001b[0m\u001b[0;34m[\u001b[0m\u001b[0mdf\u001b[0m\u001b[0;34m[\u001b[0m\u001b[0;34m\"crop\"\u001b[0m\u001b[0;34m]\u001b[0m \u001b[0;34m==\u001b[0m \u001b[0mcropName\u001b[0m\u001b[0;34m]\u001b[0m\u001b[0;34m.\u001b[0m\u001b[0mgroupby\u001b[0m\u001b[0;34m(\u001b[0m\u001b[0m_MULTIINDEX_\u001b[0m\u001b[0;34m)\u001b[0m\u001b[0;34m[\u001b[0m\u001b[0;34m\"associativity\"\u001b[0m\u001b[0;34m]\u001b[0m\u001b[0;34m.\u001b[0m\u001b[0munique\u001b[0m\u001b[0;34m(\u001b[0m\u001b[0;34m)\u001b[0m\u001b[0;34m.\u001b[0m\u001b[0mapply\u001b[0m\u001b[0;34m(\u001b[0m\u001b[0mlist\u001b[0m\u001b[0;34m)\u001b[0m\u001b[0;34m.\u001b[0m\u001b[0mapply\u001b[0m\u001b[0;34m(\u001b[0m\u001b[0mnp\u001b[0m\u001b[0;34m.\u001b[0m\u001b[0msum\u001b[0m\u001b[0;34m)\u001b[0m\u001b[0;34m.\u001b[0m\u001b[0mreset_index\u001b[0m\u001b[0;34m(\u001b[0m\u001b[0;34m)\u001b[0m\u001b[0;34m.\u001b[0m\u001b[0mrename\u001b[0m\u001b[0;34m(\u001b[0m\u001b[0mcolumns\u001b[0m\u001b[0;34m=\u001b[0m\u001b[0;34m{\u001b[0m\u001b[0;34m\"associativity\"\u001b[0m\u001b[0;34m:\u001b[0m \u001b[0;34m\"associative\"\u001b[0m\u001b[0;34m}\u001b[0m\u001b[0;34m)\u001b[0m\u001b[0;34m\u001b[0m\u001b[0;34m\u001b[0m\u001b[0m\n\u001b[0m\u001b[1;32m      4\u001b[0m     \u001b[0;32mreturn\u001b[0m \u001b[0mdf_new\u001b[0m\u001b[0;34m\u001b[0m\u001b[0;34m\u001b[0m\u001b[0m\n",
      "\u001b[0;32m/Library/Frameworks/Python.framework/Versions/3.8/lib/python3.8/site-packages/pandas/core/series.py\u001b[0m in \u001b[0;36mapply\u001b[0;34m(self, func, convert_dtype, args, **kwds)\u001b[0m\n\u001b[1;32m   3846\u001b[0m             \u001b[0;32melse\u001b[0m\u001b[0;34m:\u001b[0m\u001b[0;34m\u001b[0m\u001b[0;34m\u001b[0m\u001b[0m\n\u001b[1;32m   3847\u001b[0m                 \u001b[0mvalues\u001b[0m \u001b[0;34m=\u001b[0m \u001b[0mself\u001b[0m\u001b[0;34m.\u001b[0m\u001b[0mastype\u001b[0m\u001b[0;34m(\u001b[0m\u001b[0mobject\u001b[0m\u001b[0;34m)\u001b[0m\u001b[0;34m.\u001b[0m\u001b[0mvalues\u001b[0m\u001b[0;34m\u001b[0m\u001b[0;34m\u001b[0m\u001b[0m\n\u001b[0;32m-> 3848\u001b[0;31m                 \u001b[0mmapped\u001b[0m \u001b[0;34m=\u001b[0m \u001b[0mlib\u001b[0m\u001b[0;34m.\u001b[0m\u001b[0mmap_infer\u001b[0m\u001b[0;34m(\u001b[0m\u001b[0mvalues\u001b[0m\u001b[0;34m,\u001b[0m \u001b[0mf\u001b[0m\u001b[0;34m,\u001b[0m \u001b[0mconvert\u001b[0m\u001b[0;34m=\u001b[0m\u001b[0mconvert_dtype\u001b[0m\u001b[0;34m)\u001b[0m\u001b[0;34m\u001b[0m\u001b[0;34m\u001b[0m\u001b[0m\n\u001b[0m\u001b[1;32m   3849\u001b[0m \u001b[0;34m\u001b[0m\u001b[0m\n\u001b[1;32m   3850\u001b[0m         \u001b[0;32mif\u001b[0m \u001b[0mlen\u001b[0m\u001b[0;34m(\u001b[0m\u001b[0mmapped\u001b[0m\u001b[0;34m)\u001b[0m \u001b[0;32mand\u001b[0m \u001b[0misinstance\u001b[0m\u001b[0;34m(\u001b[0m\u001b[0mmapped\u001b[0m\u001b[0;34m[\u001b[0m\u001b[0;36m0\u001b[0m\u001b[0;34m]\u001b[0m\u001b[0;34m,\u001b[0m \u001b[0mSeries\u001b[0m\u001b[0;34m)\u001b[0m\u001b[0;34m:\u001b[0m\u001b[0;34m\u001b[0m\u001b[0;34m\u001b[0m\u001b[0m\n",
      "\u001b[0;32mpandas/_libs/lib.pyx\u001b[0m in \u001b[0;36mpandas._libs.lib.map_infer\u001b[0;34m()\u001b[0m\n",
      "\u001b[0;32m<__array_function__ internals>\u001b[0m in \u001b[0;36msum\u001b[0;34m(*args, **kwargs)\u001b[0m\n",
      "\u001b[0;32m/Library/Frameworks/Python.framework/Versions/3.8/lib/python3.8/site-packages/numpy/core/fromnumeric.py\u001b[0m in \u001b[0;36msum\u001b[0;34m(a, axis, dtype, out, keepdims, initial, where)\u001b[0m\n\u001b[1;32m   2226\u001b[0m         \u001b[0;32mreturn\u001b[0m \u001b[0mres\u001b[0m\u001b[0;34m\u001b[0m\u001b[0;34m\u001b[0m\u001b[0m\n\u001b[1;32m   2227\u001b[0m \u001b[0;34m\u001b[0m\u001b[0m\n\u001b[0;32m-> 2228\u001b[0;31m     return _wrapreduction(a, np.add, 'sum', axis, dtype, out, keepdims=keepdims,\n\u001b[0m\u001b[1;32m   2229\u001b[0m                           initial=initial, where=where)\n\u001b[1;32m   2230\u001b[0m \u001b[0;34m\u001b[0m\u001b[0m\n",
      "\u001b[0;32m/Library/Frameworks/Python.framework/Versions/3.8/lib/python3.8/site-packages/numpy/core/fromnumeric.py\u001b[0m in \u001b[0;36m_wrapreduction\u001b[0;34m(obj, ufunc, method, axis, dtype, out, **kwargs)\u001b[0m\n\u001b[1;32m     88\u001b[0m                 \u001b[0;32mreturn\u001b[0m \u001b[0mreduction\u001b[0m\u001b[0;34m(\u001b[0m\u001b[0maxis\u001b[0m\u001b[0;34m=\u001b[0m\u001b[0maxis\u001b[0m\u001b[0;34m,\u001b[0m \u001b[0mout\u001b[0m\u001b[0;34m=\u001b[0m\u001b[0mout\u001b[0m\u001b[0;34m,\u001b[0m \u001b[0;34m**\u001b[0m\u001b[0mpasskwargs\u001b[0m\u001b[0;34m)\u001b[0m\u001b[0;34m\u001b[0m\u001b[0;34m\u001b[0m\u001b[0m\n\u001b[1;32m     89\u001b[0m \u001b[0;34m\u001b[0m\u001b[0m\n\u001b[0;32m---> 90\u001b[0;31m     \u001b[0;32mreturn\u001b[0m \u001b[0mufunc\u001b[0m\u001b[0;34m.\u001b[0m\u001b[0mreduce\u001b[0m\u001b[0;34m(\u001b[0m\u001b[0mobj\u001b[0m\u001b[0;34m,\u001b[0m \u001b[0maxis\u001b[0m\u001b[0;34m,\u001b[0m \u001b[0mdtype\u001b[0m\u001b[0;34m,\u001b[0m \u001b[0mout\u001b[0m\u001b[0;34m,\u001b[0m \u001b[0;34m**\u001b[0m\u001b[0mpasskwargs\u001b[0m\u001b[0;34m)\u001b[0m\u001b[0;34m\u001b[0m\u001b[0;34m\u001b[0m\u001b[0m\n\u001b[0m\u001b[1;32m     91\u001b[0m \u001b[0;34m\u001b[0m\u001b[0m\n\u001b[1;32m     92\u001b[0m \u001b[0;34m\u001b[0m\u001b[0m\n",
      "\u001b[0;31mTypeError\u001b[0m: cannot perform reduce with flexible type"
     ]
    }
   ],
   "source": [
    "df_associativity = getAsociativity_UA(df, _CROPNAME_)"
   ]
  },
  {
   "cell_type": "code",
   "execution_count": null,
   "metadata": {},
   "outputs": [],
   "source": [
    "len(df_associativity)"
   ]
  },
  {
   "cell_type": "code",
   "execution_count": null,
   "metadata": {},
   "outputs": [],
   "source": [
    "df_associativity.columns"
   ]
  },
  {
   "cell_type": "markdown",
   "metadata": {},
   "source": [
    "# Information indices"
   ]
  },
  {
   "cell_type": "code",
   "execution_count": null,
   "metadata": {},
   "outputs": [],
   "source": [
    "variables = [{\"newVariable\": {\"name\": \"P707\", \"n\": 8, \"k\": 1}, \"oldVariables\": [{\"name\": \"P707\", \"n\": 8, \"k\": 1}]}, {\"newVariable\": {\"name\": \"P708and712\", \"n\": 13, \"k\": 1}, \"oldVariables\": [{\"name\": \"P708\", \"n\": 8, \"k\": 8}, {\"name\": \"P712\", \"n\": 9, \"k\": 1}]}, {\"newVariable\": {\"name\": \"P709\", \"n\": 9, \"k\": 1}, \"oldVariables\": [{\"name\": \"P709\", \"n\": 9, \"k\": 8}]}, {\"newVariable\": {\"name\": \"P710\", \"n\": 10, \"k\": 1}, \"oldVariables\": [{\"name\": \"P710\", \"n\": 10, \"k\": 1}]}]\n",
    "options = {\"P707\": [{\"value\": \"Si\", \"includes\": []}], \"P708and712\": [{\"n\": 1, \"value\": \"Ministerio de Agricultura y Riego\", \"includes\": [\"P708_1\", \"P712_1\"]}, {\"n\": 2, \"value\": \"Agencia Agraria\", \"includes\": [\"P712_2\"]}, {\"n\": 3, \"value\": \"Instituto Nacional de Innovación Agraria (INIA)\", \"includes\": [\"P712_3\"]}, {\"n\": 4, \"value\": \"Servicio Nacional de Sanidad Agraria (SENASA)\", \"includes\": [\"P712_4\"]}, {\"n\": 5, \"value\": \"Instituto Nacional de Defensa Civil (INDECI)\", \"includes\": [\"P712_6\"]}, {\"n\": 6, \"value\": \"Servicio Nacional de Meteorología e Higrología (SENAMHI)\", \"includes\": [\"P712_8\"]}, {\"n\": 7, \"value\": \"Gobierno Regional\", \"includes\": [\"P708_2\"]}, {\"n\": 8, \"value\": \"Gobierno Local\", \"includes\": [\"P708_3\"]}, {\"n\": 9, \"value\": \"Organismo No Gubernamental (ONG)\", \"includes\": [\"P708_4\", \"P712_5\"]}, {\"n\": 10, \"value\": \"Empresa Privada\", \"includes\": [\"P708_5\", \"P712_7\"]}, {\"n\": 11, \"value\": \"Asociación de productores/as\", \"includes\": [\"P708_6\"]}, {\"n\": 12, \"value\": \"Comerciante, productor/a, amigo/a\", \"includes\": [\"P708_7\"]}, {\"n\": 13, \"value\": \"Otro\", \"includes\": [\"P708_8\", \"P712_9\"]}], \"P709\": [{\"n\": 1, \"value\": \"Radio\", \"includes\": [\"P709_1\"]}, {\"n\": 2, \"value\": \"Televisión\", \"includes\": [\"P709_2\"]}, {\"n\": 3, \"value\": \"Teléfono\", \"includes\": [\"P709_3\"]}, {\"n\": 4, \"value\": \"Diarios\", \"includes\": [\"P709_4\"]}, {\"n\": 5, \"value\": \"Folletos\", \"includes\": [\"P709_5\"]}, {\"n\": 6, \"value\": \"Internet\", \"includes\": [\"P709_6\"]}, {\"n\": 7, \"value\": \"Talleres\", \"includes\": [\"P709_7\"]}, {\"n\": 8, \"value\": \"Comunicación verbal\", \"includes\": [\"P709_8\"]}, {\"n\": 9, \"value\": \"Otro\", \"includes\": [\"P709_9\"]}], \"P710\": [{\"n\": 1, \"value\": \"Información agroclimática\", \"includes\": [\"P710_1\"]}, {\"n\": 2, \"value\": \"Manejo de enfermedades y plagas\", \"includes\": [\"P710_2\"]}, {\"n\": 3, \"value\": \"Precio de insumos agropecuarios\", \"includes\": [\"P710_3\"]}, {\"n\": 4, \"value\": \"Precio de venta (chacra, mayorista, minorista)\", \"includes\": [\"P710_4\"]}, {\"n\": 5, \"value\": \"Técnica de manejo de cultivos y crianza\", \"includes\": [\"P710_5\"]}, {\"n\": 6, \"value\": \"Técnica de manejo de semilla\", \"includes\": [\"P710_6\"]}, {\"n\": 7, \"value\": \"Uso de abonos y fertilizantes\", \"includes\": [\"P710_7\"]}, {\"n\": 8, \"value\": \"Técnicas y sistema de riego\", \"includes\": [\"P710_8\"]}, {\"n\": 9, \"value\": \"Análisis de suelo\", \"includes\": [\"P710_9\"]}, {\"n\": 10, \"value\": \"Otro\", \"includes\": [\"P710_10\"]}]}"
   ]
  },
  {
   "cell_type": "code",
   "execution_count": null,
   "metadata": {},
   "outputs": [],
   "source": [
    "def getDfInfo(df):\n",
    "    index_inf_type = [i for i in range(len(df.columns)) if \"707\" in df.columns[i]]\n",
    "    index_infsource_who = [i for i in range(len(df.columns)) if \"708\" in df.columns[i]]\n",
    "    index_infsource_who_2 = [i for i in range(len(df.columns)) if \"712\" in df.columns[i]]\n",
    "    index_infsource_media = [i for i in range(len(df.columns)) if \"709\" in df.columns[i]]\n",
    "    index_infsource_needs = [i for i in range(len(df.columns)) if \"710\" in df.columns[i]]\n",
    "\n",
    "    inf_type = df.columns[index_inf_type]\n",
    "    infsource_who = df.columns[index_infsource_who]\n",
    "    infsource_who_2 = df.columns[index_infsource_who_2]\n",
    "    infsource_media = df.columns[index_infsource_media]\n",
    "    infsource_needs = df.columns[index_infsource_needs]\n",
    "\n",
    "    selected_columns = np.concatenate((_MULTIINDEX_, [\"crop\"], inf_type, infsource_who, infsource_who_2, infsource_media, infsource_needs), axis=0)\n",
    "\n",
    "    df_info = df[selected_columns]\n",
    "    return df_info"
   ]
  },
  {
   "cell_type": "code",
   "execution_count": null,
   "metadata": {},
   "outputs": [],
   "source": [
    "def getOldData(df):\n",
    "    oldData = {}\n",
    "    # \"P707_1\": [0, 1], \"P707_2\": [1, 0]\n",
    "    for variable in variables:\n",
    "        newName = variable[\"newVariable\"][\"name\"]\n",
    "        N = variable[\"newVariable\"][\"n\"] + 1\n",
    "        K = variable[\"newVariable\"][\"k\"] + 1\n",
    "        oldVariables = variable[\"oldVariables\"]\n",
    "        option = options[newName]\n",
    "        # print(\"==========\", option)\n",
    "        for x in oldVariables:\n",
    "            # print(\"old variable\", x)\n",
    "            oName = x[\"name\"]\n",
    "            oK = x[\"k\"] + 1\n",
    "            oN = x[\"n\"] + 1\n",
    "            for o_n in range(1, oN):\n",
    "                oVariable = oName + \"_%s\" % o_n\n",
    "                cols = []\n",
    "                # print(\"old variable\", oVariable)\n",
    "                if x[\"k\"] > 1:\n",
    "                    for o_k in range(1, oK):\n",
    "                        okVariable = oName + \"_%s\" % o_k + \"_%s\" % o_n\n",
    "                        cols = np.append(cols, okVariable)\n",
    "                        # print(\"--------*\", okVariable)\n",
    "                    # print(len(cols))\n",
    "                    prev = np.where(df[cols].fillna(0).replace({\"Pase\": 0}) != 0, 1, 0)\n",
    "                    noreshape = np.where(np.sum(prev, axis = 1) >= 1, 1, 0)\n",
    "                    oldData[oVariable] = noreshape.reshape((len(noreshape),))\n",
    "                else:\n",
    "                    cols = np.append(cols, oVariable)\n",
    "                    # print(\"--------\", oVariable)\n",
    "                    # print(len(cols))\n",
    "                    prev = np.where(df[cols].fillna(0).replace({\"Pase\": 0}) != 0, 1, 0)\n",
    "                    noreshape = np.where(prev >= 1, 1, 0)\n",
    "                    oldData[oVariable] = noreshape.reshape((len(noreshape),))\n",
    "\n",
    "    return pd.DataFrame(data=oldData)"
   ]
  },
  {
   "cell_type": "code",
   "execution_count": null,
   "metadata": {},
   "outputs": [],
   "source": [
    "def getNewData(df, df_oldData):\n",
    "    newData = {}\n",
    "    for variable in variables:\n",
    "        newName = variable[\"newVariable\"][\"name\"]\n",
    "        N = variable[\"newVariable\"][\"n\"] + 1\n",
    "        K = variable[\"newVariable\"][\"k\"] + 1\n",
    "        oldVariables = variable[\"oldVariables\"]\n",
    "        option = options[newName]\n",
    "        # print(\"==========\", option)\n",
    "        for oldVariable in option:\n",
    "            if len(option) > 1:\n",
    "                n = oldVariable[\"n\"]\n",
    "                value = oldVariable[\"value\"]\n",
    "                oldVarIncludes = oldVariable[\"includes\"]\n",
    "                newVar = newName + \"_%s\" % n\n",
    "                noreshape = np.where(np.sum(df_oldData[oldVarIncludes], axis=1) >= 1, 1, 0)\n",
    "                newData[newVar] = noreshape.reshape((len(noreshape),))\n",
    "                # print(\"====== new Data %s\" % newVar, oldVarIncludes)\n",
    "\n",
    "            else:\n",
    "                for n in range(1, N):\n",
    "                    newVar = newName + \"_%s\" % n\n",
    "                    noreshape = (df[newVar] == \"Si\").astype(int)\n",
    "                    newData[newVar] = noreshape\n",
    "                    # print(\"NEW: \", newVar)\n",
    "    \n",
    "            # print(oldVariable)\n",
    "    return pd.DataFrame(data=newData)"
   ]
  },
  {
   "cell_type": "code",
   "execution_count": null,
   "metadata": {},
   "outputs": [],
   "source": [
    "def getDfInformation(df):\n",
    "    df_oldData = getOldData(df)\n",
    "    df_newData = getNewData(df, df_oldData)\n",
    "    return pd.concat([df[np.append(_MULTIINDEX_, \"crop\")], df_newData], axis=1) "
   ]
  },
  {
   "cell_type": "code",
   "execution_count": 36,
   "metadata": {},
   "outputs": [],
   "source": [
    "df_info = getDfInfo(df)"
   ]
  },
  {
   "cell_type": "code",
   "execution_count": 37,
   "metadata": {},
   "outputs": [
    {
     "data": {
      "text/plain": [
       "(170, 188420)"
      ]
     },
     "execution_count": 37,
     "metadata": {},
     "output_type": "execute_result"
    }
   ],
   "source": [
    "len(df_info.columns), len(df_info)"
   ]
  },
  {
   "cell_type": "code",
   "execution_count": 38,
   "metadata": {},
   "outputs": [],
   "source": [
    "df_info02 = getDfInformation(df_info)"
   ]
  },
  {
   "cell_type": "code",
   "execution_count": 39,
   "metadata": {},
   "outputs": [
    {
     "data": {
      "text/plain": [
       "Index(['NOMBREDD', 'NOMBREPV', 'NOMBREDI', 'CONGLOMERADO', 'NSELUA', 'UA',\n",
       "       'crop', 'P707_1', 'P707_2', 'P707_3', 'P707_4', 'P707_5', 'P707_6',\n",
       "       'P707_7', 'P707_8', 'P708and712_1', 'P708and712_2', 'P708and712_3',\n",
       "       'P708and712_4', 'P708and712_5', 'P708and712_6', 'P708and712_7',\n",
       "       'P708and712_8', 'P708and712_9', 'P708and712_10', 'P708and712_11',\n",
       "       'P708and712_12', 'P708and712_13', 'P709_1', 'P709_2', 'P709_3',\n",
       "       'P709_4', 'P709_5', 'P709_6', 'P709_7', 'P709_8', 'P709_9', 'P710_1',\n",
       "       'P710_2', 'P710_3', 'P710_4', 'P710_5', 'P710_6', 'P710_7', 'P710_8',\n",
       "       'P710_9', 'P710_10'],\n",
       "      dtype='object')"
      ]
     },
     "execution_count": 39,
     "metadata": {},
     "output_type": "execute_result"
    }
   ],
   "source": [
    "df_info02.columns"
   ]
  },
  {
   "cell_type": "code",
   "execution_count": 40,
   "metadata": {},
   "outputs": [
    {
     "data": {
      "text/plain": [
       "47"
      ]
     },
     "execution_count": 40,
     "metadata": {},
     "output_type": "execute_result"
    }
   ],
   "source": [
    "len(df_info02.columns)"
   ]
  },
  {
   "cell_type": "code",
   "execution_count": 41,
   "metadata": {},
   "outputs": [],
   "source": [
    "newNameColumns={\"P707_1\": \"INFORMATION_1\", \"P707_2\": \"INFORMATION_2\", \"P707_3\": \"INFORMATION_3\", \"P707_4\": \"INFORMATION_4\", \"P707_5\": \"INFORMATION_5\", \"P707_6\": \"INFORMATION_6\", \"P707_7\": \"INFORMATION_7\", \"P707_8\": \"INFORMATION_8\", \"P707_NAN\": \"INFORMATION_NAN\", \"P708and712_1\": \"INSTITUCION_1\", \"P708and712_2\": \"INSTITUCION_2\", \"P708and712_3\": \"INSTITUCION_3\", \"P708and712_4\": \"INSTITUCION_4\", \"P708and712_5\": \"INSTITUCION_5\", \"P708and712_6\": \"INSTITUCION_6\", \"P708and712_7\": \"INSTITUCION_7\", \"P708and712_8\": \"INSTITUCION_8\", \"P708and712_9\": \"INSTITUCION_9\", \"P708and712_10\": \"INSTITUCION_10\", \"P708and712_11\": \"INSTITUCION_11\", \"P708and712_12\": \"INSTITUCION_12\", \"P708and712_13\": \"INSTITUCION_13\", \"P708and712_NAN\": \"INSTITUCION_NAN\", \"P709_1\": \"MEDIO_1\", \"P709_2\": \"MEDIO_2\", \"P709_3\": \"MEDIO_3\", \"P709_4\": \"MEDIO_4\", \"P709_5\": \"MEDIO_5\", \"P709_6\": \"MEDIO_6\", \"P709_7\": \"MEDIO_7\", \"P709_8\": \"MEDIO_8\", \"P709_9\": \"MEDIO_9\", \"P709_NAN\": \"MEDIO_NAN\", \"P710_1\": \"INFO_REQUERIDA_1\", \"P710_2\": \"INFO_REQUERIDA_2\", \"P710_3\": \"INFO_REQUERIDA_3\", \"P710_4\": \"INFO_REQUERIDA_4\", \"P710_5\": \"INFO_REQUERIDA_5\", \"P710_6\": \"INFO_REQUERIDA_6\", \"P710_7\": \"INFO_REQUERIDA_7\", \"P710_8\": \"INFO_REQUERIDA_8\", \"P710_9\": \"INFO_REQUERIDA_9\", \"P710_10\": \"INFO_REQUERIDA_10\", \"P710_NAN\": \"INFO_REQUERIDA_NAN\"}"
   ]
  },
  {
   "cell_type": "code",
   "execution_count": 42,
   "metadata": {},
   "outputs": [],
   "source": [
    "df_info_newcolumns = df_info02.rename(columns=newNameColumns)"
   ]
  },
  {
   "cell_type": "code",
   "execution_count": 43,
   "metadata": {},
   "outputs": [
    {
     "data": {
      "text/plain": [
       "Index(['NOMBREDD', 'NOMBREPV', 'NOMBREDI', 'CONGLOMERADO', 'NSELUA', 'UA',\n",
       "       'crop', 'INFORMATION_1', 'INFORMATION_2', 'INFORMATION_3',\n",
       "       'INFORMATION_4', 'INFORMATION_5', 'INFORMATION_6', 'INFORMATION_7',\n",
       "       'INFORMATION_8', 'INSTITUCION_1', 'INSTITUCION_2', 'INSTITUCION_3',\n",
       "       'INSTITUCION_4', 'INSTITUCION_5', 'INSTITUCION_6', 'INSTITUCION_7',\n",
       "       'INSTITUCION_8', 'INSTITUCION_9', 'INSTITUCION_10', 'INSTITUCION_11',\n",
       "       'INSTITUCION_12', 'INSTITUCION_13', 'MEDIO_1', 'MEDIO_2', 'MEDIO_3',\n",
       "       'MEDIO_4', 'MEDIO_5', 'MEDIO_6', 'MEDIO_7', 'MEDIO_8', 'MEDIO_9',\n",
       "       'INFO_REQUERIDA_1', 'INFO_REQUERIDA_2', 'INFO_REQUERIDA_3',\n",
       "       'INFO_REQUERIDA_4', 'INFO_REQUERIDA_5', 'INFO_REQUERIDA_6',\n",
       "       'INFO_REQUERIDA_7', 'INFO_REQUERIDA_8', 'INFO_REQUERIDA_9',\n",
       "       'INFO_REQUERIDA_10'],\n",
       "      dtype='object')"
      ]
     },
     "execution_count": 43,
     "metadata": {},
     "output_type": "execute_result"
    }
   ],
   "source": [
    "df_info_newcolumns.columns"
   ]
  },
  {
   "cell_type": "code",
   "execution_count": 44,
   "metadata": {},
   "outputs": [],
   "source": [
    "# Adding NAN variables\n",
    "base = [\"INFORMATION\", \"INSTITUTION\", \"MEDIO\", \"INFO_REQUERIDA\"]\n",
    "\n",
    "columns = {\"INFORMATION\": [\"INFORMATION_1\", \"INFORMATION_2\", \"INFORMATION_3\", \"INFORMATION_4\", \"INFORMATION_5\", \"INFORMATION_6\", \"INFORMATION_7\", \"INFORMATION_8\"], \"INSTITUTION\": [\"INSTITUCION_1\", \"INSTITUCION_2\", \"INSTITUCION_3\", \"INSTITUCION_4\", \"INSTITUCION_5\", \"INSTITUCION_6\", \"INSTITUCION_7\", \"INSTITUCION_8\", \"INSTITUCION_9\", \"INSTITUCION_10\", \"INSTITUCION_11\", \"INSTITUCION_12\", \"INSTITUCION_13\"], \"MEDIO\": [\"MEDIO_1\", \"MEDIO_2\", \"MEDIO_3\", \"MEDIO_4\", \"MEDIO_5\", \"MEDIO_6\", \"MEDIO_7\", \"MEDIO_8\", \"MEDIO_9\"], \"INFO_REQUERIDA\": [\"INFO_REQUERIDA_1\", \"INFO_REQUERIDA_2\", \"INFO_REQUERIDA_3\", \"INFO_REQUERIDA_4\", \"INFO_REQUERIDA_5\", \"INFO_REQUERIDA_6\", \"INFO_REQUERIDA_7\", \"INFO_REQUERIDA_8\", \"INFO_REQUERIDA_9\", \"INFO_REQUERIDA_10\"]}\n",
    "\n",
    "for name in base:\n",
    "    df_info_newcolumns[\"%s_NAN\" % name] = (df_info_newcolumns[columns[name]].sum(axis=1) == 0)*1"
   ]
  },
  {
   "cell_type": "code",
   "execution_count": 45,
   "metadata": {},
   "outputs": [
    {
     "data": {
      "text/plain": [
       "Index(['NOMBREDD', 'NOMBREPV', 'NOMBREDI', 'CONGLOMERADO', 'NSELUA', 'UA',\n",
       "       'crop', 'INFORMATION_1', 'INFORMATION_2', 'INFORMATION_3',\n",
       "       'INFORMATION_4', 'INFORMATION_5', 'INFORMATION_6', 'INFORMATION_7',\n",
       "       'INFORMATION_8', 'INSTITUCION_1', 'INSTITUCION_2', 'INSTITUCION_3',\n",
       "       'INSTITUCION_4', 'INSTITUCION_5', 'INSTITUCION_6', 'INSTITUCION_7',\n",
       "       'INSTITUCION_8', 'INSTITUCION_9', 'INSTITUCION_10', 'INSTITUCION_11',\n",
       "       'INSTITUCION_12', 'INSTITUCION_13', 'MEDIO_1', 'MEDIO_2', 'MEDIO_3',\n",
       "       'MEDIO_4', 'MEDIO_5', 'MEDIO_6', 'MEDIO_7', 'MEDIO_8', 'MEDIO_9',\n",
       "       'INFO_REQUERIDA_1', 'INFO_REQUERIDA_2', 'INFO_REQUERIDA_3',\n",
       "       'INFO_REQUERIDA_4', 'INFO_REQUERIDA_5', 'INFO_REQUERIDA_6',\n",
       "       'INFO_REQUERIDA_7', 'INFO_REQUERIDA_8', 'INFO_REQUERIDA_9',\n",
       "       'INFO_REQUERIDA_10', 'INFORMATION_NAN', 'INSTITUTION_NAN', 'MEDIO_NAN',\n",
       "       'INFO_REQUERIDA_NAN'],\n",
       "      dtype='object')"
      ]
     },
     "execution_count": 45,
     "metadata": {},
     "output_type": "execute_result"
    }
   ],
   "source": [
    "df_info_newcolumns.columns"
   ]
  },
  {
   "cell_type": "code",
   "execution_count": 46,
   "metadata": {},
   "outputs": [],
   "source": [
    "def getVariablesForInformationIndex(df):\n",
    "    df[\"INFO_PRECIO\"] = df[\"INFORMATION_1\"]\n",
    "    df[\"INFO_METEREOLOGICA\"] = df[\"INFORMATION_5\"]\n",
    "    df[\"INFO_CALIDAD_VECINO_AMIGO\"] = df[\"INSTITUCION_12\"]\n",
    "    institutions = [\"INSTITUCION_1\", \"INSTITUCION_2\", \"INSTITUCION_3\", \"INSTITUCION_4\", \"INSTITUCION_5\", \"INSTITUCION_6\", \"INSTITUCION_7\", \"INSTITUCION_8\", \"INSTITUCION_9\", \"INSTITUCION_10\", \"INSTITUCION_11\", \"INSTITUCION_13\"]\n",
    "    df[\"INFO_CALIDAD_INSTITUCION\"] = (df[institutions].sum(axis=1) > 0)*1"
   ]
  },
  {
   "cell_type": "code",
   "execution_count": 47,
   "metadata": {},
   "outputs": [],
   "source": [
    "getVariablesForInformationIndex(df_info_newcolumns)"
   ]
  },
  {
   "cell_type": "code",
   "execution_count": 48,
   "metadata": {},
   "outputs": [],
   "source": [
    "def getInformationIndex(df):\n",
    "    df[\"INDEX_PRECIO_INFORMAL\"] = df[\"INFO_PRECIO\"] * df[\"INFO_CALIDAD_VECINO_AMIGO\"]\n",
    "    df[\"INDEX_PRECIO_FORMAL\"] = df[\"INFO_PRECIO\"] * df[\"INFO_CALIDAD_INSTITUCION\"]\n",
    "    df[\"INDEX_PRECIO_NAN\"] = (df[[\"INDEX_PRECIO_INFORMAL\", \"INDEX_PRECIO_FORMAL\"]].sum(axis=1) == 0) * 1\n",
    "\n",
    "    df[\"INDEX_METEREOLOGICA_INFORMAL\"] = df[\"INFO_METEREOLOGICA\"] * df[\"INFO_CALIDAD_VECINO_AMIGO\"]\n",
    "    df[\"INDEX_METEREOLOGICA_FORMAL\"] = df[\"INFO_METEREOLOGICA\"] * df[\"INFO_CALIDAD_INSTITUCION\"]\n",
    "    df[\"INDEX_METEREOLOGICA_NAN\"] = (df[[\"INDEX_METEREOLOGICA_INFORMAL\", \"INDEX_METEREOLOGICA_FORMAL\"]].sum(axis=1) == 0) * 1\n",
    "    \n",
    "    df[\"INDEX_NAN_INFORMAL\"] = (df[[\"INDEX_PRECIO_INFORMAL\", \"INDEX_METEREOLOGICA_INFORMAL\"]].sum(axis=1) == 0) * 1\n",
    "    df[\"INDEX_NAN_FORMAL\"] = (df[[\"INDEX_PRECIO_FORMAL\", \"INDEX_METEREOLOGICA_FORMAL\"]].sum(axis=1) == 0) * 1\n",
    "\n",
    "    df[\"INDEX_NAN_NAN\"] = (df[[\"INDEX_PRECIO_INFORMAL\", \"INDEX_PRECIO_FORMAL\", \"INDEX_METEREOLOGICA_INFORMAL\", \"INDEX_METEREOLOGICA_FORMAL\"]].sum(axis=1) == 0) * 1"
   ]
  },
  {
   "cell_type": "code",
   "execution_count": 49,
   "metadata": {},
   "outputs": [],
   "source": [
    "getInformationIndex(df_info_newcolumns)"
   ]
  },
  {
   "cell_type": "code",
   "execution_count": 50,
   "metadata": {},
   "outputs": [
    {
     "data": {
      "text/plain": [
       "Index(['NOMBREDD', 'NOMBREPV', 'NOMBREDI', 'CONGLOMERADO', 'NSELUA', 'UA',\n",
       "       'crop', 'INFORMATION_1', 'INFORMATION_2', 'INFORMATION_3',\n",
       "       'INFORMATION_4', 'INFORMATION_5', 'INFORMATION_6', 'INFORMATION_7',\n",
       "       'INFORMATION_8', 'INSTITUCION_1', 'INSTITUCION_2', 'INSTITUCION_3',\n",
       "       'INSTITUCION_4', 'INSTITUCION_5', 'INSTITUCION_6', 'INSTITUCION_7',\n",
       "       'INSTITUCION_8', 'INSTITUCION_9', 'INSTITUCION_10', 'INSTITUCION_11',\n",
       "       'INSTITUCION_12', 'INSTITUCION_13', 'MEDIO_1', 'MEDIO_2', 'MEDIO_3',\n",
       "       'MEDIO_4', 'MEDIO_5', 'MEDIO_6', 'MEDIO_7', 'MEDIO_8', 'MEDIO_9',\n",
       "       'INFO_REQUERIDA_1', 'INFO_REQUERIDA_2', 'INFO_REQUERIDA_3',\n",
       "       'INFO_REQUERIDA_4', 'INFO_REQUERIDA_5', 'INFO_REQUERIDA_6',\n",
       "       'INFO_REQUERIDA_7', 'INFO_REQUERIDA_8', 'INFO_REQUERIDA_9',\n",
       "       'INFO_REQUERIDA_10', 'INFORMATION_NAN', 'INSTITUTION_NAN', 'MEDIO_NAN',\n",
       "       'INFO_REQUERIDA_NAN', 'INFO_PRECIO', 'INFO_METEREOLOGICA',\n",
       "       'INFO_CALIDAD_VECINO_AMIGO', 'INFO_CALIDAD_INSTITUCION',\n",
       "       'INDEX_PRECIO_INFORMAL', 'INDEX_PRECIO_FORMAL', 'INDEX_PRECIO_NAN',\n",
       "       'INDEX_METEREOLOGICA_INFORMAL', 'INDEX_METEREOLOGICA_FORMAL',\n",
       "       'INDEX_METEREOLOGICA_NAN', 'INDEX_NAN_INFORMAL', 'INDEX_NAN_FORMAL',\n",
       "       'INDEX_NAN_NAN'],\n",
       "      dtype='object')"
      ]
     },
     "execution_count": 50,
     "metadata": {},
     "output_type": "execute_result"
    }
   ],
   "source": [
    "df_info_newcolumns.columns"
   ]
  },
  {
   "cell_type": "code",
   "execution_count": 51,
   "metadata": {},
   "outputs": [],
   "source": [
    "df_information_indices = df_info_newcolumns.rename(columns={\"INDEX_PRECIO_INFORMAL\": \"informalPriceInformation\", \"INDEX_PRECIO_FORMAL\": \"formalPriceInformation\", \"INDEX_METEREOLOGICA_INFORMAL\": \"informalMetereologicalInformation\", \"INDEX_METEREOLOGICA_FORMAL\": \"formalMetereologicalInformation\"})"
   ]
  },
  {
   "cell_type": "code",
   "execution_count": 52,
   "metadata": {},
   "outputs": [
    {
     "data": {
      "text/plain": [
       "188420"
      ]
     },
     "execution_count": 52,
     "metadata": {},
     "output_type": "execute_result"
    }
   ],
   "source": [
    "len(df_information_indices)"
   ]
  },
  {
   "cell_type": "code",
   "execution_count": 53,
   "metadata": {},
   "outputs": [],
   "source": [
    "def getVariableColum_UA(df, cropName, variable):\n",
    "    df_crop = df[df[\"crop\"] == cropName]\n",
    "    # print(cropName)\n",
    "    variableObs = df_crop.groupby(_MULTIINDEX_)[variable].unique().apply(lambda x: x[0]).reset_index()\n",
    "    print(variable, len(variableObs))\n",
    "    return variableObs\n",
    "\n",
    "indexVar = [\"INDEX_NAN_NAN\", \"INDEX_NAN_INFORMAL\", \"INDEX_NAN_FORMAL\", \"INDEX_PRECIO_NAN\", \"INDEX_PRECIO_INFORMAL\", \"INDEX_PRECIO_FORMAL\", \"INDEX_METEREOLOGICA_NAN\", \"INDEX_METEREOLOGICA_INFORMAL\", \"INDEX_METEREOLOGICA_FORMAL\"]"
   ]
  },
  {
   "cell_type": "code",
   "execution_count": 54,
   "metadata": {},
   "outputs": [],
   "source": [
    "# \"INDEX_NAN_NAN\", \"INDEX_NAN_INFORMAL\", \"INDEX_NAN_FORMAL\",\n",
    "# \"INDEX_PRECIO_NAN\", \"INDEX_PRECIO_INFORMAL\", \"INDEX_PRECIO_FORMAL\",\n",
    "# \"INDEX_CANTIDAD_NAN\", \"INDEX_CANTIDAD_INFORMAL\", \"INDEX_CANTIDAD_FORMAL\",\n",
    "# \"INDEX_METEREOLOGICA_NAN\", \"INDEX_METEREOLOGICA_INFORMAL\", \"INDEX_METEREOLOGICA_FORMAL\"\n",
    "# df_info_whitepotato_newcolumns\n",
    "def filteringInformationIndex_UA(df, cropName):\n",
    "    _00 = getVariableColum_UA(df, cropName, \"INDEX_NAN_NAN\")\n",
    "    _10 = getVariableColum_UA(df, cropName, \"INDEX_PRECIO_NAN\")\n",
    "    _20 = getVariableColum_UA(df, cropName, \"INDEX_METEREOLOGICA_NAN\")\n",
    "    _01 = getVariableColum_UA(df, cropName, \"INDEX_NAN_INFORMAL\")\n",
    "    _11 = getVariableColum_UA(df, cropName, \"INDEX_PRECIO_INFORMAL\")\n",
    "    _21 = getVariableColum_UA(df, cropName, \"INDEX_METEREOLOGICA_INFORMAL\")\n",
    "    _02 = getVariableColum_UA(df, cropName, \"INDEX_NAN_FORMAL\")\n",
    "    _12 = getVariableColum_UA(df, cropName, \"INDEX_PRECIO_FORMAL\")\n",
    "    _22 = getVariableColum_UA(df, cropName, \"INDEX_METEREOLOGICA_FORMAL\")\n",
    "    return pd.concat([_00, _10[\"INDEX_PRECIO_NAN\"], _20[\"INDEX_METEREOLOGICA_NAN\"], _01[\"INDEX_NAN_INFORMAL\"], _11[\"INDEX_PRECIO_INFORMAL\"], _21[\"INDEX_METEREOLOGICA_INFORMAL\"], _02[\"INDEX_NAN_FORMAL\"], _12[\"INDEX_PRECIO_FORMAL\"], _22[\"INDEX_METEREOLOGICA_FORMAL\"]], axis=1, sort=False)"
   ]
  },
  {
   "cell_type": "code",
   "execution_count": 55,
   "metadata": {},
   "outputs": [
    {
     "name": "stdout",
     "output_type": "stream",
     "text": [
      "INDEX_NAN_NAN 4968\n",
      "INDEX_PRECIO_NAN 4968\n",
      "INDEX_METEREOLOGICA_NAN 4968\n",
      "INDEX_NAN_INFORMAL 4968\n",
      "INDEX_PRECIO_INFORMAL 4968\n",
      "INDEX_METEREOLOGICA_INFORMAL 4968\n",
      "INDEX_NAN_FORMAL 4968\n",
      "INDEX_PRECIO_FORMAL 4968\n",
      "INDEX_METEREOLOGICA_FORMAL 4968\n"
     ]
    }
   ],
   "source": [
    "df_information = filteringInformationIndex_UA(df_info_newcolumns, _CROPNAME_)"
   ]
  },
  {
   "cell_type": "code",
   "execution_count": 56,
   "metadata": {},
   "outputs": [
    {
     "data": {
      "text/plain": [
       "Index(['NOMBREDD', 'NOMBREPV', 'NOMBREDI', 'CONGLOMERADO', 'NSELUA', 'UA',\n",
       "       'INDEX_NAN_NAN', 'INDEX_PRECIO_NAN', 'INDEX_METEREOLOGICA_NAN',\n",
       "       'INDEX_NAN_INFORMAL', 'INDEX_PRECIO_INFORMAL',\n",
       "       'INDEX_METEREOLOGICA_INFORMAL', 'INDEX_NAN_FORMAL',\n",
       "       'INDEX_PRECIO_FORMAL', 'INDEX_METEREOLOGICA_FORMAL'],\n",
       "      dtype='object')"
      ]
     },
     "execution_count": 56,
     "metadata": {},
     "output_type": "execute_result"
    }
   ],
   "source": [
    "df_information.columns"
   ]
  },
  {
   "cell_type": "code",
   "execution_count": 91,
   "metadata": {},
   "outputs": [],
   "source": [
    "columnsSelected = [\"informalPriceInformation\", \"formalPriceInformation\", \"informalMetereologicalInformation\", \"formalMetereologicalInformation\"]\n",
    "df_information_indices = df_information.rename(columns={\"INDEX_PRECIO_INFORMAL\": \"informalPriceInformation\", \"INDEX_PRECIO_FORMAL\": \"formalPriceInformation\", \"INDEX_METEREOLOGICA_INFORMAL\": \"informalMetereologicalInformation\", \"INDEX_METEREOLOGICA_FORMAL\": \"formalMetereologicalInformation\"})[np.append(_MULTIINDEX_, columnsSelected)]"
   ]
  },
  {
   "cell_type": "code",
   "execution_count": 92,
   "metadata": {},
   "outputs": [
    {
     "data": {
      "text/plain": [
       "4968"
      ]
     },
     "execution_count": 92,
     "metadata": {},
     "output_type": "execute_result"
    }
   ],
   "source": [
    "len(df_information_indices)"
   ]
  },
  {
   "cell_type": "code",
   "execution_count": 93,
   "metadata": {},
   "outputs": [
    {
     "data": {
      "text/plain": [
       "Index(['NOMBREDD', 'NOMBREPV', 'NOMBREDI', 'CONGLOMERADO', 'NSELUA', 'UA',\n",
       "       'informalPriceInformation', 'formalPriceInformation',\n",
       "       'informalMetereologicalInformation', 'formalMetereologicalInformation'],\n",
       "      dtype='object')"
      ]
     },
     "execution_count": 93,
     "metadata": {},
     "output_type": "execute_result"
    }
   ],
   "source": [
    "df_information_indices.columns"
   ]
  },
  {
   "cell_type": "markdown",
   "metadata": {},
   "source": [
    "# Market size"
   ]
  },
  {
   "cell_type": "code",
   "execution_count": 60,
   "metadata": {},
   "outputs": [],
   "source": [
    "def getMarketSizeVariables(df):\n",
    "    df[\"MARKET_LOCAL\"] = (df[\"P223_1\"] == \"Mercado local (feria local, centro de acopio local)?\").astype(int)\n",
    "    df[\"MARKET_REGIONAL\"] = (df[\"P223_2\"] == \"Mercado regional (feria regional, centro de acopio regional)?\").astype(int)\n",
    "    df[\"MARKET_LIMA\"] = (df[\"P223_5\"] == \"Mercados de Lima?\").astype(int)\n",
    "    df[\"MARKET_AGROINDUSTRY\"] = (df[\"P223_4\"] == \"Agroindustria?\").astype(int)\n",
    "    df[\"MARKET_EXPORT\"] = (df[\"P223_3\"] == \"Mercado exterior?\").astype(int)\n",
    "    df[\"MARKET_NAN\"] = (df[\"P223_6\"] == \"NO SABE\").astype(int)"
   ]
  },
  {
   "cell_type": "code",
   "execution_count": 61,
   "metadata": {},
   "outputs": [],
   "source": [
    "def getMarketSizeDummies_UA(df, cropName, indices):\n",
    "    getMarketSizeVariables(df)\n",
    "    df_1 = df[df[\"crop\"] == cropName].groupby(indices)[\"MARKET_LOCAL\"].unique().apply(lambda x: x[0]).reset_index()\n",
    "    df_2 = df[df[\"crop\"] == cropName].groupby(indices)[\"MARKET_REGIONAL\"].unique().apply(lambda x: x[0]).reset_index()\n",
    "    df_3 = df[df[\"crop\"] == cropName].groupby(indices)[\"MARKET_LIMA\"].unique().apply(lambda x: x[0]).reset_index()\n",
    "    df_4 = df[df[\"crop\"] == cropName].groupby(indices)[\"MARKET_AGROINDUSTRY\"].unique().apply(lambda x: x[0]).reset_index()\n",
    "    df_5 = df[df[\"crop\"] == cropName].groupby(indices)[\"MARKET_EXPORT\"].unique().apply(lambda x: x[0]).reset_index()\n",
    "    df_6 = df[df[\"crop\"] == cropName].groupby(indices)[\"MARKET_NAN\"].unique().apply(lambda x: x[0]).reset_index()\n",
    "    return pd.concat([df_1, df_2[\"MARKET_REGIONAL\"], df_3[\"MARKET_LIMA\"], df_4[\"MARKET_AGROINDUSTRY\"], df_5[\"MARKET_EXPORT\"], df_6[\"MARKET_NAN\"]], axis=1, sort=False)"
   ]
  },
  {
   "cell_type": "code",
   "execution_count": 62,
   "metadata": {},
   "outputs": [],
   "source": [
    "def getLastMarketSize(x):\n",
    "    x = list(filter(lambda x : x != \"MARKET_NAN\", x))\n",
    "    if len(x):\n",
    "        last_one = x[-1]\n",
    "        if last_one == \"MARKET_LOCAL\":\n",
    "            val = \"Local market\"\n",
    "        elif last_one == \"MARKET_REGIONAL\":\n",
    "            val = \"Regional market\"\n",
    "        elif last_one == \"MARKET_LIMA\":\n",
    "            val = \"Lima markets\"\n",
    "        elif last_one == \"MARKET_AGROINDUSTRY\":\n",
    "            val = \"Agroindustry\"\n",
    "        elif last_one == \"MARKET_EXPORT\":\n",
    "            val = \"Outside market\"\n",
    "        else:\n",
    "            val = None\n",
    "        return val\n",
    "    else:\n",
    "        return None"
   ]
  },
  {
   "cell_type": "code",
   "execution_count": 63,
   "metadata": {},
   "outputs": [],
   "source": [
    "_MARKET_SIZE_ = [\"MARKET_LOCAL\", \"MARKET_REGIONAL\", \"MARKET_LIMA\", \"MARKET_AGROINDUSTRY\", \"MARKET_EXPORT\", \"MARKET_NAN\"]"
   ]
  },
  {
   "cell_type": "code",
   "execution_count": 64,
   "metadata": {},
   "outputs": [],
   "source": [
    "# Number of market size selected options\n",
    "def getMoreMarketSizeVariables_UA(df):\n",
    "    df[\"MARKETS\"] = df[_MARKET_SIZE_].apply(lambda x: x.index[x.astype(bool)].tolist(), axis=1)\n",
    "    df[\"MARKETS_QTY\"] = df[\"MARKETS\"].apply(lambda x: len(x))\n",
    "    df[\"LAST_MARKET_SIZE\"] = df[\"MARKETS\"].apply(getLastMarketSize)"
   ]
  },
  {
   "cell_type": "code",
   "execution_count": 65,
   "metadata": {},
   "outputs": [],
   "source": [
    "df_marketsize = getMarketSizeDummies_UA(df, _CROPNAME_, _MULTIINDEX_)\n",
    "getMoreMarketSizeVariables_UA(df_marketsize)\n",
    "df_marketSize = df_marketsize.rename(columns={\"MARKET_LOCAL\": \"localMarket\", \"MARKET_REGIONAL\": \"regionalMarket\", \"MARKET_LIMA\": \"limaMarket\", \"MARKET_AGROINDUSTRY\": \"agroindustryMarket\", \"MARKET_EXPORT\": \"exportMarket\", \"LAST_MARKET_SIZE\": \"marketSize\"})"
   ]
  },
  {
   "cell_type": "code",
   "execution_count": 66,
   "metadata": {},
   "outputs": [
    {
     "data": {
      "text/plain": [
       "4968"
      ]
     },
     "execution_count": 66,
     "metadata": {},
     "output_type": "execute_result"
    }
   ],
   "source": [
    "len(df_marketsize)"
   ]
  },
  {
   "cell_type": "code",
   "execution_count": 67,
   "metadata": {},
   "outputs": [
    {
     "data": {
      "text/plain": [
       "Index(['NOMBREDD', 'NOMBREPV', 'NOMBREDI', 'CONGLOMERADO', 'NSELUA', 'UA',\n",
       "       'localMarket', 'regionalMarket', 'limaMarket', 'agroindustryMarket',\n",
       "       'exportMarket', 'MARKET_NAN', 'MARKETS', 'MARKETS_QTY', 'marketSize'],\n",
       "      dtype='object')"
      ]
     },
     "execution_count": 67,
     "metadata": {},
     "output_type": "execute_result"
    }
   ],
   "source": [
    "df_marketSize.columns"
   ]
  },
  {
   "cell_type": "code",
   "execution_count": 68,
   "metadata": {},
   "outputs": [
    {
     "data": {
      "text/plain": [
       "Local market       1590\n",
       "Regional market     405\n",
       "Lima markets        221\n",
       "Agroindustry          1\n",
       "Name: marketSize, dtype: int64"
      ]
     },
     "execution_count": 68,
     "metadata": {},
     "output_type": "execute_result"
    }
   ],
   "source": [
    "df_marketSize[\"marketSize\"].value_counts()"
   ]
  },
  {
   "cell_type": "markdown",
   "metadata": {},
   "source": [
    "# Market channel Directedness"
   ]
  },
  {
   "cell_type": "code",
   "execution_count": 69,
   "metadata": {},
   "outputs": [],
   "source": [
    "_DIRECT_ACCESS_TO_CONSUMERS_ = [\"COLLECTOR\", \"WHOLESALER\", \"RETAILER\", \"ASOCIATION_COOPERATIVE\", \"ENTERPRISE_AGROINDUSTRY\", \"CONSUMER\", \"ATC_NAN\"]"
   ]
  },
  {
   "cell_type": "code",
   "execution_count": 70,
   "metadata": {},
   "outputs": [],
   "source": [
    "def getDirectAccessVariables(df):\n",
    "    df[\"COLLECTOR\"] = (df[\"P222_1\"] == \"Acopiador\").astype(int)\n",
    "    df[\"WHOLESALER\"] = (df[\"P222_2\"] == \"Comerciante mayorista\").astype(int)\n",
    "    df[\"RETAILER\"] = (df[\"P222_3\"] == \"Comerciante minorista\").astype(int)\n",
    "    df[\"ASOCIATION_COOPERATIVE\"] = (df[\"P222_4\"] == \"Asociación / cooperativa\").astype(int)\n",
    "    df[\"ENTERPRISE_AGROINDUSTRY\"] = (df[\"P222_5\"] == \"Empresa / agroindustria\").astype(int)\n",
    "    df[\"CONSUMER\"] = (df[\"P222_6\"] == \"Consumidor Final\").astype(int)\n",
    "    df[\"ATC_NAN\"] = (df[\"P222_7\"] == \"NO SABE\").astype(int)\n",
    "    \n",
    "def getDirectAccessDummies_UA(df, cropName, indices):\n",
    "    getDirectAccessVariables(df)\n",
    "    df_1 = df[df[\"crop\"] == cropName].groupby(indices)[\"COLLECTOR\"].unique().apply(lambda x: x[0]).reset_index()\n",
    "    df_2 = df[df[\"crop\"] == cropName].groupby(indices)[\"WHOLESALER\"].unique().apply(lambda x: x[0]).reset_index()\n",
    "    df_3 = df[df[\"crop\"] == cropName].groupby(indices)[\"RETAILER\"].unique().apply(lambda x: x[0]).reset_index()\n",
    "    df_4 = df[df[\"crop\"] == cropName].groupby(indices)[\"ASOCIATION_COOPERATIVE\"].unique().apply(lambda x: x[0]).reset_index()\n",
    "    df_5 = df[df[\"crop\"] == cropName].groupby(indices)[\"ENTERPRISE_AGROINDUSTRY\"].unique().apply(lambda x: x[0]).reset_index()\n",
    "    df_6 = df[df[\"crop\"] == cropName].groupby(indices)[\"CONSUMER\"].unique().apply(lambda x: x[0]).reset_index()\n",
    "    df_7 = df[df[\"crop\"] == cropName].groupby(indices)[\"ATC_NAN\"].unique().apply(lambda x: x[0]).reset_index()\n",
    "    return pd.concat([df_1, df_2[\"WHOLESALER\"], df_3[\"RETAILER\"], df_4[\"ASOCIATION_COOPERATIVE\"], df_5[\"ENTERPRISE_AGROINDUSTRY\"], df_6[\"CONSUMER\"], df_7[\"ATC_NAN\"]], axis=1, sort=False)"
   ]
  },
  {
   "cell_type": "code",
   "execution_count": 71,
   "metadata": {},
   "outputs": [],
   "source": [
    "def getDirectAccessSize(x):\n",
    "    x = list(filter(lambda x : x != \"ATC_NAN\", x))\n",
    "    if len(x):\n",
    "        last_one = x[-1]\n",
    "        if last_one == \"COLLECTOR\":\n",
    "            val = \"Collector\"\n",
    "        elif last_one == \"WHOLESALER\":\n",
    "            val = \"Wholesaler\"\n",
    "        elif last_one == \"RETAILER\":\n",
    "            val = \"Retailer\"\n",
    "        elif last_one == \"ASOCIATION_COOPERATIVE\":\n",
    "            val = \"Association / Cooperative\"\n",
    "        elif last_one == \"ENTERPRISE_AGROINDUSTRY\":\n",
    "            val = \"Company / Agribusiness\"\n",
    "        elif last_one == \"CONSUMER\":\n",
    "            val = \"Final consumer\"\n",
    "        else:\n",
    "            val = None\n",
    "        return val\n",
    "    else:\n",
    "        return None\n",
    "\n",
    "def getMoreDirectAccessVariables_UA(df):\n",
    "    df[\"DIRECT_ACCESS\"] = df[_DIRECT_ACCESS_TO_CONSUMERS_].apply(lambda x: x.index[x.astype(bool)].tolist(), axis=1)\n",
    "    df[\"DIRECT_ACCESS_QTY\"] = df[\"DIRECT_ACCESS\"].apply(lambda x: len(x))\n",
    "    df[\"LAST_DIRECT_ACCESS\"] = df[\"DIRECT_ACCESS\"].apply(getDirectAccessSize)"
   ]
  },
  {
   "cell_type": "code",
   "execution_count": 72,
   "metadata": {},
   "outputs": [],
   "source": [
    "df_04 = getDirectAccessDummies_UA(df, _CROPNAME_, _MULTIINDEX_)\n",
    "getMoreDirectAccessVariables_UA(df_04)"
   ]
  },
  {
   "cell_type": "code",
   "execution_count": 73,
   "metadata": {},
   "outputs": [],
   "source": [
    "df_marketChannelDirectedness = df_04.rename(columns={\"COLLECTOR\": \"collector\", \"WHOLESALER\": \"wholesaler\", \"RETAILER\": \"retailer\", \"ASOCIATION_COOPERATIVE\": \"cooperative\", \"ENTERPRISE_AGROINDUSTRY\": \"enterprise\", \"CONSUMER\": \"finalConsumer\", \"LAST_DIRECT_ACCESS\": \"marketChannelDirectedness\"})\n",
    "df_marketChannelDirectedness = df_marketChannelDirectedness[np.append(_MULTIINDEX_, [\"collector\", \"wholesaler\", \"retailer\", \"enterprise\", \"finalConsumer\", \"marketChannelDirectedness\"])]"
   ]
  },
  {
   "cell_type": "code",
   "execution_count": 74,
   "metadata": {},
   "outputs": [
    {
     "data": {
      "text/plain": [
       "4968"
      ]
     },
     "execution_count": 74,
     "metadata": {},
     "output_type": "execute_result"
    }
   ],
   "source": [
    "len(df_marketChannelDirectedness)"
   ]
  },
  {
   "cell_type": "code",
   "execution_count": 75,
   "metadata": {},
   "outputs": [
    {
     "data": {
      "text/plain": [
       "Index(['NOMBREDD', 'NOMBREPV', 'NOMBREDI', 'CONGLOMERADO', 'NSELUA', 'UA',\n",
       "       'collector', 'wholesaler', 'retailer', 'enterprise', 'finalConsumer',\n",
       "       'marketChannelDirectedness'],\n",
       "      dtype='object')"
      ]
     },
     "execution_count": 75,
     "metadata": {},
     "output_type": "execute_result"
    }
   ],
   "source": [
    "df_marketChannelDirectedness.columns"
   ]
  },
  {
   "cell_type": "code",
   "execution_count": 76,
   "metadata": {},
   "outputs": [
    {
     "data": {
      "text/plain": [
       "Wholesaler                   769\n",
       "Retailer                     598\n",
       "Collector                    520\n",
       "Final consumer               393\n",
       "Association / Cooperative      1\n",
       "Company / Agribusiness         1\n",
       "Name: marketChannelDirectedness, dtype: int64"
      ]
     },
     "execution_count": 76,
     "metadata": {},
     "output_type": "execute_result"
    }
   ],
   "source": [
    "df_marketChannelDirectedness[\"marketChannelDirectedness\"].value_counts()"
   ]
  },
  {
   "cell_type": "markdown",
   "metadata": {},
   "source": [
    "# Number of District's points of sale"
   ]
  },
  {
   "cell_type": "code",
   "execution_count": 77,
   "metadata": {},
   "outputs": [],
   "source": [
    "df_points_of_sale = pd.read_csv(_PATH_ + \"/\" + \"cenama/Capitulo_IV_NACIONAL.csv\").rename(columns={\"DEPARTAMENTO\": \"NOMBREDD\", \"PROVINCIA\": \"NOMBREPV\", \"DISTRITO\": \"NOMBREDI\", \"P39_1\": \"pointsOfSale\"})"
   ]
  },
  {
   "cell_type": "code",
   "execution_count": 78,
   "metadata": {},
   "outputs": [
    {
     "data": {
      "text/plain": [
       "Index(['Unnamed: 0', 'ID', 'CCDD', 'NOMBREDD', 'CCPP', 'NOMBREPV', 'CCDI',\n",
       "       'NOMBREDI', 'P29', 'P30_1', 'P30_2', 'P30_3', 'P30_4', 'P31_1', 'P31_2',\n",
       "       'P32_1', 'P32_2', 'P32_3', 'P33', 'P33_Otro', 'P34', 'P34_Otro', 'P34A',\n",
       "       'P35', 'P35_Otro', 'P36_1', 'P36_2', 'P36_3', 'P36A_1', 'P36A_2',\n",
       "       'P36B_1', 'P36B_2', 'P37', 'P38', 'pointsOfSale', 'P39_2', 'P39_3',\n",
       "       'P39_4', 'P39_5', 'P39_6', 'P39_7', 'P39_8', 'P39_9', 'P39_9_Otro',\n",
       "       'P39_Total', 'P40_1', 'P40_1_TIEMPO', 'P40_2', 'P40_2_TIEMPO', 'P40_3',\n",
       "       'P40_3_TIEMPO'],\n",
       "      dtype='object')"
      ]
     },
     "execution_count": 78,
     "metadata": {},
     "output_type": "execute_result"
    }
   ],
   "source": [
    "df_points_of_sale.columns"
   ]
  },
  {
   "cell_type": "code",
   "execution_count": 81,
   "metadata": {},
   "outputs": [],
   "source": [
    "s = [\"NOMBREDD\", \"NOMBREPV\", \"NOMBREDI\", \"pointsOfSale\"]\n",
    "df_points_of_sale = df_points_of_sale[s]"
   ]
  },
  {
   "cell_type": "code",
   "execution_count": 83,
   "metadata": {},
   "outputs": [],
   "source": [
    "df_points_of_sale = df_points_of_sale.groupby([\"NOMBREDD\", \"NOMBREPV\", \"NOMBREDI\"])[\"pointsOfSale\"].apply(np.sum).reset_index()"
   ]
  },
  {
   "cell_type": "code",
   "execution_count": 84,
   "metadata": {},
   "outputs": [
    {
     "data": {
      "text/html": [
       "<div>\n",
       "<style scoped>\n",
       "    .dataframe tbody tr th:only-of-type {\n",
       "        vertical-align: middle;\n",
       "    }\n",
       "\n",
       "    .dataframe tbody tr th {\n",
       "        vertical-align: top;\n",
       "    }\n",
       "\n",
       "    .dataframe thead th {\n",
       "        text-align: right;\n",
       "    }\n",
       "</style>\n",
       "<table border=\"1\" class=\"dataframe\">\n",
       "  <thead>\n",
       "    <tr style=\"text-align: right;\">\n",
       "      <th></th>\n",
       "      <th>NOMBREDD</th>\n",
       "      <th>NOMBREPV</th>\n",
       "      <th>NOMBREDI</th>\n",
       "      <th>pointsOfSale</th>\n",
       "    </tr>\n",
       "  </thead>\n",
       "  <tbody>\n",
       "    <tr>\n",
       "      <th>0</th>\n",
       "      <td>AMAZONAS</td>\n",
       "      <td>BAGUA</td>\n",
       "      <td>ARAMANGO</td>\n",
       "      <td>5.0</td>\n",
       "    </tr>\n",
       "    <tr>\n",
       "      <th>1</th>\n",
       "      <td>AMAZONAS</td>\n",
       "      <td>BAGUA</td>\n",
       "      <td>BAGUA</td>\n",
       "      <td>5.0</td>\n",
       "    </tr>\n",
       "    <tr>\n",
       "      <th>2</th>\n",
       "      <td>AMAZONAS</td>\n",
       "      <td>BAGUA</td>\n",
       "      <td>IMAZA</td>\n",
       "      <td>4.0</td>\n",
       "    </tr>\n",
       "    <tr>\n",
       "      <th>3</th>\n",
       "      <td>AMAZONAS</td>\n",
       "      <td>BAGUA</td>\n",
       "      <td>LA PECA</td>\n",
       "      <td>90.0</td>\n",
       "    </tr>\n",
       "    <tr>\n",
       "      <th>4</th>\n",
       "      <td>AMAZONAS</td>\n",
       "      <td>BONGARA</td>\n",
       "      <td>JAZAN</td>\n",
       "      <td>43.0</td>\n",
       "    </tr>\n",
       "    <tr>\n",
       "      <th>...</th>\n",
       "      <td>...</td>\n",
       "      <td>...</td>\n",
       "      <td>...</td>\n",
       "      <td>...</td>\n",
       "    </tr>\n",
       "    <tr>\n",
       "      <th>632</th>\n",
       "      <td>ÁNCASH</td>\n",
       "      <td>SANTA</td>\n",
       "      <td>SAMANCO</td>\n",
       "      <td>2.0</td>\n",
       "    </tr>\n",
       "    <tr>\n",
       "      <th>633</th>\n",
       "      <td>ÁNCASH</td>\n",
       "      <td>SANTA</td>\n",
       "      <td>SANTA</td>\n",
       "      <td>30.0</td>\n",
       "    </tr>\n",
       "    <tr>\n",
       "      <th>634</th>\n",
       "      <td>ÁNCASH</td>\n",
       "      <td>SIHUAS</td>\n",
       "      <td>SIHUAS</td>\n",
       "      <td>11.0</td>\n",
       "    </tr>\n",
       "    <tr>\n",
       "      <th>635</th>\n",
       "      <td>ÁNCASH</td>\n",
       "      <td>YUNGAY</td>\n",
       "      <td>MANCOS</td>\n",
       "      <td>0.0</td>\n",
       "    </tr>\n",
       "    <tr>\n",
       "      <th>636</th>\n",
       "      <td>ÁNCASH</td>\n",
       "      <td>YUNGAY</td>\n",
       "      <td>YUNGAY</td>\n",
       "      <td>40.0</td>\n",
       "    </tr>\n",
       "  </tbody>\n",
       "</table>\n",
       "<p>637 rows × 4 columns</p>\n",
       "</div>"
      ],
      "text/plain": [
       "     NOMBREDD NOMBREPV  NOMBREDI  pointsOfSale\n",
       "0    AMAZONAS    BAGUA  ARAMANGO           5.0\n",
       "1    AMAZONAS    BAGUA     BAGUA           5.0\n",
       "2    AMAZONAS    BAGUA     IMAZA           4.0\n",
       "3    AMAZONAS    BAGUA   LA PECA          90.0\n",
       "4    AMAZONAS  BONGARA     JAZAN          43.0\n",
       "..        ...      ...       ...           ...\n",
       "632    ÁNCASH    SANTA   SAMANCO           2.0\n",
       "633    ÁNCASH    SANTA     SANTA          30.0\n",
       "634    ÁNCASH   SIHUAS    SIHUAS          11.0\n",
       "635    ÁNCASH   YUNGAY    MANCOS           0.0\n",
       "636    ÁNCASH   YUNGAY    YUNGAY          40.0\n",
       "\n",
       "[637 rows x 4 columns]"
      ]
     },
     "execution_count": 84,
     "metadata": {},
     "output_type": "execute_result"
    }
   ],
   "source": [
    "df_points_of_sale"
   ]
  },
  {
   "cell_type": "code",
   "execution_count": 85,
   "metadata": {},
   "outputs": [
    {
     "data": {
      "text/plain": [
       "Index(['NOMBREDD', 'NOMBREPV', 'NOMBREDI', 'pointsOfSale'], dtype='object')"
      ]
     },
     "execution_count": 85,
     "metadata": {},
     "output_type": "execute_result"
    }
   ],
   "source": [
    "df_points_of_sale.columns"
   ]
  },
  {
   "cell_type": "markdown",
   "metadata": {},
   "source": [
    "# Model dataframe"
   ]
  },
  {
   "cell_type": "code",
   "execution_count": 111,
   "metadata": {},
   "outputs": [],
   "source": [
    "df_model = mergeDataFrames([df_productivity, df_economies_of_scale, df_associativity, df_information_indices, df_marketSize, df_marketChannelDirectedness], _MULTIINDEX_)"
   ]
  },
  {
   "cell_type": "code",
   "execution_count": 112,
   "metadata": {},
   "outputs": [],
   "source": [
    "df_model = mergeDataFrames([df_model, df_points_of_sale], [\"NOMBREDD\", \"NOMBREPV\", \"NOMBREDI\"])"
   ]
  },
  {
   "cell_type": "code",
   "execution_count": 113,
   "metadata": {},
   "outputs": [
    {
     "data": {
      "text/plain": [
       "2163"
      ]
     },
     "execution_count": 113,
     "metadata": {},
     "output_type": "execute_result"
    }
   ],
   "source": [
    "len(df_model)"
   ]
  },
  {
   "cell_type": "code",
   "execution_count": 114,
   "metadata": {},
   "outputs": [
    {
     "data": {
      "text/plain": [
       "Index(['NOMBREDD', 'NOMBREPV', 'NOMBREDI', 'CONGLOMERADO', 'NSELUA', 'UA',\n",
       "       'crop', 'production', 'totalProduction', 'percentProduction',\n",
       "       'soldProduction', 'totalSoldProduction', 'percentSoldProduction',\n",
       "       'farmGatePricePerKg', 'farmGateIncomes', 'totalFarmGateIncomes',\n",
       "       'percentFarmGateIncomes', 'plantedArea', 'totalPlantedArea',\n",
       "       'percentPlantedArea', 'yield', 'volumeOfDistrict', 'associative',\n",
       "       'informalPriceInformation', 'formalPriceInformation',\n",
       "       'informalMetereologicalInformation', 'formalMetereologicalInformation',\n",
       "       'localMarket', 'regionalMarket', 'limaMarket', 'agroindustryMarket',\n",
       "       'exportMarket', 'MARKET_NAN', 'MARKETS', 'MARKETS_QTY', 'marketSize',\n",
       "       'collector', 'wholesaler', 'retailer', 'enterprise', 'finalConsumer',\n",
       "       'marketChannelDirectedness', 'pointsOfSale'],\n",
       "      dtype='object')"
      ]
     },
     "execution_count": 114,
     "metadata": {},
     "output_type": "execute_result"
    }
   ],
   "source": [
    "df_model.columns"
   ]
  },
  {
   "cell_type": "code",
   "execution_count": 115,
   "metadata": {},
   "outputs": [
    {
     "data": {
      "text/plain": [
       "NOMBREDD                                0\n",
       "NOMBREPV                                0\n",
       "NOMBREDI                                0\n",
       "CONGLOMERADO                            0\n",
       "NSELUA                                  0\n",
       "UA                                      0\n",
       "crop                                    0\n",
       "production                              0\n",
       "totalProduction                         0\n",
       "percentProduction                       0\n",
       "soldProduction                          0\n",
       "totalSoldProduction                     0\n",
       "percentSoldProduction                   0\n",
       "farmGatePricePerKg                      0\n",
       "farmGateIncomes                         0\n",
       "totalFarmGateIncomes                    0\n",
       "percentFarmGateIncomes                  0\n",
       "plantedArea                             0\n",
       "totalPlantedArea                        0\n",
       "percentPlantedArea                      0\n",
       "yield                                   0\n",
       "volumeOfDistrict                        0\n",
       "associative                            41\n",
       "informalPriceInformation                0\n",
       "formalPriceInformation                  0\n",
       "informalMetereologicalInformation       0\n",
       "formalMetereologicalInformation         0\n",
       "localMarket                             0\n",
       "regionalMarket                          0\n",
       "limaMarket                              0\n",
       "agroindustryMarket                      0\n",
       "exportMarket                            0\n",
       "MARKET_NAN                              0\n",
       "MARKETS                                 0\n",
       "MARKETS_QTY                             0\n",
       "marketSize                             56\n",
       "collector                               0\n",
       "wholesaler                              0\n",
       "retailer                                0\n",
       "enterprise                              0\n",
       "finalConsumer                           0\n",
       "marketChannelDirectedness               0\n",
       "pointsOfSale                         1311\n",
       "dtype: int64"
      ]
     },
     "execution_count": 115,
     "metadata": {},
     "output_type": "execute_result"
    }
   ],
   "source": [
    "df_model.isnull().sum(axis=0)"
   ]
  },
  {
   "cell_type": "code",
   "execution_count": 116,
   "metadata": {},
   "outputs": [],
   "source": [
    "def removeRowsForMarketChannelDirectedness(df):\n",
    "    values = [\"Collector\", \"Retailer\", \"Wholesaler\", \"Final consumer\"]\n",
    "    return df[df[\"marketChannelDirectedness\"].isin(values)]"
   ]
  },
  {
   "cell_type": "code",
   "execution_count": 117,
   "metadata": {},
   "outputs": [],
   "source": [
    "def removeRowsForMarketSize(df):\n",
    "    values = [\"Local market\", \"Regional market\", \"Lima markets\"]\n",
    "    return df[df[\"marketSize\"].isin(values)]"
   ]
  },
  {
   "cell_type": "code",
   "execution_count": 118,
   "metadata": {},
   "outputs": [],
   "source": [
    "def removeAssociativeNullValues(df):\n",
    "    return df[~df[\"associative\"].isnull()]"
   ]
  },
  {
   "cell_type": "code",
   "execution_count": 119,
   "metadata": {},
   "outputs": [],
   "source": [
    "def changeNanToZero(df, variable):\n",
    "    df[df[variable].isnull()][variable] = 0"
   ]
  },
  {
   "cell_type": "code",
   "execution_count": 120,
   "metadata": {},
   "outputs": [],
   "source": [
    "df_model_filtered = removeRowsForMarketChannelDirectedness(df_model)"
   ]
  },
  {
   "cell_type": "code",
   "execution_count": 121,
   "metadata": {},
   "outputs": [],
   "source": [
    "df_model_filtered = removeRowsForMarketSize(df_model_filtered)"
   ]
  },
  {
   "cell_type": "code",
   "execution_count": 122,
   "metadata": {},
   "outputs": [],
   "source": [
    "df_model_filtered = removeAssociativeNullValues(df_model_filtered)"
   ]
  },
  {
   "cell_type": "code",
   "execution_count": 123,
   "metadata": {},
   "outputs": [
    {
     "name": "stderr",
     "output_type": "stream",
     "text": [
      "/usr/local/anaconda3/lib/python3.7/site-packages/ipykernel_launcher.py:2: SettingWithCopyWarning: \n",
      "A value is trying to be set on a copy of a slice from a DataFrame.\n",
      "Try using .loc[row_indexer,col_indexer] = value instead\n",
      "\n",
      "See the caveats in the documentation: https://pandas.pydata.org/pandas-docs/stable/user_guide/indexing.html#returning-a-view-versus-a-copy\n",
      "  \n"
     ]
    }
   ],
   "source": [
    "changeNanToZero(df_model_filtered, \"pointsOfSale\")"
   ]
  },
  {
   "cell_type": "code",
   "execution_count": 124,
   "metadata": {},
   "outputs": [
    {
     "data": {
      "text/plain": [
       "2064"
      ]
     },
     "execution_count": 124,
     "metadata": {},
     "output_type": "execute_result"
    }
   ],
   "source": [
    "len(df_model_filtered)"
   ]
  },
  {
   "cell_type": "code",
   "execution_count": 125,
   "metadata": {},
   "outputs": [
    {
     "data": {
      "text/plain": [
       "NOMBREDD                                0\n",
       "NOMBREPV                                0\n",
       "NOMBREDI                                0\n",
       "CONGLOMERADO                            0\n",
       "NSELUA                                  0\n",
       "UA                                      0\n",
       "crop                                    0\n",
       "production                              0\n",
       "totalProduction                         0\n",
       "percentProduction                       0\n",
       "soldProduction                          0\n",
       "totalSoldProduction                     0\n",
       "percentSoldProduction                   0\n",
       "farmGatePricePerKg                      0\n",
       "farmGateIncomes                         0\n",
       "totalFarmGateIncomes                    0\n",
       "percentFarmGateIncomes                  0\n",
       "plantedArea                             0\n",
       "totalPlantedArea                        0\n",
       "percentPlantedArea                      0\n",
       "yield                                   0\n",
       "volumeOfDistrict                        0\n",
       "associative                             0\n",
       "informalPriceInformation                0\n",
       "formalPriceInformation                  0\n",
       "informalMetereologicalInformation       0\n",
       "formalMetereologicalInformation         0\n",
       "localMarket                             0\n",
       "regionalMarket                          0\n",
       "limaMarket                              0\n",
       "agroindustryMarket                      0\n",
       "exportMarket                            0\n",
       "MARKET_NAN                              0\n",
       "MARKETS                                 0\n",
       "MARKETS_QTY                             0\n",
       "marketSize                              0\n",
       "collector                               0\n",
       "wholesaler                              0\n",
       "retailer                                0\n",
       "enterprise                              0\n",
       "finalConsumer                           0\n",
       "marketChannelDirectedness               0\n",
       "pointsOfSale                         1261\n",
       "dtype: int64"
      ]
     },
     "execution_count": 125,
     "metadata": {},
     "output_type": "execute_result"
    }
   ],
   "source": [
    "df_model_filtered.isnull().sum(axis=0)"
   ]
  },
  {
   "cell_type": "code",
   "execution_count": 126,
   "metadata": {},
   "outputs": [
    {
     "data": {
      "text/plain": [
       "Wholesaler        722\n",
       "Retailer          552\n",
       "Collector         454\n",
       "Final consumer    336\n",
       "Name: marketChannelDirectedness, dtype: int64"
      ]
     },
     "execution_count": 126,
     "metadata": {},
     "output_type": "execute_result"
    }
   ],
   "source": [
    "df_model_filtered[\"marketChannelDirectedness\"].value_counts()"
   ]
  },
  {
   "cell_type": "code",
   "execution_count": 127,
   "metadata": {},
   "outputs": [
    {
     "data": {
      "text/plain": [
       "Local market       1469\n",
       "Regional market     386\n",
       "Lima markets        209\n",
       "Name: marketSize, dtype: int64"
      ]
     },
     "execution_count": 127,
     "metadata": {},
     "output_type": "execute_result"
    }
   ],
   "source": [
    "df_model_filtered[\"marketSize\"].value_counts()"
   ]
  },
  {
   "cell_type": "code",
   "execution_count": 128,
   "metadata": {},
   "outputs": [
    {
     "data": {
      "text/plain": [
       "0.0    1965\n",
       "1.0      99\n",
       "Name: associative, dtype: int64"
      ]
     },
     "execution_count": 128,
     "metadata": {},
     "output_type": "execute_result"
    }
   ],
   "source": [
    "df_model_filtered[\"associative\"].value_counts()"
   ]
  },
  {
   "cell_type": "code",
   "execution_count": 129,
   "metadata": {},
   "outputs": [],
   "source": [
    "df_model_filtered.to_csv(\"ThesisDataframes/03PreModelDatabaseOfWhitePotato.csv\")"
   ]
  },
  {
   "cell_type": "code",
   "execution_count": null,
   "metadata": {},
   "outputs": [],
   "source": []
  }
 ],
 "metadata": {
  "kernelspec": {
   "name": "python3",
   "display_name": "Python 3.8.3 64-bit",
   "metadata": {
    "interpreter": {
     "hash": "aee8b7b246df8f9039afb4144a1f6fd8d2ca17a180786b69acc140d282b71a49"
    }
   }
  },
  "language_info": {
   "codemirror_mode": {
    "name": "ipython",
    "version": 3
   },
   "file_extension": ".py",
   "mimetype": "text/x-python",
   "name": "python",
   "nbconvert_exporter": "python",
   "pygments_lexer": "ipython3",
   "version": "3.8.3-final"
  }
 },
 "nbformat": 4,
 "nbformat_minor": 4
}