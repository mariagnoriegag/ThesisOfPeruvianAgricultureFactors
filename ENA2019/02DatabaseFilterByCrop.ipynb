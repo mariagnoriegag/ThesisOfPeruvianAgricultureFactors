{
 "cells": [
  {
   "cell_type": "code",
   "execution_count": 1,
   "metadata": {},
   "outputs": [],
   "source": [
    "import pandas as pd"
   ]
  },
  {
   "cell_type": "code",
   "execution_count": 2,
   "metadata": {},
   "outputs": [],
   "source": [
    "_MULTIINDEX_ = ['NOMBREDD', 'NOMBREPV', 'NOMBREDI', 'CONGLOMERADO', 'NSELUA', 'UA']"
   ]
  },
  {
   "cell_type": "code",
   "execution_count": 3,
   "metadata": {},
   "outputs": [],
   "source": [
    "_CROP_ = \"PAPA BLANCA\""
   ]
  },
  {
   "cell_type": "code",
   "execution_count": 4,
   "metadata": {},
   "outputs": [],
   "source": [
    "_PATH_ = \"https://public.minsky.cc/maria/market_channel_factors_db\""
   ]
  },
  {
   "cell_type": "code",
   "execution_count": 8,
   "metadata": {},
   "outputs": [
    {
     "name": "stderr",
     "output_type": "stream",
     "text": [
      "/usr/local/anaconda3/lib/python3.7/site-packages/IPython/core/interactiveshell.py:3063: DtypeWarning: Columns (12,15,35,36,37,38,39,40,41,42,44,47,48,49,50,52,55,58,63,68,73,75,77,80,82,85,87,91,108,110,112,119,121,123,125,127,131,132,133,134,135,136,137,138,139,140,141,142,143,144,145,146,147,148,149,150,151,152,153,154,155,156,157,158,159,160,161,162,163,164,165,166,167,168,169,170,171,172,173,174,175,176,177,178,179,180,181,182,183,184,185,186,187,188,189,190,191,192,193,195,196,197,198,199,200,201,202,203,204,207,209,214,215,216,217,230,231,232,233,234,235,236,237,238,239,240,241,242,243,244,245,246,247,248,249,250,251,252,253,254,255,256,257,258,259,260,261,262,263,264,265,266,267,268,269,270,271,272,273,274,275,276,277,278,279,280,281,282,283,284,285,287,288,289,290,291,292,293,294,295,296,297,298,299,300,301,302,303,304,305,306,307,308,309,310,311,312,313,314,315,316,318,319,320,321,322,323,324,325,326,327,328,329,330,331,332,333,334,336,337,338,339,340,341,342,343,344,345,346,347,348,349,350,351,352,354,355,356,357,358,359,360,361,362,363,364,365,366,367,368,369,370,372,373,374,375,376,377,378,379,380,381,382,383,384,385,386,387,388,390,391,392,393,394,395,396,397,398,399,400,401,402,403,404,405,406,408,409,410,411,412,413,414,415,416,417,418,419,420,421,422,423,424,426,427,428,429,430,431,432,433,434,435,436,437,438,439,440,441,442,444,445,446,447,448,449,450,451,452,453,454,455,456,457,458,459,460,472,473,474,475,476,477,478,479,480,481,482,483,484,485,486,487,488) have mixed types.Specify dtype option on import or set low_memory=False.\n",
      "  interactivity=interactivity, compiler=compiler, result=result)\n"
     ]
    }
   ],
   "source": [
    "df = pd.read_csv(_PATH_ + \"/\" + \"databases/2019_01PrincipalDatabase.csv\")"
   ]
  },
  {
   "cell_type": "code",
   "execution_count": 9,
   "metadata": {},
   "outputs": [],
   "source": [
    "df = df.drop(columns=['Unnamed: 0', 'Unnamed: 0.1'])"
   ]
  },
  {
   "cell_type": "code",
   "execution_count": 10,
   "metadata": {},
   "outputs": [
    {
     "data": {
      "text/plain": [
       "Index(['ANIO', 'CCDD', 'NOMBREDD', 'CCPP', 'NOMBREPV', 'CCDI', 'NOMBREDI',\n",
       "       'CONGLOMERADO', 'NSELUA', 'UA',\n",
       "       ...\n",
       "       'P712_9', 'P713_1', 'P713_2', 'P713_3', 'P713_4', 'P713_5', 'P713_6',\n",
       "       'P713_7', 'P713_8', 'OMICAP700'],\n",
       "      dtype='object', length=488)"
      ]
     },
     "execution_count": 10,
     "metadata": {},
     "output_type": "execute_result"
    }
   ],
   "source": [
    "df.columns"
   ]
  },
  {
   "cell_type": "code",
   "execution_count": 11,
   "metadata": {},
   "outputs": [
    {
     "data": {
      "text/html": [
       "<div>\n",
       "<style scoped>\n",
       "    .dataframe tbody tr th:only-of-type {\n",
       "        vertical-align: middle;\n",
       "    }\n",
       "\n",
       "    .dataframe tbody tr th {\n",
       "        vertical-align: top;\n",
       "    }\n",
       "\n",
       "    .dataframe thead th {\n",
       "        text-align: right;\n",
       "    }\n",
       "</style>\n",
       "<table border=\"1\" class=\"dataframe\">\n",
       "  <thead>\n",
       "    <tr style=\"text-align: right;\">\n",
       "      <th></th>\n",
       "      <th>NOMBREDD</th>\n",
       "      <th>NOMBREPV</th>\n",
       "      <th>NOMBREDI</th>\n",
       "      <th>CONGLOMERADO</th>\n",
       "      <th>NSELUA</th>\n",
       "      <th>UA</th>\n",
       "      <th>cropsList</th>\n",
       "    </tr>\n",
       "  </thead>\n",
       "  <tbody>\n",
       "    <tr>\n",
       "      <th>0</th>\n",
       "      <td>AMAZONAS</td>\n",
       "      <td>BAGUA</td>\n",
       "      <td>ARAMANGO</td>\n",
       "      <td>5145</td>\n",
       "      <td>6</td>\n",
       "      <td>1</td>\n",
       "      <td>[PLATANO, CAÑA DE AZUCAR PARA FRUTA, PITUCA, P...</td>\n",
       "    </tr>\n",
       "    <tr>\n",
       "      <th>1</th>\n",
       "      <td>AMAZONAS</td>\n",
       "      <td>BAGUA</td>\n",
       "      <td>ARAMANGO</td>\n",
       "      <td>5145</td>\n",
       "      <td>15</td>\n",
       "      <td>2</td>\n",
       "      <td>[YUCA, PLATANO, PITUCA, MAIZ AMARILLO DURO]</td>\n",
       "    </tr>\n",
       "    <tr>\n",
       "      <th>2</th>\n",
       "      <td>AMAZONAS</td>\n",
       "      <td>BAGUA</td>\n",
       "      <td>ARAMANGO</td>\n",
       "      <td>5145</td>\n",
       "      <td>28</td>\n",
       "      <td>3</td>\n",
       "      <td>[MAIZ AMARILLO DURO, CACAO, PITUCA, YUCA, PLAT...</td>\n",
       "    </tr>\n",
       "    <tr>\n",
       "      <th>3</th>\n",
       "      <td>AMAZONAS</td>\n",
       "      <td>BAGUA</td>\n",
       "      <td>ARAMANGO</td>\n",
       "      <td>5145</td>\n",
       "      <td>29</td>\n",
       "      <td>4</td>\n",
       "      <td>[CAÑA DE AZUCAR PARA FRUTA, YUCA, MAIZ AMARILL...</td>\n",
       "    </tr>\n",
       "    <tr>\n",
       "      <th>4</th>\n",
       "      <td>AMAZONAS</td>\n",
       "      <td>BAGUA</td>\n",
       "      <td>ARAMANGO</td>\n",
       "      <td>5145</td>\n",
       "      <td>37</td>\n",
       "      <td>5</td>\n",
       "      <td>[CACAO, PLATANO, YUCA, PITUCA]</td>\n",
       "    </tr>\n",
       "    <tr>\n",
       "      <th>...</th>\n",
       "      <td>...</td>\n",
       "      <td>...</td>\n",
       "      <td>...</td>\n",
       "      <td>...</td>\n",
       "      <td>...</td>\n",
       "      <td>...</td>\n",
       "      <td>...</td>\n",
       "    </tr>\n",
       "    <tr>\n",
       "      <th>26456</th>\n",
       "      <td>UCAYALI</td>\n",
       "      <td>PURÚS</td>\n",
       "      <td>PURÚS</td>\n",
       "      <td>10601</td>\n",
       "      <td>76</td>\n",
       "      <td>10</td>\n",
       "      <td>[PIÑA, PLATANO]</td>\n",
       "    </tr>\n",
       "    <tr>\n",
       "      <th>26457</th>\n",
       "      <td>UCAYALI</td>\n",
       "      <td>PURÚS</td>\n",
       "      <td>PURÚS</td>\n",
       "      <td>10601</td>\n",
       "      <td>84</td>\n",
       "      <td>11</td>\n",
       "      <td>[PLATANO, YUCA, MAIZ AMARILLO DURO]</td>\n",
       "    </tr>\n",
       "    <tr>\n",
       "      <th>26458</th>\n",
       "      <td>UCAYALI</td>\n",
       "      <td>PURÚS</td>\n",
       "      <td>PURÚS</td>\n",
       "      <td>10601</td>\n",
       "      <td>86</td>\n",
       "      <td>12</td>\n",
       "      <td>[PLATANO]</td>\n",
       "    </tr>\n",
       "    <tr>\n",
       "      <th>26459</th>\n",
       "      <td>UCAYALI</td>\n",
       "      <td>PURÚS</td>\n",
       "      <td>PURÚS</td>\n",
       "      <td>10601</td>\n",
       "      <td>99</td>\n",
       "      <td>13</td>\n",
       "      <td>[PLATANO, YUCA]</td>\n",
       "    </tr>\n",
       "    <tr>\n",
       "      <th>26460</th>\n",
       "      <td>UCAYALI</td>\n",
       "      <td>PURÚS</td>\n",
       "      <td>PURÚS</td>\n",
       "      <td>10601</td>\n",
       "      <td>101</td>\n",
       "      <td>14</td>\n",
       "      <td>[PLATANO, PAPAYA]</td>\n",
       "    </tr>\n",
       "  </tbody>\n",
       "</table>\n",
       "<p>26461 rows × 7 columns</p>\n",
       "</div>"
      ],
      "text/plain": [
       "       NOMBREDD NOMBREPV  NOMBREDI  CONGLOMERADO  NSELUA  UA  \\\n",
       "0      AMAZONAS    BAGUA  ARAMANGO          5145       6   1   \n",
       "1      AMAZONAS    BAGUA  ARAMANGO          5145      15   2   \n",
       "2      AMAZONAS    BAGUA  ARAMANGO          5145      28   3   \n",
       "3      AMAZONAS    BAGUA  ARAMANGO          5145      29   4   \n",
       "4      AMAZONAS    BAGUA  ARAMANGO          5145      37   5   \n",
       "...         ...      ...       ...           ...     ...  ..   \n",
       "26456   UCAYALI    PURÚS     PURÚS         10601      76  10   \n",
       "26457   UCAYALI    PURÚS     PURÚS         10601      84  11   \n",
       "26458   UCAYALI    PURÚS     PURÚS         10601      86  12   \n",
       "26459   UCAYALI    PURÚS     PURÚS         10601      99  13   \n",
       "26460   UCAYALI    PURÚS     PURÚS         10601     101  14   \n",
       "\n",
       "                                               cropsList  \n",
       "0      [PLATANO, CAÑA DE AZUCAR PARA FRUTA, PITUCA, P...  \n",
       "1            [YUCA, PLATANO, PITUCA, MAIZ AMARILLO DURO]  \n",
       "2      [MAIZ AMARILLO DURO, CACAO, PITUCA, YUCA, PLAT...  \n",
       "3      [CAÑA DE AZUCAR PARA FRUTA, YUCA, MAIZ AMARILL...  \n",
       "4                         [CACAO, PLATANO, YUCA, PITUCA]  \n",
       "...                                                  ...  \n",
       "26456                                    [PIÑA, PLATANO]  \n",
       "26457                [PLATANO, YUCA, MAIZ AMARILLO DURO]  \n",
       "26458                                          [PLATANO]  \n",
       "26459                                    [PLATANO, YUCA]  \n",
       "26460                                  [PLATANO, PAPAYA]  \n",
       "\n",
       "[26461 rows x 7 columns]"
      ]
     },
     "execution_count": 11,
     "metadata": {},
     "output_type": "execute_result"
    }
   ],
   "source": [
    "df.groupby(_MULTIINDEX_)[\"P204_NOM\"].unique().reset_index().rename(columns={\"P204_NOM\": \"cropsList\"})"
   ]
  },
  {
   "cell_type": "code",
   "execution_count": 12,
   "metadata": {},
   "outputs": [],
   "source": [
    "def getCropDataFrame(df, cropName):\n",
    "    cropsList = df.groupby(_MULTIINDEX_)[\"P204_NOM\"].unique().reset_index().rename(columns={\"P204_NOM\": \"cropsList\"})\n",
    "    cropsList[\"crops\"] = cropsList[\"cropsList\"].apply(lambda x: sorted(x)).apply(', '.join)\n",
    "    cropDB = cropsList[cropsList[\"crops\"].str.contains(cropName)].reset_index(drop=True)\n",
    "    return pd.merge(cropDB, df, how='left', on=_MULTIINDEX_, suffixes=('', '_y')).rename(columns={\"P204_NOM\": \"crop\"})"
   ]
  },
  {
   "cell_type": "code",
   "execution_count": 13,
   "metadata": {},
   "outputs": [],
   "source": [
    "df_crop = getCropDataFrame(df, _CROP_)"
   ]
  },
  {
   "cell_type": "code",
   "execution_count": 14,
   "metadata": {},
   "outputs": [
    {
     "data": {
      "text/plain": [
       "(554354, 188420)"
      ]
     },
     "execution_count": 14,
     "metadata": {},
     "output_type": "execute_result"
    }
   ],
   "source": [
    "len(df), len(df_crop)"
   ]
  },
  {
   "cell_type": "code",
   "execution_count": 15,
   "metadata": {},
   "outputs": [
    {
     "data": {
      "text/plain": [
       "Index(['NOMBREDD', 'NOMBREPV', 'NOMBREDI', 'CONGLOMERADO', 'NSELUA', 'UA',\n",
       "       'cropsList', 'crops', 'ANIO', 'CCDD',\n",
       "       ...\n",
       "       'P712_9', 'P713_1', 'P713_2', 'P713_3', 'P713_4', 'P713_5', 'P713_6',\n",
       "       'P713_7', 'P713_8', 'OMICAP700'],\n",
       "      dtype='object', length=490)"
      ]
     },
     "execution_count": 15,
     "metadata": {},
     "output_type": "execute_result"
    }
   ],
   "source": [
    "df_crop.columns"
   ]
  },
  {
   "cell_type": "code",
   "execution_count": 16,
   "metadata": {},
   "outputs": [],
   "source": [
    "#df_crop.to_csv('~/Desktop/DatosENA2019/2019_02DatabaseFilteredByWhitePotato.csv')"
   ]
  },
  {
   "cell_type": "code",
   "execution_count": 17,
   "metadata": {},
   "outputs": [
    {
     "data": {
      "text/html": [
       "<div>\n",
       "<style scoped>\n",
       "    .dataframe tbody tr th:only-of-type {\n",
       "        vertical-align: middle;\n",
       "    }\n",
       "\n",
       "    .dataframe tbody tr th {\n",
       "        vertical-align: top;\n",
       "    }\n",
       "\n",
       "    .dataframe thead th {\n",
       "        text-align: right;\n",
       "    }\n",
       "</style>\n",
       "<table border=\"1\" class=\"dataframe\">\n",
       "  <thead>\n",
       "    <tr style=\"text-align: right;\">\n",
       "      <th></th>\n",
       "      <th>crop</th>\n",
       "      <th>cropsList</th>\n",
       "    </tr>\n",
       "  </thead>\n",
       "  <tbody>\n",
       "    <tr>\n",
       "      <th>0</th>\n",
       "      <td>RYE GRASS</td>\n",
       "      <td>[RYE GRASS, PASTO KIKUYO, BETARRAGA, PAPA BLANCA]</td>\n",
       "    </tr>\n",
       "    <tr>\n",
       "      <th>1</th>\n",
       "      <td>RYE GRASS</td>\n",
       "      <td>[RYE GRASS, PASTO KIKUYO, BETARRAGA, PAPA BLANCA]</td>\n",
       "    </tr>\n",
       "    <tr>\n",
       "      <th>2</th>\n",
       "      <td>RYE GRASS</td>\n",
       "      <td>[RYE GRASS, PASTO KIKUYO, BETARRAGA, PAPA BLANCA]</td>\n",
       "    </tr>\n",
       "    <tr>\n",
       "      <th>3</th>\n",
       "      <td>RYE GRASS</td>\n",
       "      <td>[RYE GRASS, PASTO KIKUYO, BETARRAGA, PAPA BLANCA]</td>\n",
       "    </tr>\n",
       "    <tr>\n",
       "      <th>4</th>\n",
       "      <td>RYE GRASS</td>\n",
       "      <td>[RYE GRASS, PASTO KIKUYO, BETARRAGA, PAPA BLANCA]</td>\n",
       "    </tr>\n",
       "    <tr>\n",
       "      <th>...</th>\n",
       "      <td>...</td>\n",
       "      <td>...</td>\n",
       "    </tr>\n",
       "    <tr>\n",
       "      <th>188415</th>\n",
       "      <td>OREGANO</td>\n",
       "      <td>[HABA GRANO VERDE, TUNA FRUTA, MANZANO, MELOCO...</td>\n",
       "    </tr>\n",
       "    <tr>\n",
       "      <th>188416</th>\n",
       "      <td>OREGANO</td>\n",
       "      <td>[HABA GRANO VERDE, TUNA FRUTA, MANZANO, MELOCO...</td>\n",
       "    </tr>\n",
       "    <tr>\n",
       "      <th>188417</th>\n",
       "      <td>OREGANO</td>\n",
       "      <td>[HABA GRANO VERDE, TUNA FRUTA, MANZANO, MELOCO...</td>\n",
       "    </tr>\n",
       "    <tr>\n",
       "      <th>188418</th>\n",
       "      <td>OREGANO</td>\n",
       "      <td>[HABA GRANO VERDE, TUNA FRUTA, MANZANO, MELOCO...</td>\n",
       "    </tr>\n",
       "    <tr>\n",
       "      <th>188419</th>\n",
       "      <td>OREGANO</td>\n",
       "      <td>[HABA GRANO VERDE, TUNA FRUTA, MANZANO, MELOCO...</td>\n",
       "    </tr>\n",
       "  </tbody>\n",
       "</table>\n",
       "<p>188420 rows × 2 columns</p>\n",
       "</div>"
      ],
      "text/plain": [
       "             crop                                          cropsList\n",
       "0       RYE GRASS  [RYE GRASS, PASTO KIKUYO, BETARRAGA, PAPA BLANCA]\n",
       "1       RYE GRASS  [RYE GRASS, PASTO KIKUYO, BETARRAGA, PAPA BLANCA]\n",
       "2       RYE GRASS  [RYE GRASS, PASTO KIKUYO, BETARRAGA, PAPA BLANCA]\n",
       "3       RYE GRASS  [RYE GRASS, PASTO KIKUYO, BETARRAGA, PAPA BLANCA]\n",
       "4       RYE GRASS  [RYE GRASS, PASTO KIKUYO, BETARRAGA, PAPA BLANCA]\n",
       "...           ...                                                ...\n",
       "188415    OREGANO  [HABA GRANO VERDE, TUNA FRUTA, MANZANO, MELOCO...\n",
       "188416    OREGANO  [HABA GRANO VERDE, TUNA FRUTA, MANZANO, MELOCO...\n",
       "188417    OREGANO  [HABA GRANO VERDE, TUNA FRUTA, MANZANO, MELOCO...\n",
       "188418    OREGANO  [HABA GRANO VERDE, TUNA FRUTA, MANZANO, MELOCO...\n",
       "188419    OREGANO  [HABA GRANO VERDE, TUNA FRUTA, MANZANO, MELOCO...\n",
       "\n",
       "[188420 rows x 2 columns]"
      ]
     },
     "execution_count": 17,
     "metadata": {},
     "output_type": "execute_result"
    }
   ],
   "source": [
    "df_crop[[\"crop\", \"cropsList\"]]"
   ]
  },
  {
   "cell_type": "code",
   "execution_count": null,
   "metadata": {},
   "outputs": [],
   "source": []
  }
 ],
 "metadata": {
  "kernelspec": {
   "name": "python3",
   "display_name": "Python 3.8.3 64-bit",
   "metadata": {
    "interpreter": {
     "hash": "aee8b7b246df8f9039afb4144a1f6fd8d2ca17a180786b69acc140d282b71a49"
    }
   }
  },
  "language_info": {
   "codemirror_mode": {
    "name": "ipython",
    "version": 3
   },
   "file_extension": ".py",
   "mimetype": "text/x-python",
   "name": "python",
   "nbconvert_exporter": "python",
   "pygments_lexer": "ipython3",
   "version": "3.8.3-final"
  }
 },
 "nbformat": 4,
 "nbformat_minor": 4
}