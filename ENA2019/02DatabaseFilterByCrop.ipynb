{
 "cells": [
  {
   "cell_type": "code",
   "execution_count": 1,
   "metadata": {},
   "outputs": [],
   "source": [
    "import pandas as pd"
   ]
  },
  {
   "cell_type": "code",
   "execution_count": 2,
   "metadata": {},
   "outputs": [],
   "source": [
    "_MULTIINDEX_ = ['NOMBREDD', 'NOMBREPV', 'NOMBREDI', 'CONGLOMERADO', 'NSELUA', 'UA']"
   ]
  },
  {
   "cell_type": "code",
   "execution_count": 3,
   "metadata": {},
   "outputs": [],
   "source": [
    "_CROP_ = \"PAPA BLANCA\""
   ]
  },
  {
   "cell_type": "code",
   "execution_count": 4,
   "metadata": {},
   "outputs": [],
   "source": [
    "_PATH_ = \"https://public.minsky.cc/maria/market_channel_factors_db\""
   ]
  },
  {
   "cell_type": "code",
   "execution_count": 5,
   "metadata": {},
   "outputs": [
    {
     "output_type": "stream",
     "name": "stderr",
     "text": [
      "/Users/marianoriega/Library/Python/3.8/lib/python/site-packages/IPython/core/interactiveshell.py:3062: DtypeWarning: Columns (12,15,18,36,37,38,39,40,41,42,43,45,48,49,50,51,53,56,61,64,66,70,76,78,80,84,86,90,92,94,96,98,100,102,103,104,105,106,107,108,109,110,111,112,113,114,115,116,117,124,126,128,130,136,137,138,139,140,141,142,143,144,145,146,147,148,149,150,151,152,153,154,155,156,157,158,159,160,161,162,163,164,165,166,167,168,169,170,171,172,173,174,175,176,177,178,179,180,181,182,183,184,185,186,187,188,189,190,191,192,193,194,195,196,197,198,200,201,202,203,204,205,206,207,208,209,213,215,226,229,230,231,232,233,234,235,236,238,239,240,241,242,243,244,245,247,248,250,251,253,254,256,257,259,260,262,263,265,266,268,269,271,272,274,275,277,278,280,281,283,284,286,287,289,290,292,293,295,296,298,299,301,302,304,305,307,308,310,311,313,314,316,317,320,321,323,324,326,327,329,330,332,333,335,336,338,339,341,342,344,345,347,348,350,351,353,354,356,357,359,360,362,363,366,367,368,369,370,371,372,373,374,375,376,377,378,379,380,381,382,384,385,386,387,388,389,390,391,392,393,394,395,396,397,398,399,400,402,403,404,405,406,407,408,409,410,411,412,413,414,415,416,417,418,420,421,422,423,424,425,426,427,428,429,430,431,432,433,434,435,436,438,439,440,441,442,443,444,445,446,447,448,449,450,451,452,453,454,456,457,458,459,460,461,462,463,464,465,466,467,468,469,470,471,472,474,475,476,477,478,479,480,481,482,483,484,485,486,487,488,489,490,520,521,522,523,524,525,526,527,528,529,530,531,532,533,534,535,536) have mixed types.Specify dtype option on import or set low_memory=False.\n  has_raised = await self.run_ast_nodes(code_ast.body, cell_name,\n"
     ]
    }
   ],
   "source": [
    "df = pd.read_csv(_PATH_ + \"/\" + \"databases/2019_01PrincipalDatabase.csv\")"
   ]
  },
  {
   "cell_type": "code",
   "execution_count": 6,
   "metadata": {},
   "outputs": [],
   "source": [
    "df = df.drop(columns=['Unnamed: 0', 'Unnamed: 0.1'])"
   ]
  },
  {
   "cell_type": "code",
   "execution_count": 7,
   "metadata": {},
   "outputs": [
    {
     "output_type": "execute_result",
     "data": {
      "text/plain": [
       "Index(['ANIO', 'CCDD', 'NOMBREDD', 'CCPP', 'NOMBREPV', 'CCDI', 'NOMBREDI',\n",
       "       'CONGLOMERADO', 'NSELUA', 'UA',\n",
       "       ...\n",
       "       'P712_9', 'P713_1', 'P713_2', 'P713_3', 'P713_4', 'P713_5', 'P713_6',\n",
       "       'P713_7', 'P713_8', 'OMICAP700'],\n",
       "      dtype='object', length=536)"
      ]
     },
     "metadata": {},
     "execution_count": 7
    }
   ],
   "source": [
    "df.columns"
   ]
  },
  {
   "cell_type": "code",
   "execution_count": 8,
   "metadata": {},
   "outputs": [
    {
     "output_type": "execute_result",
     "data": {
      "text/plain": [
       "       NOMBREDD NOMBREPV  NOMBREDI  CONGLOMERADO  NSELUA  UA  \\\n",
       "0      AMAZONAS    BAGUA  ARAMANGO          5145       6   1   \n",
       "1      AMAZONAS    BAGUA  ARAMANGO          5145      15   2   \n",
       "2      AMAZONAS    BAGUA  ARAMANGO          5145      28   3   \n",
       "3      AMAZONAS    BAGUA  ARAMANGO          5145      29   4   \n",
       "4      AMAZONAS    BAGUA  ARAMANGO          5145      37   5   \n",
       "...         ...      ...       ...           ...     ...  ..   \n",
       "26363   UCAYALI    PURÚS     PURÚS         10602     107  10   \n",
       "26364   UCAYALI    PURÚS     PURÚS         10602     111  11   \n",
       "26365   UCAYALI    PURÚS     PURÚS         10602     122  12   \n",
       "26366   UCAYALI    PURÚS     PURÚS         10602     137  13   \n",
       "26367   UCAYALI    PURÚS     PURÚS         10602     141  14   \n",
       "\n",
       "                                               cropsList  \n",
       "0                                 [PLATANO, YUCA, CACAO]  \n",
       "1                         [PLATANO, YUCA, CACAO, PITUCA]  \n",
       "2      [CACAO, YUCA, PLATANO, MAIZ AMARILLO DURO, PAS...  \n",
       "3                                  [YUCA, PLATANO, PIÑA]  \n",
       "4      [PLATANO, CAFE PERGAMINO, YUCA, MAIZ AMARILLO ...  \n",
       "...                                                  ...  \n",
       "26363                                    [PLATANO, YUCA]  \n",
       "26364                                          [PLATANO]  \n",
       "26365                                    [PLATANO, YUCA]  \n",
       "26366                [PLATANO, YUCA, MAIZ AMARILLO DURO]  \n",
       "26367                                    [PLATANO, YUCA]  \n",
       "\n",
       "[26368 rows x 7 columns]"
      ],
      "text/html": "<div>\n<style scoped>\n    .dataframe tbody tr th:only-of-type {\n        vertical-align: middle;\n    }\n\n    .dataframe tbody tr th {\n        vertical-align: top;\n    }\n\n    .dataframe thead th {\n        text-align: right;\n    }\n</style>\n<table border=\"1\" class=\"dataframe\">\n  <thead>\n    <tr style=\"text-align: right;\">\n      <th></th>\n      <th>NOMBREDD</th>\n      <th>NOMBREPV</th>\n      <th>NOMBREDI</th>\n      <th>CONGLOMERADO</th>\n      <th>NSELUA</th>\n      <th>UA</th>\n      <th>cropsList</th>\n    </tr>\n  </thead>\n  <tbody>\n    <tr>\n      <th>0</th>\n      <td>AMAZONAS</td>\n      <td>BAGUA</td>\n      <td>ARAMANGO</td>\n      <td>5145</td>\n      <td>6</td>\n      <td>1</td>\n      <td>[PLATANO, YUCA, CACAO]</td>\n    </tr>\n    <tr>\n      <th>1</th>\n      <td>AMAZONAS</td>\n      <td>BAGUA</td>\n      <td>ARAMANGO</td>\n      <td>5145</td>\n      <td>15</td>\n      <td>2</td>\n      <td>[PLATANO, YUCA, CACAO, PITUCA]</td>\n    </tr>\n    <tr>\n      <th>2</th>\n      <td>AMAZONAS</td>\n      <td>BAGUA</td>\n      <td>ARAMANGO</td>\n      <td>5145</td>\n      <td>28</td>\n      <td>3</td>\n      <td>[CACAO, YUCA, PLATANO, MAIZ AMARILLO DURO, PAS...</td>\n    </tr>\n    <tr>\n      <th>3</th>\n      <td>AMAZONAS</td>\n      <td>BAGUA</td>\n      <td>ARAMANGO</td>\n      <td>5145</td>\n      <td>29</td>\n      <td>4</td>\n      <td>[YUCA, PLATANO, PIÑA]</td>\n    </tr>\n    <tr>\n      <th>4</th>\n      <td>AMAZONAS</td>\n      <td>BAGUA</td>\n      <td>ARAMANGO</td>\n      <td>5145</td>\n      <td>37</td>\n      <td>5</td>\n      <td>[PLATANO, CAFE PERGAMINO, YUCA, MAIZ AMARILLO ...</td>\n    </tr>\n    <tr>\n      <th>...</th>\n      <td>...</td>\n      <td>...</td>\n      <td>...</td>\n      <td>...</td>\n      <td>...</td>\n      <td>...</td>\n      <td>...</td>\n    </tr>\n    <tr>\n      <th>26363</th>\n      <td>UCAYALI</td>\n      <td>PURÚS</td>\n      <td>PURÚS</td>\n      <td>10602</td>\n      <td>107</td>\n      <td>10</td>\n      <td>[PLATANO, YUCA]</td>\n    </tr>\n    <tr>\n      <th>26364</th>\n      <td>UCAYALI</td>\n      <td>PURÚS</td>\n      <td>PURÚS</td>\n      <td>10602</td>\n      <td>111</td>\n      <td>11</td>\n      <td>[PLATANO]</td>\n    </tr>\n    <tr>\n      <th>26365</th>\n      <td>UCAYALI</td>\n      <td>PURÚS</td>\n      <td>PURÚS</td>\n      <td>10602</td>\n      <td>122</td>\n      <td>12</td>\n      <td>[PLATANO, YUCA]</td>\n    </tr>\n    <tr>\n      <th>26366</th>\n      <td>UCAYALI</td>\n      <td>PURÚS</td>\n      <td>PURÚS</td>\n      <td>10602</td>\n      <td>137</td>\n      <td>13</td>\n      <td>[PLATANO, YUCA, MAIZ AMARILLO DURO]</td>\n    </tr>\n    <tr>\n      <th>26367</th>\n      <td>UCAYALI</td>\n      <td>PURÚS</td>\n      <td>PURÚS</td>\n      <td>10602</td>\n      <td>141</td>\n      <td>14</td>\n      <td>[PLATANO, YUCA]</td>\n    </tr>\n  </tbody>\n</table>\n<p>26368 rows × 7 columns</p>\n</div>"
     },
     "metadata": {},
     "execution_count": 8
    }
   ],
   "source": [
    "df.groupby(_MULTIINDEX_)[\"P204_NOM\"].unique().reset_index().rename(columns={\"P204_NOM\": \"cropsList\"})"
   ]
  },
  {
   "cell_type": "code",
   "execution_count": 9,
   "metadata": {},
   "outputs": [],
   "source": [
    "def getCropDataFrame(df, cropName):\n",
    "    cropsList = df.groupby(_MULTIINDEX_)[\"P204_NOM\"].unique().reset_index().rename(columns={\"P204_NOM\": \"cropsList\"})\n",
    "    cropsList[\"crops\"] = cropsList[\"cropsList\"].apply(lambda x: sorted(x)).apply(', '.join)\n",
    "    cropDB = cropsList[cropsList[\"crops\"].str.contains(cropName)].reset_index(drop=True)\n",
    "    return pd.merge(cropDB, df, how='left', on=_MULTIINDEX_, suffixes=('', '_y')).rename(columns={\"P204_NOM\": \"crop\"})"
   ]
  },
  {
   "cell_type": "code",
   "execution_count": 10,
   "metadata": {},
   "outputs": [],
   "source": [
    "df_crop = getCropDataFrame(df, _CROP_)"
   ]
  },
  {
   "cell_type": "code",
   "execution_count": 11,
   "metadata": {},
   "outputs": [
    {
     "output_type": "execute_result",
     "data": {
      "text/plain": [
       "(536816, 175758)"
      ]
     },
     "metadata": {},
     "execution_count": 11
    }
   ],
   "source": [
    "len(df), len(df_crop)"
   ]
  },
  {
   "cell_type": "code",
   "execution_count": 12,
   "metadata": {},
   "outputs": [
    {
     "output_type": "execute_result",
     "data": {
      "text/plain": [
       "Index(['NOMBREDD', 'NOMBREPV', 'NOMBREDI', 'CONGLOMERADO', 'NSELUA', 'UA',\n",
       "       'cropsList', 'crops', 'ANIO', 'CCDD',\n",
       "       ...\n",
       "       'P712_9', 'P713_1', 'P713_2', 'P713_3', 'P713_4', 'P713_5', 'P713_6',\n",
       "       'P713_7', 'P713_8', 'OMICAP700'],\n",
       "      dtype='object', length=538)"
      ]
     },
     "metadata": {},
     "execution_count": 12
    }
   ],
   "source": [
    "df_crop.columns"
   ]
  },
  {
   "cell_type": "code",
   "execution_count": 13,
   "metadata": {},
   "outputs": [],
   "source": [
    "#df_crop.to_csv('~/Desktop/DatosENA2019/2019_02DatabaseFilteredByWhitePotato.csv')"
   ]
  },
  {
   "cell_type": "code",
   "execution_count": 14,
   "metadata": {},
   "outputs": [
    {
     "output_type": "execute_result",
     "data": {
      "text/plain": [
       "                          crop  \\\n",
       "0                  PAPA BLANCA   \n",
       "1                  PAPA BLANCA   \n",
       "2                  PAPA BLANCA   \n",
       "3                  PAPA BLANCA   \n",
       "4       PASTO NATURAL MANEJADO   \n",
       "...                        ...   \n",
       "175753            MELOCOTONERO   \n",
       "175754            MELOCOTONERO   \n",
       "175755            MELOCOTONERO   \n",
       "175756            MELOCOTONERO   \n",
       "175757            MELOCOTONERO   \n",
       "\n",
       "                                                cropsList  \n",
       "0        [PAPA BLANCA, PASTO NATURAL MANEJADO, RYE GRASS]  \n",
       "1        [PAPA BLANCA, PASTO NATURAL MANEJADO, RYE GRASS]  \n",
       "2        [PAPA BLANCA, PASTO NATURAL MANEJADO, RYE GRASS]  \n",
       "3        [PAPA BLANCA, PASTO NATURAL MANEJADO, RYE GRASS]  \n",
       "4        [PAPA BLANCA, PASTO NATURAL MANEJADO, RYE GRASS]  \n",
       "...                                                   ...  \n",
       "175753  [PAPA BLANCA, TUNA FRUTA, MEMBRILLERO, MELOCOT...  \n",
       "175754  [PAPA BLANCA, TUNA FRUTA, MEMBRILLERO, MELOCOT...  \n",
       "175755  [PAPA BLANCA, TUNA FRUTA, MEMBRILLERO, MELOCOT...  \n",
       "175756  [PAPA BLANCA, TUNA FRUTA, MEMBRILLERO, MELOCOT...  \n",
       "175757  [PAPA BLANCA, TUNA FRUTA, MEMBRILLERO, MELOCOT...  \n",
       "\n",
       "[175758 rows x 2 columns]"
      ],
      "text/html": "<div>\n<style scoped>\n    .dataframe tbody tr th:only-of-type {\n        vertical-align: middle;\n    }\n\n    .dataframe tbody tr th {\n        vertical-align: top;\n    }\n\n    .dataframe thead th {\n        text-align: right;\n    }\n</style>\n<table border=\"1\" class=\"dataframe\">\n  <thead>\n    <tr style=\"text-align: right;\">\n      <th></th>\n      <th>crop</th>\n      <th>cropsList</th>\n    </tr>\n  </thead>\n  <tbody>\n    <tr>\n      <th>0</th>\n      <td>PAPA BLANCA</td>\n      <td>[PAPA BLANCA, PASTO NATURAL MANEJADO, RYE GRASS]</td>\n    </tr>\n    <tr>\n      <th>1</th>\n      <td>PAPA BLANCA</td>\n      <td>[PAPA BLANCA, PASTO NATURAL MANEJADO, RYE GRASS]</td>\n    </tr>\n    <tr>\n      <th>2</th>\n      <td>PAPA BLANCA</td>\n      <td>[PAPA BLANCA, PASTO NATURAL MANEJADO, RYE GRASS]</td>\n    </tr>\n    <tr>\n      <th>3</th>\n      <td>PAPA BLANCA</td>\n      <td>[PAPA BLANCA, PASTO NATURAL MANEJADO, RYE GRASS]</td>\n    </tr>\n    <tr>\n      <th>4</th>\n      <td>PASTO NATURAL MANEJADO</td>\n      <td>[PAPA BLANCA, PASTO NATURAL MANEJADO, RYE GRASS]</td>\n    </tr>\n    <tr>\n      <th>...</th>\n      <td>...</td>\n      <td>...</td>\n    </tr>\n    <tr>\n      <th>175753</th>\n      <td>MELOCOTONERO</td>\n      <td>[PAPA BLANCA, TUNA FRUTA, MEMBRILLERO, MELOCOT...</td>\n    </tr>\n    <tr>\n      <th>175754</th>\n      <td>MELOCOTONERO</td>\n      <td>[PAPA BLANCA, TUNA FRUTA, MEMBRILLERO, MELOCOT...</td>\n    </tr>\n    <tr>\n      <th>175755</th>\n      <td>MELOCOTONERO</td>\n      <td>[PAPA BLANCA, TUNA FRUTA, MEMBRILLERO, MELOCOT...</td>\n    </tr>\n    <tr>\n      <th>175756</th>\n      <td>MELOCOTONERO</td>\n      <td>[PAPA BLANCA, TUNA FRUTA, MEMBRILLERO, MELOCOT...</td>\n    </tr>\n    <tr>\n      <th>175757</th>\n      <td>MELOCOTONERO</td>\n      <td>[PAPA BLANCA, TUNA FRUTA, MEMBRILLERO, MELOCOT...</td>\n    </tr>\n  </tbody>\n</table>\n<p>175758 rows × 2 columns</p>\n</div>"
     },
     "metadata": {},
     "execution_count": 14
    }
   ],
   "source": [
    "df_crop[[\"crop\", \"cropsList\"]]"
   ]
  },
  {
   "cell_type": "code",
   "execution_count": null,
   "metadata": {},
   "outputs": [],
   "source": []
  }
 ],
 "metadata": {
  "kernelspec": {
   "name": "python3",
   "display_name": "Python 3.8.3 64-bit",
   "metadata": {
    "interpreter": {
     "hash": "aee8b7b246df8f9039afb4144a1f6fd8d2ca17a180786b69acc140d282b71a49"
    }
   }
  },
  "language_info": {
   "codemirror_mode": {
    "name": "ipython",
    "version": 3
   },
   "file_extension": ".py",
   "mimetype": "text/x-python",
   "name": "python",
   "nbconvert_exporter": "python",
   "pygments_lexer": "ipython3",
   "version": "3.8.3-final"
  }
 },
 "nbformat": 4,
 "nbformat_minor": 4
}