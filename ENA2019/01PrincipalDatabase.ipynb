{
 "cells": [
  {
   "cell_type": "code",
   "execution_count": 11,
   "metadata": {},
   "outputs": [],
   "source": [
    "import pandas as pd"
   ]
  },
  {
   "cell_type": "code",
   "execution_count": 12,
   "metadata": {},
   "outputs": [],
   "source": [
    "from functools import reduce"
   ]
  },
  {
   "cell_type": "code",
   "execution_count": 13,
   "metadata": {},
   "outputs": [],
   "source": [
    "_MULTIINDEX_ = ['NOMBREDD', 'NOMBREPV', 'NOMBREDI', 'CONGLOMERADO', 'NSELUA', 'UA']"
   ]
  },
  {
   "cell_type": "code",
   "execution_count": 14,
   "metadata": {},
   "outputs": [],
   "source": [
    "# \"02_Cap200ab.csv\" => UA, Crop, Mediators, Productivity variables, farmGateIncomes\n",
    "# \"16_Cap800.csv\" => UA, Associativity\n",
    "# \"01_Cap100_2.csv\" => UA, PlantedArea\n",
    "# \"15_Cap700.csv\" => UA, Information variables"
   ]
  },
  {
   "cell_type": "code",
   "execution_count": 15,
   "metadata": {},
   "outputs": [],
   "source": [
    "_DATAFRAMES_ = [\"ena2019/02_Cap200ab.csv\", \"ena2019/16_Cap800.csv\", \"ena2019/01_Cap100_2.csv\", \"ena2019/15_Cap700.csv\"]"
   ]
  },
  {
   "cell_type": "code",
   "execution_count": 16,
   "metadata": {},
   "outputs": [],
   "source": [
    "_PATH_ = \"https://public.minsky.cc/maria/market_channel_factors_db\""
   ]
  },
  {
   "cell_type": "code",
   "execution_count": 17,
   "metadata": {},
   "outputs": [],
   "source": [
    "def mergeDataFrames(path, dfArray, indices):\n",
    "    dfList = []\n",
    "    for filename in dfArray:\n",
    "        df = pd.read_csv(path + \"/\" + filename, index_col=None, header=0)\n",
    "        dfList.append(df)\n",
    "    df = reduce(lambda x, y: pd.merge(x, y, how='left', on = indices, suffixes=(\"\", \"_y\")), dfList)\n",
    "    filter = [col for col in df if col.endswith('y')]\n",
    "    #Eliminar\n",
    "    df_drop = df.drop(columns=filter)\n",
    "    #Seleccionar\n",
    "    df_keep = df[filter]\n",
    "    return df_drop\n"
   ]
  },
  {
   "cell_type": "code",
   "execution_count": 18,
   "metadata": {},
   "outputs": [
    {
     "output_type": "stream",
     "name": "stderr",
     "text": [
      "/Users/marianoriega/Library/Python/3.8/lib/python/site-packages/IPython/core/interactiveshell.py:3254: DtypeWarning: Columns (11,17,52,60,63,77,79,83,85,89,95,97,99,101) have mixed types.Specify dtype option on import or set low_memory=False.\n",
      "  if (await self.run_code(code, result,  async_=asy)):\n",
      "/Users/marianoriega/Library/Python/3.8/lib/python/site-packages/IPython/core/interactiveshell.py:3254: DtypeWarning: Columns (11,17,26,39,40,41,42,43,44,45,46,47,65,66,67,68,70,71,72,73,80,81,82,83,85,86,87,88) have mixed types.Specify dtype option on import or set low_memory=False.\n",
      "  if (await self.run_code(code, result,  async_=asy)):\n",
      "/Users/marianoriega/Library/Python/3.8/lib/python/site-packages/IPython/core/interactiveshell.py:3254: DtypeWarning: Columns (11,17,23,25) have mixed types.Specify dtype option on import or set low_memory=False.\n",
      "  if (await self.run_code(code, result,  async_=asy)):\n",
      "/Users/marianoriega/Library/Python/3.8/lib/python/site-packages/IPython/core/interactiveshell.py:3254: DtypeWarning: Columns (11,17,21,22,23,24,25,26,28,31,34,37,40,43,46,55,61,70,76,79,82,88,91,94,97,100,104,107,119,122,131,134,137,143,146) have mixed types.Specify dtype option on import or set low_memory=False.\n",
      "  if (await self.run_code(code, result,  async_=asy)):\n"
     ]
    }
   ],
   "source": [
    "df = mergeDataFrames(_PATH_, _DATAFRAMES_, _MULTIINDEX_)"
   ]
  },
  {
   "cell_type": "code",
   "execution_count": 19,
   "metadata": {},
   "outputs": [
    {
     "output_type": "execute_result",
     "data": {
      "text/plain": [
       "536816"
      ]
     },
     "metadata": {},
     "execution_count": 19
    }
   ],
   "source": [
    "len(df)"
   ]
  },
  {
   "cell_type": "code",
   "execution_count": 20,
   "metadata": {},
   "outputs": [
    {
     "output_type": "execute_result",
     "data": {
      "text/plain": [
       "Index(['Unnamed: 0', 'ANIO', 'CCDD', 'NOMBREDD', 'CCPP', 'NOMBREPV', 'CCDI',\n",
       "       'NOMBREDI', 'CONGLOMERADO', 'NSELUA',\n",
       "       ...\n",
       "       'P712_9', 'P713_1', 'P713_2', 'P713_3', 'P713_4', 'P713_5', 'P713_6',\n",
       "       'P713_7', 'P713_8', 'OMICAP700'],\n",
       "      dtype='object', length=537)"
      ]
     },
     "metadata": {},
     "execution_count": 20
    }
   ],
   "source": [
    "df.columns"
   ]
  },
  {
   "cell_type": "code",
   "execution_count": 21,
   "metadata": {},
   "outputs": [
    {
     "output_type": "execute_result",
     "data": {
      "text/plain": [
       "        Unnamed: 0    ANIO  CCDD NOMBREDD  CCPP               NOMBREPV  CCDI  \\\n",
       "0                0  2019.0    24   TUMBES     2  CONTRALMIRANTE VILLAR     3   \n",
       "1                1  2019.0    24   TUMBES     2  CONTRALMIRANTE VILLAR     3   \n",
       "2                2  2019.0    24   TUMBES     2  CONTRALMIRANTE VILLAR     3   \n",
       "3                3  2019.0    24   TUMBES     2  CONTRALMIRANTE VILLAR     3   \n",
       "4                4  2019.0    24   TUMBES     2  CONTRALMIRANTE VILLAR     3   \n",
       "...            ...     ...   ...      ...   ...                    ...   ...   \n",
       "536811      122700  2019.0    20    PIURA     1                  PIURA     7   \n",
       "536812      122701  2019.0    20    PIURA     1                  PIURA    14   \n",
       "536813      122702  2019.0    20    PIURA     1                  PIURA    14   \n",
       "536814      122703  2019.0    20    PIURA     1                  PIURA    14   \n",
       "536815      122704  2019.0    20    PIURA     1                  PIURA    14   \n",
       "\n",
       "                   NOMBREDI  CONGLOMERADO  NSELUA  ...  P712_9 P713_1 P713_2  \\\n",
       "0       CANOAS DE PUNTA SAL             1       6  ...     NaN    NaN    NaN   \n",
       "1       CANOAS DE PUNTA SAL             1       6  ...     NaN    NaN    NaN   \n",
       "2       CANOAS DE PUNTA SAL             1       6  ...     NaN    NaN    NaN   \n",
       "3       CANOAS DE PUNTA SAL             1       6  ...     NaN    NaN    NaN   \n",
       "4       CANOAS DE PUNTA SAL             1      22  ...     NaN    NaN    NaN   \n",
       "...                     ...           ...     ...  ...     ...    ...    ...   \n",
       "536811            CURA MORI         90238       1  ...     NaN    NaN    NaN   \n",
       "536812         TAMBO GRANDE         90239       2  ...     NaN    NaN    NaN   \n",
       "536813         TAMBO GRANDE         90239       3  ...     NaN    NaN    NaN   \n",
       "536814         TAMBO GRANDE         90239       3  ...     NaN    NaN    NaN   \n",
       "536815         TAMBO GRANDE         90239       3  ...     NaN    NaN    NaN   \n",
       "\n",
       "       P713_3 P713_4  P713_5 P713_6 P713_7 P713_8 OMICAP700  \n",
       "0         NaN    NaN     NaN    NaN    NaN    NaN            \n",
       "1         NaN    NaN     NaN    NaN    NaN    NaN            \n",
       "2         NaN    NaN     NaN    NaN    NaN    NaN            \n",
       "3         NaN    NaN     NaN    NaN    NaN    NaN            \n",
       "4         NaN    NaN     NaN    NaN    NaN    NaN            \n",
       "...       ...    ...     ...    ...    ...    ...       ...  \n",
       "536811    NaN    NaN     NaN    NaN    NaN    NaN            \n",
       "536812    NaN    NaN     NaN    NaN    NaN    NaN            \n",
       "536813    NaN    NaN     NaN    NaN    NaN    NaN            \n",
       "536814    NaN    NaN     NaN    NaN    NaN    NaN            \n",
       "536815    NaN    NaN     NaN    NaN    NaN    NaN            \n",
       "\n",
       "[536816 rows x 537 columns]"
      ],
      "text/html": "<div>\n<style scoped>\n    .dataframe tbody tr th:only-of-type {\n        vertical-align: middle;\n    }\n\n    .dataframe tbody tr th {\n        vertical-align: top;\n    }\n\n    .dataframe thead th {\n        text-align: right;\n    }\n</style>\n<table border=\"1\" class=\"dataframe\">\n  <thead>\n    <tr style=\"text-align: right;\">\n      <th></th>\n      <th>Unnamed: 0</th>\n      <th>ANIO</th>\n      <th>CCDD</th>\n      <th>NOMBREDD</th>\n      <th>CCPP</th>\n      <th>NOMBREPV</th>\n      <th>CCDI</th>\n      <th>NOMBREDI</th>\n      <th>CONGLOMERADO</th>\n      <th>NSELUA</th>\n      <th>...</th>\n      <th>P712_9</th>\n      <th>P713_1</th>\n      <th>P713_2</th>\n      <th>P713_3</th>\n      <th>P713_4</th>\n      <th>P713_5</th>\n      <th>P713_6</th>\n      <th>P713_7</th>\n      <th>P713_8</th>\n      <th>OMICAP700</th>\n    </tr>\n  </thead>\n  <tbody>\n    <tr>\n      <th>0</th>\n      <td>0</td>\n      <td>2019.0</td>\n      <td>24</td>\n      <td>TUMBES</td>\n      <td>2</td>\n      <td>CONTRALMIRANTE VILLAR</td>\n      <td>3</td>\n      <td>CANOAS DE PUNTA SAL</td>\n      <td>1</td>\n      <td>6</td>\n      <td>...</td>\n      <td>NaN</td>\n      <td>NaN</td>\n      <td>NaN</td>\n      <td>NaN</td>\n      <td>NaN</td>\n      <td>NaN</td>\n      <td>NaN</td>\n      <td>NaN</td>\n      <td>NaN</td>\n      <td></td>\n    </tr>\n    <tr>\n      <th>1</th>\n      <td>1</td>\n      <td>2019.0</td>\n      <td>24</td>\n      <td>TUMBES</td>\n      <td>2</td>\n      <td>CONTRALMIRANTE VILLAR</td>\n      <td>3</td>\n      <td>CANOAS DE PUNTA SAL</td>\n      <td>1</td>\n      <td>6</td>\n      <td>...</td>\n      <td>NaN</td>\n      <td>NaN</td>\n      <td>NaN</td>\n      <td>NaN</td>\n      <td>NaN</td>\n      <td>NaN</td>\n      <td>NaN</td>\n      <td>NaN</td>\n      <td>NaN</td>\n      <td></td>\n    </tr>\n    <tr>\n      <th>2</th>\n      <td>2</td>\n      <td>2019.0</td>\n      <td>24</td>\n      <td>TUMBES</td>\n      <td>2</td>\n      <td>CONTRALMIRANTE VILLAR</td>\n      <td>3</td>\n      <td>CANOAS DE PUNTA SAL</td>\n      <td>1</td>\n      <td>6</td>\n      <td>...</td>\n      <td>NaN</td>\n      <td>NaN</td>\n      <td>NaN</td>\n      <td>NaN</td>\n      <td>NaN</td>\n      <td>NaN</td>\n      <td>NaN</td>\n      <td>NaN</td>\n      <td>NaN</td>\n      <td></td>\n    </tr>\n    <tr>\n      <th>3</th>\n      <td>3</td>\n      <td>2019.0</td>\n      <td>24</td>\n      <td>TUMBES</td>\n      <td>2</td>\n      <td>CONTRALMIRANTE VILLAR</td>\n      <td>3</td>\n      <td>CANOAS DE PUNTA SAL</td>\n      <td>1</td>\n      <td>6</td>\n      <td>...</td>\n      <td>NaN</td>\n      <td>NaN</td>\n      <td>NaN</td>\n      <td>NaN</td>\n      <td>NaN</td>\n      <td>NaN</td>\n      <td>NaN</td>\n      <td>NaN</td>\n      <td>NaN</td>\n      <td></td>\n    </tr>\n    <tr>\n      <th>4</th>\n      <td>4</td>\n      <td>2019.0</td>\n      <td>24</td>\n      <td>TUMBES</td>\n      <td>2</td>\n      <td>CONTRALMIRANTE VILLAR</td>\n      <td>3</td>\n      <td>CANOAS DE PUNTA SAL</td>\n      <td>1</td>\n      <td>22</td>\n      <td>...</td>\n      <td>NaN</td>\n      <td>NaN</td>\n      <td>NaN</td>\n      <td>NaN</td>\n      <td>NaN</td>\n      <td>NaN</td>\n      <td>NaN</td>\n      <td>NaN</td>\n      <td>NaN</td>\n      <td></td>\n    </tr>\n    <tr>\n      <th>...</th>\n      <td>...</td>\n      <td>...</td>\n      <td>...</td>\n      <td>...</td>\n      <td>...</td>\n      <td>...</td>\n      <td>...</td>\n      <td>...</td>\n      <td>...</td>\n      <td>...</td>\n      <td>...</td>\n      <td>...</td>\n      <td>...</td>\n      <td>...</td>\n      <td>...</td>\n      <td>...</td>\n      <td>...</td>\n      <td>...</td>\n      <td>...</td>\n      <td>...</td>\n      <td>...</td>\n    </tr>\n    <tr>\n      <th>536811</th>\n      <td>122700</td>\n      <td>2019.0</td>\n      <td>20</td>\n      <td>PIURA</td>\n      <td>1</td>\n      <td>PIURA</td>\n      <td>7</td>\n      <td>CURA MORI</td>\n      <td>90238</td>\n      <td>1</td>\n      <td>...</td>\n      <td>NaN</td>\n      <td>NaN</td>\n      <td>NaN</td>\n      <td>NaN</td>\n      <td>NaN</td>\n      <td>NaN</td>\n      <td>NaN</td>\n      <td>NaN</td>\n      <td>NaN</td>\n      <td></td>\n    </tr>\n    <tr>\n      <th>536812</th>\n      <td>122701</td>\n      <td>2019.0</td>\n      <td>20</td>\n      <td>PIURA</td>\n      <td>1</td>\n      <td>PIURA</td>\n      <td>14</td>\n      <td>TAMBO GRANDE</td>\n      <td>90239</td>\n      <td>2</td>\n      <td>...</td>\n      <td>NaN</td>\n      <td>NaN</td>\n      <td>NaN</td>\n      <td>NaN</td>\n      <td>NaN</td>\n      <td>NaN</td>\n      <td>NaN</td>\n      <td>NaN</td>\n      <td>NaN</td>\n      <td></td>\n    </tr>\n    <tr>\n      <th>536813</th>\n      <td>122702</td>\n      <td>2019.0</td>\n      <td>20</td>\n      <td>PIURA</td>\n      <td>1</td>\n      <td>PIURA</td>\n      <td>14</td>\n      <td>TAMBO GRANDE</td>\n      <td>90239</td>\n      <td>3</td>\n      <td>...</td>\n      <td>NaN</td>\n      <td>NaN</td>\n      <td>NaN</td>\n      <td>NaN</td>\n      <td>NaN</td>\n      <td>NaN</td>\n      <td>NaN</td>\n      <td>NaN</td>\n      <td>NaN</td>\n      <td></td>\n    </tr>\n    <tr>\n      <th>536814</th>\n      <td>122703</td>\n      <td>2019.0</td>\n      <td>20</td>\n      <td>PIURA</td>\n      <td>1</td>\n      <td>PIURA</td>\n      <td>14</td>\n      <td>TAMBO GRANDE</td>\n      <td>90239</td>\n      <td>3</td>\n      <td>...</td>\n      <td>NaN</td>\n      <td>NaN</td>\n      <td>NaN</td>\n      <td>NaN</td>\n      <td>NaN</td>\n      <td>NaN</td>\n      <td>NaN</td>\n      <td>NaN</td>\n      <td>NaN</td>\n      <td></td>\n    </tr>\n    <tr>\n      <th>536815</th>\n      <td>122704</td>\n      <td>2019.0</td>\n      <td>20</td>\n      <td>PIURA</td>\n      <td>1</td>\n      <td>PIURA</td>\n      <td>14</td>\n      <td>TAMBO GRANDE</td>\n      <td>90239</td>\n      <td>3</td>\n      <td>...</td>\n      <td>NaN</td>\n      <td>NaN</td>\n      <td>NaN</td>\n      <td>NaN</td>\n      <td>NaN</td>\n      <td>NaN</td>\n      <td>NaN</td>\n      <td>NaN</td>\n      <td>NaN</td>\n      <td></td>\n    </tr>\n  </tbody>\n</table>\n<p>536816 rows × 537 columns</p>\n</div>"
     },
     "metadata": {},
     "execution_count": 21
    }
   ],
   "source": [
    "df"
   ]
  },
  {
   "cell_type": "code",
   "execution_count": 25,
   "metadata": {},
   "outputs": [],
   "source": [
    "#df.to_csv('~/Desktop/DatosENA2019/2019_01PrincipalDatabase.csv')"
   ]
  },
  {
   "cell_type": "code",
   "execution_count": null,
   "metadata": {},
   "outputs": [],
   "source": []
  }
 ],
 "metadata": {
  "kernelspec": {
   "name": "python3",
   "display_name": "Python 3.8.3 64-bit",
   "metadata": {
    "interpreter": {
     "hash": "aee8b7b246df8f9039afb4144a1f6fd8d2ca17a180786b69acc140d282b71a49"
    }
   }
  },
  "language_info": {
   "codemirror_mode": {
    "name": "ipython",
    "version": 3
   },
   "file_extension": ".py",
   "mimetype": "text/x-python",
   "name": "python",
   "nbconvert_exporter": "python",
   "pygments_lexer": "ipython3",
   "version": "3.8.3-final"
  }
 },
 "nbformat": 4,
 "nbformat_minor": 4
}